{
 "cells": [
  {
   "cell_type": "code",
   "execution_count": 4,
   "id": "2020a13c-7506-4bfd-8192-ab45e90fbd0e",
   "metadata": {
    "tags": []
   },
   "outputs": [],
   "source": [
    "from urllib.request import urlretrieve\n",
    "import pandas as pd\n",
    "\n",
    "url = 'https://asx.api.markitdigital.com/asx-research/1.0/companies/directory/file?access_token=83ff96335c2d45a094df02a206a39ff4'\n",
    "\n",
    "file_name = '../data/asx_shares.csv'\n",
    "path, headers = urlretrieve(url, filename=file_name)\n"
   ]
  },
  {
   "cell_type": "code",
   "execution_count": 5,
   "id": "a2febf18-2d1e-46ed-9583-b873e19a71a1",
   "metadata": {
    "tags": []
   },
   "outputs": [],
   "source": [
    "data = pd.read_csv(path)"
   ]
  },
  {
   "cell_type": "code",
   "execution_count": 6,
   "id": "734fc627-77e2-4fe4-a5f2-f05597da47df",
   "metadata": {
    "tags": []
   },
   "outputs": [
    {
     "data": {
      "text/html": [
       "<div>\n",
       "<style scoped>\n",
       "    .dataframe tbody tr th:only-of-type {\n",
       "        vertical-align: middle;\n",
       "    }\n",
       "\n",
       "    .dataframe tbody tr th {\n",
       "        vertical-align: top;\n",
       "    }\n",
       "\n",
       "    .dataframe thead th {\n",
       "        text-align: right;\n",
       "    }\n",
       "</style>\n",
       "<table border=\"1\" class=\"dataframe\">\n",
       "  <thead>\n",
       "    <tr style=\"text-align: right;\">\n",
       "      <th></th>\n",
       "      <th>ASX code</th>\n",
       "      <th>Company name</th>\n",
       "      <th>GICs industry group</th>\n",
       "      <th>Listing date</th>\n",
       "      <th>Market Cap</th>\n",
       "    </tr>\n",
       "  </thead>\n",
       "  <tbody>\n",
       "    <tr>\n",
       "      <th>0</th>\n",
       "      <td>14D</td>\n",
       "      <td>1414 DEGREES LIMITED</td>\n",
       "      <td>Capital Goods</td>\n",
       "      <td>12/09/2018</td>\n",
       "      <td>8812235</td>\n",
       "    </tr>\n",
       "    <tr>\n",
       "      <th>1</th>\n",
       "      <td>1AD</td>\n",
       "      <td>ADALTA LIMITED</td>\n",
       "      <td>Pharmaceuticals, Biotechnology &amp; Life Sciences</td>\n",
       "      <td>22/08/2016</td>\n",
       "      <td>8389000</td>\n",
       "    </tr>\n",
       "    <tr>\n",
       "      <th>2</th>\n",
       "      <td>1AE</td>\n",
       "      <td>AURORA ENERGY METALS LIMITED</td>\n",
       "      <td>Materials</td>\n",
       "      <td>18/05/2022</td>\n",
       "      <td>13250717</td>\n",
       "    </tr>\n",
       "    <tr>\n",
       "      <th>3</th>\n",
       "      <td>1AG</td>\n",
       "      <td>ALTERRA LIMITED</td>\n",
       "      <td>Food, Beverage &amp; Tobacco</td>\n",
       "      <td>16/05/2008</td>\n",
       "      <td>4875868</td>\n",
       "    </tr>\n",
       "    <tr>\n",
       "      <th>4</th>\n",
       "      <td>1AI</td>\n",
       "      <td>ALGORAE PHARMACEUTICALS LIMITED</td>\n",
       "      <td>Pharmaceuticals, Biotechnology &amp; Life Sciences</td>\n",
       "      <td>01/09/2004</td>\n",
       "      <td>22900363</td>\n",
       "    </tr>\n",
       "    <tr>\n",
       "      <th>...</th>\n",
       "      <td>...</td>\n",
       "      <td>...</td>\n",
       "      <td>...</td>\n",
       "      <td>...</td>\n",
       "      <td>...</td>\n",
       "    </tr>\n",
       "    <tr>\n",
       "      <th>2024</th>\n",
       "      <td>ZLD</td>\n",
       "      <td>ZELIRA THERAPEUTICS LIMITED</td>\n",
       "      <td>Pharmaceuticals, Biotechnology &amp; Life Sciences</td>\n",
       "      <td>28/07/2003</td>\n",
       "      <td>11233683</td>\n",
       "    </tr>\n",
       "    <tr>\n",
       "      <th>2025</th>\n",
       "      <td>ZMI</td>\n",
       "      <td>ZINC OF IRELAND NL</td>\n",
       "      <td>Materials</td>\n",
       "      <td>18/09/2007</td>\n",
       "      <td>4902318</td>\n",
       "    </tr>\n",
       "    <tr>\n",
       "      <th>2026</th>\n",
       "      <td>ZMM</td>\n",
       "      <td>ZIMI LIMITED</td>\n",
       "      <td>Technology Hardware &amp; Equipment</td>\n",
       "      <td>10/09/2007</td>\n",
       "      <td>4671996</td>\n",
       "    </tr>\n",
       "    <tr>\n",
       "      <th>2027</th>\n",
       "      <td>ZNC</td>\n",
       "      <td>ZENITH MINERALS LIMITED</td>\n",
       "      <td>Materials</td>\n",
       "      <td>29/05/2007</td>\n",
       "      <td>38761897</td>\n",
       "    </tr>\n",
       "    <tr>\n",
       "      <th>2028</th>\n",
       "      <td>ZNO</td>\n",
       "      <td>ZOONO GROUP LIMITED</td>\n",
       "      <td>Materials</td>\n",
       "      <td>21/07/1988</td>\n",
       "      <td>6837396</td>\n",
       "    </tr>\n",
       "  </tbody>\n",
       "</table>\n",
       "<p>2029 rows × 5 columns</p>\n",
       "</div>"
      ],
      "text/plain": [
       "     ASX code                     Company name  \\\n",
       "0         14D             1414 DEGREES LIMITED   \n",
       "1         1AD                   ADALTA LIMITED   \n",
       "2         1AE     AURORA ENERGY METALS LIMITED   \n",
       "3         1AG                  ALTERRA LIMITED   \n",
       "4         1AI  ALGORAE PHARMACEUTICALS LIMITED   \n",
       "...       ...                              ...   \n",
       "2024      ZLD      ZELIRA THERAPEUTICS LIMITED   \n",
       "2025      ZMI               ZINC OF IRELAND NL   \n",
       "2026      ZMM                     ZIMI LIMITED   \n",
       "2027      ZNC          ZENITH MINERALS LIMITED   \n",
       "2028      ZNO              ZOONO GROUP LIMITED   \n",
       "\n",
       "                                 GICs industry group Listing date Market Cap  \n",
       "0                                      Capital Goods   12/09/2018    8812235  \n",
       "1     Pharmaceuticals, Biotechnology & Life Sciences   22/08/2016    8389000  \n",
       "2                                          Materials   18/05/2022   13250717  \n",
       "3                           Food, Beverage & Tobacco   16/05/2008    4875868  \n",
       "4     Pharmaceuticals, Biotechnology & Life Sciences   01/09/2004   22900363  \n",
       "...                                              ...          ...        ...  \n",
       "2024  Pharmaceuticals, Biotechnology & Life Sciences   28/07/2003   11233683  \n",
       "2025                                       Materials   18/09/2007    4902318  \n",
       "2026                 Technology Hardware & Equipment   10/09/2007    4671996  \n",
       "2027                                       Materials   29/05/2007   38761897  \n",
       "2028                                       Materials   21/07/1988    6837396  \n",
       "\n",
       "[2029 rows x 5 columns]"
      ]
     },
     "execution_count": 6,
     "metadata": {},
     "output_type": "execute_result"
    }
   ],
   "source": [
    "data"
   ]
  },
  {
   "cell_type": "code",
   "execution_count": 7,
   "id": "b817f903-19e3-443f-bab2-024ae1998988",
   "metadata": {},
   "outputs": [],
   "source": [
    "import plotly.express as px"
   ]
  },
  {
   "cell_type": "code",
   "execution_count": 32,
   "id": "79ac3ec3-bcc9-41ac-b64e-b8e6913158a8",
   "metadata": {
    "tags": []
   },
   "outputs": [],
   "source": [
    "fig = px.pie(data, values='Market Cap', names='GICs industry group', title= 'My pie')"
   ]
  },
  {
   "cell_type": "code",
   "execution_count": 33,
   "id": "be7e7f2b-c3d9-4bdc-8ac0-d8cf367efadf",
   "metadata": {
    "tags": []
   },
   "outputs": [
    {
     "data": {
      "application/vnd.plotly.v1+json": {
       "config": {
        "plotlyServerURL": "https://plot.ly"
       },
       "data": [
        {
         "domain": {
          "x": [
           0,
           1
          ],
          "y": [
           0,
           1
          ]
         },
         "hovertemplate": "GICs industry group=%{label}<br>Market Cap=%{value}<extra></extra>",
         "labels": [
          "Capital Goods",
          "Pharmaceuticals, Biotechnology & Life Sciences",
          "Materials",
          "Food, Beverage & Tobacco",
          "Pharmaceuticals, Biotechnology & Life Sciences",
          "Capital Goods",
          "Materials",
          "Health Care Equipment & Services",
          "Software & Services",
          "Materials",
          "Software & Services",
          "Capital Goods",
          "Software & Services",
          "Consumer Services",
          "Semiconductors & Semiconductor Equipment",
          "Health Care Equipment & Services",
          "Materials",
          "Telecommunication Services",
          "Energy",
          "Software & Services",
          "Financial Services",
          "Consumer Services",
          "Energy",
          "Materials",
          "Materials",
          "Materials",
          "Media & Entertainment",
          "Transportation",
          "Food, Beverage & Tobacco",
          "Capital Goods",
          "Materials",
          "Materials",
          "Food, Beverage & Tobacco",
          "Materials",
          "Food, Beverage & Tobacco",
          "Materials",
          "Materials",
          "Banks",
          "Telecommunication Services",
          "Materials",
          "Financial Services",
          "Equity Real Estate Investment Trusts (REITs)",
          "Automobiles & Components",
          "Materials",
          "Consumer Discretionary Distribution & Retail",
          "Pharmaceuticals, Biotechnology & Life Sciences",
          "Energy",
          "Software & Services",
          "Capital Goods",
          "Health Care Equipment & Services",
          "Materials",
          "Materials",
          "Not Applic",
          "Pharmaceuticals, Biotechnology & Life Sciences",
          "Materials",
          "Real Estate Management & Development",
          "Pharmaceuticals, Biotechnology & Life Sciences",
          "Media & Entertainment",
          "Technology Hardware & Equipment",
          "Software & Services",
          "Materials",
          "Energy",
          "Materials",
          "Consumer Discretionary Distribution & Retail",
          "Materials",
          "Pharmaceuticals, Biotechnology & Life Sciences",
          "Health Care Equipment & Services",
          "Software & Services",
          "Materials",
          "Materials",
          "Energy",
          "Materials",
          "Energy",
          "Financial Services",
          "Commercial & Professional Services",
          "Media & Entertainment",
          "Materials",
          "Financial Services",
          "Financial Services",
          "Not Applic",
          "Commercial & Professional Services",
          "Pharmaceuticals, Biotechnology & Life Sciences",
          "Media & Entertainment",
          "Materials",
          "Materials",
          "Energy",
          "Pharmaceuticals, Biotechnology & Life Sciences",
          "Consumer Services",
          "Utilities",
          "Pharmaceuticals, Biotechnology & Life Sciences",
          "Materials",
          "Materials",
          "Health Care Equipment & Services",
          "Food, Beverage & Tobacco",
          "Software & Services",
          "Materials",
          "Automobiles & Components",
          "Materials",
          "Health Care Equipment & Services",
          "Transportation",
          "Materials",
          "Commercial & Professional Services",
          "Not Applic",
          "Materials",
          "Materials",
          "Transportation",
          "Health Care Equipment & Services",
          "Capital Goods",
          "Energy",
          "Materials",
          "Materials",
          "Materials",
          "Consumer Services",
          "Materials",
          "Materials",
          "Materials",
          "Consumer Durables & Apparel",
          "Capital Goods",
          "Materials",
          "Pharmaceuticals, Biotechnology & Life Sciences",
          "Materials",
          "Health Care Equipment & Services",
          "Energy",
          "Consumer Services",
          "Not Applic",
          "Materials",
          "Consumer Services",
          "Energy",
          "Commercial & Professional Services",
          "Software & Services",
          "Materials",
          "Transportation",
          "Materials",
          "Materials",
          "Commercial & Professional Services",
          "Materials",
          "Materials",
          "Materials",
          "Not Applic",
          "Materials",
          "Materials",
          "Materials",
          "Materials",
          "Technology Hardware & Equipment",
          "Financial Services",
          "Consumer Durables & Apparel",
          "Health Care Equipment & Services",
          "Commercial & Professional Services",
          "Pharmaceuticals, Biotechnology & Life Sciences",
          "Software & Services",
          "Capital Goods",
          "Materials",
          "Health Care Equipment & Services",
          "Materials",
          "Pharmaceuticals, Biotechnology & Life Sciences",
          "Pharmaceuticals, Biotechnology & Life Sciences",
          "Materials",
          "Banks",
          "Software & Services",
          "Materials",
          "Equity Real Estate Investment Trusts (REITs)",
          "Materials",
          "Utilities",
          "Materials",
          "Consumer Discretionary Distribution & Retail",
          "Financial Services",
          "Commercial & Professional Services",
          "Materials",
          "Equity Real Estate Investment Trusts (REITs)",
          "Software & Services",
          "Equity Real Estate Investment Trusts (REITs)",
          "Materials",
          "Materials",
          "Materials",
          "Commercial & Professional Services",
          "Consumer Services",
          "Materials",
          "Transportation",
          "Materials",
          "Materials",
          "Software & Services",
          "Commercial & Professional Services",
          "Automobiles & Components",
          "Financial Services",
          "Materials",
          "Materials",
          "Equity Real Estate Investment Trusts (REITs)",
          "Not Applic",
          "Materials",
          "Materials",
          "Materials",
          "Media & Entertainment",
          "Materials",
          "Materials",
          "Pharmaceuticals, Biotechnology & Life Sciences",
          "Materials",
          "Capital Goods",
          "Materials",
          "Consumer Discretionary Distribution & Retail",
          "Commercial & Professional Services",
          "Equity Real Estate Investment Trusts (REITs)",
          "Materials",
          "Materials",
          "Materials",
          "Media & Entertainment",
          "Materials",
          "Materials",
          "Financial Services",
          "Financial Services",
          "Health Care Equipment & Services",
          "Software & Services",
          "Materials",
          "Pharmaceuticals, Biotechnology & Life Sciences",
          "Materials",
          "Consumer Durables & Apparel",
          "Materials",
          "Energy",
          "Materials",
          "Software & Services",
          "Pharmaceuticals, Biotechnology & Life Sciences",
          "Real Estate Management & Development",
          "Consumer Durables & Apparel",
          "Insurance",
          "Materials",
          "Materials",
          "Materials",
          "Energy",
          "Not Applic",
          "Consumer Discretionary Distribution & Retail",
          "Materials",
          "Materials",
          "Materials",
          "Materials",
          "Materials",
          "Software & Services",
          "Technology Hardware & Equipment",
          "Financial Services",
          "Commercial & Professional Services",
          "Pharmaceuticals, Biotechnology & Life Sciences",
          "Food, Beverage & Tobacco",
          "Pharmaceuticals, Biotechnology & Life Sciences",
          "Consumer Durables & Apparel",
          "Materials",
          "Materials",
          "Health Care Equipment & Services",
          "Materials",
          "Materials",
          "Materials",
          "Materials",
          "Materials",
          "Consumer Discretionary Distribution & Retail",
          "Materials",
          "Semiconductors & Semiconductor Equipment",
          "Real Estate Management & Development",
          "Materials",
          "Energy",
          "Health Care Equipment & Services",
          "Financial Services",
          "Materials",
          "Materials",
          "Materials",
          "Transportation",
          "Materials",
          "Materials",
          "Materials",
          "Financial Services",
          "Consumer Discretionary Distribution & Retail",
          "Energy",
          "Materials",
          "Banks",
          "Media & Entertainment",
          "Consumer Discretionary Distribution & Retail",
          "Consumer Services",
          "Materials",
          "Materials",
          "Materials",
          "Materials",
          "Technology Hardware & Equipment",
          "Materials",
          "Materials",
          "Materials",
          "Technology Hardware & Equipment",
          "Materials",
          "Materials",
          "Technology Hardware & Equipment",
          "Pharmaceuticals, Biotechnology & Life Sciences",
          "Food, Beverage & Tobacco",
          "Not Applic",
          "Banks",
          "Consumer Services",
          "Consumer Discretionary Distribution & Retail",
          "Materials",
          "Food, Beverage & Tobacco",
          "Financial Services",
          "Banks",
          "Food, Beverage & Tobacco",
          "Materials",
          "Software & Services",
          "Materials",
          "Consumer Discretionary Distribution & Retail",
          "Materials",
          "Not Applic",
          "Materials",
          "Materials",
          "Household & Personal Products",
          "Financial Services",
          "Materials",
          "Pharmaceuticals, Biotechnology & Life Sciences",
          "Consumer Discretionary Distribution & Retail",
          "Not Applic",
          "Materials",
          "Materials",
          "Energy",
          "Materials",
          "Semiconductors & Semiconductor Equipment",
          "Energy",
          "Consumer Discretionary Distribution & Retail",
          "Materials",
          "Energy",
          "Materials",
          "Energy",
          "Materials",
          "Capital Goods",
          "Materials",
          "Materials",
          "Energy",
          "Materials",
          "Materials",
          "Health Care Equipment & Services",
          "Energy",
          "Materials",
          "Materials",
          "Materials",
          "Materials",
          "Consumer Discretionary Distribution & Retail",
          "Energy",
          "Capital Goods",
          "Banks",
          "Pharmaceuticals, Biotechnology & Life Sciences",
          "Pharmaceuticals, Biotechnology & Life Sciences",
          "Financial Services",
          "Materials",
          "Capital Goods",
          "Energy",
          "Consumer Durables & Apparel",
          "Materials",
          "Energy",
          "Materials",
          "Software & Services",
          "Energy",
          "Materials",
          "Commercial & Professional Services",
          "Materials",
          "Materials",
          "Energy",
          "Materials",
          "Not Applic",
          "Energy",
          "Software & Services",
          "Financial Services",
          "Financial Services",
          "Materials",
          "Food, Beverage & Tobacco",
          "Materials",
          "Materials",
          "Materials",
          "Energy",
          "Materials",
          "Software & Services",
          "Financial Services",
          "Equity Real Estate Investment Trusts (REITs)",
          "Household & Personal Products",
          "Commercial & Professional Services",
          "Household & Personal Products",
          "Energy",
          "Materials",
          "Materials",
          "Materials",
          "Commercial & Professional Services",
          "Materials",
          "Materials",
          "Materials",
          "Financial Services",
          "Software & Services",
          "Materials",
          "Health Care Equipment & Services",
          "Not Applic",
          "Pharmaceuticals, Biotechnology & Life Sciences",
          "Real Estate Management & Development",
          "Media & Entertainment",
          "Technology Hardware & Equipment",
          "Materials",
          "Materials",
          "Materials",
          "Banks",
          "Materials",
          "Materials",
          "Health Care Equipment & Services",
          "Food, Beverage & Tobacco",
          "Automobiles & Components",
          "Materials",
          "Financial Services",
          "Utilities",
          "Telecommunication Services",
          "Household & Personal Products",
          "Financial Services",
          "Software & Services",
          "Financial Services",
          "Consumer Discretionary Distribution & Retail",
          "Materials",
          "Not Applic",
          "Not Applic",
          "Not Applic",
          "Technology Hardware & Equipment",
          "Commercial & Professional Services",
          "Not Applic",
          "Not Applic",
          "Equity Real Estate Investment Trusts (REITs)",
          "Materials",
          "Materials",
          "Health Care Equipment & Services",
          "Energy",
          "Materials",
          "Utilities",
          "Software & Services",
          "Capital Goods",
          "Materials",
          "Pharmaceuticals, Biotechnology & Life Sciences",
          "Food, Beverage & Tobacco",
          "Financial Services",
          "Software & Services",
          "Health Care Equipment & Services",
          "Equity Real Estate Investment Trusts (REITs)",
          "Materials",
          "Transportation",
          "Pharmaceuticals, Biotechnology & Life Sciences",
          "Materials",
          "Materials",
          "Materials",
          "Materials",
          "Commercial & Professional Services",
          "Materials",
          "Materials",
          "Not Applic",
          "Technology Hardware & Equipment",
          "Equity Real Estate Investment Trusts (REITs)",
          "Financial Services",
          "Materials",
          "Consumer Services",
          "Transportation",
          "Materials",
          "Consumer Staples Distribution & Retail",
          "Materials",
          "Commercial & Professional Services",
          "Consumer Services",
          "Materials",
          "Equity Real Estate Investment Trusts (REITs)",
          "Transportation",
          "Materials",
          "Materials",
          "Materials",
          "Materials",
          "Materials",
          "Health Care Equipment & Services",
          "Equity Real Estate Investment Trusts (REITs)",
          "Materials",
          "Materials",
          "Equity Real Estate Investment Trusts (REITs)",
          "Materials",
          "Commercial & Professional Services",
          "Telecommunication Services",
          "Software & Services",
          "Materials",
          "Materials",
          "Energy",
          "Equity Real Estate Investment Trusts (REITs)",
          "Financial Services",
          "Health Care Equipment & Services",
          "Energy",
          "Consumer Staples Distribution & Retail",
          "Software & Services",
          "Software & Services",
          "Pharmaceuticals, Biotechnology & Life Sciences",
          "Materials",
          "Materials",
          "Materials",
          "Materials",
          "Commercial & Professional Services",
          "Capital Goods",
          "Equity Real Estate Investment Trusts (REITs)",
          "Equity Real Estate Investment Trusts (REITs)",
          "Materials",
          "Materials",
          "Materials",
          "Energy",
          "Materials",
          "Energy",
          "Materials",
          "Materials",
          "Materials",
          "Materials",
          "Food, Beverage & Tobacco",
          "Pharmaceuticals, Biotechnology & Life Sciences",
          "Materials",
          "Food, Beverage & Tobacco",
          "Materials",
          "Health Care Equipment & Services",
          "Technology Hardware & Equipment",
          "Consumer Services",
          "Pharmaceuticals, Biotechnology & Life Sciences",
          "Materials",
          "Materials",
          "Materials",
          "Energy",
          "Health Care Equipment & Services",
          "Consumer Discretionary Distribution & Retail",
          "Media & Entertainment",
          "Pharmaceuticals, Biotechnology & Life Sciences",
          "Energy",
          "Materials",
          "Materials",
          "Commercial & Professional Services",
          "Materials",
          "Pharmaceuticals, Biotechnology & Life Sciences",
          "Health Care Equipment & Services",
          "Financial Services",
          "Capital Goods",
          "Energy",
          "Materials",
          "Materials",
          "Insurance",
          "Real Estate Management & Development",
          "Materials",
          "Commercial & Professional Services",
          "Materials",
          "Materials",
          "Materials",
          "Energy",
          "Materials",
          "Software & Services",
          "Materials",
          "Health Care Equipment & Services",
          "Capital Goods",
          "Materials",
          "Materials",
          "Pharmaceuticals, Biotechnology & Life Sciences",
          "Consumer Durables & Apparel",
          "Materials",
          "Materials",
          "Utilities",
          "Materials",
          "Materials",
          "Food, Beverage & Tobacco",
          "Transportation",
          "Materials",
          "Software & Services",
          "Software & Services",
          "Capital Goods",
          "Financial Services",
          "Materials",
          "Materials",
          "Capital Goods",
          "Materials",
          "Technology Hardware & Equipment",
          "Automobiles & Components",
          "Materials",
          "Utilities",
          "Utilities",
          "Materials",
          "Energy",
          "Real Estate Management & Development",
          "Materials",
          "Materials",
          "Media & Entertainment",
          "Not Applic",
          "Materials",
          "Materials",
          "Pharmaceuticals, Biotechnology & Life Sciences",
          "Materials",
          "Media & Entertainment",
          "Materials",
          "Materials",
          "Materials",
          "Consumer Services",
          "Consumer Services",
          "Materials",
          "Health Care Equipment & Services",
          "Energy",
          "Telecommunication Services",
          "Commercial & Professional Services",
          "Capital Goods",
          "Materials",
          "Capital Goods",
          "Materials",
          "Materials",
          "Software & Services",
          "Consumer Discretionary Distribution & Retail",
          "Software & Services",
          "Technology Hardware & Equipment",
          "Software & Services",
          "Materials",
          "Materials",
          "Technology Hardware & Equipment",
          "Software & Services",
          "Software & Services",
          "Not Applic",
          "Materials",
          "Capital Goods",
          "Pharmaceuticals, Biotechnology & Life Sciences",
          "Materials",
          "Financial Services",
          "Pharmaceuticals, Biotechnology & Life Sciences",
          "Equity Real Estate Investment Trusts (REITs)",
          "Equity Real Estate Investment Trusts (REITs)",
          "Software & Services",
          "Equity Real Estate Investment Trusts (REITs)",
          "Class Pend",
          "Energy",
          "Materials",
          "Materials",
          "Food, Beverage & Tobacco",
          "Materials",
          "Commercial & Professional Services",
          "Consumer Services",
          "Health Care Equipment & Services",
          "Health Care Equipment & Services",
          "Equity Real Estate Investment Trusts (REITs)",
          "Commercial & Professional Services",
          "Capital Goods",
          "Not Applic",
          "Pharmaceuticals, Biotechnology & Life Sciences",
          "Commercial & Professional Services",
          "Financial Services",
          "Energy",
          "Consumer Services",
          "Consumer Staples Distribution & Retail",
          "Energy",
          "Materials",
          "Materials",
          "Materials",
          "Media & Entertainment",
          "Real Estate Management & Development",
          "Capital Goods",
          "Capital Goods",
          "Materials",
          "Capital Goods",
          "Health Care Equipment & Services",
          "Capital Goods",
          "Software & Services",
          "Energy",
          "Food, Beverage & Tobacco",
          "Materials",
          "Technology Hardware & Equipment",
          "Materials",
          "Materials",
          "Capital Goods",
          "Energy",
          "Health Care Equipment & Services",
          "Energy",
          "Materials",
          "Financial Services",
          "Materials",
          "Energy",
          "Materials",
          "Materials",
          "Not Applic",
          "Materials",
          "Materials",
          "Health Care Equipment & Services",
          "Insurance",
          "Consumer Services",
          "Materials",
          "Materials",
          "Materials",
          "Materials",
          "Pharmaceuticals, Biotechnology & Life Sciences",
          "Software & Services",
          "Capital Goods",
          "Financial Services",
          "Energy",
          "Pharmaceuticals, Biotechnology & Life Sciences",
          "Software & Services",
          "Financial Services",
          "Materials",
          "Materials",
          "Materials",
          "Financial Services",
          "Financial Services",
          "Materials",
          "Energy",
          "Technology Hardware & Equipment",
          "Food, Beverage & Tobacco",
          "Materials",
          "Materials",
          "Materials",
          "Software & Services",
          "Materials",
          "Materials",
          "Materials",
          "Commercial & Professional Services",
          "Materials",
          "Materials",
          "Financial Services",
          "Materials",
          "Materials",
          "Consumer Services",
          "Materials",
          "Software & Services",
          "Media & Entertainment",
          "Capital Goods",
          "Utilities",
          "Pharmaceuticals, Biotechnology & Life Sciences",
          "Household & Personal Products",
          "Consumer Services",
          "Energy",
          "Software & Services",
          "Health Care Equipment & Services",
          "Financial Services",
          "Consumer Discretionary Distribution & Retail",
          "Materials",
          "Energy",
          "Materials",
          "Materials",
          "Capital Goods",
          "Capital Goods",
          "Software & Services",
          "Software & Services",
          "Energy",
          "Media & Entertainment",
          "Materials",
          "Materials",
          "Food, Beverage & Tobacco",
          "Financial Services",
          "Food, Beverage & Tobacco",
          "Commercial & Professional Services",
          "Materials",
          "Materials",
          "Not Applic",
          "Materials",
          "Software & Services",
          "Materials",
          "Not Applic",
          "Materials",
          "Materials",
          "Materials",
          "Financial Services",
          "Materials",
          "Capital Goods",
          "Commercial & Professional Services",
          "Consumer Services",
          "Software & Services",
          "Energy",
          "Materials",
          "Materials",
          "Software & Services",
          "Financial Services",
          "Not Applic",
          "Capital Goods",
          "Not Applic",
          "Health Care Equipment & Services",
          "Not Applic",
          "Financial Services",
          "Materials",
          "Pharmaceuticals, Biotechnology & Life Sciences",
          "Real Estate Management & Development",
          "Food, Beverage & Tobacco",
          "Materials",
          "Telecommunication Services",
          "Financial Services",
          "Food, Beverage & Tobacco",
          "Telecommunication Services",
          "Not Applic",
          "Financial Services",
          "Materials",
          "Materials",
          "Consumer Durables & Apparel",
          "Materials",
          "Materials",
          "Energy",
          "Materials",
          "Materials",
          "Materials",
          "Materials",
          "Materials",
          "Consumer Durables & Apparel",
          "Energy",
          "Materials",
          "Materials",
          "Materials",
          "Not Applic",
          "Not Applic",
          "Materials",
          "Materials",
          "Energy",
          "Food, Beverage & Tobacco",
          "Not Applic",
          "Equity Real Estate Investment Trusts (REITs)",
          "Insurance",
          "Equity Real Estate Investment Trusts (REITs)",
          "Materials",
          "Materials",
          "Consumer Services",
          "Materials",
          "Materials",
          "Not Applic",
          "Energy",
          "Energy",
          "Energy",
          "Materials",
          "Materials",
          "Materials",
          "Consumer Durables & Apparel",
          "Consumer Durables & Apparel",
          "Health Care Equipment & Services",
          "Energy",
          "Materials",
          "Energy",
          "Materials",
          "Equity Real Estate Investment Trusts (REITs)",
          "Materials",
          "Materials",
          "Materials",
          "Consumer Staples Distribution & Retail",
          "Utilities",
          "Materials",
          "Materials",
          "Capital Goods",
          "Utilities",
          "Commercial & Professional Services",
          "Materials",
          "Financial Services",
          "Equity Real Estate Investment Trusts (REITs)",
          "Materials",
          "Equity Real Estate Investment Trusts (REITs)",
          "Financial Services",
          "Materials",
          "Materials",
          "Materials",
          "Energy",
          "Materials",
          "Materials",
          "Materials",
          "Materials",
          "Pharmaceuticals, Biotechnology & Life Sciences",
          "Materials",
          "Materials",
          "Pharmaceuticals, Biotechnology & Life Sciences",
          "Software & Services",
          "Software & Services",
          "Media & Entertainment",
          "Materials",
          "Automobiles & Components",
          "Materials",
          "Not Applic",
          "Materials",
          "Capital Goods",
          "Materials",
          "Commercial & Professional Services",
          "Financial Services",
          "Materials",
          "Materials",
          "Materials",
          "Materials",
          "Energy",
          "Not Applic",
          "Materials",
          "Household & Personal Products",
          "Equity Real Estate Investment Trusts (REITs)",
          "Equity Real Estate Investment Trusts (REITs)",
          "Energy",
          "Materials",
          "Telecommunication Services",
          "Banks",
          "Real Estate Management & Development",
          "Materials",
          "Not Applic",
          "Energy",
          "Materials",
          "Health Care Equipment & Services",
          "Commercial & Professional Services",
          "Health Care Equipment & Services",
          "Financial Services",
          "Consumer Services",
          "Health Care Equipment & Services",
          "Materials",
          "Not Applic",
          "Equity Real Estate Investment Trusts (REITs)",
          "Health Care Equipment & Services",
          "Materials",
          "Commercial & Professional Services",
          "Materials",
          "Financial Services",
          "Capital Goods",
          "Materials",
          "Materials",
          "Household & Personal Products",
          "Media & Entertainment",
          "Equity Real Estate Investment Trusts (REITs)",
          "Food, Beverage & Tobacco",
          "Energy",
          "Class Pend",
          "Materials",
          "Materials",
          "Software & Services",
          "Transportation",
          "Telecommunication Services",
          "Technology Hardware & Equipment",
          "Materials",
          "Financial Services",
          "Financial Services",
          "Food, Beverage & Tobacco",
          "Consumer Discretionary Distribution & Retail",
          "Materials",
          "Materials",
          "Pharmaceuticals, Biotechnology & Life Sciences",
          "Technology Hardware & Equipment",
          "Energy",
          "Energy",
          "Materials",
          "Insurance",
          "Financial Services",
          "Not Applic",
          "Materials",
          "Health Care Equipment & Services",
          "Software & Services",
          "Materials",
          "Media & Entertainment",
          "Materials",
          "Energy",
          "Health Care Equipment & Services",
          "Software & Services",
          "Materials",
          "Pharmaceuticals, Biotechnology & Life Sciences",
          "Health Care Equipment & Services",
          "Energy",
          "Consumer Services",
          "Real Estate Management & Development",
          "Financial Services",
          "Software & Services",
          "Capital Goods",
          "Capital Goods",
          "Media & Entertainment",
          "Commercial & Professional Services",
          "Materials",
          "Pharmaceuticals, Biotechnology & Life Sciences",
          "Health Care Equipment & Services",
          "Technology Hardware & Equipment",
          "Pharmaceuticals, Biotechnology & Life Sciences",
          "Materials",
          "Materials",
          "Materials",
          "Commercial & Professional Services",
          "Pharmaceuticals, Biotechnology & Life Sciences",
          "Materials",
          "Health Care Equipment & Services",
          "Materials",
          "Pharmaceuticals, Biotechnology & Life Sciences",
          "Health Care Equipment & Services",
          "Pharmaceuticals, Biotechnology & Life Sciences",
          "Equity Real Estate Investment Trusts (REITs)",
          "Materials",
          "Materials",
          "Food, Beverage & Tobacco",
          "Consumer Discretionary Distribution & Retail",
          "Media & Entertainment",
          "Materials",
          "Financial Services",
          "Software & Services",
          "Media & Entertainment",
          "Energy",
          "Financial Services",
          "Health Care Equipment & Services",
          "Capital Goods",
          "Commercial & Professional Services",
          "Materials",
          "Materials",
          "Materials",
          "Materials",
          "Materials",
          "Software & Services",
          "Software & Services",
          "Health Care Equipment & Services",
          "Software & Services",
          "Materials",
          "Consumer Services",
          "Materials",
          "Commercial & Professional Services",
          "Pharmaceuticals, Biotechnology & Life Sciences",
          "Energy",
          "Pharmaceuticals, Biotechnology & Life Sciences",
          "Materials",
          "Software & Services",
          "Materials",
          "Software & Services",
          "Consumer Discretionary Distribution & Retail",
          "Materials",
          "Transportation",
          "Consumer Discretionary Distribution & Retail",
          "Materials",
          "Software & Services",
          "Banks",
          "Materials",
          "Financial Services",
          "Materials",
          "Consumer Services",
          "Capital Goods",
          "Materials",
          "Materials",
          "Energy",
          "Materials",
          "Materials",
          "Health Care Equipment & Services",
          "Software & Services",
          "Consumer Discretionary Distribution & Retail",
          "Software & Services",
          "Materials",
          "Materials",
          "Financial Services",
          "Energy",
          "Not Applic",
          "Materials",
          "Financial Services",
          "Materials",
          "Materials",
          "Consumer Discretionary Distribution & Retail",
          "Consumer Services",
          "Energy",
          "Materials",
          "Materials",
          "Materials",
          "Consumer Discretionary Distribution & Retail",
          "Materials",
          "Materials",
          "Not Applic",
          "Energy",
          "Class Pend",
          "Materials",
          "Energy",
          "Transportation",
          "Consumer Discretionary Distribution & Retail",
          "Consumer Services",
          "Materials",
          "Materials",
          "Materials",
          "Media & Entertainment",
          "Software & Services",
          "Materials",
          "Materials",
          "Capital Goods",
          "Materials",
          "Commercial & Professional Services",
          "Utilities",
          "Materials",
          "Materials",
          "Transportation",
          "Banks",
          "Materials",
          "Materials",
          "Capital Goods",
          "Software & Services",
          "Pharmaceuticals, Biotechnology & Life Sciences",
          "Materials",
          "Materials",
          "Energy",
          "Transportation",
          "Financial Services",
          "Capital Goods",
          "Health Care Equipment & Services",
          "Financial Services",
          "Materials",
          "Materials",
          "Materials",
          "Health Care Equipment & Services",
          "Materials",
          "Materials",
          "Materials",
          "Financial Services",
          "Financial Services",
          "Utilities",
          "Food, Beverage & Tobacco",
          "Materials",
          "Pharmaceuticals, Biotechnology & Life Sciences",
          "Real Estate Management & Development",
          "Real Estate Management & Development",
          "Materials",
          "Energy",
          "Capital Goods",
          "Materials",
          "Materials",
          "Energy",
          "Materials",
          "Real Estate Management & Development",
          "Materials",
          "Materials",
          "Materials",
          "Materials",
          "Materials",
          "Materials",
          "Materials",
          "Commercial & Professional Services",
          "Materials",
          "Software & Services",
          "Consumer Services",
          "Materials",
          "Materials",
          "Consumer Discretionary Distribution & Retail",
          "Materials",
          "Utilities",
          "Materials",
          "Materials",
          "Materials",
          "Food, Beverage & Tobacco",
          "Materials",
          "Materials",
          "Not Applic",
          "Materials",
          "Materials",
          "Not Applic",
          "Materials",
          "Not Applic",
          "Materials",
          "Media & Entertainment",
          "Food, Beverage & Tobacco",
          "Software & Services",
          "Software & Services",
          "Software & Services",
          "Materials",
          "Materials",
          "Capital Goods",
          "Materials",
          "Materials",
          "Materials",
          "Materials",
          "Materials",
          "Materials",
          "Health Care Equipment & Services",
          "Commercial & Professional Services",
          "Commercial & Professional Services",
          "Financial Services",
          "Materials",
          "Materials",
          "Financial Services",
          "Materials",
          "Health Care Equipment & Services",
          "Software & Services",
          "Materials",
          "Materials",
          "Materials",
          "Energy",
          "Food, Beverage & Tobacco",
          "Materials",
          "Consumer Staples Distribution & Retail",
          "Food, Beverage & Tobacco",
          "Energy",
          "Consumer Services",
          "Energy",
          "Household & Personal Products",
          "Materials",
          "Financial Services",
          "Utilities",
          "Pharmaceuticals, Biotechnology & Life Sciences",
          "Materials",
          "Health Care Equipment & Services",
          "Materials",
          "Pharmaceuticals, Biotechnology & Life Sciences",
          "Real Estate Management & Development",
          "Health Care Equipment & Services",
          "Financial Services",
          "Materials",
          "Materials",
          "Materials",
          "Energy",
          "Pharmaceuticals, Biotechnology & Life Sciences",
          "Energy",
          "Utilities",
          "Consumer Services",
          "Not Applic",
          "Financial Services",
          "Materials",
          "Not Applic",
          "Capital Goods",
          "Materials",
          "Equity Real Estate Investment Trusts (REITs)",
          "Materials",
          "Materials",
          "Materials",
          "Materials",
          "Energy",
          "Consumer Durables & Apparel",
          "Consumer Discretionary Distribution & Retail",
          "Materials",
          "Materials",
          "Commercial & Professional Services",
          "Materials",
          "Materials",
          "Not Applic",
          "Materials",
          "Media & Entertainment",
          "Materials",
          "Materials",
          "Materials",
          "Materials",
          "Materials",
          "Materials",
          "Materials",
          "Materials",
          "Materials",
          "Financial Services",
          "Materials",
          "Consumer Staples Distribution & Retail",
          "Energy",
          "Commercial & Professional Services",
          "Materials",
          "Capital Goods",
          "Materials",
          "Technology Hardware & Equipment",
          "Materials",
          "Materials",
          "Not Applic",
          "Transportation",
          "Consumer Discretionary Distribution & Retail",
          "Software & Services",
          "Consumer Services",
          "Materials",
          "Insurance",
          "Capital Goods",
          "Financial Services",
          "Real Estate Management & Development",
          "Financial Services",
          "Materials",
          "Materials",
          "Materials",
          "Commercial & Professional Services",
          "Materials",
          "Energy",
          "Materials",
          "Materials",
          "Materials",
          "Pharmaceuticals, Biotechnology & Life Sciences",
          "Commercial & Professional Services",
          "Capital Goods",
          "Materials",
          "Materials",
          "Materials",
          "Materials",
          "Materials",
          "Materials",
          "Consumer Discretionary Distribution & Retail",
          "Consumer Staples Distribution & Retail",
          "Health Care Equipment & Services",
          "Materials",
          "Pharmaceuticals, Biotechnology & Life Sciences",
          "Materials",
          "Health Care Equipment & Services",
          "Pharmaceuticals, Biotechnology & Life Sciences",
          "Capital Goods",
          "Media & Entertainment",
          "Materials",
          "Not Applic",
          "Materials",
          "Capital Goods",
          "Consumer Discretionary Distribution & Retail",
          "Banks",
          "Pharmaceuticals, Biotechnology & Life Sciences",
          "Materials",
          "Financial Services",
          "Banks",
          "Not Applic",
          "Energy",
          "Materials",
          "Commercial & Professional Services",
          "Health Care Equipment & Services",
          "Not Applic",
          "Materials",
          "Pharmaceuticals, Biotechnology & Life Sciences",
          "Not Applic",
          "Consumer Discretionary Distribution & Retail",
          "Materials",
          "Materials",
          "Media & Entertainment",
          "Materials",
          "Software & Services",
          "Pharmaceuticals, Biotechnology & Life Sciences",
          "Materials",
          "Not Applic",
          "Financial Services",
          "Capital Goods",
          "Household & Personal Products",
          "Materials",
          "Energy",
          "Energy",
          "Energy",
          "Insurance",
          "Materials",
          "Materials",
          "Materials",
          "Materials",
          "Materials",
          "Materials",
          "Materials",
          "Materials",
          "Software & Services",
          "Materials",
          "Insurance",
          "Software & Services",
          "Food, Beverage & Tobacco",
          "Software & Services",
          "Pharmaceuticals, Biotechnology & Life Sciences",
          "Materials",
          "Equity Real Estate Investment Trusts (REITs)",
          "Materials",
          "Materials",
          "Pharmaceuticals, Biotechnology & Life Sciences",
          "Not Applic",
          "Materials",
          "Equity Real Estate Investment Trusts (REITs)",
          "Materials",
          "Financial Services",
          "Consumer Discretionary Distribution & Retail",
          "Health Care Equipment & Services",
          "Materials",
          "Materials",
          "Materials",
          "Food, Beverage & Tobacco",
          "Materials",
          "Technology Hardware & Equipment",
          "Materials",
          "Materials",
          "Technology Hardware & Equipment",
          "Technology Hardware & Equipment",
          "Materials",
          "Materials",
          "Capital Goods",
          "Financial Services",
          "Materials",
          "Media & Entertainment",
          "Media & Entertainment",
          "Consumer Services",
          "Energy",
          "Software & Services",
          "Materials",
          "Health Care Equipment & Services",
          "Software & Services",
          "Materials",
          "Pharmaceuticals, Biotechnology & Life Sciences",
          "Food, Beverage & Tobacco",
          "Media & Entertainment",
          "Energy",
          "Food, Beverage & Tobacco",
          "Software & Services",
          "Materials",
          "Materials",
          "Financial Services",
          "Materials",
          "Health Care Equipment & Services",
          "Pharmaceuticals, Biotechnology & Life Sciences",
          "Software & Services",
          "Materials",
          "Materials",
          "Materials",
          "Software & Services",
          "Materials",
          "Materials",
          "Materials",
          "Capital Goods",
          "Energy",
          "Financial Services",
          "Financial Services",
          "Health Care Equipment & Services",
          "Food, Beverage & Tobacco",
          "Materials",
          "Materials",
          "Capital Goods",
          "Consumer Services",
          "Software & Services",
          "Commercial & Professional Services",
          "Materials",
          "Energy",
          "Materials",
          "Media & Entertainment",
          "Materials",
          "Health Care Equipment & Services",
          "Materials",
          "Not Applic",
          "Software & Services",
          "Commercial & Professional Services",
          "Pharmaceuticals, Biotechnology & Life Sciences",
          "Materials",
          "Utilities",
          "Materials",
          "Materials",
          "Materials",
          "Materials",
          "Pharmaceuticals, Biotechnology & Life Sciences",
          "Materials",
          "Health Care Equipment & Services",
          "Class Pend",
          "Materials",
          "Materials",
          "Pharmaceuticals, Biotechnology & Life Sciences",
          "Pharmaceuticals, Biotechnology & Life Sciences",
          "Financial Services",
          "Not Applic",
          "Materials",
          "Materials",
          "Pharmaceuticals, Biotechnology & Life Sciences",
          "Materials",
          "Consumer Services",
          "Materials",
          "Pharmaceuticals, Biotechnology & Life Sciences",
          "Financial Services",
          "Not Applic",
          "Health Care Equipment & Services",
          "Energy",
          "Materials",
          "Energy",
          "Not Applic",
          "Pharmaceuticals, Biotechnology & Life Sciences",
          "Materials",
          "Materials",
          "Energy",
          "Commercial & Professional Services",
          "Materials",
          "Materials",
          "Financial Services",
          "Consumer Services",
          "Food, Beverage & Tobacco",
          "Health Care Equipment & Services",
          "Materials",
          "Not Applic",
          "Not Applic",
          "Materials",
          "Financial Services",
          "Materials",
          "Materials",
          "Energy",
          "Energy",
          "Financial Services",
          "Materials",
          "Not Applic",
          "Not Applic",
          "Software & Services",
          "Materials",
          "Pharmaceuticals, Biotechnology & Life Sciences",
          "Commercial & Professional Services",
          "Materials",
          "Materials",
          "Not Applic",
          "Materials",
          "Materials",
          "Materials",
          "Financial Services",
          "Media & Entertainment",
          "Not Applic",
          "Health Care Equipment & Services",
          "Materials",
          "Consumer Discretionary Distribution & Retail",
          "Financial Services",
          "Financial Services",
          "Materials",
          "Materials",
          "Materials",
          "Materials",
          "Health Care Equipment & Services",
          "Materials",
          "Utilities",
          "Materials",
          "Materials",
          "Materials",
          "Capital Goods",
          "Real Estate Management & Development",
          "Commercial & Professional Services",
          "Materials",
          "Materials",
          "Media & Entertainment",
          "Financial Services",
          "Software & Services",
          "Financial Services",
          "Materials",
          "Materials",
          "Materials",
          "Energy",
          "Materials",
          "Software & Services",
          "Materials",
          "Media & Entertainment",
          "Materials",
          "Materials",
          "Materials",
          "Insurance",
          "Materials",
          "Health Care Equipment & Services",
          "Household & Personal Products",
          "Financial Services",
          "Materials",
          "Pharmaceuticals, Biotechnology & Life Sciences",
          "Materials",
          "Materials",
          "Energy",
          "Energy",
          "Financial Services",
          "Semiconductors & Semiconductor Equipment",
          "Materials",
          "Materials",
          "Automobiles & Components",
          "Materials",
          "Consumer Discretionary Distribution & Retail",
          "Real Estate Management & Development",
          "Pharmaceuticals, Biotechnology & Life Sciences",
          "Materials",
          "Materials",
          "Pharmaceuticals, Biotechnology & Life Sciences",
          "Real Estate Management & Development",
          "Transportation",
          "Insurance",
          "Materials",
          "Financial Services",
          "Materials",
          "Capital Goods",
          "Commercial & Professional Services",
          "Materials",
          "Software & Services",
          "Materials",
          "Financial Services",
          "Transportation",
          "Financial Services",
          "Not Applic",
          "Materials",
          "Media & Entertainment",
          "Materials",
          "Pharmaceuticals, Biotechnology & Life Sciences",
          "Pharmaceuticals, Biotechnology & Life Sciences",
          "Materials",
          "Materials",
          "Materials",
          "Materials",
          "Consumer Services",
          "Consumer Discretionary Distribution & Retail",
          "Materials",
          "Materials",
          "Materials",
          "Pharmaceuticals, Biotechnology & Life Sciences",
          "Software & Services",
          "Materials",
          "Consumer Services",
          "Software & Services",
          "Capital Goods",
          "Materials",
          "Materials",
          "Materials",
          "Capital Goods",
          "Software & Services",
          "Media & Entertainment",
          "Materials",
          "Materials",
          "Materials",
          "Health Care Equipment & Services",
          "Capital Goods",
          "Capital Goods",
          "Equity Real Estate Investment Trusts (REITs)",
          "Transportation",
          "Energy",
          "Materials",
          "Not Applic",
          "Food, Beverage & Tobacco",
          "Equity Real Estate Investment Trusts (REITs)",
          "Consumer Services",
          "Capital Goods",
          "Capital Goods",
          "Not Applic",
          "Capital Goods",
          "Materials",
          "Equity Real Estate Investment Trusts (REITs)",
          "Pharmaceuticals, Biotechnology & Life Sciences",
          "Health Care Equipment & Services",
          "Materials",
          "Materials",
          "Health Care Equipment & Services",
          "Health Care Equipment & Services",
          "Food, Beverage & Tobacco",
          "Materials",
          "Materials",
          "Materials",
          "Software & Services",
          "Technology Hardware & Equipment",
          "Materials",
          "Materials",
          "Media & Entertainment",
          "Energy",
          "Financial Services",
          "Health Care Equipment & Services",
          "Materials",
          "Materials",
          "Materials",
          "Materials",
          "Materials",
          "Media & Entertainment",
          "Materials",
          "Utilities",
          "Pharmaceuticals, Biotechnology & Life Sciences",
          "Media & Entertainment",
          "Materials",
          "Materials",
          "Software & Services",
          "Energy",
          "Materials",
          "Capital Goods",
          "Real Estate Management & Development",
          "Financial Services",
          "Automobiles & Components",
          "Materials",
          "Materials",
          "Materials",
          "Materials",
          "Health Care Equipment & Services",
          "Materials",
          "Commercial & Professional Services",
          "Materials",
          "Software & Services",
          "Semiconductors & Semiconductor Equipment",
          "Materials",
          "Capital Goods",
          "Materials",
          "Technology Hardware & Equipment",
          "Media & Entertainment",
          "Materials",
          "Materials",
          "Not Applic",
          "Financial Services",
          "Materials",
          "Materials",
          "Class Pend",
          "Household & Personal Products",
          "Energy",
          "Materials",
          "Not Applic",
          "Materials",
          "Materials",
          "Software & Services",
          "Equity Real Estate Investment Trusts (REITs)",
          "Software & Services",
          "Materials",
          "Consumer Services",
          "Insurance",
          "Real Estate Management & Development",
          "Health Care Equipment & Services",
          "Software & Services",
          "Materials",
          "Semiconductors & Semiconductor Equipment",
          "Not Applic",
          "Media & Entertainment",
          "Media & Entertainment",
          "Technology Hardware & Equipment",
          "Financial Services",
          "Materials",
          "Materials",
          "Automobiles & Components",
          "Food, Beverage & Tobacco",
          "Materials",
          "Materials",
          "Materials",
          "Materials",
          "Energy",
          "Commercial & Professional Services",
          "Capital Goods",
          "Food, Beverage & Tobacco",
          "Materials",
          "Equity Real Estate Investment Trusts (REITs)",
          "Materials",
          "Consumer Services",
          "Capital Goods",
          "Energy",
          "Health Care Equipment & Services",
          "Consumer Services",
          "Health Care Equipment & Services",
          "Consumer Durables & Apparel",
          "Materials",
          "Media & Entertainment",
          "Materials",
          "Food, Beverage & Tobacco",
          "Materials",
          "Health Care Equipment & Services",
          "Materials",
          "Consumer Durables & Apparel",
          "Commercial & Professional Services",
          "Software & Services",
          "Consumer Services",
          "Capital Goods",
          "Automobiles & Components",
          "Consumer Services",
          "Software & Services",
          "Household & Personal Products",
          "Software & Services",
          "Capital Goods",
          "Media & Entertainment",
          "Materials",
          "Health Care Equipment & Services",
          "Class Pend",
          "Telecommunication Services",
          "Transportation",
          "Materials",
          "Materials",
          "Materials",
          "Capital Goods",
          "Materials",
          "Food, Beverage & Tobacco",
          "Materials",
          "Technology Hardware & Equipment",
          "Financial Services",
          "Materials",
          "Materials",
          "Not Applic",
          "Capital Goods",
          "Materials",
          "Consumer Discretionary Distribution & Retail",
          "Software & Services",
          "Materials",
          "Health Care Equipment & Services",
          "Software & Services",
          "Financial Services",
          "Health Care Equipment & Services",
          "Commercial & Professional Services",
          "Financial Services",
          "Software & Services",
          "Technology Hardware & Equipment",
          "Media & Entertainment",
          "Software & Services",
          "Materials",
          "Telecommunication Services",
          "Pharmaceuticals, Biotechnology & Life Sciences",
          "Materials",
          "Materials",
          "Materials",
          "Financial Services",
          "Software & Services",
          "Technology Hardware & Equipment",
          "Financial Services",
          "Materials",
          "Capital Goods",
          "Transportation",
          "Materials",
          "Energy",
          "Materials",
          "Materials",
          "Materials",
          "Materials",
          "Materials",
          "Real Estate Management & Development",
          "Materials",
          "Consumer Discretionary Distribution & Retail",
          "Materials",
          "Consumer Discretionary Distribution & Retail",
          "Energy",
          "Real Estate Management & Development",
          "Capital Goods",
          "Materials",
          "Capital Goods",
          "Telecommunication Services",
          "Materials",
          "Media & Entertainment",
          "Materials",
          "Materials",
          "Materials",
          "Energy",
          "Consumer Discretionary Distribution & Retail",
          "Energy",
          "Materials",
          "Consumer Discretionary Distribution & Retail",
          "Materials",
          "Insurance",
          "Materials",
          "Materials",
          "Materials",
          "Materials",
          "Financial Services",
          "Capital Goods",
          "Materials",
          "Media & Entertainment",
          "Financial Services",
          "Media & Entertainment",
          "Telecommunication Services",
          "Capital Goods",
          "Materials",
          "Media & Entertainment",
          "Materials",
          "Software & Services",
          "Materials",
          "Financial Services",
          "Commercial & Professional Services",
          "Materials",
          "Energy",
          "Consumer Services",
          "Software & Services",
          "Materials",
          "Materials",
          "Materials",
          "Materials",
          "Energy",
          "Materials",
          "Not Applic",
          "Materials",
          "Transportation",
          "Consumer Services",
          "Health Care Equipment & Services",
          "Energy",
          "Energy",
          "Energy",
          "Not Applic",
          "Materials",
          "Energy",
          "Food, Beverage & Tobacco",
          "Materials",
          "Materials",
          "Consumer Discretionary Distribution & Retail",
          "Not Applic",
          "Materials",
          "Materials",
          "Materials",
          "Financial Services",
          "Transportation",
          "Materials",
          "Materials",
          "Real Estate Management & Development",
          "Materials",
          "Materials",
          "Financial Services",
          "Materials",
          "Materials",
          "Consumer Services",
          "Materials",
          "Materials",
          "Telecommunication Services",
          "Pharmaceuticals, Biotechnology & Life Sciences",
          "Materials",
          "Materials",
          "Media & Entertainment",
          "Energy",
          "Utilities",
          "Materials",
          "Materials",
          "Materials",
          "Materials",
          "Materials",
          "Materials",
          "Software & Services",
          "Software & Services",
          "Media & Entertainment",
          "Energy",
          "Materials",
          "Not Applic",
          "Materials",
          "Equity Real Estate Investment Trusts (REITs)",
          "Energy",
          "Consumer Discretionary Distribution & Retail",
          "Utilities",
          "Energy",
          "Telecommunication Services",
          "Consumer Discretionary Distribution & Retail",
          "Consumer Discretionary Distribution & Retail",
          "Class Pend",
          "Pharmaceuticals, Biotechnology & Life Sciences",
          "Materials",
          "Pharmaceuticals, Biotechnology & Life Sciences",
          "Consumer Discretionary Distribution & Retail",
          "Materials",
          "Health Care Equipment & Services",
          "Food, Beverage & Tobacco",
          "Software & Services",
          "Materials",
          "Materials",
          "Consumer Discretionary Distribution & Retail",
          "Transportation",
          "Materials",
          "Materials",
          "Telecommunication Services",
          "Financial Services",
          "Materials",
          "Consumer Durables & Apparel",
          "Food, Beverage & Tobacco",
          "Insurance",
          "Software & Services",
          "Financial Services",
          "Materials",
          "Technology Hardware & Equipment",
          "Materials",
          "Health Care Equipment & Services",
          "Software & Services",
          "Health Care Equipment & Services",
          "Food, Beverage & Tobacco",
          "Consumer Discretionary Distribution & Retail",
          "Media & Entertainment",
          "Real Estate Management & Development",
          "Equity Real Estate Investment Trusts (REITs)",
          "Equity Real Estate Investment Trusts (REITs)",
          "Materials",
          "Equity Real Estate Investment Trusts (REITs)",
          "Materials",
          "Materials",
          "Materials",
          "Capital Goods",
          "Pharmaceuticals, Biotechnology & Life Sciences",
          "Equity Real Estate Investment Trusts (REITs)",
          "Energy",
          "Capital Goods",
          "Energy",
          "Not Applic",
          "Software & Services",
          "Materials",
          "Health Care Equipment & Services",
          "Software & Services",
          "Health Care Equipment & Services",
          "Health Care Equipment & Services",
          "Materials",
          "Pharmaceuticals, Biotechnology & Life Sciences",
          "Capital Goods",
          "Materials",
          "Materials",
          "Materials",
          "Automobiles & Components",
          "Telecommunication Services",
          "Capital Goods",
          "Utilities",
          "Software & Services",
          "Materials",
          "Materials",
          "Commercial & Professional Services",
          "Materials",
          "Materials",
          "Energy",
          "Health Care Equipment & Services",
          "Materials",
          "Materials",
          "Banks",
          "Materials",
          "Consumer Services",
          "Materials",
          "Software & Services",
          "Materials",
          "Materials",
          "Not Applic",
          "Materials",
          "Materials",
          "Not Applic",
          "Not Applic",
          "Consumer Durables & Apparel",
          "Not Applic",
          "Banks",
          "Energy",
          "Semiconductors & Semiconductor Equipment",
          "Materials",
          "Materials",
          "Software & Services",
          "Materials",
          "Energy",
          "Consumer Services",
          "Energy",
          "Energy",
          "Consumer Discretionary Distribution & Retail",
          "Pharmaceuticals, Biotechnology & Life Sciences",
          "Not Applic",
          "Materials",
          "Materials",
          "Materials",
          "Energy",
          "Not Applic",
          "Software & Services",
          "Materials",
          "Materials",
          "Materials",
          "Food, Beverage & Tobacco",
          "Not Applic",
          "Not Applic",
          "Materials",
          "Materials",
          "Not Applic",
          "Materials",
          "Food, Beverage & Tobacco",
          "Food, Beverage & Tobacco",
          "Food, Beverage & Tobacco",
          "Capital Goods",
          "Equity Real Estate Investment Trusts (REITs)",
          "Consumer Staples Distribution & Retail",
          "Equity Real Estate Investment Trusts (REITs)",
          "Not Applic",
          "Materials",
          "Software & Services",
          "Materials",
          "Materials",
          "Software & Services",
          "Materials",
          "Software & Services",
          "Financial Services",
          "Real Estate Management & Development",
          "Transportation",
          "Materials",
          "Materials",
          "Financial Services",
          "Technology Hardware & Equipment",
          "Materials",
          "Materials",
          "Software & Services",
          "Media & Entertainment",
          "Software & Services",
          "Capital Goods",
          "Consumer Services",
          "Software & Services",
          "Energy",
          "Materials",
          "Capital Goods",
          "Energy",
          "Materials",
          "Financial Services",
          "Software & Services",
          "Food, Beverage & Tobacco",
          "Commercial & Professional Services",
          "Materials",
          "Software & Services",
          "Materials",
          "Materials",
          "Not Applic",
          "Energy",
          "Capital Goods",
          "Materials",
          "Financial Services",
          "Pharmaceuticals, Biotechnology & Life Sciences",
          "Materials",
          "Technology Hardware & Equipment",
          "Materials",
          "Materials"
         ],
         "legendgroup": "",
         "name": "",
         "showlegend": true,
         "type": "pie",
         "values": [
          "8812235",
          "8389000",
          "13250717",
          "4875868",
          "22900363",
          "13047544",
          "36831934",
          "12752921",
          "8008781",
          "445175226",
          "1750315335",
          "81284817",
          "66909256",
          "329016162",
          "256772691",
          "203910689",
          "163608102",
          "27282087",
          "128711930",
          "18599877",
          "7147120",
          "5029371",
          "36699410",
          "299998413",
          "7788316",
          "161864721",
          "237382228",
          "195787553",
          "3144766415",
          "5653586",
          "975695072",
          "8339279",
          "789624439",
          "7088094",
          "6101990",
          "55148897",
          "14167994",
          "239173000",
          "841619726",
          "1417725108",
          "14357320",
          "974086820",
          "14799211",
          "20793946",
          "85455709",
          "SUSPENDED",
          "77007129",
          "107227479",
          "230798653",
          "603483705",
          "18500786",
          "8305634",
          "86478100",
          "12125502",
          "3785018",
          "14835873",
          "44045214",
          "4935414",
          "1010408919",
          "42685994",
          "5278274",
          "8034062",
          "4770578",
          "231023061",
          "80867044",
          "63696831",
          "24997042",
          "9799853",
          "1068188629",
          "16130012",
          "30781624",
          "7821475",
          "175994683",
          "490601926",
          "6878047",
          "7158386",
          "17300072",
          "40412274",
          "423753555",
          "8775708093",
          "12962634",
          "354447959",
          "2366090",
          "6000000",
          "18981652",
          "198355137",
          "15569268",
          "328374081",
          "7359854729",
          "38173066",
          "7375522",
          "294925575",
          "50888279",
          "11805602",
          "43540794",
          "12408834",
          "70491901",
          "8563740",
          "72002178",
          "10823250857",
          "122664242",
          "62474740",
          "43376830",
          "145098575",
          "3663544",
          "2341082700",
          "SUSPENDED",
          "16508756",
          "11858813",
          "9119457",
          "1360000",
          "8317570022",
          "37132051",
          "49240788",
          "11429808",
          "17096907",
          "328613625",
          "17430975",
          "4933557",
          "64039501",
          "5156067",
          "146099827",
          "8247635646",
          "244650068",
          "380719968",
          "375983769",
          "26539469792",
          "10026007",
          "5659920226",
          "6093700647",
          "13969547",
          "8385818826",
          "12958839",
          "10473760",
          "59018862",
          "21143022704",
          "9071295",
          "33567404",
          "311233642",
          "176950537",
          "18638811",
          "2600000",
          "53345210",
          "20513860",
          "3580013192",
          "SUSPENDED",
          "7176662",
          "28446528",
          "6215539",
          "124176440",
          "158328507",
          "SUSPENDED",
          "2850870461",
          "57749340",
          "57698878",
          "3837568",
          "21495196",
          "75973652478",
          "1947130",
          "3617563",
          "215342302",
          "16324070",
          "10892993552",
          "4154758",
          "3750745986",
          "11136804",
          "1692200690",
          "4648142",
          "55648854",
          "224397887",
          "319781559",
          "50351752",
          "9901791",
          "22062125",
          "15709547",
          "36102505",
          "1518178",
          "520780418",
          "SUSPENDED",
          "36999831",
          "31413836",
          "113662117",
          "2680542112",
          "7368706",
          "12968793",
          "7316152",
          "1274098860",
          "6648964230",
          "115169497",
          "14808612",
          "55940412",
          "87996143",
          "507207526",
          "61421816",
          "290207985",
          "16944852",
          "708573866",
          "17354576",
          "502500000",
          "79906627",
          "1583494069",
          "294358292",
          "177894946",
          "49743757",
          "21948873",
          "17744604",
          "12963484",
          "30945244",
          "10767762910",
          "16619260",
          "198808825",
          "115232812",
          "17079283",
          "5576649649",
          "23960818",
          "73270969",
          "34052299",
          "SUSPENDED",
          "34643709",
          "15520463",
          "13714451",
          "7165000",
          "3368162613",
          "78068801",
          "3150000",
          "25863750",
          "8311535",
          "1224099066",
          "7436297",
          "6267305",
          "24414976",
          "4289634",
          "79793861",
          "10128764",
          "27142579",
          "46044501",
          "49850949",
          "49633815",
          "12142314",
          "101055394",
          "619361830",
          "156369081",
          "130975799",
          "3531352",
          "327704979",
          "2133790",
          "SUSPENDED",
          "98701522",
          "2988731860",
          "5888682",
          "1089507934",
          "7992637",
          "114681156",
          "17308546",
          "58474715",
          "11649361",
          "21235228",
          "SUSPENDED",
          "5527732",
          "5079373",
          "27811889",
          "6644941375",
          "57504414",
          "1166739485",
          "51761669",
          "19123377",
          "2270669625",
          "30865360",
          "5262598",
          "46894165",
          "92158194",
          "260369524",
          "43116564",
          "17085242",
          "67667202",
          "8628572",
          "234958447",
          "17716494",
          "333723491",
          "213445339",
          "93919204",
          "20696443",
          "6822782",
          "234498863",
          "21831931",
          "23199804",
          "SUSPENDED",
          "3197373",
          "5233976670",
          "99071868",
          "8324051",
          "71896320",
          "15976375",
          "336781145",
          "2499626888",
          "861021783",
          "43939423",
          "2295515",
          "1649630049",
          "982397081",
          "17554589",
          "5676482",
          "221301179100",
          "5482500",
          "25226568",
          "13212989",
          "100594119",
          "31568072",
          "23961535",
          "1412971889",
          "98741349",
          "4244582097",
          "169402752",
          "5162453801",
          "61121826",
          "33317525",
          "404273320",
          "414288580",
          "8171257",
          "29323270",
          "8430932",
          "6337972",
          "14474476",
          "27914043",
          "14449507",
          "358215371",
          "4333105",
          "14619726",
          "63955486",
          "39654251",
          "17028284",
          "75555710",
          "5415973",
          "132350625",
          "13686152",
          "1393901940",
          "49194034",
          "3825005448",
          "248709442",
          "2669460",
          "19534945",
          "5937499",
          "9848308",
          "3752793864",
          "3323165313",
          "194605163",
          "60174548",
          "184662188",
          "523642153",
          "55432007",
          "42125292",
          "42190298",
          "217932192",
          "9603332165",
          "8122970",
          "61579558",
          "7778959",
          "18385595",
          "194320989",
          "185045854",
          "26537697",
          "20724167",
          "120217185",
          "12662095",
          "5049263",
          "37681285",
          "9593507",
          "11549486",
          "334023731",
          "40150741",
          "2370396233",
          "SUSPENDED",
          "20965203389",
          "32327972",
          "92999979",
          "6096290",
          "23424250",
          "4227022",
          "599458254",
          "4915015",
          "146752378",
          "59007895",
          "51943996",
          "9965372",
          "94221378",
          "234478069",
          "115570201",
          "51152890",
          "8613435",
          "11108168093",
          "249844120",
          "23334862",
          "50788325",
          "16985129",
          "171036317617",
          "17214660",
          "4722300",
          "7783078",
          "552978341",
          "27579826",
          "3902135",
          "47074604",
          "31285147",
          "28636416",
          "4085596",
          "1453908044",
          "88696587",
          "141197628",
          "92153824",
          "10396043",
          "30520235",
          "56415017",
          "110923767",
          "1474099999",
          "11718199",
          "229291987",
          "27004902",
          "314050815",
          "5987410",
          "11807176",
          "24426199",
          "54437707",
          "108459741",
          "5918624443",
          "22589725",
          "SUSPENDED",
          "18169726",
          "SUSPENDED",
          "1315128714",
          "4400729350",
          "6075118",
          "265840736",
          "4876601122",
          "6639733",
          "148720726",
          "15882089",
          "1155221013",
          "12112302",
          "11088000",
          "SUSPENDED",
          "12107378",
          "3072736666",
          "--",
          "773060510",
          "SUSPENDED",
          "1949237049",
          "28562555",
          "107894898",
          "1134955999",
          "4562297",
          "24706568",
          "SUSPENDED",
          "10264505",
          "207885139",
          "21169425",
          "185369269",
          "2552032795",
          "127250715",
          "12046242",
          "17882215",
          "10579200",
          "1563986008",
          "4178767",
          "31889331",
          "1139207014",
          "9518751",
          "148106447",
          "1175406184",
          "10990665",
          "23729398",
          "2979991147",
          "49290338",
          "105106985",
          "27009834",
          "315783751",
          "743684479",
          "266927081",
          "17560728199",
          "166711559",
          "21347344967",
          "25090035",
          "146790260",
          "27627500",
          "5831396",
          "8147671",
          "16967820",
          "2790354",
          "15612440629",
          "73238289",
          "1027265984",
          "1981992967",
          "8234395",
          "14417817",
          "5517378",
          "253444394",
          "SUSPENDED",
          "SUSPENDED",
          "2707472774",
          "69316661",
          "4787034",
          "SUSPENDED",
          "2964588",
          "129736723273",
          "2830884671",
          "77780071",
          "14514146",
          "24662453",
          "4413601",
          "2569480100",
          "31970264",
          "352435212",
          "6192434",
          "11494636",
          "41576100",
          "6540871",
          "1139902278",
          "SUSPENDED",
          "305066006",
          "45377782",
          "16045573",
          "4538618",
          "64129111",
          "19777906",
          "831081885",
          "128055397",
          "280377826",
          "466804320",
          "270028036",
          "5639617",
          "78301061",
          "353655677",
          "436677648",
          "22634009",
          "5679814390",
          "645396615",
          "53605279",
          "801236382",
          "7612549",
          "SUSPENDED",
          "22253721",
          "56997629",
          "240118595",
          "120062640",
          "115545961",
          "SUSPENDED",
          "23352132",
          "1787583",
          "8618371",
          "33002850",
          "264187326",
          "5855867",
          "3800000",
          "59183388",
          "1383175051",
          "3650500",
          "2745038",
          "25347647",
          "26449596",
          "6968028",
          "127764098",
          "8256420",
          "35941909",
          "340929407",
          "1737545730",
          "3632858",
          "2030338076",
          "5393023",
          "33098954",
          "8895000",
          "124210823",
          "40296340",
          "240957210",
          "29223417",
          "2463462897",
          "768451346",
          "36627069",
          "370197774",
          "SUSPENDED",
          "4062300",
          "SUSPENDED",
          "65344615",
          "3552045",
          "2873700",
          "4714095603",
          "49415575",
          "--",
          "20537543",
          "SUSPENDED",
          "6870339",
          "2813893715",
          "76504355",
          "181403724",
          "167267529",
          "2468793291",
          "74595183",
          "173184690",
          "67249294",
          "28367030",
          "8522477",
          "1086022529",
          "4651755",
          "14167085",
          "94623347",
          "46475907",
          "222662583",
          "1046705671",
          "4688010",
          "310412374",
          "6679939",
          "543329421",
          "35036916",
          "23885483",
          "345768973",
          "878837656",
          "3446680",
          "8131273260",
          "9990000",
          "724175355",
          "11266550",
          "80486224",
          "12458129",
          "6100056",
          "5872152",
          "50921799",
          "6216190584",
          "257654016",
          "251662301",
          "17842250",
          "76835343",
          "21089951",
          "26561536",
          "18509108",
          "45492919",
          "10090911",
          "26434311",
          "9563833291",
          "108236961",
          "5049825",
          "10556545",
          "51607316",
          "150337833",
          "135478556",
          "93416433",
          "108899338",
          "58836944",
          "13506393",
          "787369858",
          "326971647",
          "78904700",
          "133374787",
          "981108119",
          "6297227",
          "73656595",
          "25316211",
          "26837084",
          "22657499",
          "16660389",
          "24667945",
          "33549330",
          "149723515",
          "437561431",
          "68453769",
          "3495212",
          "1473621599",
          "2802492",
          "6375000",
          "3625053",
          "3625053",
          "121158162",
          "23891320",
          "233653038",
          "136456394",
          "3197884",
          "3420632",
          "8116152",
          "71628543",
          "154606971",
          "166955106",
          "102202439",
          "28392837",
          "6007080",
          "10924886",
          "72482173",
          "SUSPENDED",
          "14325000",
          "115694874",
          "4814706",
          "734702944",
          "22345710",
          "841635369",
          "76934891",
          "5174809",
          "5564675",
          "36495556",
          "10588200",
          "25033830",
          "11868575",
          "112921186",
          "52874016",
          "17791685",
          "98990981",
          "35437500",
          "5274483",
          "11561727",
          "6742464796",
          "115673376",
          "13103777",
          "90849603",
          "1924084023",
          "18163788",
          "SUSPENDED",
          "4394231",
          "4385379",
          "151040658",
          "63845485",
          "9663816",
          "38125779",
          "161526148",
          "26050050",
          "30090000",
          "37887956",
          "5081976",
          "54642067",
          "81860698",
          "3351426591",
          "645122364",
          "91456579",
          "11812500",
          "166784438",
          "48941499",
          "152715622",
          "2989769",
          "13092637",
          "46592389",
          "6433529",
          "SUSPENDED",
          "9546781",
          "479515071",
          "30981953",
          "17209116",
          "40724164",
          "462913244",
          "112124103",
          "SUSPENDED",
          "SUSPENDED",
          "188865738",
          "6831389",
          "87824795",
          "97120748",
          "4347295135",
          "15114626",
          "21073406",
          "60440081340",
          "51580556",
          "17135548",
          "14389673",
          "129934962",
          "8339952",
          "23549944",
          "11367641595",
          "15169196",
          "787192992",
          "10961250",
          "58161423",
          "180961889",
          "17982232",
          "4589424",
          "17268984",
          "120132132",
          "322232955",
          "29022181",
          "47318791",
          "8460005",
          "13918333",
          "24494308",
          "186212044",
          "15985209",
          "26389266",
          "15653366",
          "79019712",
          "16585111",
          "110376719",
          "10869854",
          "57311229",
          "53962782",
          "40009947",
          "23597955",
          "32339812",
          "10471340",
          "24352446",
          "486323846",
          "7956095",
          "3840396",
          "9660492",
          "53902097",
          "137545584",
          "271546676",
          "267720952",
          "337936636",
          "10033103",
          "6931341",
          "862124033",
          "SUSPENDED",
          "3914206",
          "32169477",
          "14934288",
          "SUSPENDED",
          "27300000",
          "6345283",
          "376798014",
          "8271156",
          "126464645",
          "10374000",
          "8417183",
          "26067387",
          "241673935",
          "6071004",
          "1670518874",
          "43776146737",
          "9055340",
          "15883550",
          "17156063",
          "1608496268",
          "2460778235",
          "323312294",
          "3711098",
          "197274692",
          "214702457",
          "SUSPENDED",
          "1784787402",
          "126347366",
          "1764013245",
          "14781440",
          "7949646335",
          "4192983716",
          "34204722",
          "6769681",
          "526589108",
          "32889550",
          "263328176",
          "7452443",
          "15733820",
          "12068593",
          "76005178",
          "133930710",
          "11371415",
          "23083316",
          "11913815",
          "395730420",
          "83700263",
          "17529787",
          "1690736352",
          "10767521",
          "201114993",
          "25051774",
          "495933561",
          "30194366",
          "4187558",
          "10618607",
          "8116238",
          "124838819",
          "75993410",
          "41876952",
          "5846993",
          "23179971",
          "165431610",
          "3345601",
          "846674605",
          "2523525759",
          "148430818",
          "164717168",
          "10914998",
          "1135453120",
          "12168787",
          "122366145",
          "11567083",
          "73025735",
          "30329345",
          "5602365",
          "88620000",
          "244284520",
          "1222733025",
          "475875316",
          "1441503292",
          "11615729",
          "553701856",
          "1899710337",
          "19565993",
          "14175000",
          "4338459",
          "46093182",
          "51491894",
          "77750002",
          "30348949",
          "7721744",
          "8504525",
          "119133738",
          "593337572",
          "SUSPENDED",
          "12691643",
          "4574435",
          "41935850",
          "25091412",
          "1096525274",
          "3589626",
          "529327835",
          "25632319",
          "6403802",
          "2676536780",
          "231929483",
          "SUSPENDED",
          "5046326949",
          "6914828",
          "4616243",
          "3841911",
          "7626565",
          "11774761",
          "275123914",
          "94835041",
          "14252786000",
          "40603019",
          "49858036",
          "13201058",
          "18280732",
          "6577838",
          "10206210",
          "48319405",
          "18562857",
          "5376096",
          "2738033",
          "4852603",
          "31069212",
          "20728892",
          "699955215",
          "11345471",
          "6833153980",
          "4359602",
          "1663121587",
          "605017070",
          "7936230476",
          "31570083",
          "317200120",
          "7166574",
          "10632040095",
          "142830932",
          "58891969",
          "100815333",
          "6582746",
          "9912939",
          "3420882832",
          "96416198",
          "51911289",
          "16857078",
          "852093641",
          "25861149",
          "15868308",
          "344318801",
          "95654410",
          "403221302",
          "1683318880",
          "23820600",
          "42558473",
          "1256277051",
          "7518327",
          "12650636",
          "464070814",
          "22595072",
          "167067385",
          "SUSPENDED",
          "5651224",
          "6099396",
          "333098957",
          "406093358",
          "1778378280",
          "5962630839",
          "34376447",
          "272606562",
          "232679383",
          "64551318",
          "1210395792",
          "66636065",
          "9298581",
          "3468964",
          "20771206",
          "1810843414",
          "57486801",
          "2277732",
          "25686529",
          "196349594",
          "15406539",
          "98652623",
          "56243650",
          "19967066",
          "100660024",
          "26228494",
          "9454153",
          "21381969",
          "5034829825",
          "0",
          "13790424",
          "1099992273",
          "52035528",
          "7380218125",
          "20058555511",
          "986444682",
          "1784998369",
          "382003251",
          "8869770",
          "22362302",
          "97544242",
          "113505869",
          "2531507",
          "23581797",
          "92311755",
          "15778332",
          "62901893",
          "4250719",
          "15670538",
          "1425799723",
          "36997932",
          "26617901",
          "10003378",
          "9115636",
          "310590789",
          "SUSPENDED",
          "74069667",
          "3935856",
          "10474425",
          "5598179",
          "65238564",
          "540055425",
          "130822830",
          "47126022",
          "664419795",
          "85861987",
          "4992004",
          "SUSPENDED",
          "1474004",
          "1712626632",
          "508613621",
          "35131773",
          "5867705",
          "13991952",
          "32214851",
          "6019141",
          "8861687",
          "8117083",
          "6973950",
          "95737656",
          "39009532",
          "196200000",
          "13636762",
          "43646538",
          "15535249",
          "335280008",
          "218071284",
          "40334909",
          "8953908",
          "SUSPENDED",
          "41859198",
          "38997647",
          "18654213",
          "6541718",
          "156147611",
          "353740167",
          "SUSPENDED",
          "94575916",
          "4982605",
          "15522464",
          "25417743",
          "108916045",
          "14949780",
          "42570518",
          "69635452",
          "65926400",
          "32091600",
          "1099770020",
          "1237215205",
          "178353417",
          "267324785",
          "12897886",
          "50181047",
          "10493893",
          "1798176253",
          "284863074",
          "9870032",
          "140844051",
          "45221092",
          "248927824",
          "57825090",
          "6893333",
          "5273313797",
          "72163561",
          "635033555",
          "222825860",
          "18690710",
          "176587252",
          "82859886",
          "7103559",
          "686707287",
          "12337331",
          "12689372",
          "10708387788",
          "51824156",
          "329275601",
          "2158793897",
          "80202233",
          "9085970",
          "151017014",
          "37633900",
          "3447970",
          "114668867",
          "8312806",
          "749346029",
          "39369498",
          "10971412",
          "10552102",
          "1745029755",
          "13135833",
          "60694833",
          "6628789314",
          "31289617",
          "19298197",
          "4053417",
          "20843145",
          "12950417",
          "6844867446",
          "6237000",
          "399389271",
          "12013750",
          "3232117",
          "3377336",
          "7145738",
          "3488498",
          "6958272",
          "185003573",
          "SUSPENDED",
          "1540000000",
          "861342647",
          "18647261",
          "344797731",
          "72527713",
          "23351637",
          "121308107",
          "1667095473",
          "13794547",
          "207334781",
          "207334781",
          "262875920",
          "38768391",
          "10864523",
          "1014980",
          "134006843",
          "57808735",
          "9839948",
          "53954802",
          "64057368",
          "7472172",
          "SUSPENDED",
          "7990088728",
          "SUSPENDED",
          "3375797",
          "117415539",
          "102277939",
          "14736602",
          "62425033",
          "6100744",
          "53120548",
          "9669311",
          "407537996",
          "55110447",
          "10638867",
          "12473765",
          "30705217",
          "12476706821",
          "46372021",
          "1753413965",
          "1721788722",
          "5798100",
          "2503394781",
          "1103554785",
          "36022850",
          "9233312908",
          "26483942",
          "27495218",
          "195098623",
          "516128217",
          "23495838",
          "3582127",
          "346161567",
          "9846376",
          "115830000",
          "18629487",
          "13394112732",
          "31550163",
          "568993268",
          "12096172",
          "5726606",
          "26438443",
          "85140615",
          "22078250",
          "21841267",
          "254034499",
          "19040394",
          "19989336",
          "34501599",
          "11337525",
          "58405729",
          "96035728",
          "28715260",
          "SUSPENDED",
          "1208306466",
          "83079859",
          "1369736556",
          "92000856",
          "10613414",
          "2448320",
          "7996598",
          "545679832",
          "75650334",
          "27668498",
          "1709929551",
          "32043723",
          "11577520",
          "9804251534",
          "17796296",
          "6874066",
          "38222310",
          "67011204376",
          "11244055",
          "33189885",
          "15569766",
          "5008749",
          "60571374",
          "524152265",
          "6557756",
          "16273013",
          "18927835",
          "378605244",
          "3961993",
          "817824",
          "79645164",
          "3046940",
          "40549987",
          "6737609",
          "6147446",
          "3746042",
          "168278692",
          "3634663449",
          "479250853",
          "9501698",
          "72927910",
          "53275095",
          "54224624",
          "13283905",
          "134509240",
          "8627344",
          "9287417",
          "1783076149",
          "39128859",
          "38944077",
          "517405653",
          "348655846",
          "299461494",
          "17664306",
          "15409725",
          "--",
          "41823681",
          "11487191",
          "13961432",
          "85878591",
          "1303821095",
          "617051242",
          "45500001",
          "8635409",
          "53255554",
          "957420000",
          "23071152886",
          "SUSPENDED",
          "3271690630",
          "3681566",
          "28244227",
          "1472788020",
          "4455000",
          "28846109",
          "328984212",
          "7060811",
          "3265956",
          "16763190",
          "53314398",
          "5046652720",
          "75353640",
          "3765959468",
          "2708759805",
          "17759677",
          "4321058",
          "5445423",
          "5287988",
          "SUSPENDED",
          "8262961",
          "246222032",
          "3034618",
          "23045001",
          "152148637",
          "14508647",
          "41566398",
          "37252220",
          "9936090",
          "9995579",
          "206170817",
          "5296225",
          "48207030",
          "11279180",
          "94074068",
          "5405715",
          "3007532603",
          "12876058144",
          "15646724",
          "92623566",
          "45443293",
          "7947532",
          "8006989",
          "177459979",
          "17725529",
          "1955928070",
          "33569332",
          "54831390",
          "82066909",
          "9081486",
          "354120465",
          "76899230",
          "115330631",
          "1154427372",
          "3841284715",
          "9777363",
          "19342283317",
          "19342283317",
          "216949238",
          "4273329139",
          "543445509",
          "16598119",
          "116813550",
          "6722230175",
          "6450125",
          "4056226",
          "97461848",
          "163683116",
          "78382793",
          "3308020",
          "1891525",
          "15738814",
          "42244733",
          "594598874",
          "145992198",
          "501813246",
          "72015621",
          "1129057211",
          "19559520",
          "3599363",
          "19465642",
          "41443482",
          "16692521",
          "14233320",
          "16841832",
          "16412943",
          "86310176",
          "1564923",
          "452480425",
          "64298142",
          "25682033",
          "2469043",
          "15917397",
          "9987797",
          "7492443",
          "4821643",
          "11282864",
          "5034227",
          "29988047",
          "391470369",
          "756987707",
          "3391695",
          "132760526",
          "SUSPENDED",
          "569852421",
          "4365753",
          "8933437",
          "263496447",
          "2324717423",
          "14729492587",
          "7201321532",
          "SUSPENDED",
          "108047326",
          "230010357",
          "19758411",
          "6336271",
          "10689385",
          "4768553",
          "4699000",
          "5736867",
          "29297095",
          "18517026",
          "548744530",
          "308986945",
          "38117144",
          "118774517",
          "201455987",
          "17365000",
          "236555013",
          "SUSPENDED",
          "212254090",
          "111805309",
          "404977561",
          "36343707",
          "161204456",
          "413648818",
          "2742638631",
          "413931300",
          "72964540",
          "11045984",
          "119088660",
          "110620400",
          "SUSPENDED",
          "69692144",
          "6077630",
          "45182982",
          "524065487",
          "13199402",
          "112088808",
          "19074888",
          "780260300",
          "478728405",
          "227231435",
          "50646422",
          "16825869",
          "14405121",
          "28696283",
          "65704996",
          "2647821",
          "19208935",
          "274821802",
          "461633775",
          "18340712",
          "2910016",
          "108877902",
          "2036367",
          "2824389",
          "8199100",
          "796146536",
          "5113545",
          "1285505282",
          "13262173106",
          "57673655",
          "199702882",
          "378267753",
          "7610611628",
          "562277284",
          "4053539563",
          "38060992",
          "1838400533",
          "32855680",
          "20726206",
          "249793465",
          "6631950",
          "921460723",
          "16141874",
          "SUSPENDED",
          "14573464",
          "44600467",
          "81579908",
          "SUSPENDED",
          "579601001",
          "188684108",
          "52689436",
          "97325329",
          "36266315",
          "593684501",
          "326179891",
          "2344866617",
          "12314190",
          "9750003",
          "SUSPENDED",
          "2424618",
          "709459200",
          "43433401",
          "5933519",
          "SUSPENDED",
          "2381849458",
          "8755539",
          "42065611",
          "1703608352",
          "13110712",
          "226606352",
          "53694742",
          "815483671",
          "13035566",
          "57177705",
          "3124130",
          "26495743",
          "34083211",
          "50994311",
          "5433443",
          "2305138",
          "8713605",
          "6990916",
          "1072062031",
          "32671925",
          "430640170",
          "2078548716",
          "28160775",
          "13450639",
          "13450639",
          "220239161",
          "722279169",
          "9518989834",
          "22560328874",
          "30278342",
          "16150670",
          "195674600",
          "19366078",
          "132458277",
          "21652629",
          "261550339",
          "124419919",
          "604566611",
          "5367918073",
          "649736",
          "208309169",
          "21524696",
          "8010837",
          "8224175",
          "162253436",
          "39020999",
          "10427581",
          "SUSPENDED",
          "5703951",
          "12597250",
          "528976138",
          "152668920",
          "4855214",
          "11989250",
          "3939410",
          "92692241",
          "8187452",
          "2828859",
          "152391170",
          "5268358",
          "138485581",
          "25787133",
          "77838235",
          "5228271",
          "1328456013",
          "420447557",
          "21500755895",
          "22827155",
          "778383761",
          "23918530",
          "767315716",
          "12377056908",
          "7078326",
          "385602230",
          "114931311",
          "38109157",
          "7497087",
          "587385547",
          "11530824",
          "776138381",
          "132116157",
          "71744431",
          "48729366",
          "369795387",
          "SUSPENDED",
          "11415137",
          "2428156691",
          "1532185",
          "11350881483",
          "262333692",
          "123259461",
          "29974724",
          "76216568",
          "704306950",
          "12356442",
          "12631468",
          "41724702678",
          "66277477",
          "7474497",
          "3700102",
          "24143204",
          "10087814",
          "214380013",
          "405638563",
          "34416204732",
          "26739665",
          "26739665",
          "7543751",
          "1404884989",
          "10097404",
          "34034501",
          "78488826",
          "15417574",
          "16000303",
          "10818557",
          "355517050",
          "8578114",
          "7935005",
          "26511136",
          "5155501",
          "554889",
          "1460186",
          "581426326",
          "18958462",
          "37860608",
          "1212318787",
          "30578033",
          "702572168",
          "30184627",
          "44017415",
          "33639353",
          "79507308",
          "332454937",
          "15357915",
          "89842499",
          "3049765793",
          "10025538",
          "106568764",
          "12631716",
          "72006412",
          "120964308",
          "83607055",
          "37378186",
          "67665101",
          "14954411057",
          "21674005",
          "12292551",
          "2455922",
          "6321709",
          "56864158",
          "151324520",
          "14282823",
          "19108860",
          "13650695032",
          "7133517",
          "20396665",
          "4613360",
          "5732861660",
          "130064039",
          "96875407",
          "1323067970",
          "49348915",
          "SUSPENDED",
          "110977918",
          "52222406",
          "7982894458",
          "25496953",
          "72239993",
          "7741042",
          "31454475",
          "231496642",
          "26601295",
          "3204027",
          "2978935371",
          "184628064",
          "33978665",
          "3867914",
          "834443205",
          "14456500",
          "409978500",
          "2663973161",
          "9524814931",
          "36402724",
          "1456812789",
          "138592172",
          "11635821",
          "5369790",
          "116951723",
          "14672438985",
          "81953320",
          "16955564",
          "12650024",
          "24972723",
          "487866416",
          "13957016",
          "794457312",
          "24408512",
          "55785500",
          "1146380453",
          "3617704",
          "10409961",
          "8760275",
          "6297874",
          "1375971428",
          "15976162",
          "3416917",
          "429927144",
          "18048055",
          "312159916",
          "19091385",
          "174768672",
          "19105722",
          "356101542",
          "137065966",
          "27664838",
          "873985951",
          "13037285",
          "780561138",
          "4149321",
          "266669626",
          "106898175",
          "92583942",
          "356236020",
          "2749244484",
          "2506258",
          "91828783",
          "121967722",
          "11790716",
          "629564643",
          "34061209",
          "5710427",
          "2097049311",
          "33724531",
          "12067155660",
          "60438335",
          "94929106",
          "37542409",
          "33940067",
          "4515698",
          "9104990",
          "7263179",
          "34553750",
          "8430801351",
          "57469031",
          "16700906",
          "55036613",
          "280838411",
          "24897781",
          "29371377",
          "126127080",
          "48724691570",
          "4062500",
          "346684900",
          "4682723",
          "4335005",
          "8953379",
          "15890000",
          "79851336",
          "24770452",
          "4105976",
          "32190479",
          "284644591",
          "86968472",
          "SUSPENDED",
          "10059642",
          "133632744",
          "10463976",
          "72067311",
          "548198254",
          "4579220535",
          "363416538",
          "32366607",
          "197446172",
          "34598042",
          "67210122",
          "61639698",
          "23349438",
          "25397584555",
          "100083757",
          "938194870",
          "13171348",
          "2696368410",
          "5223312",
          "17604939249",
          "21073340",
          "14231256",
          "231714804",
          "247822013",
          "242516149",
          "10505576391",
          "27177323",
          "9312951",
          "37681531",
          "504910653",
          "44531646",
          "204884512",
          "141711280",
          "173926883",
          "1029329601",
          "213305222",
          "412297615",
          "97106215",
          "3189317",
          "12776670",
          "6808594",
          "2361430204",
          "22846393",
          "42303494",
          "7060268",
          "4276016",
          "SUSPENDED",
          "206000709",
          "171570612",
          "21689992",
          "27146700",
          "40604450085",
          "23286034",
          "6590311",
          "13799425",
          "10443750",
          "30270190",
          "68266156",
          "6392293",
          "376454130",
          "11364483",
          "2932395",
          "5732291",
          "39283341",
          "134370656",
          "9227028",
          "94510126",
          "62126727",
          "143204240",
          "761964630",
          "8102862",
          "43144647",
          "22518296",
          "364321709",
          "78400214",
          "48186372",
          "4356646",
          "29094085",
          "10728219608",
          "481606820",
          "27306451",
          "45408899497",
          "3613755355",
          "19490983",
          "3020769",
          "93082048",
          "60366952",
          "2307754",
          "5301250",
          "22023569",
          "75014365",
          "6499196",
          "SUSPENDED",
          "99254182",
          "5113626966",
          "176043675",
          "10899017",
          "43588876",
          "34349823",
          "92960241",
          "29111111",
          "88106288",
          "29712908",
          "7383344",
          "65675142",
          "117370548",
          "10393719930",
          "820074512",
          "284428732",
          "17041683",
          "210017650",
          "--",
          "16023183",
          "210530064",
          "7167023",
          "8332840",
          "39809418",
          "143749823",
          "8859024",
          "22125864",
          "2061351",
          "9849712",
          "63590883",
          "13850307",
          "864825453",
          "55736363",
          "127233080",
          "76188995",
          "8272380097",
          "220100712",
          "3714586",
          "678935969",
          "62442081",
          "4364888",
          "46564380",
          "48844970",
          "33694768",
          "8002409",
          "1474953136",
          "281565373",
          "22492854",
          "852392664",
          "223519109",
          "11234472804",
          "28124901",
          "53874981",
          "5112500",
          "15313339",
          "4992606",
          "23254998",
          "21275808",
          "8194095644",
          "4879565341",
          "86860449",
          "32175136",
          "527971229",
          "316565676",
          "92411365",
          "189496939",
          "17739027",
          "SUSPENDED",
          "178570263",
          "9227326",
          "84438968",
          "6927661",
          "SUSPENDED",
          "35085160",
          "25350169",
          "59499259",
          "6874744",
          "2284143468",
          "10716208",
          "42810381",
          "37672332",
          "35454815",
          "40648661",
          "63019333",
          "1111716519",
          "16951506",
          "10149510",
          "16988928",
          "8341667",
          "4275154340",
          "513422668",
          "125046183",
          "79031393",
          "12228215",
          "309650000",
          "34016940",
          "55925886",
          "831151592",
          "54603203",
          "1832505282",
          "190032678",
          "147776021",
          "228004634",
          "75620608488",
          "7339661",
          "766797552",
          "7770693",
          "196357181",
          "32912623",
          "12570186",
          "72646166238",
          "2667155906",
          "5472495",
          "3061266",
          "60288090433",
          "SUSPENDED",
          "713660380",
          "187618665",
          "3865350",
          "809894868",
          "5111630790",
          "583024815",
          "9129620",
          "37748083",
          "59503335",
          "78343718",
          "23375014",
          "1867136719",
          "206922031",
          "SUSPENDED",
          "16954793",
          "320689483",
          "11474335",
          "5441818",
          "SUSPENDED",
          "SUSPENDED",
          "8952797492",
          "196245106",
          "46432548410",
          "1652668706",
          "233497224",
          "275465404",
          "33061315",
          "SUSPENDED",
          "14953307",
          "43732383",
          "5004653",
          "22716088815",
          "26460280",
          "711872966",
          "7862812",
          "34819511",
          "11112151",
          "46305442",
          "10235991",
          "SUSPENDED",
          "155593298",
          "33511732",
          "9945468",
          "17912882",
          "160348237",
          "20085597",
          "18323855148",
          "3858230",
          "17528005",
          "33072553",
          "6443744453",
          "9164798",
          "18277361",
          "18163273",
          "8305580",
          "2602115",
          "7416745",
          "11627156",
          "6799658",
          "80178384",
          "177254003",
          "9185620",
          "11800800",
          "2541324893",
          "251561995",
          "11233683",
          "4902318",
          "4671996",
          "38761897",
          "6837396"
         ]
        }
       ],
       "layout": {
        "autosize": true,
        "legend": {
         "tracegroupgap": 0
        },
        "template": {
         "data": {
          "bar": [
           {
            "error_x": {
             "color": "#2a3f5f"
            },
            "error_y": {
             "color": "#2a3f5f"
            },
            "marker": {
             "line": {
              "color": "#E5ECF6",
              "width": 0.5
             },
             "pattern": {
              "fillmode": "overlay",
              "size": 10,
              "solidity": 0.2
             }
            },
            "type": "bar"
           }
          ],
          "barpolar": [
           {
            "marker": {
             "line": {
              "color": "#E5ECF6",
              "width": 0.5
             },
             "pattern": {
              "fillmode": "overlay",
              "size": 10,
              "solidity": 0.2
             }
            },
            "type": "barpolar"
           }
          ],
          "carpet": [
           {
            "aaxis": {
             "endlinecolor": "#2a3f5f",
             "gridcolor": "white",
             "linecolor": "white",
             "minorgridcolor": "white",
             "startlinecolor": "#2a3f5f"
            },
            "baxis": {
             "endlinecolor": "#2a3f5f",
             "gridcolor": "white",
             "linecolor": "white",
             "minorgridcolor": "white",
             "startlinecolor": "#2a3f5f"
            },
            "type": "carpet"
           }
          ],
          "choropleth": [
           {
            "colorbar": {
             "outlinewidth": 0,
             "ticks": ""
            },
            "type": "choropleth"
           }
          ],
          "contour": [
           {
            "colorbar": {
             "outlinewidth": 0,
             "ticks": ""
            },
            "colorscale": [
             [
              0,
              "#0d0887"
             ],
             [
              0.1111111111111111,
              "#46039f"
             ],
             [
              0.2222222222222222,
              "#7201a8"
             ],
             [
              0.3333333333333333,
              "#9c179e"
             ],
             [
              0.4444444444444444,
              "#bd3786"
             ],
             [
              0.5555555555555556,
              "#d8576b"
             ],
             [
              0.6666666666666666,
              "#ed7953"
             ],
             [
              0.7777777777777778,
              "#fb9f3a"
             ],
             [
              0.8888888888888888,
              "#fdca26"
             ],
             [
              1,
              "#f0f921"
             ]
            ],
            "type": "contour"
           }
          ],
          "contourcarpet": [
           {
            "colorbar": {
             "outlinewidth": 0,
             "ticks": ""
            },
            "type": "contourcarpet"
           }
          ],
          "heatmap": [
           {
            "colorbar": {
             "outlinewidth": 0,
             "ticks": ""
            },
            "colorscale": [
             [
              0,
              "#0d0887"
             ],
             [
              0.1111111111111111,
              "#46039f"
             ],
             [
              0.2222222222222222,
              "#7201a8"
             ],
             [
              0.3333333333333333,
              "#9c179e"
             ],
             [
              0.4444444444444444,
              "#bd3786"
             ],
             [
              0.5555555555555556,
              "#d8576b"
             ],
             [
              0.6666666666666666,
              "#ed7953"
             ],
             [
              0.7777777777777778,
              "#fb9f3a"
             ],
             [
              0.8888888888888888,
              "#fdca26"
             ],
             [
              1,
              "#f0f921"
             ]
            ],
            "type": "heatmap"
           }
          ],
          "heatmapgl": [
           {
            "colorbar": {
             "outlinewidth": 0,
             "ticks": ""
            },
            "colorscale": [
             [
              0,
              "#0d0887"
             ],
             [
              0.1111111111111111,
              "#46039f"
             ],
             [
              0.2222222222222222,
              "#7201a8"
             ],
             [
              0.3333333333333333,
              "#9c179e"
             ],
             [
              0.4444444444444444,
              "#bd3786"
             ],
             [
              0.5555555555555556,
              "#d8576b"
             ],
             [
              0.6666666666666666,
              "#ed7953"
             ],
             [
              0.7777777777777778,
              "#fb9f3a"
             ],
             [
              0.8888888888888888,
              "#fdca26"
             ],
             [
              1,
              "#f0f921"
             ]
            ],
            "type": "heatmapgl"
           }
          ],
          "histogram": [
           {
            "marker": {
             "pattern": {
              "fillmode": "overlay",
              "size": 10,
              "solidity": 0.2
             }
            },
            "type": "histogram"
           }
          ],
          "histogram2d": [
           {
            "colorbar": {
             "outlinewidth": 0,
             "ticks": ""
            },
            "colorscale": [
             [
              0,
              "#0d0887"
             ],
             [
              0.1111111111111111,
              "#46039f"
             ],
             [
              0.2222222222222222,
              "#7201a8"
             ],
             [
              0.3333333333333333,
              "#9c179e"
             ],
             [
              0.4444444444444444,
              "#bd3786"
             ],
             [
              0.5555555555555556,
              "#d8576b"
             ],
             [
              0.6666666666666666,
              "#ed7953"
             ],
             [
              0.7777777777777778,
              "#fb9f3a"
             ],
             [
              0.8888888888888888,
              "#fdca26"
             ],
             [
              1,
              "#f0f921"
             ]
            ],
            "type": "histogram2d"
           }
          ],
          "histogram2dcontour": [
           {
            "colorbar": {
             "outlinewidth": 0,
             "ticks": ""
            },
            "colorscale": [
             [
              0,
              "#0d0887"
             ],
             [
              0.1111111111111111,
              "#46039f"
             ],
             [
              0.2222222222222222,
              "#7201a8"
             ],
             [
              0.3333333333333333,
              "#9c179e"
             ],
             [
              0.4444444444444444,
              "#bd3786"
             ],
             [
              0.5555555555555556,
              "#d8576b"
             ],
             [
              0.6666666666666666,
              "#ed7953"
             ],
             [
              0.7777777777777778,
              "#fb9f3a"
             ],
             [
              0.8888888888888888,
              "#fdca26"
             ],
             [
              1,
              "#f0f921"
             ]
            ],
            "type": "histogram2dcontour"
           }
          ],
          "mesh3d": [
           {
            "colorbar": {
             "outlinewidth": 0,
             "ticks": ""
            },
            "type": "mesh3d"
           }
          ],
          "parcoords": [
           {
            "line": {
             "colorbar": {
              "outlinewidth": 0,
              "ticks": ""
             }
            },
            "type": "parcoords"
           }
          ],
          "pie": [
           {
            "automargin": true,
            "type": "pie"
           }
          ],
          "scatter": [
           {
            "fillpattern": {
             "fillmode": "overlay",
             "size": 10,
             "solidity": 0.2
            },
            "type": "scatter"
           }
          ],
          "scatter3d": [
           {
            "line": {
             "colorbar": {
              "outlinewidth": 0,
              "ticks": ""
             }
            },
            "marker": {
             "colorbar": {
              "outlinewidth": 0,
              "ticks": ""
             }
            },
            "type": "scatter3d"
           }
          ],
          "scattercarpet": [
           {
            "marker": {
             "colorbar": {
              "outlinewidth": 0,
              "ticks": ""
             }
            },
            "type": "scattercarpet"
           }
          ],
          "scattergeo": [
           {
            "marker": {
             "colorbar": {
              "outlinewidth": 0,
              "ticks": ""
             }
            },
            "type": "scattergeo"
           }
          ],
          "scattergl": [
           {
            "marker": {
             "colorbar": {
              "outlinewidth": 0,
              "ticks": ""
             }
            },
            "type": "scattergl"
           }
          ],
          "scattermapbox": [
           {
            "marker": {
             "colorbar": {
              "outlinewidth": 0,
              "ticks": ""
             }
            },
            "type": "scattermapbox"
           }
          ],
          "scatterpolar": [
           {
            "marker": {
             "colorbar": {
              "outlinewidth": 0,
              "ticks": ""
             }
            },
            "type": "scatterpolar"
           }
          ],
          "scatterpolargl": [
           {
            "marker": {
             "colorbar": {
              "outlinewidth": 0,
              "ticks": ""
             }
            },
            "type": "scatterpolargl"
           }
          ],
          "scatterternary": [
           {
            "marker": {
             "colorbar": {
              "outlinewidth": 0,
              "ticks": ""
             }
            },
            "type": "scatterternary"
           }
          ],
          "surface": [
           {
            "colorbar": {
             "outlinewidth": 0,
             "ticks": ""
            },
            "colorscale": [
             [
              0,
              "#0d0887"
             ],
             [
              0.1111111111111111,
              "#46039f"
             ],
             [
              0.2222222222222222,
              "#7201a8"
             ],
             [
              0.3333333333333333,
              "#9c179e"
             ],
             [
              0.4444444444444444,
              "#bd3786"
             ],
             [
              0.5555555555555556,
              "#d8576b"
             ],
             [
              0.6666666666666666,
              "#ed7953"
             ],
             [
              0.7777777777777778,
              "#fb9f3a"
             ],
             [
              0.8888888888888888,
              "#fdca26"
             ],
             [
              1,
              "#f0f921"
             ]
            ],
            "type": "surface"
           }
          ],
          "table": [
           {
            "cells": {
             "fill": {
              "color": "#EBF0F8"
             },
             "line": {
              "color": "white"
             }
            },
            "header": {
             "fill": {
              "color": "#C8D4E3"
             },
             "line": {
              "color": "white"
             }
            },
            "type": "table"
           }
          ]
         },
         "layout": {
          "annotationdefaults": {
           "arrowcolor": "#2a3f5f",
           "arrowhead": 0,
           "arrowwidth": 1
          },
          "autotypenumbers": "strict",
          "coloraxis": {
           "colorbar": {
            "outlinewidth": 0,
            "ticks": ""
           }
          },
          "colorscale": {
           "diverging": [
            [
             0,
             "#8e0152"
            ],
            [
             0.1,
             "#c51b7d"
            ],
            [
             0.2,
             "#de77ae"
            ],
            [
             0.3,
             "#f1b6da"
            ],
            [
             0.4,
             "#fde0ef"
            ],
            [
             0.5,
             "#f7f7f7"
            ],
            [
             0.6,
             "#e6f5d0"
            ],
            [
             0.7,
             "#b8e186"
            ],
            [
             0.8,
             "#7fbc41"
            ],
            [
             0.9,
             "#4d9221"
            ],
            [
             1,
             "#276419"
            ]
           ],
           "sequential": [
            [
             0,
             "#0d0887"
            ],
            [
             0.1111111111111111,
             "#46039f"
            ],
            [
             0.2222222222222222,
             "#7201a8"
            ],
            [
             0.3333333333333333,
             "#9c179e"
            ],
            [
             0.4444444444444444,
             "#bd3786"
            ],
            [
             0.5555555555555556,
             "#d8576b"
            ],
            [
             0.6666666666666666,
             "#ed7953"
            ],
            [
             0.7777777777777778,
             "#fb9f3a"
            ],
            [
             0.8888888888888888,
             "#fdca26"
            ],
            [
             1,
             "#f0f921"
            ]
           ],
           "sequentialminus": [
            [
             0,
             "#0d0887"
            ],
            [
             0.1111111111111111,
             "#46039f"
            ],
            [
             0.2222222222222222,
             "#7201a8"
            ],
            [
             0.3333333333333333,
             "#9c179e"
            ],
            [
             0.4444444444444444,
             "#bd3786"
            ],
            [
             0.5555555555555556,
             "#d8576b"
            ],
            [
             0.6666666666666666,
             "#ed7953"
            ],
            [
             0.7777777777777778,
             "#fb9f3a"
            ],
            [
             0.8888888888888888,
             "#fdca26"
            ],
            [
             1,
             "#f0f921"
            ]
           ]
          },
          "colorway": [
           "#636efa",
           "#EF553B",
           "#00cc96",
           "#ab63fa",
           "#FFA15A",
           "#19d3f3",
           "#FF6692",
           "#B6E880",
           "#FF97FF",
           "#FECB52"
          ],
          "font": {
           "color": "#2a3f5f"
          },
          "geo": {
           "bgcolor": "white",
           "lakecolor": "white",
           "landcolor": "#E5ECF6",
           "showlakes": true,
           "showland": true,
           "subunitcolor": "white"
          },
          "hoverlabel": {
           "align": "left"
          },
          "hovermode": "closest",
          "mapbox": {
           "style": "light"
          },
          "paper_bgcolor": "white",
          "plot_bgcolor": "#E5ECF6",
          "polar": {
           "angularaxis": {
            "gridcolor": "white",
            "linecolor": "white",
            "ticks": ""
           },
           "bgcolor": "#E5ECF6",
           "radialaxis": {
            "gridcolor": "white",
            "linecolor": "white",
            "ticks": ""
           }
          },
          "scene": {
           "xaxis": {
            "backgroundcolor": "#E5ECF6",
            "gridcolor": "white",
            "gridwidth": 2,
            "linecolor": "white",
            "showbackground": true,
            "ticks": "",
            "zerolinecolor": "white"
           },
           "yaxis": {
            "backgroundcolor": "#E5ECF6",
            "gridcolor": "white",
            "gridwidth": 2,
            "linecolor": "white",
            "showbackground": true,
            "ticks": "",
            "zerolinecolor": "white"
           },
           "zaxis": {
            "backgroundcolor": "#E5ECF6",
            "gridcolor": "white",
            "gridwidth": 2,
            "linecolor": "white",
            "showbackground": true,
            "ticks": "",
            "zerolinecolor": "white"
           }
          },
          "shapedefaults": {
           "line": {
            "color": "#2a3f5f"
           }
          },
          "ternary": {
           "aaxis": {
            "gridcolor": "white",
            "linecolor": "white",
            "ticks": ""
           },
           "baxis": {
            "gridcolor": "white",
            "linecolor": "white",
            "ticks": ""
           },
           "bgcolor": "#E5ECF6",
           "caxis": {
            "gridcolor": "white",
            "linecolor": "white",
            "ticks": ""
           }
          },
          "title": {
           "x": 0.05
          },
          "xaxis": {
           "automargin": true,
           "gridcolor": "white",
           "linecolor": "white",
           "ticks": "",
           "title": {
            "standoff": 15
           },
           "zerolinecolor": "white",
           "zerolinewidth": 2
          },
          "yaxis": {
           "automargin": true,
           "gridcolor": "white",
           "linecolor": "white",
           "ticks": "",
           "title": {
            "standoff": 15
           },
           "zerolinecolor": "white",
           "zerolinewidth": 2
          }
         }
        },
        "title": {
         "text": "My pie"
        }
       }
      },
      "image/png": "[encoded data removed]",
      "text/html": [
       "<div>                            <div id=\"14dff2d4-ec51-4ed8-9ea3-45234ec59269\" class=\"plotly-graph-div\" style=\"height:525px; width:100%;\"></div>            <script type=\"text/javascript\">                require([\"plotly\"], function(Plotly) {                    window.PLOTLYENV=window.PLOTLYENV || {};                                    if (document.getElementById(\"14dff2d4-ec51-4ed8-9ea3-45234ec59269\")) {                    Plotly.newPlot(                        \"14dff2d4-ec51-4ed8-9ea3-45234ec59269\",                        [{\"domain\":{\"x\":[0.0,1.0],\"y\":[0.0,1.0]},\"hovertemplate\":\"GICs industry group=%{label}<br>Market Cap=%{value}<extra></extra>\",\"labels\":[\"Capital Goods\",\"Pharmaceuticals, Biotechnology & Life Sciences\",\"Materials\",\"Food, Beverage & Tobacco\",\"Pharmaceuticals, Biotechnology & Life Sciences\",\"Capital Goods\",\"Materials\",\"Health Care Equipment & Services\",\"Software & Services\",\"Materials\",\"Software & Services\",\"Capital Goods\",\"Software & Services\",\"Consumer Services\",\"Semiconductors & Semiconductor Equipment\",\"Health Care Equipment & Services\",\"Materials\",\"Telecommunication Services\",\"Energy\",\"Software & Services\",\"Financial Services\",\"Consumer Services\",\"Energy\",\"Materials\",\"Materials\",\"Materials\",\"Media & Entertainment\",\"Transportation\",\"Food, Beverage & Tobacco\",\"Capital Goods\",\"Materials\",\"Materials\",\"Food, Beverage & Tobacco\",\"Materials\",\"Food, Beverage & Tobacco\",\"Materials\",\"Materials\",\"Banks\",\"Telecommunication Services\",\"Materials\",\"Financial Services\",\"Equity Real Estate Investment Trusts (REITs)\",\"Automobiles & Components\",\"Materials\",\"Consumer Discretionary Distribution & Retail\",\"Pharmaceuticals, Biotechnology & Life Sciences\",\"Energy\",\"Software & Services\",\"Capital Goods\",\"Health Care Equipment & Services\",\"Materials\",\"Materials\",\"Not Applic\",\"Pharmaceuticals, Biotechnology & Life Sciences\",\"Materials\",\"Real Estate Management & Development\",\"Pharmaceuticals, Biotechnology & Life Sciences\",\"Media & Entertainment\",\"Technology Hardware & Equipment\",\"Software & Services\",\"Materials\",\"Energy\",\"Materials\",\"Consumer Discretionary Distribution & Retail\",\"Materials\",\"Pharmaceuticals, Biotechnology & Life Sciences\",\"Health Care Equipment & Services\",\"Software & Services\",\"Materials\",\"Materials\",\"Energy\",\"Materials\",\"Energy\",\"Financial Services\",\"Commercial & Professional Services\",\"Media & Entertainment\",\"Materials\",\"Financial Services\",\"Financial Services\",\"Not Applic\",\"Commercial & Professional Services\",\"Pharmaceuticals, Biotechnology & Life Sciences\",\"Media & Entertainment\",\"Materials\",\"Materials\",\"Energy\",\"Pharmaceuticals, Biotechnology & Life Sciences\",\"Consumer Services\",\"Utilities\",\"Pharmaceuticals, Biotechnology & Life Sciences\",\"Materials\",\"Materials\",\"Health Care Equipment & Services\",\"Food, Beverage & Tobacco\",\"Software & Services\",\"Materials\",\"Automobiles & Components\",\"Materials\",\"Health Care Equipment & Services\",\"Transportation\",\"Materials\",\"Commercial & Professional Services\",\"Not Applic\",\"Materials\",\"Materials\",\"Transportation\",\"Health Care Equipment & Services\",\"Capital Goods\",\"Energy\",\"Materials\",\"Materials\",\"Materials\",\"Consumer Services\",\"Materials\",\"Materials\",\"Materials\",\"Consumer Durables & Apparel\",\"Capital Goods\",\"Materials\",\"Pharmaceuticals, Biotechnology & Life Sciences\",\"Materials\",\"Health Care Equipment & Services\",\"Energy\",\"Consumer Services\",\"Not Applic\",\"Materials\",\"Consumer Services\",\"Energy\",\"Commercial & Professional Services\",\"Software & Services\",\"Materials\",\"Transportation\",\"Materials\",\"Materials\",\"Commercial & Professional Services\",\"Materials\",\"Materials\",\"Materials\",\"Not Applic\",\"Materials\",\"Materials\",\"Materials\",\"Materials\",\"Technology Hardware & Equipment\",\"Financial Services\",\"Consumer Durables & Apparel\",\"Health Care Equipment & Services\",\"Commercial & Professional Services\",\"Pharmaceuticals, Biotechnology & Life Sciences\",\"Software & Services\",\"Capital Goods\",\"Materials\",\"Health Care Equipment & Services\",\"Materials\",\"Pharmaceuticals, Biotechnology & Life Sciences\",\"Pharmaceuticals, Biotechnology & Life Sciences\",\"Materials\",\"Banks\",\"Software & Services\",\"Materials\",\"Equity Real Estate Investment Trusts (REITs)\",\"Materials\",\"Utilities\",\"Materials\",\"Consumer Discretionary Distribution & Retail\",\"Financial Services\",\"Commercial & Professional Services\",\"Materials\",\"Equity Real Estate Investment Trusts (REITs)\",\"Software & Services\",\"Equity Real Estate Investment Trusts (REITs)\",\"Materials\",\"Materials\",\"Materials\",\"Commercial & Professional Services\",\"Consumer Services\",\"Materials\",\"Transportation\",\"Materials\",\"Materials\",\"Software & Services\",\"Commercial & Professional Services\",\"Automobiles & Components\",\"Financial Services\",\"Materials\",\"Materials\",\"Equity Real Estate Investment Trusts (REITs)\",\"Not Applic\",\"Materials\",\"Materials\",\"Materials\",\"Media & Entertainment\",\"Materials\",\"Materials\",\"Pharmaceuticals, Biotechnology & Life Sciences\",\"Materials\",\"Capital Goods\",\"Materials\",\"Consumer Discretionary Distribution & Retail\",\"Commercial & Professional Services\",\"Equity Real Estate Investment Trusts (REITs)\",\"Materials\",\"Materials\",\"Materials\",\"Media & Entertainment\",\"Materials\",\"Materials\",\"Financial Services\",\"Financial Services\",\"Health Care Equipment & Services\",\"Software & Services\",\"Materials\",\"Pharmaceuticals, Biotechnology & Life Sciences\",\"Materials\",\"Consumer Durables & Apparel\",\"Materials\",\"Energy\",\"Materials\",\"Software & Services\",\"Pharmaceuticals, Biotechnology & Life Sciences\",\"Real Estate Management & Development\",\"Consumer Durables & Apparel\",\"Insurance\",\"Materials\",\"Materials\",\"Materials\",\"Energy\",\"Not Applic\",\"Consumer Discretionary Distribution & Retail\",\"Materials\",\"Materials\",\"Materials\",\"Materials\",\"Materials\",\"Software & Services\",\"Technology Hardware & Equipment\",\"Financial Services\",\"Commercial & Professional Services\",\"Pharmaceuticals, Biotechnology & Life Sciences\",\"Food, Beverage & Tobacco\",\"Pharmaceuticals, Biotechnology & Life Sciences\",\"Consumer Durables & Apparel\",\"Materials\",\"Materials\",\"Health Care Equipment & Services\",\"Materials\",\"Materials\",\"Materials\",\"Materials\",\"Materials\",\"Consumer Discretionary Distribution & Retail\",\"Materials\",\"Semiconductors & Semiconductor Equipment\",\"Real Estate Management & Development\",\"Materials\",\"Energy\",\"Health Care Equipment & Services\",\"Financial Services\",\"Materials\",\"Materials\",\"Materials\",\"Transportation\",\"Materials\",\"Materials\",\"Materials\",\"Financial Services\",\"Consumer Discretionary Distribution & Retail\",\"Energy\",\"Materials\",\"Banks\",\"Media & Entertainment\",\"Consumer Discretionary Distribution & Retail\",\"Consumer Services\",\"Materials\",\"Materials\",\"Materials\",\"Materials\",\"Technology Hardware & Equipment\",\"Materials\",\"Materials\",\"Materials\",\"Technology Hardware & Equipment\",\"Materials\",\"Materials\",\"Technology Hardware & Equipment\",\"Pharmaceuticals, Biotechnology & Life Sciences\",\"Food, Beverage & Tobacco\",\"Not Applic\",\"Banks\",\"Consumer Services\",\"Consumer Discretionary Distribution & Retail\",\"Materials\",\"Food, Beverage & Tobacco\",\"Financial Services\",\"Banks\",\"Food, Beverage & Tobacco\",\"Materials\",\"Software & Services\",\"Materials\",\"Consumer Discretionary Distribution & Retail\",\"Materials\",\"Not Applic\",\"Materials\",\"Materials\",\"Household & Personal Products\",\"Financial Services\",\"Materials\",\"Pharmaceuticals, Biotechnology & Life Sciences\",\"Consumer Discretionary Distribution & Retail\",\"Not Applic\",\"Materials\",\"Materials\",\"Energy\",\"Materials\",\"Semiconductors & Semiconductor Equipment\",\"Energy\",\"Consumer Discretionary Distribution & Retail\",\"Materials\",\"Energy\",\"Materials\",\"Energy\",\"Materials\",\"Capital Goods\",\"Materials\",\"Materials\",\"Energy\",\"Materials\",\"Materials\",\"Health Care Equipment & Services\",\"Energy\",\"Materials\",\"Materials\",\"Materials\",\"Materials\",\"Consumer Discretionary Distribution & Retail\",\"Energy\",\"Capital Goods\",\"Banks\",\"Pharmaceuticals, Biotechnology & Life Sciences\",\"Pharmaceuticals, Biotechnology & Life Sciences\",\"Financial Services\",\"Materials\",\"Capital Goods\",\"Energy\",\"Consumer Durables & Apparel\",\"Materials\",\"Energy\",\"Materials\",\"Software & Services\",\"Energy\",\"Materials\",\"Commercial & Professional Services\",\"Materials\",\"Materials\",\"Energy\",\"Materials\",\"Not Applic\",\"Energy\",\"Software & Services\",\"Financial Services\",\"Financial Services\",\"Materials\",\"Food, Beverage & Tobacco\",\"Materials\",\"Materials\",\"Materials\",\"Energy\",\"Materials\",\"Software & Services\",\"Financial Services\",\"Equity Real Estate Investment Trusts (REITs)\",\"Household & Personal Products\",\"Commercial & Professional Services\",\"Household & Personal Products\",\"Energy\",\"Materials\",\"Materials\",\"Materials\",\"Commercial & Professional Services\",\"Materials\",\"Materials\",\"Materials\",\"Financial Services\",\"Software & Services\",\"Materials\",\"Health Care Equipment & Services\",\"Not Applic\",\"Pharmaceuticals, Biotechnology & Life Sciences\",\"Real Estate Management & Development\",\"Media & Entertainment\",\"Technology Hardware & Equipment\",\"Materials\",\"Materials\",\"Materials\",\"Banks\",\"Materials\",\"Materials\",\"Health Care Equipment & Services\",\"Food, Beverage & Tobacco\",\"Automobiles & Components\",\"Materials\",\"Financial Services\",\"Utilities\",\"Telecommunication Services\",\"Household & Personal Products\",\"Financial Services\",\"Software & Services\",\"Financial Services\",\"Consumer Discretionary Distribution & Retail\",\"Materials\",\"Not Applic\",\"Not Applic\",\"Not Applic\",\"Technology Hardware & Equipment\",\"Commercial & Professional Services\",\"Not Applic\",\"Not Applic\",\"Equity Real Estate Investment Trusts (REITs)\",\"Materials\",\"Materials\",\"Health Care Equipment & Services\",\"Energy\",\"Materials\",\"Utilities\",\"Software & Services\",\"Capital Goods\",\"Materials\",\"Pharmaceuticals, Biotechnology & Life Sciences\",\"Food, Beverage & Tobacco\",\"Financial Services\",\"Software & Services\",\"Health Care Equipment & Services\",\"Equity Real Estate Investment Trusts (REITs)\",\"Materials\",\"Transportation\",\"Pharmaceuticals, Biotechnology & Life Sciences\",\"Materials\",\"Materials\",\"Materials\",\"Materials\",\"Commercial & Professional Services\",\"Materials\",\"Materials\",\"Not Applic\",\"Technology Hardware & Equipment\",\"Equity Real Estate Investment Trusts (REITs)\",\"Financial Services\",\"Materials\",\"Consumer Services\",\"Transportation\",\"Materials\",\"Consumer Staples Distribution & Retail\",\"Materials\",\"Commercial & Professional Services\",\"Consumer Services\",\"Materials\",\"Equity Real Estate Investment Trusts (REITs)\",\"Transportation\",\"Materials\",\"Materials\",\"Materials\",\"Materials\",\"Materials\",\"Health Care Equipment & Services\",\"Equity Real Estate Investment Trusts (REITs)\",\"Materials\",\"Materials\",\"Equity Real Estate Investment Trusts (REITs)\",\"Materials\",\"Commercial & Professional Services\",\"Telecommunication Services\",\"Software & Services\",\"Materials\",\"Materials\",\"Energy\",\"Equity Real Estate Investment Trusts (REITs)\",\"Financial Services\",\"Health Care Equipment & Services\",\"Energy\",\"Consumer Staples Distribution & Retail\",\"Software & Services\",\"Software & Services\",\"Pharmaceuticals, Biotechnology & Life Sciences\",\"Materials\",\"Materials\",\"Materials\",\"Materials\",\"Commercial & Professional Services\",\"Capital Goods\",\"Equity Real Estate Investment Trusts (REITs)\",\"Equity Real Estate Investment Trusts (REITs)\",\"Materials\",\"Materials\",\"Materials\",\"Energy\",\"Materials\",\"Energy\",\"Materials\",\"Materials\",\"Materials\",\"Materials\",\"Food, Beverage & Tobacco\",\"Pharmaceuticals, Biotechnology & Life Sciences\",\"Materials\",\"Food, Beverage & Tobacco\",\"Materials\",\"Health Care Equipment & Services\",\"Technology Hardware & Equipment\",\"Consumer Services\",\"Pharmaceuticals, Biotechnology & Life Sciences\",\"Materials\",\"Materials\",\"Materials\",\"Energy\",\"Health Care Equipment & Services\",\"Consumer Discretionary Distribution & Retail\",\"Media & Entertainment\",\"Pharmaceuticals, Biotechnology & Life Sciences\",\"Energy\",\"Materials\",\"Materials\",\"Commercial & Professional Services\",\"Materials\",\"Pharmaceuticals, Biotechnology & Life Sciences\",\"Health Care Equipment & Services\",\"Financial Services\",\"Capital Goods\",\"Energy\",\"Materials\",\"Materials\",\"Insurance\",\"Real Estate Management & Development\",\"Materials\",\"Commercial & Professional Services\",\"Materials\",\"Materials\",\"Materials\",\"Energy\",\"Materials\",\"Software & Services\",\"Materials\",\"Health Care Equipment & Services\",\"Capital Goods\",\"Materials\",\"Materials\",\"Pharmaceuticals, Biotechnology & Life Sciences\",\"Consumer Durables & Apparel\",\"Materials\",\"Materials\",\"Utilities\",\"Materials\",\"Materials\",\"Food, Beverage & Tobacco\",\"Transportation\",\"Materials\",\"Software & Services\",\"Software & Services\",\"Capital Goods\",\"Financial Services\",\"Materials\",\"Materials\",\"Capital Goods\",\"Materials\",\"Technology Hardware & Equipment\",\"Automobiles & Components\",\"Materials\",\"Utilities\",\"Utilities\",\"Materials\",\"Energy\",\"Real Estate Management & Development\",\"Materials\",\"Materials\",\"Media & Entertainment\",\"Not Applic\",\"Materials\",\"Materials\",\"Pharmaceuticals, Biotechnology & Life Sciences\",\"Materials\",\"Media & Entertainment\",\"Materials\",\"Materials\",\"Materials\",\"Consumer Services\",\"Consumer Services\",\"Materials\",\"Health Care Equipment & Services\",\"Energy\",\"Telecommunication Services\",\"Commercial & Professional Services\",\"Capital Goods\",\"Materials\",\"Capital Goods\",\"Materials\",\"Materials\",\"Software & Services\",\"Consumer Discretionary Distribution & Retail\",\"Software & Services\",\"Technology Hardware & Equipment\",\"Software & Services\",\"Materials\",\"Materials\",\"Technology Hardware & Equipment\",\"Software & Services\",\"Software & Services\",\"Not Applic\",\"Materials\",\"Capital Goods\",\"Pharmaceuticals, Biotechnology & Life Sciences\",\"Materials\",\"Financial Services\",\"Pharmaceuticals, Biotechnology & Life Sciences\",\"Equity Real Estate Investment Trusts (REITs)\",\"Equity Real Estate Investment Trusts (REITs)\",\"Software & Services\",\"Equity Real Estate Investment Trusts (REITs)\",\"Class Pend\",\"Energy\",\"Materials\",\"Materials\",\"Food, Beverage & Tobacco\",\"Materials\",\"Commercial & Professional Services\",\"Consumer Services\",\"Health Care Equipment & Services\",\"Health Care Equipment & Services\",\"Equity Real Estate Investment Trusts (REITs)\",\"Commercial & Professional Services\",\"Capital Goods\",\"Not Applic\",\"Pharmaceuticals, Biotechnology & Life Sciences\",\"Commercial & Professional Services\",\"Financial Services\",\"Energy\",\"Consumer Services\",\"Consumer Staples Distribution & Retail\",\"Energy\",\"Materials\",\"Materials\",\"Materials\",\"Media & Entertainment\",\"Real Estate Management & Development\",\"Capital Goods\",\"Capital Goods\",\"Materials\",\"Capital Goods\",\"Health Care Equipment & Services\",\"Capital Goods\",\"Software & Services\",\"Energy\",\"Food, Beverage & Tobacco\",\"Materials\",\"Technology Hardware & Equipment\",\"Materials\",\"Materials\",\"Capital Goods\",\"Energy\",\"Health Care Equipment & Services\",\"Energy\",\"Materials\",\"Financial Services\",\"Materials\",\"Energy\",\"Materials\",\"Materials\",\"Not Applic\",\"Materials\",\"Materials\",\"Health Care Equipment & Services\",\"Insurance\",\"Consumer Services\",\"Materials\",\"Materials\",\"Materials\",\"Materials\",\"Pharmaceuticals, Biotechnology & Life Sciences\",\"Software & Services\",\"Capital Goods\",\"Financial Services\",\"Energy\",\"Pharmaceuticals, Biotechnology & Life Sciences\",\"Software & Services\",\"Financial Services\",\"Materials\",\"Materials\",\"Materials\",\"Financial Services\",\"Financial Services\",\"Materials\",\"Energy\",\"Technology Hardware & Equipment\",\"Food, Beverage & Tobacco\",\"Materials\",\"Materials\",\"Materials\",\"Software & Services\",\"Materials\",\"Materials\",\"Materials\",\"Commercial & Professional Services\",\"Materials\",\"Materials\",\"Financial Services\",\"Materials\",\"Materials\",\"Consumer Services\",\"Materials\",\"Software & Services\",\"Media & Entertainment\",\"Capital Goods\",\"Utilities\",\"Pharmaceuticals, Biotechnology & Life Sciences\",\"Household & Personal Products\",\"Consumer Services\",\"Energy\",\"Software & Services\",\"Health Care Equipment & Services\",\"Financial Services\",\"Consumer Discretionary Distribution & Retail\",\"Materials\",\"Energy\",\"Materials\",\"Materials\",\"Capital Goods\",\"Capital Goods\",\"Software & Services\",\"Software & Services\",\"Energy\",\"Media & Entertainment\",\"Materials\",\"Materials\",\"Food, Beverage & Tobacco\",\"Financial Services\",\"Food, Beverage & Tobacco\",\"Commercial & Professional Services\",\"Materials\",\"Materials\",\"Not Applic\",\"Materials\",\"Software & Services\",\"Materials\",\"Not Applic\",\"Materials\",\"Materials\",\"Materials\",\"Financial Services\",\"Materials\",\"Capital Goods\",\"Commercial & Professional Services\",\"Consumer Services\",\"Software & Services\",\"Energy\",\"Materials\",\"Materials\",\"Software & Services\",\"Financial Services\",\"Not Applic\",\"Capital Goods\",\"Not Applic\",\"Health Care Equipment & Services\",\"Not Applic\",\"Financial Services\",\"Materials\",\"Pharmaceuticals, Biotechnology & Life Sciences\",\"Real Estate Management & Development\",\"Food, Beverage & Tobacco\",\"Materials\",\"Telecommunication Services\",\"Financial Services\",\"Food, Beverage & Tobacco\",\"Telecommunication Services\",\"Not Applic\",\"Financial Services\",\"Materials\",\"Materials\",\"Consumer Durables & Apparel\",\"Materials\",\"Materials\",\"Energy\",\"Materials\",\"Materials\",\"Materials\",\"Materials\",\"Materials\",\"Consumer Durables & Apparel\",\"Energy\",\"Materials\",\"Materials\",\"Materials\",\"Not Applic\",\"Not Applic\",\"Materials\",\"Materials\",\"Energy\",\"Food, Beverage & Tobacco\",\"Not Applic\",\"Equity Real Estate Investment Trusts (REITs)\",\"Insurance\",\"Equity Real Estate Investment Trusts (REITs)\",\"Materials\",\"Materials\",\"Consumer Services\",\"Materials\",\"Materials\",\"Not Applic\",\"Energy\",\"Energy\",\"Energy\",\"Materials\",\"Materials\",\"Materials\",\"Consumer Durables & Apparel\",\"Consumer Durables & Apparel\",\"Health Care Equipment & Services\",\"Energy\",\"Materials\",\"Energy\",\"Materials\",\"Equity Real Estate Investment Trusts (REITs)\",\"Materials\",\"Materials\",\"Materials\",\"Consumer Staples Distribution & Retail\",\"Utilities\",\"Materials\",\"Materials\",\"Capital Goods\",\"Utilities\",\"Commercial & Professional Services\",\"Materials\",\"Financial Services\",\"Equity Real Estate Investment Trusts (REITs)\",\"Materials\",\"Equity Real Estate Investment Trusts (REITs)\",\"Financial Services\",\"Materials\",\"Materials\",\"Materials\",\"Energy\",\"Materials\",\"Materials\",\"Materials\",\"Materials\",\"Pharmaceuticals, Biotechnology & Life Sciences\",\"Materials\",\"Materials\",\"Pharmaceuticals, Biotechnology & Life Sciences\",\"Software & Services\",\"Software & Services\",\"Media & Entertainment\",\"Materials\",\"Automobiles & Components\",\"Materials\",\"Not Applic\",\"Materials\",\"Capital Goods\",\"Materials\",\"Commercial & Professional Services\",\"Financial Services\",\"Materials\",\"Materials\",\"Materials\",\"Materials\",\"Energy\",\"Not Applic\",\"Materials\",\"Household & Personal Products\",\"Equity Real Estate Investment Trusts (REITs)\",\"Equity Real Estate Investment Trusts (REITs)\",\"Energy\",\"Materials\",\"Telecommunication Services\",\"Banks\",\"Real Estate Management & Development\",\"Materials\",\"Not Applic\",\"Energy\",\"Materials\",\"Health Care Equipment & Services\",\"Commercial & Professional Services\",\"Health Care Equipment & Services\",\"Financial Services\",\"Consumer Services\",\"Health Care Equipment & Services\",\"Materials\",\"Not Applic\",\"Equity Real Estate Investment Trusts (REITs)\",\"Health Care Equipment & Services\",\"Materials\",\"Commercial & Professional Services\",\"Materials\",\"Financial Services\",\"Capital Goods\",\"Materials\",\"Materials\",\"Household & Personal Products\",\"Media & Entertainment\",\"Equity Real Estate Investment Trusts (REITs)\",\"Food, Beverage & Tobacco\",\"Energy\",\"Class Pend\",\"Materials\",\"Materials\",\"Software & Services\",\"Transportation\",\"Telecommunication Services\",\"Technology Hardware & Equipment\",\"Materials\",\"Financial Services\",\"Financial Services\",\"Food, Beverage & Tobacco\",\"Consumer Discretionary Distribution & Retail\",\"Materials\",\"Materials\",\"Pharmaceuticals, Biotechnology & Life Sciences\",\"Technology Hardware & Equipment\",\"Energy\",\"Energy\",\"Materials\",\"Insurance\",\"Financial Services\",\"Not Applic\",\"Materials\",\"Health Care Equipment & Services\",\"Software & Services\",\"Materials\",\"Media & Entertainment\",\"Materials\",\"Energy\",\"Health Care Equipment & Services\",\"Software & Services\",\"Materials\",\"Pharmaceuticals, Biotechnology & Life Sciences\",\"Health Care Equipment & Services\",\"Energy\",\"Consumer Services\",\"Real Estate Management & Development\",\"Financial Services\",\"Software & Services\",\"Capital Goods\",\"Capital Goods\",\"Media & Entertainment\",\"Commercial & Professional Services\",\"Materials\",\"Pharmaceuticals, Biotechnology & Life Sciences\",\"Health Care Equipment & Services\",\"Technology Hardware & Equipment\",\"Pharmaceuticals, Biotechnology & Life Sciences\",\"Materials\",\"Materials\",\"Materials\",\"Commercial & Professional Services\",\"Pharmaceuticals, Biotechnology & Life Sciences\",\"Materials\",\"Health Care Equipment & Services\",\"Materials\",\"Pharmaceuticals, Biotechnology & Life Sciences\",\"Health Care Equipment & Services\",\"Pharmaceuticals, Biotechnology & Life Sciences\",\"Equity Real Estate Investment Trusts (REITs)\",\"Materials\",\"Materials\",\"Food, Beverage & Tobacco\",\"Consumer Discretionary Distribution & Retail\",\"Media & Entertainment\",\"Materials\",\"Financial Services\",\"Software & Services\",\"Media & Entertainment\",\"Energy\",\"Financial Services\",\"Health Care Equipment & Services\",\"Capital Goods\",\"Commercial & Professional Services\",\"Materials\",\"Materials\",\"Materials\",\"Materials\",\"Materials\",\"Software & Services\",\"Software & Services\",\"Health Care Equipment & Services\",\"Software & Services\",\"Materials\",\"Consumer Services\",\"Materials\",\"Commercial & Professional Services\",\"Pharmaceuticals, Biotechnology & Life Sciences\",\"Energy\",\"Pharmaceuticals, Biotechnology & Life Sciences\",\"Materials\",\"Software & Services\",\"Materials\",\"Software & Services\",\"Consumer Discretionary Distribution & Retail\",\"Materials\",\"Transportation\",\"Consumer Discretionary Distribution & Retail\",\"Materials\",\"Software & Services\",\"Banks\",\"Materials\",\"Financial Services\",\"Materials\",\"Consumer Services\",\"Capital Goods\",\"Materials\",\"Materials\",\"Energy\",\"Materials\",\"Materials\",\"Health Care Equipment & Services\",\"Software & Services\",\"Consumer Discretionary Distribution & Retail\",\"Software & Services\",\"Materials\",\"Materials\",\"Financial Services\",\"Energy\",\"Not Applic\",\"Materials\",\"Financial Services\",\"Materials\",\"Materials\",\"Consumer Discretionary Distribution & Retail\",\"Consumer Services\",\"Energy\",\"Materials\",\"Materials\",\"Materials\",\"Consumer Discretionary Distribution & Retail\",\"Materials\",\"Materials\",\"Not Applic\",\"Energy\",\"Class Pend\",\"Materials\",\"Energy\",\"Transportation\",\"Consumer Discretionary Distribution & Retail\",\"Consumer Services\",\"Materials\",\"Materials\",\"Materials\",\"Media & Entertainment\",\"Software & Services\",\"Materials\",\"Materials\",\"Capital Goods\",\"Materials\",\"Commercial & Professional Services\",\"Utilities\",\"Materials\",\"Materials\",\"Transportation\",\"Banks\",\"Materials\",\"Materials\",\"Capital Goods\",\"Software & Services\",\"Pharmaceuticals, Biotechnology & Life Sciences\",\"Materials\",\"Materials\",\"Energy\",\"Transportation\",\"Financial Services\",\"Capital Goods\",\"Health Care Equipment & Services\",\"Financial Services\",\"Materials\",\"Materials\",\"Materials\",\"Health Care Equipment & Services\",\"Materials\",\"Materials\",\"Materials\",\"Financial Services\",\"Financial Services\",\"Utilities\",\"Food, Beverage & Tobacco\",\"Materials\",\"Pharmaceuticals, Biotechnology & Life Sciences\",\"Real Estate Management & Development\",\"Real Estate Management & Development\",\"Materials\",\"Energy\",\"Capital Goods\",\"Materials\",\"Materials\",\"Energy\",\"Materials\",\"Real Estate Management & Development\",\"Materials\",\"Materials\",\"Materials\",\"Materials\",\"Materials\",\"Materials\",\"Materials\",\"Commercial & Professional Services\",\"Materials\",\"Software & Services\",\"Consumer Services\",\"Materials\",\"Materials\",\"Consumer Discretionary Distribution & Retail\",\"Materials\",\"Utilities\",\"Materials\",\"Materials\",\"Materials\",\"Food, Beverage & Tobacco\",\"Materials\",\"Materials\",\"Not Applic\",\"Materials\",\"Materials\",\"Not Applic\",\"Materials\",\"Not Applic\",\"Materials\",\"Media & Entertainment\",\"Food, Beverage & Tobacco\",\"Software & Services\",\"Software & Services\",\"Software & Services\",\"Materials\",\"Materials\",\"Capital Goods\",\"Materials\",\"Materials\",\"Materials\",\"Materials\",\"Materials\",\"Materials\",\"Health Care Equipment & Services\",\"Commercial & Professional Services\",\"Commercial & Professional Services\",\"Financial Services\",\"Materials\",\"Materials\",\"Financial Services\",\"Materials\",\"Health Care Equipment & Services\",\"Software & Services\",\"Materials\",\"Materials\",\"Materials\",\"Energy\",\"Food, Beverage & Tobacco\",\"Materials\",\"Consumer Staples Distribution & Retail\",\"Food, Beverage & Tobacco\",\"Energy\",\"Consumer Services\",\"Energy\",\"Household & Personal Products\",\"Materials\",\"Financial Services\",\"Utilities\",\"Pharmaceuticals, Biotechnology & Life Sciences\",\"Materials\",\"Health Care Equipment & Services\",\"Materials\",\"Pharmaceuticals, Biotechnology & Life Sciences\",\"Real Estate Management & Development\",\"Health Care Equipment & Services\",\"Financial Services\",\"Materials\",\"Materials\",\"Materials\",\"Energy\",\"Pharmaceuticals, Biotechnology & Life Sciences\",\"Energy\",\"Utilities\",\"Consumer Services\",\"Not Applic\",\"Financial Services\",\"Materials\",\"Not Applic\",\"Capital Goods\",\"Materials\",\"Equity Real Estate Investment Trusts (REITs)\",\"Materials\",\"Materials\",\"Materials\",\"Materials\",\"Energy\",\"Consumer Durables & Apparel\",\"Consumer Discretionary Distribution & Retail\",\"Materials\",\"Materials\",\"Commercial & Professional Services\",\"Materials\",\"Materials\",\"Not Applic\",\"Materials\",\"Media & Entertainment\",\"Materials\",\"Materials\",\"Materials\",\"Materials\",\"Materials\",\"Materials\",\"Materials\",\"Materials\",\"Materials\",\"Financial Services\",\"Materials\",\"Consumer Staples Distribution & Retail\",\"Energy\",\"Commercial & Professional Services\",\"Materials\",\"Capital Goods\",\"Materials\",\"Technology Hardware & Equipment\",\"Materials\",\"Materials\",\"Not Applic\",\"Transportation\",\"Consumer Discretionary Distribution & Retail\",\"Software & Services\",\"Consumer Services\",\"Materials\",\"Insurance\",\"Capital Goods\",\"Financial Services\",\"Real Estate Management & Development\",\"Financial Services\",\"Materials\",\"Materials\",\"Materials\",\"Commercial & Professional Services\",\"Materials\",\"Energy\",\"Materials\",\"Materials\",\"Materials\",\"Pharmaceuticals, Biotechnology & Life Sciences\",\"Commercial & Professional Services\",\"Capital Goods\",\"Materials\",\"Materials\",\"Materials\",\"Materials\",\"Materials\",\"Materials\",\"Consumer Discretionary Distribution & Retail\",\"Consumer Staples Distribution & Retail\",\"Health Care Equipment & Services\",\"Materials\",\"Pharmaceuticals, Biotechnology & Life Sciences\",\"Materials\",\"Health Care Equipment & Services\",\"Pharmaceuticals, Biotechnology & Life Sciences\",\"Capital Goods\",\"Media & Entertainment\",\"Materials\",\"Not Applic\",\"Materials\",\"Capital Goods\",\"Consumer Discretionary Distribution & Retail\",\"Banks\",\"Pharmaceuticals, Biotechnology & Life Sciences\",\"Materials\",\"Financial Services\",\"Banks\",\"Not Applic\",\"Energy\",\"Materials\",\"Commercial & Professional Services\",\"Health Care Equipment & Services\",\"Not Applic\",\"Materials\",\"Pharmaceuticals, Biotechnology & Life Sciences\",\"Not Applic\",\"Consumer Discretionary Distribution & Retail\",\"Materials\",\"Materials\",\"Media & Entertainment\",\"Materials\",\"Software & Services\",\"Pharmaceuticals, Biotechnology & Life Sciences\",\"Materials\",\"Not Applic\",\"Financial Services\",\"Capital Goods\",\"Household & Personal Products\",\"Materials\",\"Energy\",\"Energy\",\"Energy\",\"Insurance\",\"Materials\",\"Materials\",\"Materials\",\"Materials\",\"Materials\",\"Materials\",\"Materials\",\"Materials\",\"Software & Services\",\"Materials\",\"Insurance\",\"Software & Services\",\"Food, Beverage & Tobacco\",\"Software & Services\",\"Pharmaceuticals, Biotechnology & Life Sciences\",\"Materials\",\"Equity Real Estate Investment Trusts (REITs)\",\"Materials\",\"Materials\",\"Pharmaceuticals, Biotechnology & Life Sciences\",\"Not Applic\",\"Materials\",\"Equity Real Estate Investment Trusts (REITs)\",\"Materials\",\"Financial Services\",\"Consumer Discretionary Distribution & Retail\",\"Health Care Equipment & Services\",\"Materials\",\"Materials\",\"Materials\",\"Food, Beverage & Tobacco\",\"Materials\",\"Technology Hardware & Equipment\",\"Materials\",\"Materials\",\"Technology Hardware & Equipment\",\"Technology Hardware & Equipment\",\"Materials\",\"Materials\",\"Capital Goods\",\"Financial Services\",\"Materials\",\"Media & Entertainment\",\"Media & Entertainment\",\"Consumer Services\",\"Energy\",\"Software & Services\",\"Materials\",\"Health Care Equipment & Services\",\"Software & Services\",\"Materials\",\"Pharmaceuticals, Biotechnology & Life Sciences\",\"Food, Beverage & Tobacco\",\"Media & Entertainment\",\"Energy\",\"Food, Beverage & Tobacco\",\"Software & Services\",\"Materials\",\"Materials\",\"Financial Services\",\"Materials\",\"Health Care Equipment & Services\",\"Pharmaceuticals, Biotechnology & Life Sciences\",\"Software & Services\",\"Materials\",\"Materials\",\"Materials\",\"Software & Services\",\"Materials\",\"Materials\",\"Materials\",\"Capital Goods\",\"Energy\",\"Financial Services\",\"Financial Services\",\"Health Care Equipment & Services\",\"Food, Beverage & Tobacco\",\"Materials\",\"Materials\",\"Capital Goods\",\"Consumer Services\",\"Software & Services\",\"Commercial & Professional Services\",\"Materials\",\"Energy\",\"Materials\",\"Media & Entertainment\",\"Materials\",\"Health Care Equipment & Services\",\"Materials\",\"Not Applic\",\"Software & Services\",\"Commercial & Professional Services\",\"Pharmaceuticals, Biotechnology & Life Sciences\",\"Materials\",\"Utilities\",\"Materials\",\"Materials\",\"Materials\",\"Materials\",\"Pharmaceuticals, Biotechnology & Life Sciences\",\"Materials\",\"Health Care Equipment & Services\",\"Class Pend\",\"Materials\",\"Materials\",\"Pharmaceuticals, Biotechnology & Life Sciences\",\"Pharmaceuticals, Biotechnology & Life Sciences\",\"Financial Services\",\"Not Applic\",\"Materials\",\"Materials\",\"Pharmaceuticals, Biotechnology & Life Sciences\",\"Materials\",\"Consumer Services\",\"Materials\",\"Pharmaceuticals, Biotechnology & Life Sciences\",\"Financial Services\",\"Not Applic\",\"Health Care Equipment & Services\",\"Energy\",\"Materials\",\"Energy\",\"Not Applic\",\"Pharmaceuticals, Biotechnology & Life Sciences\",\"Materials\",\"Materials\",\"Energy\",\"Commercial & Professional Services\",\"Materials\",\"Materials\",\"Financial Services\",\"Consumer Services\",\"Food, Beverage & Tobacco\",\"Health Care Equipment & Services\",\"Materials\",\"Not Applic\",\"Not Applic\",\"Materials\",\"Financial Services\",\"Materials\",\"Materials\",\"Energy\",\"Energy\",\"Financial Services\",\"Materials\",\"Not Applic\",\"Not Applic\",\"Software & Services\",\"Materials\",\"Pharmaceuticals, Biotechnology & Life Sciences\",\"Commercial & Professional Services\",\"Materials\",\"Materials\",\"Not Applic\",\"Materials\",\"Materials\",\"Materials\",\"Financial Services\",\"Media & Entertainment\",\"Not Applic\",\"Health Care Equipment & Services\",\"Materials\",\"Consumer Discretionary Distribution & Retail\",\"Financial Services\",\"Financial Services\",\"Materials\",\"Materials\",\"Materials\",\"Materials\",\"Health Care Equipment & Services\",\"Materials\",\"Utilities\",\"Materials\",\"Materials\",\"Materials\",\"Capital Goods\",\"Real Estate Management & Development\",\"Commercial & Professional Services\",\"Materials\",\"Materials\",\"Media & Entertainment\",\"Financial Services\",\"Software & Services\",\"Financial Services\",\"Materials\",\"Materials\",\"Materials\",\"Energy\",\"Materials\",\"Software & Services\",\"Materials\",\"Media & Entertainment\",\"Materials\",\"Materials\",\"Materials\",\"Insurance\",\"Materials\",\"Health Care Equipment & Services\",\"Household & Personal Products\",\"Financial Services\",\"Materials\",\"Pharmaceuticals, Biotechnology & Life Sciences\",\"Materials\",\"Materials\",\"Energy\",\"Energy\",\"Financial Services\",\"Semiconductors & Semiconductor Equipment\",\"Materials\",\"Materials\",\"Automobiles & Components\",\"Materials\",\"Consumer Discretionary Distribution & Retail\",\"Real Estate Management & Development\",\"Pharmaceuticals, Biotechnology & Life Sciences\",\"Materials\",\"Materials\",\"Pharmaceuticals, Biotechnology & Life Sciences\",\"Real Estate Management & Development\",\"Transportation\",\"Insurance\",\"Materials\",\"Financial Services\",\"Materials\",\"Capital Goods\",\"Commercial & Professional Services\",\"Materials\",\"Software & Services\",\"Materials\",\"Financial Services\",\"Transportation\",\"Financial Services\",\"Not Applic\",\"Materials\",\"Media & Entertainment\",\"Materials\",\"Pharmaceuticals, Biotechnology & Life Sciences\",\"Pharmaceuticals, Biotechnology & Life Sciences\",\"Materials\",\"Materials\",\"Materials\",\"Materials\",\"Consumer Services\",\"Consumer Discretionary Distribution & Retail\",\"Materials\",\"Materials\",\"Materials\",\"Pharmaceuticals, Biotechnology & Life Sciences\",\"Software & Services\",\"Materials\",\"Consumer Services\",\"Software & Services\",\"Capital Goods\",\"Materials\",\"Materials\",\"Materials\",\"Capital Goods\",\"Software & Services\",\"Media & Entertainment\",\"Materials\",\"Materials\",\"Materials\",\"Health Care Equipment & Services\",\"Capital Goods\",\"Capital Goods\",\"Equity Real Estate Investment Trusts (REITs)\",\"Transportation\",\"Energy\",\"Materials\",\"Not Applic\",\"Food, Beverage & Tobacco\",\"Equity Real Estate Investment Trusts (REITs)\",\"Consumer Services\",\"Capital Goods\",\"Capital Goods\",\"Not Applic\",\"Capital Goods\",\"Materials\",\"Equity Real Estate Investment Trusts (REITs)\",\"Pharmaceuticals, Biotechnology & Life Sciences\",\"Health Care Equipment & Services\",\"Materials\",\"Materials\",\"Health Care Equipment & Services\",\"Health Care Equipment & Services\",\"Food, Beverage & Tobacco\",\"Materials\",\"Materials\",\"Materials\",\"Software & Services\",\"Technology Hardware & Equipment\",\"Materials\",\"Materials\",\"Media & Entertainment\",\"Energy\",\"Financial Services\",\"Health Care Equipment & Services\",\"Materials\",\"Materials\",\"Materials\",\"Materials\",\"Materials\",\"Media & Entertainment\",\"Materials\",\"Utilities\",\"Pharmaceuticals, Biotechnology & Life Sciences\",\"Media & Entertainment\",\"Materials\",\"Materials\",\"Software & Services\",\"Energy\",\"Materials\",\"Capital Goods\",\"Real Estate Management & Development\",\"Financial Services\",\"Automobiles & Components\",\"Materials\",\"Materials\",\"Materials\",\"Materials\",\"Health Care Equipment & Services\",\"Materials\",\"Commercial & Professional Services\",\"Materials\",\"Software & Services\",\"Semiconductors & Semiconductor Equipment\",\"Materials\",\"Capital Goods\",\"Materials\",\"Technology Hardware & Equipment\",\"Media & Entertainment\",\"Materials\",\"Materials\",\"Not Applic\",\"Financial Services\",\"Materials\",\"Materials\",\"Class Pend\",\"Household & Personal Products\",\"Energy\",\"Materials\",\"Not Applic\",\"Materials\",\"Materials\",\"Software & Services\",\"Equity Real Estate Investment Trusts (REITs)\",\"Software & Services\",\"Materials\",\"Consumer Services\",\"Insurance\",\"Real Estate Management & Development\",\"Health Care Equipment & Services\",\"Software & Services\",\"Materials\",\"Semiconductors & Semiconductor Equipment\",\"Not Applic\",\"Media & Entertainment\",\"Media & Entertainment\",\"Technology Hardware & Equipment\",\"Financial Services\",\"Materials\",\"Materials\",\"Automobiles & Components\",\"Food, Beverage & Tobacco\",\"Materials\",\"Materials\",\"Materials\",\"Materials\",\"Energy\",\"Commercial & Professional Services\",\"Capital Goods\",\"Food, Beverage & Tobacco\",\"Materials\",\"Equity Real Estate Investment Trusts (REITs)\",\"Materials\",\"Consumer Services\",\"Capital Goods\",\"Energy\",\"Health Care Equipment & Services\",\"Consumer Services\",\"Health Care Equipment & Services\",\"Consumer Durables & Apparel\",\"Materials\",\"Media & Entertainment\",\"Materials\",\"Food, Beverage & Tobacco\",\"Materials\",\"Health Care Equipment & Services\",\"Materials\",\"Consumer Durables & Apparel\",\"Commercial & Professional Services\",\"Software & Services\",\"Consumer Services\",\"Capital Goods\",\"Automobiles & Components\",\"Consumer Services\",\"Software & Services\",\"Household & Personal Products\",\"Software & Services\",\"Capital Goods\",\"Media & Entertainment\",\"Materials\",\"Health Care Equipment & Services\",\"Class Pend\",\"Telecommunication Services\",\"Transportation\",\"Materials\",\"Materials\",\"Materials\",\"Capital Goods\",\"Materials\",\"Food, Beverage & Tobacco\",\"Materials\",\"Technology Hardware & Equipment\",\"Financial Services\",\"Materials\",\"Materials\",\"Not Applic\",\"Capital Goods\",\"Materials\",\"Consumer Discretionary Distribution & Retail\",\"Software & Services\",\"Materials\",\"Health Care Equipment & Services\",\"Software & Services\",\"Financial Services\",\"Health Care Equipment & Services\",\"Commercial & Professional Services\",\"Financial Services\",\"Software & Services\",\"Technology Hardware & Equipment\",\"Media & Entertainment\",\"Software & Services\",\"Materials\",\"Telecommunication Services\",\"Pharmaceuticals, Biotechnology & Life Sciences\",\"Materials\",\"Materials\",\"Materials\",\"Financial Services\",\"Software & Services\",\"Technology Hardware & Equipment\",\"Financial Services\",\"Materials\",\"Capital Goods\",\"Transportation\",\"Materials\",\"Energy\",\"Materials\",\"Materials\",\"Materials\",\"Materials\",\"Materials\",\"Real Estate Management & Development\",\"Materials\",\"Consumer Discretionary Distribution & Retail\",\"Materials\",\"Consumer Discretionary Distribution & Retail\",\"Energy\",\"Real Estate Management & Development\",\"Capital Goods\",\"Materials\",\"Capital Goods\",\"Telecommunication Services\",\"Materials\",\"Media & Entertainment\",\"Materials\",\"Materials\",\"Materials\",\"Energy\",\"Consumer Discretionary Distribution & Retail\",\"Energy\",\"Materials\",\"Consumer Discretionary Distribution & Retail\",\"Materials\",\"Insurance\",\"Materials\",\"Materials\",\"Materials\",\"Materials\",\"Financial Services\",\"Capital Goods\",\"Materials\",\"Media & Entertainment\",\"Financial Services\",\"Media & Entertainment\",\"Telecommunication Services\",\"Capital Goods\",\"Materials\",\"Media & Entertainment\",\"Materials\",\"Software & Services\",\"Materials\",\"Financial Services\",\"Commercial & Professional Services\",\"Materials\",\"Energy\",\"Consumer Services\",\"Software & Services\",\"Materials\",\"Materials\",\"Materials\",\"Materials\",\"Energy\",\"Materials\",\"Not Applic\",\"Materials\",\"Transportation\",\"Consumer Services\",\"Health Care Equipment & Services\",\"Energy\",\"Energy\",\"Energy\",\"Not Applic\",\"Materials\",\"Energy\",\"Food, Beverage & Tobacco\",\"Materials\",\"Materials\",\"Consumer Discretionary Distribution & Retail\",\"Not Applic\",\"Materials\",\"Materials\",\"Materials\",\"Financial Services\",\"Transportation\",\"Materials\",\"Materials\",\"Real Estate Management & Development\",\"Materials\",\"Materials\",\"Financial Services\",\"Materials\",\"Materials\",\"Consumer Services\",\"Materials\",\"Materials\",\"Telecommunication Services\",\"Pharmaceuticals, Biotechnology & Life Sciences\",\"Materials\",\"Materials\",\"Media & Entertainment\",\"Energy\",\"Utilities\",\"Materials\",\"Materials\",\"Materials\",\"Materials\",\"Materials\",\"Materials\",\"Software & Services\",\"Software & Services\",\"Media & Entertainment\",\"Energy\",\"Materials\",\"Not Applic\",\"Materials\",\"Equity Real Estate Investment Trusts (REITs)\",\"Energy\",\"Consumer Discretionary Distribution & Retail\",\"Utilities\",\"Energy\",\"Telecommunication Services\",\"Consumer Discretionary Distribution & Retail\",\"Consumer Discretionary Distribution & Retail\",\"Class Pend\",\"Pharmaceuticals, Biotechnology & Life Sciences\",\"Materials\",\"Pharmaceuticals, Biotechnology & Life Sciences\",\"Consumer Discretionary Distribution & Retail\",\"Materials\",\"Health Care Equipment & Services\",\"Food, Beverage & Tobacco\",\"Software & Services\",\"Materials\",\"Materials\",\"Consumer Discretionary Distribution & Retail\",\"Transportation\",\"Materials\",\"Materials\",\"Telecommunication Services\",\"Financial Services\",\"Materials\",\"Consumer Durables & Apparel\",\"Food, Beverage & Tobacco\",\"Insurance\",\"Software & Services\",\"Financial Services\",\"Materials\",\"Technology Hardware & Equipment\",\"Materials\",\"Health Care Equipment & Services\",\"Software & Services\",\"Health Care Equipment & Services\",\"Food, Beverage & Tobacco\",\"Consumer Discretionary Distribution & Retail\",\"Media & Entertainment\",\"Real Estate Management & Development\",\"Equity Real Estate Investment Trusts (REITs)\",\"Equity Real Estate Investment Trusts (REITs)\",\"Materials\",\"Equity Real Estate Investment Trusts (REITs)\",\"Materials\",\"Materials\",\"Materials\",\"Capital Goods\",\"Pharmaceuticals, Biotechnology & Life Sciences\",\"Equity Real Estate Investment Trusts (REITs)\",\"Energy\",\"Capital Goods\",\"Energy\",\"Not Applic\",\"Software & Services\",\"Materials\",\"Health Care Equipment & Services\",\"Software & Services\",\"Health Care Equipment & Services\",\"Health Care Equipment & Services\",\"Materials\",\"Pharmaceuticals, Biotechnology & Life Sciences\",\"Capital Goods\",\"Materials\",\"Materials\",\"Materials\",\"Automobiles & Components\",\"Telecommunication Services\",\"Capital Goods\",\"Utilities\",\"Software & Services\",\"Materials\",\"Materials\",\"Commercial & Professional Services\",\"Materials\",\"Materials\",\"Energy\",\"Health Care Equipment & Services\",\"Materials\",\"Materials\",\"Banks\",\"Materials\",\"Consumer Services\",\"Materials\",\"Software & Services\",\"Materials\",\"Materials\",\"Not Applic\",\"Materials\",\"Materials\",\"Not Applic\",\"Not Applic\",\"Consumer Durables & Apparel\",\"Not Applic\",\"Banks\",\"Energy\",\"Semiconductors & Semiconductor Equipment\",\"Materials\",\"Materials\",\"Software & Services\",\"Materials\",\"Energy\",\"Consumer Services\",\"Energy\",\"Energy\",\"Consumer Discretionary Distribution & Retail\",\"Pharmaceuticals, Biotechnology & Life Sciences\",\"Not Applic\",\"Materials\",\"Materials\",\"Materials\",\"Energy\",\"Not Applic\",\"Software & Services\",\"Materials\",\"Materials\",\"Materials\",\"Food, Beverage & Tobacco\",\"Not Applic\",\"Not Applic\",\"Materials\",\"Materials\",\"Not Applic\",\"Materials\",\"Food, Beverage & Tobacco\",\"Food, Beverage & Tobacco\",\"Food, Beverage & Tobacco\",\"Capital Goods\",\"Equity Real Estate Investment Trusts (REITs)\",\"Consumer Staples Distribution & Retail\",\"Equity Real Estate Investment Trusts (REITs)\",\"Not Applic\",\"Materials\",\"Software & Services\",\"Materials\",\"Materials\",\"Software & Services\",\"Materials\",\"Software & Services\",\"Financial Services\",\"Real Estate Management & Development\",\"Transportation\",\"Materials\",\"Materials\",\"Financial Services\",\"Technology Hardware & Equipment\",\"Materials\",\"Materials\",\"Software & Services\",\"Media & Entertainment\",\"Software & Services\",\"Capital Goods\",\"Consumer Services\",\"Software & Services\",\"Energy\",\"Materials\",\"Capital Goods\",\"Energy\",\"Materials\",\"Financial Services\",\"Software & Services\",\"Food, Beverage & Tobacco\",\"Commercial & Professional Services\",\"Materials\",\"Software & Services\",\"Materials\",\"Materials\",\"Not Applic\",\"Energy\",\"Capital Goods\",\"Materials\",\"Financial Services\",\"Pharmaceuticals, Biotechnology & Life Sciences\",\"Materials\",\"Technology Hardware & Equipment\",\"Materials\",\"Materials\"],\"legendgroup\":\"\",\"name\":\"\",\"showlegend\":true,\"values\":[\"8812235\",\"8389000\",\"13250717\",\"4875868\",\"22900363\",\"13047544\",\"36831934\",\"12752921\",\"8008781\",\"445175226\",\"1750315335\",\"81284817\",\"66909256\",\"329016162\",\"256772691\",\"203910689\",\"163608102\",\"27282087\",\"128711930\",\"18599877\",\"7147120\",\"5029371\",\"36699410\",\"299998413\",\"7788316\",\"161864721\",\"237382228\",\"195787553\",\"3144766415\",\"5653586\",\"975695072\",\"8339279\",\"789624439\",\"7088094\",\"6101990\",\"55148897\",\"14167994\",\"239173000\",\"841619726\",\"1417725108\",\"14357320\",\"974086820\",\"14799211\",\"20793946\",\"85455709\",\"SUSPENDED\",\"77007129\",\"107227479\",\"230798653\",\"603483705\",\"18500786\",\"8305634\",\"86478100\",\"12125502\",\"3785018\",\"14835873\",\"44045214\",\"4935414\",\"1010408919\",\"42685994\",\"5278274\",\"8034062\",\"4770578\",\"231023061\",\"80867044\",\"63696831\",\"24997042\",\"9799853\",\"1068188629\",\"16130012\",\"30781624\",\"7821475\",\"175994683\",\"490601926\",\"6878047\",\"7158386\",\"17300072\",\"40412274\",\"423753555\",\"8775708093\",\"12962634\",\"354447959\",\"2366090\",\"6000000\",\"18981652\",\"198355137\",\"15569268\",\"328374081\",\"7359854729\",\"38173066\",\"7375522\",\"294925575\",\"50888279\",\"11805602\",\"43540794\",\"12408834\",\"70491901\",\"8563740\",\"72002178\",\"10823250857\",\"122664242\",\"62474740\",\"43376830\",\"145098575\",\"3663544\",\"2341082700\",\"SUSPENDED\",\"16508756\",\"11858813\",\"9119457\",\"1360000\",\"8317570022\",\"37132051\",\"49240788\",\"11429808\",\"17096907\",\"328613625\",\"17430975\",\"4933557\",\"64039501\",\"5156067\",\"146099827\",\"8247635646\",\"244650068\",\"380719968\",\"375983769\",\"26539469792\",\"10026007\",\"5659920226\",\"6093700647\",\"13969547\",\"8385818826\",\"12958839\",\"10473760\",\"59018862\",\"21143022704\",\"9071295\",\"33567404\",\"311233642\",\"176950537\",\"18638811\",\"2600000\",\"53345210\",\"20513860\",\"3580013192\",\"SUSPENDED\",\"7176662\",\"28446528\",\"6215539\",\"124176440\",\"158328507\",\"SUSPENDED\",\"2850870461\",\"57749340\",\"57698878\",\"3837568\",\"21495196\",\"75973652478\",\"1947130\",\"3617563\",\"215342302\",\"16324070\",\"10892993552\",\"4154758\",\"3750745986\",\"11136804\",\"1692200690\",\"4648142\",\"55648854\",\"224397887\",\"319781559\",\"50351752\",\"9901791\",\"22062125\",\"15709547\",\"36102505\",\"1518178\",\"520780418\",\"SUSPENDED\",\"36999831\",\"31413836\",\"113662117\",\"2680542112\",\"7368706\",\"12968793\",\"7316152\",\"1274098860\",\"6648964230\",\"115169497\",\"14808612\",\"55940412\",\"87996143\",\"507207526\",\"61421816\",\"290207985\",\"16944852\",\"708573866\",\"17354576\",\"502500000\",\"79906627\",\"1583494069\",\"294358292\",\"177894946\",\"49743757\",\"21948873\",\"17744604\",\"12963484\",\"30945244\",\"10767762910\",\"16619260\",\"198808825\",\"115232812\",\"17079283\",\"5576649649\",\"23960818\",\"73270969\",\"34052299\",\"SUSPENDED\",\"34643709\",\"15520463\",\"13714451\",\"7165000\",\"3368162613\",\"78068801\",\"3150000\",\"25863750\",\"8311535\",\"1224099066\",\"7436297\",\"6267305\",\"24414976\",\"4289634\",\"79793861\",\"10128764\",\"27142579\",\"46044501\",\"49850949\",\"49633815\",\"12142314\",\"101055394\",\"619361830\",\"156369081\",\"130975799\",\"3531352\",\"327704979\",\"2133790\",\"SUSPENDED\",\"98701522\",\"2988731860\",\"5888682\",\"1089507934\",\"7992637\",\"114681156\",\"17308546\",\"58474715\",\"11649361\",\"21235228\",\"SUSPENDED\",\"5527732\",\"5079373\",\"27811889\",\"6644941375\",\"57504414\",\"1166739485\",\"51761669\",\"19123377\",\"2270669625\",\"30865360\",\"5262598\",\"46894165\",\"92158194\",\"260369524\",\"43116564\",\"17085242\",\"67667202\",\"8628572\",\"234958447\",\"17716494\",\"333723491\",\"213445339\",\"93919204\",\"20696443\",\"6822782\",\"234498863\",\"21831931\",\"23199804\",\"SUSPENDED\",\"3197373\",\"5233976670\",\"99071868\",\"8324051\",\"71896320\",\"15976375\",\"336781145\",\"2499626888\",\"861021783\",\"43939423\",\"2295515\",\"1649630049\",\"982397081\",\"17554589\",\"5676482\",\"221301179100\",\"5482500\",\"25226568\",\"13212989\",\"100594119\",\"31568072\",\"23961535\",\"1412971889\",\"98741349\",\"4244582097\",\"169402752\",\"5162453801\",\"61121826\",\"33317525\",\"404273320\",\"414288580\",\"8171257\",\"29323270\",\"8430932\",\"6337972\",\"14474476\",\"27914043\",\"14449507\",\"358215371\",\"4333105\",\"14619726\",\"63955486\",\"39654251\",\"17028284\",\"75555710\",\"5415973\",\"132350625\",\"13686152\",\"1393901940\",\"49194034\",\"3825005448\",\"248709442\",\"2669460\",\"19534945\",\"5937499\",\"9848308\",\"3752793864\",\"3323165313\",\"194605163\",\"60174548\",\"184662188\",\"523642153\",\"55432007\",\"42125292\",\"42190298\",\"217932192\",\"9603332165\",\"8122970\",\"61579558\",\"7778959\",\"18385595\",\"194320989\",\"185045854\",\"26537697\",\"20724167\",\"120217185\",\"12662095\",\"5049263\",\"37681285\",\"9593507\",\"11549486\",\"334023731\",\"40150741\",\"2370396233\",\"SUSPENDED\",\"20965203389\",\"32327972\",\"92999979\",\"6096290\",\"23424250\",\"4227022\",\"599458254\",\"4915015\",\"146752378\",\"59007895\",\"51943996\",\"9965372\",\"94221378\",\"234478069\",\"115570201\",\"51152890\",\"8613435\",\"11108168093\",\"249844120\",\"23334862\",\"50788325\",\"16985129\",\"171036317617\",\"17214660\",\"4722300\",\"7783078\",\"552978341\",\"27579826\",\"3902135\",\"47074604\",\"31285147\",\"28636416\",\"4085596\",\"1453908044\",\"88696587\",\"141197628\",\"92153824\",\"10396043\",\"30520235\",\"56415017\",\"110923767\",\"1474099999\",\"11718199\",\"229291987\",\"27004902\",\"314050815\",\"5987410\",\"11807176\",\"24426199\",\"54437707\",\"108459741\",\"5918624443\",\"22589725\",\"SUSPENDED\",\"18169726\",\"SUSPENDED\",\"1315128714\",\"4400729350\",\"6075118\",\"265840736\",\"4876601122\",\"6639733\",\"148720726\",\"15882089\",\"1155221013\",\"12112302\",\"11088000\",\"SUSPENDED\",\"12107378\",\"3072736666\",\"--\",\"773060510\",\"SUSPENDED\",\"1949237049\",\"28562555\",\"107894898\",\"1134955999\",\"4562297\",\"24706568\",\"SUSPENDED\",\"10264505\",\"207885139\",\"21169425\",\"185369269\",\"2552032795\",\"127250715\",\"12046242\",\"17882215\",\"10579200\",\"1563986008\",\"4178767\",\"31889331\",\"1139207014\",\"9518751\",\"148106447\",\"1175406184\",\"10990665\",\"23729398\",\"2979991147\",\"49290338\",\"105106985\",\"27009834\",\"315783751\",\"743684479\",\"266927081\",\"17560728199\",\"166711559\",\"21347344967\",\"25090035\",\"146790260\",\"27627500\",\"5831396\",\"8147671\",\"16967820\",\"2790354\",\"15612440629\",\"73238289\",\"1027265984\",\"1981992967\",\"8234395\",\"14417817\",\"5517378\",\"253444394\",\"SUSPENDED\",\"SUSPENDED\",\"2707472774\",\"69316661\",\"4787034\",\"SUSPENDED\",\"2964588\",\"129736723273\",\"2830884671\",\"77780071\",\"14514146\",\"24662453\",\"4413601\",\"2569480100\",\"31970264\",\"352435212\",\"6192434\",\"11494636\",\"41576100\",\"6540871\",\"1139902278\",\"SUSPENDED\",\"305066006\",\"45377782\",\"16045573\",\"4538618\",\"64129111\",\"19777906\",\"831081885\",\"128055397\",\"280377826\",\"466804320\",\"270028036\",\"5639617\",\"78301061\",\"353655677\",\"436677648\",\"22634009\",\"5679814390\",\"645396615\",\"53605279\",\"801236382\",\"7612549\",\"SUSPENDED\",\"22253721\",\"56997629\",\"240118595\",\"120062640\",\"115545961\",\"SUSPENDED\",\"23352132\",\"1787583\",\"8618371\",\"33002850\",\"264187326\",\"5855867\",\"3800000\",\"59183388\",\"1383175051\",\"3650500\",\"2745038\",\"25347647\",\"26449596\",\"6968028\",\"127764098\",\"8256420\",\"35941909\",\"340929407\",\"1737545730\",\"3632858\",\"2030338076\",\"5393023\",\"33098954\",\"8895000\",\"124210823\",\"40296340\",\"240957210\",\"29223417\",\"2463462897\",\"768451346\",\"36627069\",\"370197774\",\"SUSPENDED\",\"4062300\",\"SUSPENDED\",\"65344615\",\"3552045\",\"2873700\",\"4714095603\",\"49415575\",\"--\",\"20537543\",\"SUSPENDED\",\"6870339\",\"2813893715\",\"76504355\",\"181403724\",\"167267529\",\"2468793291\",\"74595183\",\"173184690\",\"67249294\",\"28367030\",\"8522477\",\"1086022529\",\"4651755\",\"14167085\",\"94623347\",\"46475907\",\"222662583\",\"1046705671\",\"4688010\",\"310412374\",\"6679939\",\"543329421\",\"35036916\",\"23885483\",\"345768973\",\"878837656\",\"3446680\",\"8131273260\",\"9990000\",\"724175355\",\"11266550\",\"80486224\",\"12458129\",\"6100056\",\"5872152\",\"50921799\",\"6216190584\",\"257654016\",\"251662301\",\"17842250\",\"76835343\",\"21089951\",\"26561536\",\"18509108\",\"45492919\",\"10090911\",\"26434311\",\"9563833291\",\"108236961\",\"5049825\",\"10556545\",\"51607316\",\"150337833\",\"135478556\",\"93416433\",\"108899338\",\"58836944\",\"13506393\",\"787369858\",\"326971647\",\"78904700\",\"133374787\",\"981108119\",\"6297227\",\"73656595\",\"25316211\",\"26837084\",\"22657499\",\"16660389\",\"24667945\",\"33549330\",\"149723515\",\"437561431\",\"68453769\",\"3495212\",\"1473621599\",\"2802492\",\"6375000\",\"3625053\",\"3625053\",\"121158162\",\"23891320\",\"233653038\",\"136456394\",\"3197884\",\"3420632\",\"8116152\",\"71628543\",\"154606971\",\"166955106\",\"102202439\",\"28392837\",\"6007080\",\"10924886\",\"72482173\",\"SUSPENDED\",\"14325000\",\"115694874\",\"4814706\",\"734702944\",\"22345710\",\"841635369\",\"76934891\",\"5174809\",\"5564675\",\"36495556\",\"10588200\",\"25033830\",\"11868575\",\"112921186\",\"52874016\",\"17791685\",\"98990981\",\"35437500\",\"5274483\",\"11561727\",\"6742464796\",\"115673376\",\"13103777\",\"90849603\",\"1924084023\",\"18163788\",\"SUSPENDED\",\"4394231\",\"4385379\",\"151040658\",\"63845485\",\"9663816\",\"38125779\",\"161526148\",\"26050050\",\"30090000\",\"37887956\",\"5081976\",\"54642067\",\"81860698\",\"3351426591\",\"645122364\",\"91456579\",\"11812500\",\"166784438\",\"48941499\",\"152715622\",\"2989769\",\"13092637\",\"46592389\",\"6433529\",\"SUSPENDED\",\"9546781\",\"479515071\",\"30981953\",\"17209116\",\"40724164\",\"462913244\",\"112124103\",\"SUSPENDED\",\"SUSPENDED\",\"188865738\",\"6831389\",\"87824795\",\"97120748\",\"4347295135\",\"15114626\",\"21073406\",\"60440081340\",\"51580556\",\"17135548\",\"14389673\",\"129934962\",\"8339952\",\"23549944\",\"11367641595\",\"15169196\",\"787192992\",\"10961250\",\"58161423\",\"180961889\",\"17982232\",\"4589424\",\"17268984\",\"120132132\",\"322232955\",\"29022181\",\"47318791\",\"8460005\",\"13918333\",\"24494308\",\"186212044\",\"15985209\",\"26389266\",\"15653366\",\"79019712\",\"16585111\",\"110376719\",\"10869854\",\"57311229\",\"53962782\",\"40009947\",\"23597955\",\"32339812\",\"10471340\",\"24352446\",\"486323846\",\"7956095\",\"3840396\",\"9660492\",\"53902097\",\"137545584\",\"271546676\",\"267720952\",\"337936636\",\"10033103\",\"6931341\",\"862124033\",\"SUSPENDED\",\"3914206\",\"32169477\",\"14934288\",\"SUSPENDED\",\"27300000\",\"6345283\",\"376798014\",\"8271156\",\"126464645\",\"10374000\",\"8417183\",\"26067387\",\"241673935\",\"6071004\",\"1670518874\",\"43776146737\",\"9055340\",\"15883550\",\"17156063\",\"1608496268\",\"2460778235\",\"323312294\",\"3711098\",\"197274692\",\"214702457\",\"SUSPENDED\",\"1784787402\",\"126347366\",\"1764013245\",\"14781440\",\"7949646335\",\"4192983716\",\"34204722\",\"6769681\",\"526589108\",\"32889550\",\"263328176\",\"7452443\",\"15733820\",\"12068593\",\"76005178\",\"133930710\",\"11371415\",\"23083316\",\"11913815\",\"395730420\",\"83700263\",\"17529787\",\"1690736352\",\"10767521\",\"201114993\",\"25051774\",\"495933561\",\"30194366\",\"4187558\",\"10618607\",\"8116238\",\"124838819\",\"75993410\",\"41876952\",\"5846993\",\"23179971\",\"165431610\",\"3345601\",\"846674605\",\"2523525759\",\"148430818\",\"164717168\",\"10914998\",\"1135453120\",\"12168787\",\"122366145\",\"11567083\",\"73025735\",\"30329345\",\"5602365\",\"88620000\",\"244284520\",\"1222733025\",\"475875316\",\"1441503292\",\"11615729\",\"553701856\",\"1899710337\",\"19565993\",\"14175000\",\"4338459\",\"46093182\",\"51491894\",\"77750002\",\"30348949\",\"7721744\",\"8504525\",\"119133738\",\"593337572\",\"SUSPENDED\",\"12691643\",\"4574435\",\"41935850\",\"25091412\",\"1096525274\",\"3589626\",\"529327835\",\"25632319\",\"6403802\",\"2676536780\",\"231929483\",\"SUSPENDED\",\"5046326949\",\"6914828\",\"4616243\",\"3841911\",\"7626565\",\"11774761\",\"275123914\",\"94835041\",\"14252786000\",\"40603019\",\"49858036\",\"13201058\",\"18280732\",\"6577838\",\"10206210\",\"48319405\",\"18562857\",\"5376096\",\"2738033\",\"4852603\",\"31069212\",\"20728892\",\"699955215\",\"11345471\",\"6833153980\",\"4359602\",\"1663121587\",\"605017070\",\"7936230476\",\"31570083\",\"317200120\",\"7166574\",\"10632040095\",\"142830932\",\"58891969\",\"100815333\",\"6582746\",\"9912939\",\"3420882832\",\"96416198\",\"51911289\",\"16857078\",\"852093641\",\"25861149\",\"15868308\",\"344318801\",\"95654410\",\"403221302\",\"1683318880\",\"23820600\",\"42558473\",\"1256277051\",\"7518327\",\"12650636\",\"464070814\",\"22595072\",\"167067385\",\"SUSPENDED\",\"5651224\",\"6099396\",\"333098957\",\"406093358\",\"1778378280\",\"5962630839\",\"34376447\",\"272606562\",\"232679383\",\"64551318\",\"1210395792\",\"66636065\",\"9298581\",\"3468964\",\"20771206\",\"1810843414\",\"57486801\",\"2277732\",\"25686529\",\"196349594\",\"15406539\",\"98652623\",\"56243650\",\"19967066\",\"100660024\",\"26228494\",\"9454153\",\"21381969\",\"5034829825\",\"0\",\"13790424\",\"1099992273\",\"52035528\",\"7380218125\",\"20058555511\",\"986444682\",\"1784998369\",\"382003251\",\"8869770\",\"22362302\",\"97544242\",\"113505869\",\"2531507\",\"23581797\",\"92311755\",\"15778332\",\"62901893\",\"4250719\",\"15670538\",\"1425799723\",\"36997932\",\"26617901\",\"10003378\",\"9115636\",\"310590789\",\"SUSPENDED\",\"74069667\",\"3935856\",\"10474425\",\"5598179\",\"65238564\",\"540055425\",\"130822830\",\"47126022\",\"664419795\",\"85861987\",\"4992004\",\"SUSPENDED\",\"1474004\",\"1712626632\",\"508613621\",\"35131773\",\"5867705\",\"13991952\",\"32214851\",\"6019141\",\"8861687\",\"8117083\",\"6973950\",\"95737656\",\"39009532\",\"196200000\",\"13636762\",\"43646538\",\"15535249\",\"335280008\",\"218071284\",\"40334909\",\"8953908\",\"SUSPENDED\",\"41859198\",\"38997647\",\"18654213\",\"6541718\",\"156147611\",\"353740167\",\"SUSPENDED\",\"94575916\",\"4982605\",\"15522464\",\"25417743\",\"108916045\",\"14949780\",\"42570518\",\"69635452\",\"65926400\",\"32091600\",\"1099770020\",\"1237215205\",\"178353417\",\"267324785\",\"12897886\",\"50181047\",\"10493893\",\"1798176253\",\"284863074\",\"9870032\",\"140844051\",\"45221092\",\"248927824\",\"57825090\",\"6893333\",\"5273313797\",\"72163561\",\"635033555\",\"222825860\",\"18690710\",\"176587252\",\"82859886\",\"7103559\",\"686707287\",\"12337331\",\"12689372\",\"10708387788\",\"51824156\",\"329275601\",\"2158793897\",\"80202233\",\"9085970\",\"151017014\",\"37633900\",\"3447970\",\"114668867\",\"8312806\",\"749346029\",\"39369498\",\"10971412\",\"10552102\",\"1745029755\",\"13135833\",\"60694833\",\"6628789314\",\"31289617\",\"19298197\",\"4053417\",\"20843145\",\"12950417\",\"6844867446\",\"6237000\",\"399389271\",\"12013750\",\"3232117\",\"3377336\",\"7145738\",\"3488498\",\"6958272\",\"185003573\",\"SUSPENDED\",\"1540000000\",\"861342647\",\"18647261\",\"344797731\",\"72527713\",\"23351637\",\"121308107\",\"1667095473\",\"13794547\",\"207334781\",\"207334781\",\"262875920\",\"38768391\",\"10864523\",\"1014980\",\"134006843\",\"57808735\",\"9839948\",\"53954802\",\"64057368\",\"7472172\",\"SUSPENDED\",\"7990088728\",\"SUSPENDED\",\"3375797\",\"117415539\",\"102277939\",\"14736602\",\"62425033\",\"6100744\",\"53120548\",\"9669311\",\"407537996\",\"55110447\",\"10638867\",\"12473765\",\"30705217\",\"12476706821\",\"46372021\",\"1753413965\",\"1721788722\",\"5798100\",\"2503394781\",\"1103554785\",\"36022850\",\"9233312908\",\"26483942\",\"27495218\",\"195098623\",\"516128217\",\"23495838\",\"3582127\",\"346161567\",\"9846376\",\"115830000\",\"18629487\",\"13394112732\",\"31550163\",\"568993268\",\"12096172\",\"5726606\",\"26438443\",\"85140615\",\"22078250\",\"21841267\",\"254034499\",\"19040394\",\"19989336\",\"34501599\",\"11337525\",\"58405729\",\"96035728\",\"28715260\",\"SUSPENDED\",\"1208306466\",\"83079859\",\"1369736556\",\"92000856\",\"10613414\",\"2448320\",\"7996598\",\"545679832\",\"75650334\",\"27668498\",\"1709929551\",\"32043723\",\"11577520\",\"9804251534\",\"17796296\",\"6874066\",\"38222310\",\"67011204376\",\"11244055\",\"33189885\",\"15569766\",\"5008749\",\"60571374\",\"524152265\",\"6557756\",\"16273013\",\"18927835\",\"378605244\",\"3961993\",\"817824\",\"79645164\",\"3046940\",\"40549987\",\"6737609\",\"6147446\",\"3746042\",\"168278692\",\"3634663449\",\"479250853\",\"9501698\",\"72927910\",\"53275095\",\"54224624\",\"13283905\",\"134509240\",\"8627344\",\"9287417\",\"1783076149\",\"39128859\",\"38944077\",\"517405653\",\"348655846\",\"299461494\",\"17664306\",\"15409725\",\"--\",\"41823681\",\"11487191\",\"13961432\",\"85878591\",\"1303821095\",\"617051242\",\"45500001\",\"8635409\",\"53255554\",\"957420000\",\"23071152886\",\"SUSPENDED\",\"3271690630\",\"3681566\",\"28244227\",\"1472788020\",\"4455000\",\"28846109\",\"328984212\",\"7060811\",\"3265956\",\"16763190\",\"53314398\",\"5046652720\",\"75353640\",\"3765959468\",\"2708759805\",\"17759677\",\"4321058\",\"5445423\",\"5287988\",\"SUSPENDED\",\"8262961\",\"246222032\",\"3034618\",\"23045001\",\"152148637\",\"14508647\",\"41566398\",\"37252220\",\"9936090\",\"9995579\",\"206170817\",\"5296225\",\"48207030\",\"11279180\",\"94074068\",\"5405715\",\"3007532603\",\"12876058144\",\"15646724\",\"92623566\",\"45443293\",\"7947532\",\"8006989\",\"177459979\",\"17725529\",\"1955928070\",\"33569332\",\"54831390\",\"82066909\",\"9081486\",\"354120465\",\"76899230\",\"115330631\",\"1154427372\",\"3841284715\",\"9777363\",\"19342283317\",\"19342283317\",\"216949238\",\"4273329139\",\"543445509\",\"16598119\",\"116813550\",\"6722230175\",\"6450125\",\"4056226\",\"97461848\",\"163683116\",\"78382793\",\"3308020\",\"1891525\",\"15738814\",\"42244733\",\"594598874\",\"145992198\",\"501813246\",\"72015621\",\"1129057211\",\"19559520\",\"3599363\",\"19465642\",\"41443482\",\"16692521\",\"14233320\",\"16841832\",\"16412943\",\"86310176\",\"1564923\",\"452480425\",\"64298142\",\"25682033\",\"2469043\",\"15917397\",\"9987797\",\"7492443\",\"4821643\",\"11282864\",\"5034227\",\"29988047\",\"391470369\",\"756987707\",\"3391695\",\"132760526\",\"SUSPENDED\",\"569852421\",\"4365753\",\"8933437\",\"263496447\",\"2324717423\",\"14729492587\",\"7201321532\",\"SUSPENDED\",\"108047326\",\"230010357\",\"19758411\",\"6336271\",\"10689385\",\"4768553\",\"4699000\",\"5736867\",\"29297095\",\"18517026\",\"548744530\",\"308986945\",\"38117144\",\"118774517\",\"201455987\",\"17365000\",\"236555013\",\"SUSPENDED\",\"212254090\",\"111805309\",\"404977561\",\"36343707\",\"161204456\",\"413648818\",\"2742638631\",\"413931300\",\"72964540\",\"11045984\",\"119088660\",\"110620400\",\"SUSPENDED\",\"69692144\",\"6077630\",\"45182982\",\"524065487\",\"13199402\",\"112088808\",\"19074888\",\"780260300\",\"478728405\",\"227231435\",\"50646422\",\"16825869\",\"14405121\",\"28696283\",\"65704996\",\"2647821\",\"19208935\",\"274821802\",\"461633775\",\"18340712\",\"2910016\",\"108877902\",\"2036367\",\"2824389\",\"8199100\",\"796146536\",\"5113545\",\"1285505282\",\"13262173106\",\"57673655\",\"199702882\",\"378267753\",\"7610611628\",\"562277284\",\"4053539563\",\"38060992\",\"1838400533\",\"32855680\",\"20726206\",\"249793465\",\"6631950\",\"921460723\",\"16141874\",\"SUSPENDED\",\"14573464\",\"44600467\",\"81579908\",\"SUSPENDED\",\"579601001\",\"188684108\",\"52689436\",\"97325329\",\"36266315\",\"593684501\",\"326179891\",\"2344866617\",\"12314190\",\"9750003\",\"SUSPENDED\",\"2424618\",\"709459200\",\"43433401\",\"5933519\",\"SUSPENDED\",\"2381849458\",\"8755539\",\"42065611\",\"1703608352\",\"13110712\",\"226606352\",\"53694742\",\"815483671\",\"13035566\",\"57177705\",\"3124130\",\"26495743\",\"34083211\",\"50994311\",\"5433443\",\"2305138\",\"8713605\",\"6990916\",\"1072062031\",\"32671925\",\"430640170\",\"2078548716\",\"28160775\",\"13450639\",\"13450639\",\"220239161\",\"722279169\",\"9518989834\",\"22560328874\",\"30278342\",\"16150670\",\"195674600\",\"19366078\",\"132458277\",\"21652629\",\"261550339\",\"124419919\",\"604566611\",\"5367918073\",\"649736\",\"208309169\",\"21524696\",\"8010837\",\"8224175\",\"162253436\",\"39020999\",\"10427581\",\"SUSPENDED\",\"5703951\",\"12597250\",\"528976138\",\"152668920\",\"4855214\",\"11989250\",\"3939410\",\"92692241\",\"8187452\",\"2828859\",\"152391170\",\"5268358\",\"138485581\",\"25787133\",\"77838235\",\"5228271\",\"1328456013\",\"420447557\",\"21500755895\",\"22827155\",\"778383761\",\"23918530\",\"767315716\",\"12377056908\",\"7078326\",\"385602230\",\"114931311\",\"38109157\",\"7497087\",\"587385547\",\"11530824\",\"776138381\",\"132116157\",\"71744431\",\"48729366\",\"369795387\",\"SUSPENDED\",\"11415137\",\"2428156691\",\"1532185\",\"11350881483\",\"262333692\",\"123259461\",\"29974724\",\"76216568\",\"704306950\",\"12356442\",\"12631468\",\"41724702678\",\"66277477\",\"7474497\",\"3700102\",\"24143204\",\"10087814\",\"214380013\",\"405638563\",\"34416204732\",\"26739665\",\"26739665\",\"7543751\",\"1404884989\",\"10097404\",\"34034501\",\"78488826\",\"15417574\",\"16000303\",\"10818557\",\"355517050\",\"8578114\",\"7935005\",\"26511136\",\"5155501\",\"554889\",\"1460186\",\"581426326\",\"18958462\",\"37860608\",\"1212318787\",\"30578033\",\"702572168\",\"30184627\",\"44017415\",\"33639353\",\"79507308\",\"332454937\",\"15357915\",\"89842499\",\"3049765793\",\"10025538\",\"106568764\",\"12631716\",\"72006412\",\"120964308\",\"83607055\",\"37378186\",\"67665101\",\"14954411057\",\"21674005\",\"12292551\",\"2455922\",\"6321709\",\"56864158\",\"151324520\",\"14282823\",\"19108860\",\"13650695032\",\"7133517\",\"20396665\",\"4613360\",\"5732861660\",\"130064039\",\"96875407\",\"1323067970\",\"49348915\",\"SUSPENDED\",\"110977918\",\"52222406\",\"7982894458\",\"25496953\",\"72239993\",\"7741042\",\"31454475\",\"231496642\",\"26601295\",\"3204027\",\"2978935371\",\"184628064\",\"33978665\",\"3867914\",\"834443205\",\"14456500\",\"409978500\",\"2663973161\",\"9524814931\",\"36402724\",\"1456812789\",\"138592172\",\"11635821\",\"5369790\",\"116951723\",\"14672438985\",\"81953320\",\"16955564\",\"12650024\",\"24972723\",\"487866416\",\"13957016\",\"794457312\",\"24408512\",\"55785500\",\"1146380453\",\"3617704\",\"10409961\",\"8760275\",\"6297874\",\"1375971428\",\"15976162\",\"3416917\",\"429927144\",\"18048055\",\"312159916\",\"19091385\",\"174768672\",\"19105722\",\"356101542\",\"137065966\",\"27664838\",\"873985951\",\"13037285\",\"780561138\",\"4149321\",\"266669626\",\"106898175\",\"92583942\",\"356236020\",\"2749244484\",\"2506258\",\"91828783\",\"121967722\",\"11790716\",\"629564643\",\"34061209\",\"5710427\",\"2097049311\",\"33724531\",\"12067155660\",\"60438335\",\"94929106\",\"37542409\",\"33940067\",\"4515698\",\"9104990\",\"7263179\",\"34553750\",\"8430801351\",\"57469031\",\"16700906\",\"55036613\",\"280838411\",\"24897781\",\"29371377\",\"126127080\",\"48724691570\",\"4062500\",\"346684900\",\"4682723\",\"4335005\",\"8953379\",\"15890000\",\"79851336\",\"24770452\",\"4105976\",\"32190479\",\"284644591\",\"86968472\",\"SUSPENDED\",\"10059642\",\"133632744\",\"10463976\",\"72067311\",\"548198254\",\"4579220535\",\"363416538\",\"32366607\",\"197446172\",\"34598042\",\"67210122\",\"61639698\",\"23349438\",\"25397584555\",\"100083757\",\"938194870\",\"13171348\",\"2696368410\",\"5223312\",\"17604939249\",\"21073340\",\"14231256\",\"231714804\",\"247822013\",\"242516149\",\"10505576391\",\"27177323\",\"9312951\",\"37681531\",\"504910653\",\"44531646\",\"204884512\",\"141711280\",\"173926883\",\"1029329601\",\"213305222\",\"412297615\",\"97106215\",\"3189317\",\"12776670\",\"6808594\",\"2361430204\",\"22846393\",\"42303494\",\"7060268\",\"4276016\",\"SUSPENDED\",\"206000709\",\"171570612\",\"21689992\",\"27146700\",\"40604450085\",\"23286034\",\"6590311\",\"13799425\",\"10443750\",\"30270190\",\"68266156\",\"6392293\",\"376454130\",\"11364483\",\"2932395\",\"5732291\",\"39283341\",\"134370656\",\"9227028\",\"94510126\",\"62126727\",\"143204240\",\"761964630\",\"8102862\",\"43144647\",\"22518296\",\"364321709\",\"78400214\",\"48186372\",\"4356646\",\"29094085\",\"10728219608\",\"481606820\",\"27306451\",\"45408899497\",\"3613755355\",\"19490983\",\"3020769\",\"93082048\",\"60366952\",\"2307754\",\"5301250\",\"22023569\",\"75014365\",\"6499196\",\"SUSPENDED\",\"99254182\",\"5113626966\",\"176043675\",\"10899017\",\"43588876\",\"34349823\",\"92960241\",\"29111111\",\"88106288\",\"29712908\",\"7383344\",\"65675142\",\"117370548\",\"10393719930\",\"820074512\",\"284428732\",\"17041683\",\"210017650\",\"--\",\"16023183\",\"210530064\",\"7167023\",\"8332840\",\"39809418\",\"143749823\",\"8859024\",\"22125864\",\"2061351\",\"9849712\",\"63590883\",\"13850307\",\"864825453\",\"55736363\",\"127233080\",\"76188995\",\"8272380097\",\"220100712\",\"3714586\",\"678935969\",\"62442081\",\"4364888\",\"46564380\",\"48844970\",\"33694768\",\"8002409\",\"1474953136\",\"281565373\",\"22492854\",\"852392664\",\"223519109\",\"11234472804\",\"28124901\",\"53874981\",\"5112500\",\"15313339\",\"4992606\",\"23254998\",\"21275808\",\"8194095644\",\"4879565341\",\"86860449\",\"32175136\",\"527971229\",\"316565676\",\"92411365\",\"189496939\",\"17739027\",\"SUSPENDED\",\"178570263\",\"9227326\",\"84438968\",\"6927661\",\"SUSPENDED\",\"35085160\",\"25350169\",\"59499259\",\"6874744\",\"2284143468\",\"10716208\",\"42810381\",\"37672332\",\"35454815\",\"40648661\",\"63019333\",\"1111716519\",\"16951506\",\"10149510\",\"16988928\",\"8341667\",\"4275154340\",\"513422668\",\"125046183\",\"79031393\",\"12228215\",\"309650000\",\"34016940\",\"55925886\",\"831151592\",\"54603203\",\"1832505282\",\"190032678\",\"147776021\",\"228004634\",\"75620608488\",\"7339661\",\"766797552\",\"7770693\",\"196357181\",\"32912623\",\"12570186\",\"72646166238\",\"2667155906\",\"5472495\",\"3061266\",\"60288090433\",\"SUSPENDED\",\"713660380\",\"187618665\",\"3865350\",\"809894868\",\"5111630790\",\"583024815\",\"9129620\",\"37748083\",\"59503335\",\"78343718\",\"23375014\",\"1867136719\",\"206922031\",\"SUSPENDED\",\"16954793\",\"320689483\",\"11474335\",\"5441818\",\"SUSPENDED\",\"SUSPENDED\",\"8952797492\",\"196245106\",\"46432548410\",\"1652668706\",\"233497224\",\"275465404\",\"33061315\",\"SUSPENDED\",\"14953307\",\"43732383\",\"5004653\",\"22716088815\",\"26460280\",\"711872966\",\"7862812\",\"34819511\",\"11112151\",\"46305442\",\"10235991\",\"SUSPENDED\",\"155593298\",\"33511732\",\"9945468\",\"17912882\",\"160348237\",\"20085597\",\"18323855148\",\"3858230\",\"17528005\",\"33072553\",\"6443744453\",\"9164798\",\"18277361\",\"18163273\",\"8305580\",\"2602115\",\"7416745\",\"11627156\",\"6799658\",\"80178384\",\"177254003\",\"9185620\",\"11800800\",\"2541324893\",\"251561995\",\"11233683\",\"4902318\",\"4671996\",\"38761897\",\"6837396\"],\"type\":\"pie\"}],                        {\"template\":{\"data\":{\"histogram2dcontour\":[{\"type\":\"histogram2dcontour\",\"colorbar\":{\"outlinewidth\":0,\"ticks\":\"\"},\"colorscale\":[[0.0,\"#0d0887\"],[0.1111111111111111,\"#46039f\"],[0.2222222222222222,\"#7201a8\"],[0.3333333333333333,\"#9c179e\"],[0.4444444444444444,\"#bd3786\"],[0.5555555555555556,\"#d8576b\"],[0.6666666666666666,\"#ed7953\"],[0.7777777777777778,\"#fb9f3a\"],[0.8888888888888888,\"#fdca26\"],[1.0,\"#f0f921\"]]}],\"choropleth\":[{\"type\":\"choropleth\",\"colorbar\":{\"outlinewidth\":0,\"ticks\":\"\"}}],\"histogram2d\":[{\"type\":\"histogram2d\",\"colorbar\":{\"outlinewidth\":0,\"ticks\":\"\"},\"colorscale\":[[0.0,\"#0d0887\"],[0.1111111111111111,\"#46039f\"],[0.2222222222222222,\"#7201a8\"],[0.3333333333333333,\"#9c179e\"],[0.4444444444444444,\"#bd3786\"],[0.5555555555555556,\"#d8576b\"],[0.6666666666666666,\"#ed7953\"],[0.7777777777777778,\"#fb9f3a\"],[0.8888888888888888,\"#fdca26\"],[1.0,\"#f0f921\"]]}],\"heatmap\":[{\"type\":\"heatmap\",\"colorbar\":{\"outlinewidth\":0,\"ticks\":\"\"},\"colorscale\":[[0.0,\"#0d0887\"],[0.1111111111111111,\"#46039f\"],[0.2222222222222222,\"#7201a8\"],[0.3333333333333333,\"#9c179e\"],[0.4444444444444444,\"#bd3786\"],[0.5555555555555556,\"#d8576b\"],[0.6666666666666666,\"#ed7953\"],[0.7777777777777778,\"#fb9f3a\"],[0.8888888888888888,\"#fdca26\"],[1.0,\"#f0f921\"]]}],\"heatmapgl\":[{\"type\":\"heatmapgl\",\"colorbar\":{\"outlinewidth\":0,\"ticks\":\"\"},\"colorscale\":[[0.0,\"#0d0887\"],[0.1111111111111111,\"#46039f\"],[0.2222222222222222,\"#7201a8\"],[0.3333333333333333,\"#9c179e\"],[0.4444444444444444,\"#bd3786\"],[0.5555555555555556,\"#d8576b\"],[0.6666666666666666,\"#ed7953\"],[0.7777777777777778,\"#fb9f3a\"],[0.8888888888888888,\"#fdca26\"],[1.0,\"#f0f921\"]]}],\"contourcarpet\":[{\"type\":\"contourcarpet\",\"colorbar\":{\"outlinewidth\":0,\"ticks\":\"\"}}],\"contour\":[{\"type\":\"contour\",\"colorbar\":{\"outlinewidth\":0,\"ticks\":\"\"},\"colorscale\":[[0.0,\"#0d0887\"],[0.1111111111111111,\"#46039f\"],[0.2222222222222222,\"#7201a8\"],[0.3333333333333333,\"#9c179e\"],[0.4444444444444444,\"#bd3786\"],[0.5555555555555556,\"#d8576b\"],[0.6666666666666666,\"#ed7953\"],[0.7777777777777778,\"#fb9f3a\"],[0.8888888888888888,\"#fdca26\"],[1.0,\"#f0f921\"]]}],\"surface\":[{\"type\":\"surface\",\"colorbar\":{\"outlinewidth\":0,\"ticks\":\"\"},\"colorscale\":[[0.0,\"#0d0887\"],[0.1111111111111111,\"#46039f\"],[0.2222222222222222,\"#7201a8\"],[0.3333333333333333,\"#9c179e\"],[0.4444444444444444,\"#bd3786\"],[0.5555555555555556,\"#d8576b\"],[0.6666666666666666,\"#ed7953\"],[0.7777777777777778,\"#fb9f3a\"],[0.8888888888888888,\"#fdca26\"],[1.0,\"#f0f921\"]]}],\"mesh3d\":[{\"type\":\"mesh3d\",\"colorbar\":{\"outlinewidth\":0,\"ticks\":\"\"}}],\"scatter\":[{\"fillpattern\":{\"fillmode\":\"overlay\",\"size\":10,\"solidity\":0.2},\"type\":\"scatter\"}],\"parcoords\":[{\"type\":\"parcoords\",\"line\":{\"colorbar\":{\"outlinewidth\":0,\"ticks\":\"\"}}}],\"scatterpolargl\":[{\"type\":\"scatterpolargl\",\"marker\":{\"colorbar\":{\"outlinewidth\":0,\"ticks\":\"\"}}}],\"bar\":[{\"error_x\":{\"color\":\"#2a3f5f\"},\"error_y\":{\"color\":\"#2a3f5f\"},\"marker\":{\"line\":{\"color\":\"#E5ECF6\",\"width\":0.5},\"pattern\":{\"fillmode\":\"overlay\",\"size\":10,\"solidity\":0.2}},\"type\":\"bar\"}],\"scattergeo\":[{\"type\":\"scattergeo\",\"marker\":{\"colorbar\":{\"outlinewidth\":0,\"ticks\":\"\"}}}],\"scatterpolar\":[{\"type\":\"scatterpolar\",\"marker\":{\"colorbar\":{\"outlinewidth\":0,\"ticks\":\"\"}}}],\"histogram\":[{\"marker\":{\"pattern\":{\"fillmode\":\"overlay\",\"size\":10,\"solidity\":0.2}},\"type\":\"histogram\"}],\"scattergl\":[{\"type\":\"scattergl\",\"marker\":{\"colorbar\":{\"outlinewidth\":0,\"ticks\":\"\"}}}],\"scatter3d\":[{\"type\":\"scatter3d\",\"line\":{\"colorbar\":{\"outlinewidth\":0,\"ticks\":\"\"}},\"marker\":{\"colorbar\":{\"outlinewidth\":0,\"ticks\":\"\"}}}],\"scattermapbox\":[{\"type\":\"scattermapbox\",\"marker\":{\"colorbar\":{\"outlinewidth\":0,\"ticks\":\"\"}}}],\"scatterternary\":[{\"type\":\"scatterternary\",\"marker\":{\"colorbar\":{\"outlinewidth\":0,\"ticks\":\"\"}}}],\"scattercarpet\":[{\"type\":\"scattercarpet\",\"marker\":{\"colorbar\":{\"outlinewidth\":0,\"ticks\":\"\"}}}],\"carpet\":[{\"aaxis\":{\"endlinecolor\":\"#2a3f5f\",\"gridcolor\":\"white\",\"linecolor\":\"white\",\"minorgridcolor\":\"white\",\"startlinecolor\":\"#2a3f5f\"},\"baxis\":{\"endlinecolor\":\"#2a3f5f\",\"gridcolor\":\"white\",\"linecolor\":\"white\",\"minorgridcolor\":\"white\",\"startlinecolor\":\"#2a3f5f\"},\"type\":\"carpet\"}],\"table\":[{\"cells\":{\"fill\":{\"color\":\"#EBF0F8\"},\"line\":{\"color\":\"white\"}},\"header\":{\"fill\":{\"color\":\"#C8D4E3\"},\"line\":{\"color\":\"white\"}},\"type\":\"table\"}],\"barpolar\":[{\"marker\":{\"line\":{\"color\":\"#E5ECF6\",\"width\":0.5},\"pattern\":{\"fillmode\":\"overlay\",\"size\":10,\"solidity\":0.2}},\"type\":\"barpolar\"}],\"pie\":[{\"automargin\":true,\"type\":\"pie\"}]},\"layout\":{\"autotypenumbers\":\"strict\",\"colorway\":[\"#636efa\",\"#EF553B\",\"#00cc96\",\"#ab63fa\",\"#FFA15A\",\"#19d3f3\",\"#FF6692\",\"#B6E880\",\"#FF97FF\",\"#FECB52\"],\"font\":{\"color\":\"#2a3f5f\"},\"hovermode\":\"closest\",\"hoverlabel\":{\"align\":\"left\"},\"paper_bgcolor\":\"white\",\"plot_bgcolor\":\"#E5ECF6\",\"polar\":{\"bgcolor\":\"#E5ECF6\",\"angularaxis\":{\"gridcolor\":\"white\",\"linecolor\":\"white\",\"ticks\":\"\"},\"radialaxis\":{\"gridcolor\":\"white\",\"linecolor\":\"white\",\"ticks\":\"\"}},\"ternary\":{\"bgcolor\":\"#E5ECF6\",\"aaxis\":{\"gridcolor\":\"white\",\"linecolor\":\"white\",\"ticks\":\"\"},\"baxis\":{\"gridcolor\":\"white\",\"linecolor\":\"white\",\"ticks\":\"\"},\"caxis\":{\"gridcolor\":\"white\",\"linecolor\":\"white\",\"ticks\":\"\"}},\"coloraxis\":{\"colorbar\":{\"outlinewidth\":0,\"ticks\":\"\"}},\"colorscale\":{\"sequential\":[[0.0,\"#0d0887\"],[0.1111111111111111,\"#46039f\"],[0.2222222222222222,\"#7201a8\"],[0.3333333333333333,\"#9c179e\"],[0.4444444444444444,\"#bd3786\"],[0.5555555555555556,\"#d8576b\"],[0.6666666666666666,\"#ed7953\"],[0.7777777777777778,\"#fb9f3a\"],[0.8888888888888888,\"#fdca26\"],[1.0,\"#f0f921\"]],\"sequentialminus\":[[0.0,\"#0d0887\"],[0.1111111111111111,\"#46039f\"],[0.2222222222222222,\"#7201a8\"],[0.3333333333333333,\"#9c179e\"],[0.4444444444444444,\"#bd3786\"],[0.5555555555555556,\"#d8576b\"],[0.6666666666666666,\"#ed7953\"],[0.7777777777777778,\"#fb9f3a\"],[0.8888888888888888,\"#fdca26\"],[1.0,\"#f0f921\"]],\"diverging\":[[0,\"#8e0152\"],[0.1,\"#c51b7d\"],[0.2,\"#de77ae\"],[0.3,\"#f1b6da\"],[0.4,\"#fde0ef\"],[0.5,\"#f7f7f7\"],[0.6,\"#e6f5d0\"],[0.7,\"#b8e186\"],[0.8,\"#7fbc41\"],[0.9,\"#4d9221\"],[1,\"#276419\"]]},\"xaxis\":{\"gridcolor\":\"white\",\"linecolor\":\"white\",\"ticks\":\"\",\"title\":{\"standoff\":15},\"zerolinecolor\":\"white\",\"automargin\":true,\"zerolinewidth\":2},\"yaxis\":{\"gridcolor\":\"white\",\"linecolor\":\"white\",\"ticks\":\"\",\"title\":{\"standoff\":15},\"zerolinecolor\":\"white\",\"automargin\":true,\"zerolinewidth\":2},\"scene\":{\"xaxis\":{\"backgroundcolor\":\"#E5ECF6\",\"gridcolor\":\"white\",\"linecolor\":\"white\",\"showbackground\":true,\"ticks\":\"\",\"zerolinecolor\":\"white\",\"gridwidth\":2},\"yaxis\":{\"backgroundcolor\":\"#E5ECF6\",\"gridcolor\":\"white\",\"linecolor\":\"white\",\"showbackground\":true,\"ticks\":\"\",\"zerolinecolor\":\"white\",\"gridwidth\":2},\"zaxis\":{\"backgroundcolor\":\"#E5ECF6\",\"gridcolor\":\"white\",\"linecolor\":\"white\",\"showbackground\":true,\"ticks\":\"\",\"zerolinecolor\":\"white\",\"gridwidth\":2}},\"shapedefaults\":{\"line\":{\"color\":\"#2a3f5f\"}},\"annotationdefaults\":{\"arrowcolor\":\"#2a3f5f\",\"arrowhead\":0,\"arrowwidth\":1},\"geo\":{\"bgcolor\":\"white\",\"landcolor\":\"#E5ECF6\",\"subunitcolor\":\"white\",\"showland\":true,\"showlakes\":true,\"lakecolor\":\"white\"},\"title\":{\"x\":0.05},\"mapbox\":{\"style\":\"light\"}}},\"legend\":{\"tracegroupgap\":0},\"title\":{\"text\":\"My pie\"}},                        {\"responsive\": true}                    ).then(function(){\n",
       "                            \n",
       "var gd = document.getElementById('14dff2d4-ec51-4ed8-9ea3-45234ec59269');\n",
       "var x = new MutationObserver(function (mutations, observer) {{\n",
       "        var display = window.getComputedStyle(gd).display;\n",
       "        if (!display || display === 'none') {{\n",
       "            console.log([gd, 'removed!']);\n",
       "            Plotly.purge(gd);\n",
       "            observer.disconnect();\n",
       "        }}\n",
       "}});\n",
       "\n",
       "// Listen for the removal of the full notebook cells\n",
       "var notebookContainer = gd.closest('#notebook-container');\n",
       "if (notebookContainer) {{\n",
       "    x.observe(notebookContainer, {childList: true});\n",
       "}}\n",
       "\n",
       "// Listen for the clearing of the current output cell\n",
       "var outputEl = gd.closest('.output');\n",
       "if (outputEl) {{\n",
       "    x.observe(outputEl, {childList: true});\n",
       "}}\n",
       "\n",
       "                        })                };                });            </script>        </div>"
      ]
     },
     "metadata": {},
     "output_type": "display_data"
    }
   ],
   "source": [
    "fig.show()"
   ]
  },
  {
   "cell_type": "code",
   "execution_count": 105,
   "id": "4fc1458e-3a22-4e92-9f45-677d084cf229",
   "metadata": {
    "tags": []
   },
   "outputs": [
    {
     "name": "stdout",
     "output_type": "stream",
     "text": [
      "{'address1': '818 Bourke Street', 'address2': 'Level 5', 'city': 'Docklands', 'state': 'VIC', 'zip': '3008', 'country': 'Australia', 'phone': '61 3 8363 9000', 'website': 'https://www.costagroup.com.au', 'industry': 'Farm Products', 'sector': 'Consumer Defensive', 'longBusinessSummary': 'Costa Group Holdings Limited produces, packs, and markets fruits and vegetables to food retailers. It operates through three segments: Produce, Costa Farms and Logistics, and International. Produce segment engages in farming, packing, and marketing of berries, mushrooms, glasshouse grown tomatoes, citrus, and avocados and bananas primarily to food retailers. Its Costa Farms and Logistics segment operates logistics, wholesale, and marketing services including warehousing and ripening facilities, and trading within Australia. International segment engages in licensing blueberry varieties in Australia, the Americas, China, Africa, and internationally; and berry farming activities in Morocco and China. It also exports its products. The company was founded in 1888 and is headquartered in Docklands, Australia.', 'companyOfficers': [{'maxAge': 1, 'name': 'Mr. Harry George Debney BAppSc (Hons)', 'title': 'Interim CEO & Director', 'fiscalYear': 2022, 'totalPay': 341026, 'exercisedValue': 0, 'unexercisedValue': 0}, {'maxAge': 1, 'name': 'Mr. Wayne Kenneth Johnston', 'title': 'Chief Financial Officer', 'fiscalYear': 2022, 'totalPay': 513149, 'exercisedValue': 0, 'unexercisedValue': 0}, {'maxAge': 1, 'name': 'Mr. Marc  Werner', 'title': 'Group COO & Deputy CEO', 'fiscalYear': 2022, 'totalPay': 610370, 'exercisedValue': 0, 'unexercisedValue': 0}, {'maxAge': 1, 'name': 'Mr. Mark  Brown', 'title': 'Chief Information Officer', 'exercisedValue': 0, 'unexercisedValue': 0}, {'maxAge': 1, 'name': 'Mr. David  Thomas LLB(Hons), BSc', 'title': 'Gen. Counsel & Company Sec.', 'exercisedValue': 0, 'unexercisedValue': 0}, {'maxAge': 1, 'name': 'Mr. Carl  Phillips', 'title': 'Chief People Officer', 'exercisedValue': 0, 'unexercisedValue': 0}, {'maxAge': 1, 'name': 'Ms. Kirsty  Deglas', 'title': 'Chief Strategy Officer', 'exercisedValue': 0, 'unexercisedValue': 0}], 'auditRisk': 4, 'boardRisk': 4, 'compensationRisk': 6, 'shareHolderRightsRisk': 1, 'overallRisk': 4, 'governanceEpochDate': 1693526400, 'compensationAsOfEpochDate': 1672444800, 'maxAge': 86400, 'priceHint': 4, 'previousClose': 2.83, 'open': 2.82, 'dayLow': 2.82, 'dayHigh': 2.91, 'regularMarketPreviousClose': 2.83, 'regularMarketOpen': 2.82, 'regularMarketDayLow': 2.82, 'regularMarketDayHigh': 2.91, 'dividendRate': 0.09, 'dividendYield': 0.0318, 'exDividendDate': 1678233600, 'payoutRatio': 1.9481, 'fiveYearAvgDividendYield': 2.67, 'beta': 0.584084, 'trailingPE': 58.0, 'forwardPE': 22.307693, 'volume': 703349, 'regularMarketVolume': 703349, 'averageVolume': 1692751, 'averageVolume10days': 1487646, 'averageDailyVolume10Day': 1487646, 'bid': 3.19, 'ask': 2.74, 'bidSize': 621900, 'askSize': 786900, 'marketCap': 1347659136, 'fiftyTwoWeekLow': 1.93, 'fiftyTwoWeekHigh': 3.39, 'priceToSalesTrailing12Months': 0.94932175, 'fiftyDayAverage': 3.2096, 'twoHundredDayAverage': 2.7646, 'trailingAnnualDividendRate': 0.05, 'trailingAnnualDividendYield': 0.017667845, 'currency': 'AUD', 'enterpriseValue': 2313609728, 'profitMargins': 0.015149999, 'floatShares': 386206368, 'sharesOutstanding': 464710016, 'heldPercentInsiders': 0.03927, 'heldPercentInstitutions': 0.47479, 'bookValue': 1.683, 'priceToBook': 1.7231135, 'lastFiscalYearEnd': 1672531200, 'nextFiscalYearEnd': 1704067200, 'mostRecentQuarter': 1688256000, 'earningsQuarterlyGrowth': -0.32, 'netIncomeToCommon': 21514000, 'trailingEps': 0.05, 'forwardEps': 0.13, 'pegRatio': 11.3, 'enterpriseToRevenue': 1.63, 'enterpriseToEbitda': 15.233, 'exchange': 'ASX', 'quoteType': 'EQUITY', 'symbol': 'CGC.AX', 'underlyingSymbol': 'CGC.AX', 'shortName': 'COSTA GRP FPO', 'longName': 'Costa Group Holdings Limited', 'firstTradeDateEpochUtc': 1437696000, 'timeZoneFullName': 'Australia/Sydney', 'timeZoneShortName': 'AEST', 'gmtOffSetMilliseconds': 36000000, 'currentPrice': 2.9, 'targetHighPrice': 3.2, 'targetLowPrice': 2.57, 'targetMeanPrice': 2.93, 'targetMedianPrice': 3.0, 'recommendationMean': 2.7, 'recommendationKey': 'hold', 'numberOfAnalystOpinions': 10, 'totalCash': 205794000, 'totalCashPerShare': 0.443, 'ebitda': 151880992, 'totalDebt': 1138800000, 'quickRatio': 1.343, 'currentRatio': 1.882, 'totalRevenue': 1419602048, 'debtToEquity': 134.343, 'revenuePerShare': 3.056, 'returnOnAssets': 0.021470001, 'returnOnEquity': 0.04997, 'grossProfits': 921230000, 'freeCashflow': 76675752, 'operatingCashflow': 155084000, 'earningsGrowth': -0.321, 'revenueGrowth': 0.088, 'grossMargins': 0.67522, 'ebitdaMargins': 0.10699, 'operatingMargins': 0.05235, 'financialCurrency': 'AUD', 'trailingPegRatio': None}\n",
      "symbol=%s, val=%s CGC.AX 19.526629097166712\n"
     ]
    }
   ],
   "source": [
    "import yfinance as yf\n",
    "\n",
    "symbol = 'CGC.AX'\n",
    "stock = yf.Ticker(symbol)\n",
    "print(stock.info)\n",
    "q_history=stock.history(period=\"1mo\")\n",
    "max=q_history['High'].max()\n",
    "min=q_history['Low'].min()\n",
    "delta=((max-min)/max)*100\n",
    "print('symbol=%s, val=%s',symbol, delta)"
   ]
  },
  {
   "cell_type": "code",
   "execution_count": null,
   "id": "d6a37bb5-6166-464b-b135-dff9376ed0c8",
   "metadata": {},
   "outputs": [],
   "source": []
  },
  {
   "cell_type": "code",
   "execution_count": 92,
   "id": "51481780-da59-460e-aea8-687224cbaf55",
   "metadata": {
    "tags": []
   },
   "outputs": [
    {
     "name": "stderr",
     "output_type": "stream",
     "text": [
      "14D: No data found, symbol may be delisted\n"
     ]
    },
    {
     "name": "stdout",
     "output_type": "stream",
     "text": [
      "symbol=%s, val=%s 14D nan\n"
     ]
    },
    {
     "name": "stderr",
     "output_type": "stream",
     "text": [
      "1AD: No data found, symbol may be delisted\n"
     ]
    },
    {
     "name": "stdout",
     "output_type": "stream",
     "text": [
      "symbol=%s, val=%s 1AD nan\n"
     ]
    },
    {
     "name": "stderr",
     "output_type": "stream",
     "text": [
      "1AE: No data found, symbol may be delisted\n"
     ]
    },
    {
     "name": "stdout",
     "output_type": "stream",
     "text": [
      "symbol=%s, val=%s 1AE nan\n"
     ]
    },
    {
     "name": "stderr",
     "output_type": "stream",
     "text": [
      "1AG: No data found, symbol may be delisted\n"
     ]
    },
    {
     "name": "stdout",
     "output_type": "stream",
     "text": [
      "symbol=%s, val=%s 1AG nan\n"
     ]
    },
    {
     "name": "stderr",
     "output_type": "stream",
     "text": [
      "1AI: No data found, symbol may be delisted\n"
     ]
    },
    {
     "name": "stdout",
     "output_type": "stream",
     "text": [
      "symbol=%s, val=%s 1AI nan\n"
     ]
    },
    {
     "name": "stderr",
     "output_type": "stream",
     "text": [
      "1CG: No data found, symbol may be delisted\n"
     ]
    },
    {
     "name": "stdout",
     "output_type": "stream",
     "text": [
      "symbol=%s, val=%s 1CG nan\n"
     ]
    },
    {
     "name": "stderr",
     "output_type": "stream",
     "text": [
      "1MC: No data found, symbol may be delisted\n"
     ]
    },
    {
     "name": "stdout",
     "output_type": "stream",
     "text": [
      "symbol=%s, val=%s 1MC nan\n"
     ]
    },
    {
     "name": "stderr",
     "output_type": "stream",
     "text": [
      "1ST: No data found, symbol may be delisted\n"
     ]
    },
    {
     "name": "stdout",
     "output_type": "stream",
     "text": [
      "symbol=%s, val=%s 1ST nan\n"
     ]
    },
    {
     "name": "stderr",
     "output_type": "stream",
     "text": [
      "1TT: No data found, symbol may be delisted\n"
     ]
    },
    {
     "name": "stdout",
     "output_type": "stream",
     "text": [
      "symbol=%s, val=%s 1TT nan\n"
     ]
    },
    {
     "name": "stderr",
     "output_type": "stream",
     "text": [
      "29M: No data found, symbol may be delisted\n"
     ]
    },
    {
     "name": "stdout",
     "output_type": "stream",
     "text": [
      "symbol=%s, val=%s 29M nan\n"
     ]
    },
    {
     "name": "stderr",
     "output_type": "stream",
     "text": [
      "360: No data found, symbol may be delisted\n"
     ]
    },
    {
     "name": "stdout",
     "output_type": "stream",
     "text": [
      "symbol=%s, val=%s 360 nan\n"
     ]
    },
    {
     "name": "stderr",
     "output_type": "stream",
     "text": [
      "3DA: No data found, symbol may be delisted\n"
     ]
    },
    {
     "name": "stdout",
     "output_type": "stream",
     "text": [
      "symbol=%s, val=%s 3DA nan\n"
     ]
    },
    {
     "name": "stderr",
     "output_type": "stream",
     "text": [
      "3DP: No data found, symbol may be delisted\n"
     ]
    },
    {
     "name": "stdout",
     "output_type": "stream",
     "text": [
      "symbol=%s, val=%s 3DP nan\n"
     ]
    },
    {
     "name": "stderr",
     "output_type": "stream",
     "text": [
      "3PL: No data found, symbol may be delisted\n"
     ]
    },
    {
     "name": "stdout",
     "output_type": "stream",
     "text": [
      "symbol=%s, val=%s 3PL nan\n"
     ]
    },
    {
     "name": "stderr",
     "output_type": "stream",
     "text": [
      "4DS: No data found, symbol may be delisted\n"
     ]
    },
    {
     "name": "stdout",
     "output_type": "stream",
     "text": [
      "symbol=%s, val=%s 4DS nan\n"
     ]
    },
    {
     "name": "stderr",
     "output_type": "stream",
     "text": [
      "4DX: No data found, symbol may be delisted\n"
     ]
    },
    {
     "name": "stdout",
     "output_type": "stream",
     "text": [
      "symbol=%s, val=%s 4DX nan\n"
     ]
    },
    {
     "name": "stderr",
     "output_type": "stream",
     "text": [
      "5EA: No data found, symbol may be delisted\n"
     ]
    },
    {
     "name": "stdout",
     "output_type": "stream",
     "text": [
      "symbol=%s, val=%s 5EA nan\n"
     ]
    },
    {
     "name": "stderr",
     "output_type": "stream",
     "text": [
      "5GG: No data found, symbol may be delisted\n"
     ]
    },
    {
     "name": "stdout",
     "output_type": "stream",
     "text": [
      "symbol=%s, val=%s 5GG nan\n"
     ]
    },
    {
     "name": "stderr",
     "output_type": "stream",
     "text": [
      "88E: No data found, symbol may be delisted\n"
     ]
    },
    {
     "name": "stdout",
     "output_type": "stream",
     "text": [
      "symbol=%s, val=%s 88E nan\n"
     ]
    },
    {
     "name": "stderr",
     "output_type": "stream",
     "text": [
      "8CO: No data found, symbol may be delisted\n"
     ]
    },
    {
     "name": "stdout",
     "output_type": "stream",
     "text": [
      "symbol=%s, val=%s 8CO nan\n"
     ]
    },
    {
     "name": "stderr",
     "output_type": "stream",
     "text": [
      "8IH: No data found, symbol may be delisted\n"
     ]
    },
    {
     "name": "stdout",
     "output_type": "stream",
     "text": [
      "symbol=%s, val=%s 8IH nan\n"
     ]
    },
    {
     "name": "stderr",
     "output_type": "stream",
     "text": [
      "8VI: No data found, symbol may be delisted\n"
     ]
    },
    {
     "name": "stdout",
     "output_type": "stream",
     "text": [
      "symbol=%s, val=%s 8VI nan\n"
     ]
    },
    {
     "name": "stderr",
     "output_type": "stream",
     "text": [
      "92E: No data found, symbol may be delisted\n"
     ]
    },
    {
     "name": "stdout",
     "output_type": "stream",
     "text": [
      "symbol=%s, val=%s 92E nan\n"
     ]
    },
    {
     "name": "stderr",
     "output_type": "stream",
     "text": [
      "A11: No data found, symbol may be delisted\n"
     ]
    },
    {
     "name": "stdout",
     "output_type": "stream",
     "text": [
      "symbol=%s, val=%s A11 nan\n"
     ]
    },
    {
     "name": "stderr",
     "output_type": "stream",
     "text": [
      "A1G: No data found, symbol may be delisted\n"
     ]
    },
    {
     "name": "stdout",
     "output_type": "stream",
     "text": [
      "symbol=%s, val=%s A1G nan\n"
     ]
    },
    {
     "name": "stderr",
     "output_type": "stream",
     "text": [
      "A1M: No data found, symbol may be delisted\n"
     ]
    },
    {
     "name": "stdout",
     "output_type": "stream",
     "text": [
      "symbol=%s, val=%s A1M nan\n"
     ]
    },
    {
     "name": "stderr",
     "output_type": "stream",
     "text": [
      "A1N: No data found, symbol may be delisted\n"
     ]
    },
    {
     "name": "stdout",
     "output_type": "stream",
     "text": [
      "symbol=%s, val=%s A1N nan\n"
     ]
    },
    {
     "name": "stderr",
     "output_type": "stream",
     "text": [
      "A2B: No data found, symbol may be delisted\n"
     ]
    },
    {
     "name": "stdout",
     "output_type": "stream",
     "text": [
      "symbol=%s, val=%s A2B nan\n"
     ]
    },
    {
     "name": "stderr",
     "output_type": "stream",
     "text": [
      "A2M: No data found, symbol may be delisted\n"
     ]
    },
    {
     "name": "stdout",
     "output_type": "stream",
     "text": [
      "symbol=%s, val=%s A2M nan\n"
     ]
    },
    {
     "name": "stderr",
     "output_type": "stream",
     "text": [
      "A3D: No data found, symbol may be delisted\n"
     ]
    },
    {
     "name": "stdout",
     "output_type": "stream",
     "text": [
      "symbol=%s, val=%s A3D nan\n"
     ]
    },
    {
     "name": "stderr",
     "output_type": "stream",
     "text": [
      "A4N: No data found, symbol may be delisted\n"
     ]
    },
    {
     "name": "stdout",
     "output_type": "stream",
     "text": [
      "symbol=%s, val=%s A4N nan\n"
     ]
    },
    {
     "name": "stderr",
     "output_type": "stream",
     "text": [
      "A8G: No data found, symbol may be delisted\n"
     ]
    },
    {
     "name": "stdout",
     "output_type": "stream",
     "text": [
      "symbol=%s, val=%s A8G nan\n",
      "symbol=%s, val=%s AAC 2.23881267550565\n"
     ]
    },
    {
     "name": "stderr",
     "output_type": "stream",
     "text": [
      "AAJ: No price data found, symbol may be delisted (period=3mo)\n"
     ]
    },
    {
     "name": "stdout",
     "output_type": "stream",
     "text": [
      "symbol=%s, val=%s AAJ nan\n",
      "symbol=%s, val=%s AAP 16.4123143539455\n"
     ]
    },
    {
     "name": "stderr",
     "output_type": "stream",
     "text": [
      "AAR: No price data found, symbol may be delisted (period=3mo)\n"
     ]
    },
    {
     "name": "stdout",
     "output_type": "stream",
     "text": [
      "symbol=%s, val=%s AAR nan\n",
      "symbol=%s, val=%s AAU 29.411767026132342\n"
     ]
    },
    {
     "name": "stderr",
     "output_type": "stream",
     "text": [
      "ABA: No data found, symbol may be delisted\n"
     ]
    },
    {
     "name": "stdout",
     "output_type": "stream",
     "text": [
      "symbol=%s, val=%s ABA nan\n"
     ]
    },
    {
     "name": "stderr",
     "output_type": "stream",
     "text": [
      "ABB: No data found, symbol may be delisted\n"
     ]
    },
    {
     "name": "stdout",
     "output_type": "stream",
     "text": [
      "symbol=%s, val=%s ABB nan\n",
      "symbol=%s, val=%s ABC 11.648725430398455\n"
     ]
    },
    {
     "name": "stderr",
     "output_type": "stream",
     "text": [
      "ABE: No price data found, symbol may be delisted (period=3mo)\n"
     ]
    },
    {
     "name": "stdout",
     "output_type": "stream",
     "text": [
      "symbol=%s, val=%s ABE nan\n",
      "symbol=%s, val=%s ABG 16.34229367813985\n"
     ]
    },
    {
     "name": "stderr",
     "output_type": "stream",
     "text": [
      "ABV: No price data found, symbol may be delisted (period=3mo)\n"
     ]
    },
    {
     "name": "stdout",
     "output_type": "stream",
     "text": [
      "symbol=%s, val=%s ABV nan\n"
     ]
    },
    {
     "name": "stderr",
     "output_type": "stream",
     "text": [
      "ABX: No price data found, symbol may be delisted (period=3mo)\n"
     ]
    },
    {
     "name": "stdout",
     "output_type": "stream",
     "text": [
      "symbol=%s, val=%s ABX nan\n"
     ]
    },
    {
     "name": "stderr",
     "output_type": "stream",
     "text": [
      "ABY: No price data found, symbol may be delisted (period=3mo)\n"
     ]
    },
    {
     "name": "stdout",
     "output_type": "stream",
     "text": [
      "symbol=%s, val=%s ABY nan\n"
     ]
    },
    {
     "name": "stderr",
     "output_type": "stream",
     "text": [
      "AC8: No data found, symbol may be delisted\n"
     ]
    },
    {
     "name": "stdout",
     "output_type": "stream",
     "text": [
      "symbol=%s, val=%s AC8 nan\n",
      "symbol=%s, val=%s ACB 53.73134598658997\n"
     ]
    },
    {
     "name": "stderr",
     "output_type": "stream",
     "text": [
      "ACE: No price data found, symbol may be delisted (period=3mo)\n"
     ]
    },
    {
     "name": "stdout",
     "output_type": "stream",
     "text": [
      "symbol=%s, val=%s ACE nan\n"
     ]
    },
    {
     "name": "stderr",
     "output_type": "stream",
     "text": [
      "ACF: No price data found, symbol may be delisted (period=3mo)\n"
     ]
    },
    {
     "name": "stdout",
     "output_type": "stream",
     "text": [
      "symbol=%s, val=%s ACF nan\n"
     ]
    },
    {
     "name": "stderr",
     "output_type": "stream",
     "text": [
      "ACL: No price data found, symbol may be delisted (period=3mo)\n"
     ]
    },
    {
     "name": "stdout",
     "output_type": "stream",
     "text": [
      "symbol=%s, val=%s ACL nan\n",
      "symbol=%s, val=%s ACM 9.207159736682813\n",
      "symbol=%s, val=%s ACP 8.959371513797667\n"
     ]
    },
    {
     "name": "stderr",
     "output_type": "stream",
     "text": [
      "ACQ: No price data found, symbol may be delisted (period=3mo)\n"
     ]
    },
    {
     "name": "stdout",
     "output_type": "stream",
     "text": [
      "symbol=%s, val=%s ACQ nan\n",
      "symbol=%s, val=%s ACR 16.139238468889893\n"
     ]
    },
    {
     "name": "stderr",
     "output_type": "stream",
     "text": [
      "ACS: No price data found, symbol may be delisted (period=3mo)\n"
     ]
    },
    {
     "name": "stdout",
     "output_type": "stream",
     "text": [
      "symbol=%s, val=%s ACS nan\n",
      "symbol=%s, val=%s ACU 37.1266268484666\n"
     ]
    },
    {
     "name": "stderr",
     "output_type": "stream",
     "text": [
      "ACW: No price data found, symbol may be delisted (period=3mo)\n"
     ]
    },
    {
     "name": "stdout",
     "output_type": "stream",
     "text": [
      "symbol=%s, val=%s ACW nan\n"
     ]
    },
    {
     "name": "stderr",
     "output_type": "stream",
     "text": [
      "AD1: No data found, symbol may be delisted\n"
     ]
    },
    {
     "name": "stdout",
     "output_type": "stream",
     "text": [
      "symbol=%s, val=%s AD1 nan\n"
     ]
    },
    {
     "name": "stderr",
     "output_type": "stream",
     "text": [
      "AD8: No data found, symbol may be delisted\n"
     ]
    },
    {
     "name": "stdout",
     "output_type": "stream",
     "text": [
      "symbol=%s, val=%s AD8 nan\n"
     ]
    },
    {
     "name": "stderr",
     "output_type": "stream",
     "text": [
      "ADA: No price data found, symbol may be delisted (period=3mo)\n"
     ]
    },
    {
     "name": "stdout",
     "output_type": "stream",
     "text": [
      "symbol=%s, val=%s ADA nan\n",
      "symbol=%s, val=%s ADC 12.842741349843681\n",
      "symbol=%s, val=%s ADD 33.11258299058689\n"
     ]
    },
    {
     "name": "stderr",
     "output_type": "stream",
     "text": [
      "ADG: No price data found, symbol may be delisted (period=3mo)\n"
     ]
    },
    {
     "name": "stdout",
     "output_type": "stream",
     "text": [
      "symbol=%s, val=%s ADG nan\n"
     ]
    },
    {
     "name": "stderr",
     "output_type": "stream",
     "text": [
      "ADH: No price data found, symbol may be delisted (period=3mo)\n"
     ]
    },
    {
     "name": "stdout",
     "output_type": "stream",
     "text": [
      "symbol=%s, val=%s ADH nan\n",
      "symbol=%s, val=%s ADN 50.0\n"
     ]
    },
    {
     "name": "stderr",
     "output_type": "stream",
     "text": [
      "ADO: No price data found, symbol may be delisted (period=3mo)\n"
     ]
    },
    {
     "name": "stdout",
     "output_type": "stream",
     "text": [
      "symbol=%s, val=%s ADO nan\n"
     ]
    },
    {
     "name": "stderr",
     "output_type": "stream",
     "text": [
      "ADR: No price data found, symbol may be delisted (period=3mo)\n"
     ]
    },
    {
     "name": "stdout",
     "output_type": "stream",
     "text": [
      "symbol=%s, val=%s ADR nan\n"
     ]
    },
    {
     "name": "stderr",
     "output_type": "stream",
     "text": [
      "ADS: No data found, symbol may be delisted\n"
     ]
    },
    {
     "name": "stdout",
     "output_type": "stream",
     "text": [
      "symbol=%s, val=%s ADS nan\n",
      "symbol=%s, val=%s ADT 14.999999298768904\n",
      "symbol=%s, val=%s ADV 28.49829416799689\n",
      "symbol=%s, val=%s ADX 9.456798995130168\n"
     ]
    },
    {
     "name": "stderr",
     "output_type": "stream",
     "text": [
      "ADY: No price data found, symbol may be delisted (period=3mo)\n"
     ]
    },
    {
     "name": "stdout",
     "output_type": "stream",
     "text": [
      "symbol=%s, val=%s ADY nan\n",
      "symbol=%s, val=%s AEE 13.604598206438755\n",
      "symbol=%s, val=%s AEF 9.60145310941452\n",
      "symbol=%s, val=%s AEI 38.72548905027593\n",
      "symbol=%s, val=%s AER 14.949639409566098\n"
     ]
    },
    {
     "name": "stderr",
     "output_type": "stream",
     "text": [
      "AEV: No price data found, symbol may be delisted (period=3mo)\n"
     ]
    },
    {
     "name": "stdout",
     "output_type": "stream",
     "text": [
      "symbol=%s, val=%s AEV nan\n"
     ]
    },
    {
     "name": "stderr",
     "output_type": "stream",
     "text": [
      "AFA: No data found, symbol may be delisted\n"
     ]
    },
    {
     "name": "stdout",
     "output_type": "stream",
     "text": [
      "symbol=%s, val=%s AFA nan\n",
      "symbol=%s, val=%s AFG 12.180522187752958\n"
     ]
    },
    {
     "name": "stderr",
     "output_type": "stream",
     "text": [
      "AFI: No data found, symbol may be delisted\n"
     ]
    },
    {
     "name": "stdout",
     "output_type": "stream",
     "text": [
      "symbol=%s, val=%s AFI nan\n",
      "symbol=%s, val=%s AFL 15.109010315757098\n"
     ]
    },
    {
     "name": "stderr",
     "output_type": "stream",
     "text": [
      "AFP: No price data found, symbol may be delisted (period=3mo)\n"
     ]
    },
    {
     "name": "stdout",
     "output_type": "stream",
     "text": [
      "symbol=%s, val=%s AFP nan\n"
     ]
    },
    {
     "name": "stderr",
     "output_type": "stream",
     "text": [
      "AFW: No data found, symbol may be delisted\n"
     ]
    },
    {
     "name": "stdout",
     "output_type": "stream",
     "text": [
      "symbol=%s, val=%s AFW nan\n"
     ]
    },
    {
     "name": "stderr",
     "output_type": "stream",
     "text": [
      "AGC: No data found, symbol may be delisted\n"
     ]
    },
    {
     "name": "stdout",
     "output_type": "stream",
     "text": [
      "symbol=%s, val=%s AGC nan\n",
      "symbol=%s, val=%s AGD 6.153847191843977\n",
      "symbol=%s, val=%s AGE 37.00000047683716\n"
     ]
    },
    {
     "name": "stderr",
     "output_type": "stream",
     "text": [
      "AGH: No price data found, symbol may be delisted (period=3mo)\n"
     ]
    },
    {
     "name": "stdout",
     "output_type": "stream",
     "text": [
      "symbol=%s, val=%s AGH nan\n",
      "symbol=%s, val=%s AGI 16.335880007681812\n",
      "symbol=%s, val=%s AGL 25.511150810117954\n"
     ]
    },
    {
     "name": "stderr",
     "output_type": "stream",
     "text": [
      "AGN: No data found, symbol may be delisted\n"
     ]
    },
    {
     "name": "stdout",
     "output_type": "stream",
     "text": [
      "symbol=%s, val=%s AGN nan\n",
      "symbol=%s, val=%s AGR 13.660245068763482\n"
     ]
    },
    {
     "name": "stderr",
     "output_type": "stream",
     "text": [
      "AGY: No price data found, symbol may be delisted (period=3mo)\n"
     ]
    },
    {
     "name": "stdout",
     "output_type": "stream",
     "text": [
      "symbol=%s, val=%s AGY nan\n"
     ]
    },
    {
     "name": "stderr",
     "output_type": "stream",
     "text": [
      "AHC: No data found, symbol may be delisted\n"
     ]
    },
    {
     "name": "stdout",
     "output_type": "stream",
     "text": [
      "symbol=%s, val=%s AHC nan\n"
     ]
    },
    {
     "name": "stderr",
     "output_type": "stream",
     "text": [
      "AHF: No price data found, symbol may be delisted (period=3mo)\n"
     ]
    },
    {
     "name": "stdout",
     "output_type": "stream",
     "text": [
      "symbol=%s, val=%s AHF nan\n",
      "symbol=%s, val=%s AHI 82.13917530524336\n"
     ]
    },
    {
     "name": "stderr",
     "output_type": "stream",
     "text": [
      "AHK: No price data found, symbol may be delisted (period=3mo)\n"
     ]
    },
    {
     "name": "stdout",
     "output_type": "stream",
     "text": [
      "symbol=%s, val=%s AHK nan\n"
     ]
    },
    {
     "name": "stderr",
     "output_type": "stream",
     "text": [
      "AHL: No price data found, symbol may be delisted (period=3mo)\n"
     ]
    },
    {
     "name": "stdout",
     "output_type": "stream",
     "text": [
      "symbol=%s, val=%s AHL nan\n"
     ]
    },
    {
     "name": "stderr",
     "output_type": "stream",
     "text": [
      "AHN: No price data found, symbol may be delisted (period=3mo)\n"
     ]
    },
    {
     "name": "stdout",
     "output_type": "stream",
     "text": [
      "symbol=%s, val=%s AHN nan\n"
     ]
    },
    {
     "name": "stderr",
     "output_type": "stream",
     "text": [
      "AHX: No price data found, symbol may be delisted (period=3mo)\n"
     ]
    },
    {
     "name": "stdout",
     "output_type": "stream",
     "text": [
      "symbol=%s, val=%s AHX nan\n",
      "symbol=%s, val=%s AIA 11.811023622047244\n"
     ]
    },
    {
     "name": "stderr",
     "output_type": "stream",
     "text": [
      "AII: No price data found, symbol may be delisted (period=3mo)\n"
     ]
    },
    {
     "name": "stdout",
     "output_type": "stream",
     "text": [
      "symbol=%s, val=%s AII nan\n",
      "symbol=%s, val=%s AIM 41.33333365122478\n",
      "symbol=%s, val=%s AIQ 10.69603154115887\n"
     ]
    },
    {
     "name": "stderr",
     "output_type": "stream",
     "text": [
      "AIS: No price data found, symbol may be delisted (period=3mo)\n"
     ]
    },
    {
     "name": "stdout",
     "output_type": "stream",
     "text": [
      "symbol=%s, val=%s AIS nan\n",
      "symbol=%s, val=%s AIV 18.14110086264271\n",
      "symbol=%s, val=%s AIZ 16.30389183558157\n"
     ]
    },
    {
     "name": "stderr",
     "output_type": "stream",
     "text": [
      "AJJ: No price data found, symbol may be delisted (period=3mo)\n"
     ]
    },
    {
     "name": "stdout",
     "output_type": "stream",
     "text": [
      "symbol=%s, val=%s AJJ nan\n"
     ]
    },
    {
     "name": "stderr",
     "output_type": "stream",
     "text": [
      "AJL: No price data found, symbol may be delisted (period=3mo)\n"
     ]
    },
    {
     "name": "stdout",
     "output_type": "stream",
     "text": [
      "symbol=%s, val=%s AJL nan\n"
     ]
    },
    {
     "name": "stderr",
     "output_type": "stream",
     "text": [
      "AJQ: Period '3mo' is invalid, must be one of ['1d', '5d']\n"
     ]
    },
    {
     "name": "stdout",
     "output_type": "stream",
     "text": [
      "symbol=%s, val=%s AJQ nan\n",
      "symbol=%s, val=%s AJX 22.52777481249037\n"
     ]
    },
    {
     "name": "stderr",
     "output_type": "stream",
     "text": [
      "AJY: No price data found, symbol may be delisted (period=3mo)\n"
     ]
    },
    {
     "name": "stdout",
     "output_type": "stream",
     "text": [
      "symbol=%s, val=%s AJY nan\n"
     ]
    },
    {
     "name": "stderr",
     "output_type": "stream",
     "text": [
      "AKE: No data found, symbol may be delisted\n"
     ]
    },
    {
     "name": "stdout",
     "output_type": "stream",
     "text": [
      "symbol=%s, val=%s AKE nan\n"
     ]
    },
    {
     "name": "stderr",
     "output_type": "stream",
     "text": [
      "AKG: No data found, symbol may be delisted\n"
     ]
    },
    {
     "name": "stdout",
     "output_type": "stream",
     "text": [
      "symbol=%s, val=%s AKG nan\n"
     ]
    },
    {
     "name": "stderr",
     "output_type": "stream",
     "text": [
      "AKM: No price data found, symbol may be delisted (period=3mo)\n"
     ]
    },
    {
     "name": "stdout",
     "output_type": "stream",
     "text": [
      "symbol=%s, val=%s AKM nan\n"
     ]
    },
    {
     "name": "stderr",
     "output_type": "stream",
     "text": [
      "AKN: No price data found, symbol may be delisted (period=3mo)\n"
     ]
    },
    {
     "name": "stdout",
     "output_type": "stream",
     "text": [
      "symbol=%s, val=%s AKN nan\n"
     ]
    },
    {
     "name": "stderr",
     "output_type": "stream",
     "text": [
      "AKO: Period '3mo' is invalid, must be one of ['1d', '5d']\n"
     ]
    },
    {
     "name": "stdout",
     "output_type": "stream",
     "text": [
      "symbol=%s, val=%s AKO nan\n"
     ]
    },
    {
     "name": "stderr",
     "output_type": "stream",
     "text": [
      "AKP: No data found, symbol may be delisted\n"
     ]
    },
    {
     "name": "stdout",
     "output_type": "stream",
     "text": [
      "symbol=%s, val=%s AKP nan\n"
     ]
    },
    {
     "name": "stderr",
     "output_type": "stream",
     "text": [
      "AL3: No data found, symbol may be delisted\n"
     ]
    },
    {
     "name": "stdout",
     "output_type": "stream",
     "text": [
      "symbol=%s, val=%s AL3 nan\n"
     ]
    },
    {
     "name": "stderr",
     "output_type": "stream",
     "text": [
      "AL8: No data found, symbol may be delisted\n"
     ]
    },
    {
     "name": "stdout",
     "output_type": "stream",
     "text": [
      "symbol=%s, val=%s AL8 nan\n"
     ]
    },
    {
     "name": "stderr",
     "output_type": "stream",
     "text": [
      "ALA: No price data found, symbol may be delisted (period=3mo)\n"
     ]
    },
    {
     "name": "stdout",
     "output_type": "stream",
     "text": [
      "symbol=%s, val=%s ALA nan\n",
      "symbol=%s, val=%s ALB 27.546072983186964\n",
      "symbol=%s, val=%s ALC 9.559162593378216\n"
     ]
    },
    {
     "name": "stderr",
     "output_type": "stream",
     "text": [
      "ALD: No price data found, symbol may be delisted (period=3mo)\n"
     ]
    },
    {
     "name": "stdout",
     "output_type": "stream",
     "text": [
      "symbol=%s, val=%s ALD nan\n",
      "symbol=%s, val=%s ALG 16.64259677070799\n"
     ]
    },
    {
     "name": "stderr",
     "output_type": "stream",
     "text": [
      "ALI: No price data found, symbol may be delisted (period=3mo)\n"
     ]
    },
    {
     "name": "stdout",
     "output_type": "stream",
     "text": [
      "symbol=%s, val=%s ALI nan\n",
      "symbol=%s, val=%s ALK 31.287162109422166\n",
      "symbol=%s, val=%s ALL 12.525006407554926\n"
     ]
    },
    {
     "name": "stderr",
     "output_type": "stream",
     "text": [
      "ALM: No price data found, symbol may be delisted (period=3mo)\n"
     ]
    },
    {
     "name": "stdout",
     "output_type": "stream",
     "text": [
      "symbol=%s, val=%s ALM nan\n"
     ]
    },
    {
     "name": "stderr",
     "output_type": "stream",
     "text": [
      "ALQ: No price data found, symbol may be delisted (period=3mo)\n"
     ]
    },
    {
     "name": "stdout",
     "output_type": "stream",
     "text": [
      "symbol=%s, val=%s ALQ nan\n"
     ]
    },
    {
     "name": "stderr",
     "output_type": "stream",
     "text": [
      "ALU: No price data found, symbol may be delisted (period=3mo)\n"
     ]
    },
    {
     "name": "stdout",
     "output_type": "stream",
     "text": [
      "symbol=%s, val=%s ALU nan\n",
      "symbol=%s, val=%s ALV 20.944316870344792\n",
      "symbol=%s, val=%s ALX 15.10891188886822\n"
     ]
    },
    {
     "name": "stderr",
     "output_type": "stream",
     "text": [
      "ALY: No price data found, symbol may be delisted (period=3mo)\n"
     ]
    },
    {
     "name": "stdout",
     "output_type": "stream",
     "text": [
      "symbol=%s, val=%s ALY nan\n"
     ]
    },
    {
     "name": "stderr",
     "output_type": "stream",
     "text": [
      "AM7: No data found, symbol may be delisted\n"
     ]
    },
    {
     "name": "stdout",
     "output_type": "stream",
     "text": [
      "symbol=%s, val=%s AM7 nan\n"
     ]
    },
    {
     "name": "stderr",
     "output_type": "stream",
     "text": [
      "AMA: No price data found, symbol may be delisted (period=3mo)\n"
     ]
    },
    {
     "name": "stdout",
     "output_type": "stream",
     "text": [
      "symbol=%s, val=%s AMA nan\n",
      "symbol=%s, val=%s AMC 88.68378767725407\n",
      "symbol=%s, val=%s AMD 25.031995439020154\n",
      "symbol=%s, val=%s AME 9.141121431619878\n",
      "symbol=%s, val=%s AMH 11.324737723245681\n"
     ]
    },
    {
     "name": "stderr",
     "output_type": "stream",
     "text": [
      "AMI: No price data found, symbol may be delisted (period=3mo)\n"
     ]
    },
    {
     "name": "stdout",
     "output_type": "stream",
     "text": [
      "symbol=%s, val=%s AMI nan\n"
     ]
    },
    {
     "name": "stderr",
     "output_type": "stream",
     "text": [
      "AML: No price data found, symbol may be delisted (period=3mo)\n"
     ]
    },
    {
     "name": "stdout",
     "output_type": "stream",
     "text": [
      "symbol=%s, val=%s AML nan\n"
     ]
    },
    {
     "name": "stderr",
     "output_type": "stream",
     "text": [
      "AMM: No price data found, symbol may be delisted (period=3mo)\n"
     ]
    },
    {
     "name": "stdout",
     "output_type": "stream",
     "text": [
      "symbol=%s, val=%s AMM nan\n",
      "symbol=%s, val=%s AMN 24.77765920084333\n"
     ]
    },
    {
     "name": "stderr",
     "output_type": "stream",
     "text": [
      "AMO: No price data found, symbol may be delisted (period=3mo)\n"
     ]
    },
    {
     "name": "stdout",
     "output_type": "stream",
     "text": [
      "symbol=%s, val=%s AMO nan\n",
      "symbol=%s, val=%s AMP 13.097028726939431\n",
      "symbol=%s, val=%s AMS 20.7483034572153\n",
      "symbol=%s, val=%s AMT 14.07300176804695\n",
      "symbol=%s, val=%s AMX 20.311997679735246\n"
     ]
    },
    {
     "name": "stderr",
     "output_type": "stream",
     "text": [
      "AN1: No data found, symbol may be delisted\n"
     ]
    },
    {
     "name": "stdout",
     "output_type": "stream",
     "text": [
      "symbol=%s, val=%s AN1 nan\n"
     ]
    },
    {
     "name": "stderr",
     "output_type": "stream",
     "text": [
      "AND: No data found, symbol may be delisted\n"
     ]
    },
    {
     "name": "stdout",
     "output_type": "stream",
     "text": [
      "symbol=%s, val=%s AND nan\n"
     ]
    },
    {
     "name": "stderr",
     "output_type": "stream",
     "text": [
      "ANG: No price data found, symbol may be delisted (period=3mo)\n"
     ]
    },
    {
     "name": "stdout",
     "output_type": "stream",
     "text": [
      "symbol=%s, val=%s ANG nan\n"
     ]
    },
    {
     "name": "stderr",
     "output_type": "stream",
     "text": [
      "ANL: No price data found, symbol may be delisted (period=3mo)\n"
     ]
    },
    {
     "name": "stdout",
     "output_type": "stream",
     "text": [
      "symbol=%s, val=%s ANL nan\n"
     ]
    },
    {
     "name": "stderr",
     "output_type": "stream",
     "text": [
      "ANN: No price data found, symbol may be delisted (period=3mo)\n"
     ]
    },
    {
     "name": "stdout",
     "output_type": "stream",
     "text": [
      "symbol=%s, val=%s ANN nan\n"
     ]
    },
    {
     "name": "stderr",
     "output_type": "stream",
     "text": [
      "ANO: No price data found, symbol may be delisted (period=3mo)\n"
     ]
    },
    {
     "name": "stdout",
     "output_type": "stream",
     "text": [
      "symbol=%s, val=%s ANO nan\n"
     ]
    },
    {
     "name": "stderr",
     "output_type": "stream",
     "text": [
      "ANP: No price data found, symbol may be delisted (period=3mo)\n"
     ]
    },
    {
     "name": "stdout",
     "output_type": "stream",
     "text": [
      "symbol=%s, val=%s ANP nan\n"
     ]
    },
    {
     "name": "stderr",
     "output_type": "stream",
     "text": [
      "ANR: No price data found, symbol may be delisted (period=3mo)\n"
     ]
    },
    {
     "name": "stdout",
     "output_type": "stream",
     "text": [
      "symbol=%s, val=%s ANR nan\n"
     ]
    },
    {
     "name": "stderr",
     "output_type": "stream",
     "text": [
      "ANX: No price data found, symbol may be delisted (period=3mo)\n"
     ]
    },
    {
     "name": "stdout",
     "output_type": "stream",
     "text": [
      "symbol=%s, val=%s ANX nan\n"
     ]
    },
    {
     "name": "stderr",
     "output_type": "stream",
     "text": [
      "ANZ: No price data found, symbol may be delisted (period=3mo)\n"
     ]
    },
    {
     "name": "stdout",
     "output_type": "stream",
     "text": [
      "symbol=%s, val=%s ANZ nan\n"
     ]
    },
    {
     "name": "stderr",
     "output_type": "stream",
     "text": [
      "AO1: No data found, symbol may be delisted\n"
     ]
    },
    {
     "name": "stdout",
     "output_type": "stream",
     "text": [
      "symbol=%s, val=%s AO1 nan\n",
      "symbol=%s, val=%s AOA 5.530157992941487\n",
      "symbol=%s, val=%s AOF 20.634920034218744\n",
      "symbol=%s, val=%s AON 9.750410403938483\n",
      "symbol=%s, val=%s APA 30.858394339290214\n"
     ]
    },
    {
     "name": "stderr",
     "output_type": "stream",
     "text": [
      "APC: No data found, symbol may be delisted\n"
     ]
    },
    {
     "name": "stdout",
     "output_type": "stream",
     "text": [
      "symbol=%s, val=%s APC nan\n",
      "symbol=%s, val=%s APE 45.33898223751199\n"
     ]
    },
    {
     "name": "stderr",
     "output_type": "stream",
     "text": [
      "APL: No price data found, symbol may be delisted (period=3mo)\n"
     ]
    },
    {
     "name": "stdout",
     "output_type": "stream",
     "text": [
      "symbol=%s, val=%s APL nan\n",
      "symbol=%s, val=%s APM 43.421050980480736\n"
     ]
    },
    {
     "name": "stderr",
     "output_type": "stream",
     "text": [
      "APS: No price data found, symbol may be delisted (period=3mo)\n"
     ]
    },
    {
     "name": "stdout",
     "output_type": "stream",
     "text": [
      "symbol=%s, val=%s APS nan\n"
     ]
    },
    {
     "name": "stderr",
     "output_type": "stream",
     "text": [
      "APW: No price data found, symbol may be delisted (period=3mo)\n"
     ]
    },
    {
     "name": "stdout",
     "output_type": "stream",
     "text": [
      "symbol=%s, val=%s APW nan\n"
     ]
    },
    {
     "name": "stderr",
     "output_type": "stream",
     "text": [
      "APX: No price data found, symbol may be delisted (period=3mo)\n"
     ]
    },
    {
     "name": "stdout",
     "output_type": "stream",
     "text": [
      "symbol=%s, val=%s APX nan\n"
     ]
    },
    {
     "name": "stderr",
     "output_type": "stream",
     "text": [
      "APZ: No price data found, symbol may be delisted (period=3mo)\n"
     ]
    },
    {
     "name": "stdout",
     "output_type": "stream",
     "text": [
      "symbol=%s, val=%s APZ nan\n"
     ]
    },
    {
     "name": "stderr",
     "output_type": "stream",
     "text": [
      "AQC: No price data found, symbol may be delisted (period=3mo)\n"
     ]
    },
    {
     "name": "stdout",
     "output_type": "stream",
     "text": [
      "symbol=%s, val=%s AQC nan\n"
     ]
    },
    {
     "name": "stderr",
     "output_type": "stream",
     "text": [
      "AQD: Period '3mo' is invalid, must be one of ['1d', '5d']\n"
     ]
    },
    {
     "name": "stdout",
     "output_type": "stream",
     "text": [
      "symbol=%s, val=%s AQD nan\n"
     ]
    },
    {
     "name": "stderr",
     "output_type": "stream",
     "text": [
      "AQI: No price data found, symbol may be delisted (period=3mo)\n"
     ]
    },
    {
     "name": "stdout",
     "output_type": "stream",
     "text": [
      "symbol=%s, val=%s AQI nan\n",
      "symbol=%s, val=%s AQN 17.779433425494798\n"
     ]
    },
    {
     "name": "stderr",
     "output_type": "stream",
     "text": [
      "AQS: No price data found, symbol may be delisted (period=3mo)\n"
     ]
    },
    {
     "name": "stdout",
     "output_type": "stream",
     "text": [
      "symbol=%s, val=%s AQS nan\n"
     ]
    },
    {
     "name": "stderr",
     "output_type": "stream",
     "text": [
      "AQX: No price data found, symbol may be delisted (period=3mo)\n"
     ]
    },
    {
     "name": "stdout",
     "output_type": "stream",
     "text": [
      "symbol=%s, val=%s AQX nan\n"
     ]
    },
    {
     "name": "stderr",
     "output_type": "stream",
     "text": [
      "AQZ: Period '3mo' is invalid, must be one of ['1d', '5d']\n"
     ]
    },
    {
     "name": "stdout",
     "output_type": "stream",
     "text": [
      "symbol=%s, val=%s AQZ nan\n"
     ]
    },
    {
     "name": "stderr",
     "output_type": "stream",
     "text": [
      "AR1: No data found, symbol may be delisted\n"
     ]
    },
    {
     "name": "stdout",
     "output_type": "stream",
     "text": [
      "symbol=%s, val=%s AR1 nan\n"
     ]
    },
    {
     "name": "stderr",
     "output_type": "stream",
     "text": [
      "AR3: No data found, symbol may be delisted\n"
     ]
    },
    {
     "name": "stdout",
     "output_type": "stream",
     "text": [
      "symbol=%s, val=%s AR3 nan\n"
     ]
    },
    {
     "name": "stderr",
     "output_type": "stream",
     "text": [
      "AR9: No data found, symbol may be delisted\n"
     ]
    },
    {
     "name": "stdout",
     "output_type": "stream",
     "text": [
      "symbol=%s, val=%s AR9 nan\n"
     ]
    },
    {
     "name": "stderr",
     "output_type": "stream",
     "text": [
      "ARA: No data found, symbol may be delisted\n"
     ]
    },
    {
     "name": "stdout",
     "output_type": "stream",
     "text": [
      "symbol=%s, val=%s ARA nan\n",
      "symbol=%s, val=%s ARB 5.683470000147358\n",
      "symbol=%s, val=%s ARC 23.306238921715902\n"
     ]
    },
    {
     "name": "stderr",
     "output_type": "stream",
     "text": [
      "ARD: No data found, symbol may be delisted\n"
     ]
    },
    {
     "name": "stdout",
     "output_type": "stream",
     "text": [
      "symbol=%s, val=%s ARD nan\n",
      "symbol=%s, val=%s ARE 17.069207174930973\n"
     ]
    },
    {
     "name": "stderr",
     "output_type": "stream",
     "text": [
      "ARF: No price data found, symbol may be delisted (period=3mo)\n"
     ]
    },
    {
     "name": "stdout",
     "output_type": "stream",
     "text": [
      "symbol=%s, val=%s ARF nan\n"
     ]
    },
    {
     "name": "stderr",
     "output_type": "stream",
     "text": [
      "ARG: No price data found, symbol may be delisted (period=3mo)\n"
     ]
    },
    {
     "name": "stdout",
     "output_type": "stream",
     "text": [
      "symbol=%s, val=%s ARG nan\n",
      "symbol=%s, val=%s ARL 23.854791253297883\n"
     ]
    },
    {
     "name": "stderr",
     "output_type": "stream",
     "text": [
      "ARN: No price data found, symbol may be delisted (period=3mo)\n"
     ]
    },
    {
     "name": "stdout",
     "output_type": "stream",
     "text": [
      "symbol=%s, val=%s ARN nan\n",
      "symbol=%s, val=%s ARR 13.880062581659637\n"
     ]
    },
    {
     "name": "stderr",
     "output_type": "stream",
     "text": [
      "ART: No price data found, symbol may be delisted (period=3mo)\n"
     ]
    },
    {
     "name": "stdout",
     "output_type": "stream",
     "text": [
      "symbol=%s, val=%s ART nan\n"
     ]
    },
    {
     "name": "stderr",
     "output_type": "stream",
     "text": [
      "ARU: No data found, symbol may be delisted\n"
     ]
    },
    {
     "name": "stdout",
     "output_type": "stream",
     "text": [
      "symbol=%s, val=%s ARU nan\n"
     ]
    },
    {
     "name": "stderr",
     "output_type": "stream",
     "text": [
      "ARV: No price data found, symbol may be delisted (period=3mo)\n"
     ]
    },
    {
     "name": "stdout",
     "output_type": "stream",
     "text": [
      "symbol=%s, val=%s ARV nan\n"
     ]
    },
    {
     "name": "stderr",
     "output_type": "stream",
     "text": [
      "ARX: No price data found, symbol may be delisted (period=3mo)\n"
     ]
    },
    {
     "name": "stdout",
     "output_type": "stream",
     "text": [
      "symbol=%s, val=%s ARX nan\n"
     ]
    },
    {
     "name": "stderr",
     "output_type": "stream",
     "text": [
      "AS2: No data found, symbol may be delisted\n"
     ]
    },
    {
     "name": "stdout",
     "output_type": "stream",
     "text": [
      "symbol=%s, val=%s AS2 nan\n",
      "symbol=%s, val=%s ASB 19.741608820518977\n"
     ]
    },
    {
     "name": "stderr",
     "output_type": "stream",
     "text": [
      "ASE: No price data found, symbol may be delisted (period=3mo)\n"
     ]
    },
    {
     "name": "stdout",
     "output_type": "stream",
     "text": [
      "symbol=%s, val=%s ASE nan\n",
      "symbol=%s, val=%s ASG 9.285714103251085\n",
      "symbol=%s, val=%s ASH 16.37048387812493\n"
     ]
    },
    {
     "name": "stderr",
     "output_type": "stream",
     "text": [
      "ASK: No price data found, symbol may be delisted (period=3mo)\n"
     ]
    },
    {
     "name": "stdout",
     "output_type": "stream",
     "text": [
      "symbol=%s, val=%s ASK nan\n",
      "symbol=%s, val=%s ASM 25.0\n"
     ]
    },
    {
     "name": "stderr",
     "output_type": "stream",
     "text": [
      "ASN: No price data found, symbol may be delisted (period=3mo)\n"
     ]
    },
    {
     "name": "stdout",
     "output_type": "stream",
     "text": [
      "symbol=%s, val=%s ASN nan\n",
      "symbol=%s, val=%s ASO 20.29226332280776\n"
     ]
    },
    {
     "name": "stderr",
     "output_type": "stream",
     "text": [
      "ASP: No price data found, symbol may be delisted (period=3mo)\n"
     ]
    },
    {
     "name": "stdout",
     "output_type": "stream",
     "text": [
      "symbol=%s, val=%s ASP nan\n"
     ]
    },
    {
     "name": "stderr",
     "output_type": "stream",
     "text": [
      "ASQ: No price data found, symbol may be delisted (period=3mo)\n"
     ]
    },
    {
     "name": "stdout",
     "output_type": "stream",
     "text": [
      "symbol=%s, val=%s ASQ nan\n",
      "symbol=%s, val=%s ASR 16.700459574074472\n"
     ]
    },
    {
     "name": "stderr",
     "output_type": "stream",
     "text": [
      "ASW: No price data found, symbol may be delisted (period=3mo)\n"
     ]
    },
    {
     "name": "stdout",
     "output_type": "stream",
     "text": [
      "symbol=%s, val=%s ASW nan\n",
      "symbol=%s, val=%s ASX 14.691941146540314\n"
     ]
    },
    {
     "name": "stderr",
     "output_type": "stream",
     "text": [
      "AT1: No data found, symbol may be delisted\n"
     ]
    },
    {
     "name": "stdout",
     "output_type": "stream",
     "text": [
      "symbol=%s, val=%s AT1 nan\n"
     ]
    },
    {
     "name": "stderr",
     "output_type": "stream",
     "text": [
      "ATA: No data found, symbol may be delisted\n"
     ]
    },
    {
     "name": "stdout",
     "output_type": "stream",
     "text": [
      "symbol=%s, val=%s ATA nan\n"
     ]
    },
    {
     "name": "stderr",
     "output_type": "stream",
     "text": [
      "ATC: No data found, symbol may be delisted\n"
     ]
    },
    {
     "name": "stdout",
     "output_type": "stream",
     "text": [
      "symbol=%s, val=%s ATC nan\n"
     ]
    },
    {
     "name": "stderr",
     "output_type": "stream",
     "text": [
      "ATH: No data found, symbol may be delisted\n"
     ]
    },
    {
     "name": "stdout",
     "output_type": "stream",
     "text": [
      "symbol=%s, val=%s ATH nan\n"
     ]
    },
    {
     "name": "stderr",
     "output_type": "stream",
     "text": [
      "ATM: No data found, symbol may be delisted\n"
     ]
    },
    {
     "name": "stdout",
     "output_type": "stream",
     "text": [
      "symbol=%s, val=%s ATM nan\n"
     ]
    },
    {
     "name": "stderr",
     "output_type": "stream",
     "text": [
      "ATP: No price data found, symbol may be delisted (period=3mo)\n"
     ]
    },
    {
     "name": "stdout",
     "output_type": "stream",
     "text": [
      "symbol=%s, val=%s ATP nan\n",
      "symbol=%s, val=%s ATR 16.84702333001545\n",
      "symbol=%s, val=%s ATS 18.572301349383828\n"
     ]
    },
    {
     "name": "stderr",
     "output_type": "stream",
     "text": [
      "ATU: No data found, symbol may be delisted\n"
     ]
    },
    {
     "name": "stdout",
     "output_type": "stream",
     "text": [
      "symbol=%s, val=%s ATU nan\n"
     ]
    },
    {
     "name": "stderr",
     "output_type": "stream",
     "text": [
      "ATV: No data found, symbol may be delisted\n"
     ]
    },
    {
     "name": "stdout",
     "output_type": "stream",
     "text": [
      "symbol=%s, val=%s ATV nan\n"
     ]
    },
    {
     "name": "stderr",
     "output_type": "stream",
     "text": [
      "ATX: No price data found, symbol may be delisted (period=3mo)\n"
     ]
    },
    {
     "name": "stdout",
     "output_type": "stream",
     "text": [
      "symbol=%s, val=%s ATX nan\n"
     ]
    },
    {
     "name": "stderr",
     "output_type": "stream",
     "text": [
      "AU1: No data found, symbol may be delisted\n"
     ]
    },
    {
     "name": "stdout",
     "output_type": "stream",
     "text": [
      "symbol=%s, val=%s AU1 nan\n"
     ]
    },
    {
     "name": "stderr",
     "output_type": "stream",
     "text": [
      "AUA: No price data found, symbol may be delisted (period=3mo)\n"
     ]
    },
    {
     "name": "stdout",
     "output_type": "stream",
     "text": [
      "symbol=%s, val=%s AUA nan\n",
      "symbol=%s, val=%s AUB 24.76133933126966\n"
     ]
    },
    {
     "name": "stderr",
     "output_type": "stream",
     "text": [
      "AUC: No price data found, symbol may be delisted (period=3mo)\n"
     ]
    },
    {
     "name": "stdout",
     "output_type": "stream",
     "text": [
      "symbol=%s, val=%s AUC nan\n"
     ]
    },
    {
     "name": "stderr",
     "output_type": "stream",
     "text": [
      "AUE: No price data found, symbol may be delisted (period=3mo)\n"
     ]
    },
    {
     "name": "stdout",
     "output_type": "stream",
     "text": [
      "symbol=%s, val=%s AUE nan\n"
     ]
    },
    {
     "name": "stderr",
     "output_type": "stream",
     "text": [
      "AUG: No data found, symbol may be delisted\n"
     ]
    },
    {
     "name": "stdout",
     "output_type": "stream",
     "text": [
      "symbol=%s, val=%s AUG nan\n"
     ]
    },
    {
     "name": "stderr",
     "output_type": "stream",
     "text": [
      "AUH: No price data found, symbol may be delisted (period=3mo)\n"
     ]
    },
    {
     "name": "stdout",
     "output_type": "stream",
     "text": [
      "symbol=%s, val=%s AUH nan\n"
     ]
    },
    {
     "name": "stderr",
     "output_type": "stream",
     "text": [
      "AUI: Period '3mo' is invalid, must be one of ['1d', '5d']\n"
     ]
    },
    {
     "name": "stdout",
     "output_type": "stream",
     "text": [
      "symbol=%s, val=%s AUI nan\n"
     ]
    },
    {
     "name": "stderr",
     "output_type": "stream",
     "text": [
      "AUK: No price data found, symbol may be delisted (period=3mo)\n"
     ]
    },
    {
     "name": "stdout",
     "output_type": "stream",
     "text": [
      "symbol=%s, val=%s AUK nan\n"
     ]
    },
    {
     "name": "stderr",
     "output_type": "stream",
     "text": [
      "AUN: No price data found, symbol may be delisted (period=3mo)\n"
     ]
    },
    {
     "name": "stdout",
     "output_type": "stream",
     "text": [
      "symbol=%s, val=%s AUN nan\n"
     ]
    },
    {
     "name": "stderr",
     "output_type": "stream",
     "text": [
      "AUQ: No price data found, symbol may be delisted (period=3mo)\n"
     ]
    },
    {
     "name": "stdout",
     "output_type": "stream",
     "text": [
      "symbol=%s, val=%s AUQ nan\n",
      "symbol=%s, val=%s AUR 49.234694622298754\n"
     ]
    },
    {
     "name": "stderr",
     "output_type": "stream",
     "text": [
      "AUT: No price data found, symbol may be delisted (period=3mo)\n"
     ]
    },
    {
     "name": "stdout",
     "output_type": "stream",
     "text": [
      "symbol=%s, val=%s AUT nan\n"
     ]
    },
    {
     "name": "stderr",
     "output_type": "stream",
     "text": [
      "AUZ: No price data found, symbol may be delisted (period=3mo)\n"
     ]
    },
    {
     "name": "stdout",
     "output_type": "stream",
     "text": [
      "symbol=%s, val=%s AUZ nan\n"
     ]
    },
    {
     "name": "stderr",
     "output_type": "stream",
     "text": [
      "AV1: No data found, symbol may be delisted\n"
     ]
    },
    {
     "name": "stdout",
     "output_type": "stream",
     "text": [
      "symbol=%s, val=%s AV1 nan\n",
      "symbol=%s, val=%s AVA 21.72371428779826\n"
     ]
    },
    {
     "name": "stderr",
     "output_type": "stream",
     "text": [
      "AVC: No price data found, symbol may be delisted (period=3mo)\n"
     ]
    },
    {
     "name": "stdout",
     "output_type": "stream",
     "text": [
      "symbol=%s, val=%s AVC nan\n",
      "symbol=%s, val=%s AVD 31.62205995116729\n"
     ]
    },
    {
     "name": "stderr",
     "output_type": "stream",
     "text": [
      "AVE: No price data found, symbol may be delisted (period=3mo)\n"
     ]
    },
    {
     "name": "stdout",
     "output_type": "stream",
     "text": [
      "symbol=%s, val=%s AVE nan\n"
     ]
    },
    {
     "name": "stderr",
     "output_type": "stream",
     "text": [
      "AVG: No price data found, symbol may be delisted (period=3mo)\n"
     ]
    },
    {
     "name": "stdout",
     "output_type": "stream",
     "text": [
      "symbol=%s, val=%s AVG nan\n"
     ]
    },
    {
     "name": "stderr",
     "output_type": "stream",
     "text": [
      "AVH: No data found, symbol may be delisted\n"
     ]
    },
    {
     "name": "stdout",
     "output_type": "stream",
     "text": [
      "symbol=%s, val=%s AVH nan\n"
     ]
    },
    {
     "name": "stderr",
     "output_type": "stream",
     "text": [
      "AVJ: No price data found, symbol may be delisted (period=3mo)\n"
     ]
    },
    {
     "name": "stdout",
     "output_type": "stream",
     "text": [
      "symbol=%s, val=%s AVJ nan\n"
     ]
    },
    {
     "name": "stderr",
     "output_type": "stream",
     "text": [
      "AVL: No price data found, symbol may be delisted (period=3mo)\n"
     ]
    },
    {
     "name": "stdout",
     "output_type": "stream",
     "text": [
      "symbol=%s, val=%s AVL nan\n"
     ]
    },
    {
     "name": "stderr",
     "output_type": "stream",
     "text": [
      "AVM: No price data found, symbol may be delisted (period=3mo)\n"
     ]
    },
    {
     "name": "stdout",
     "output_type": "stream",
     "text": [
      "symbol=%s, val=%s AVM nan\n"
     ]
    },
    {
     "name": "stderr",
     "output_type": "stream",
     "text": [
      "AVR: No price data found, symbol may be delisted (period=3mo)\n"
     ]
    },
    {
     "name": "stdout",
     "output_type": "stream",
     "text": [
      "symbol=%s, val=%s AVR nan\n"
     ]
    },
    {
     "name": "stderr",
     "output_type": "stream",
     "text": [
      "AVW: No price data found, symbol may be delisted (period=3mo)\n"
     ]
    },
    {
     "name": "stdout",
     "output_type": "stream",
     "text": [
      "symbol=%s, val=%s AVW nan\n"
     ]
    },
    {
     "name": "stderr",
     "output_type": "stream",
     "text": [
      "AVZ: No price data found, symbol may be delisted (period=3mo)\n"
     ]
    },
    {
     "name": "stdout",
     "output_type": "stream",
     "text": [
      "symbol=%s, val=%s AVZ nan\n"
     ]
    },
    {
     "name": "stderr",
     "output_type": "stream",
     "text": [
      "AW1: No data found, symbol may be delisted\n"
     ]
    },
    {
     "name": "stdout",
     "output_type": "stream",
     "text": [
      "symbol=%s, val=%s AW1 nan\n"
     ]
    },
    {
     "name": "stderr",
     "output_type": "stream",
     "text": [
      "AWC: No price data found, symbol may be delisted (period=3mo)\n"
     ]
    },
    {
     "name": "stdout",
     "output_type": "stream",
     "text": [
      "symbol=%s, val=%s AWC nan\n"
     ]
    },
    {
     "name": "stderr",
     "output_type": "stream",
     "text": [
      "AWJ: No price data found, symbol may be delisted (period=3mo)\n"
     ]
    },
    {
     "name": "stdout",
     "output_type": "stream",
     "text": [
      "symbol=%s, val=%s AWJ nan\n"
     ]
    },
    {
     "name": "stderr",
     "output_type": "stream",
     "text": [
      "AX1: No data found, symbol may be delisted\n"
     ]
    },
    {
     "name": "stdout",
     "output_type": "stream",
     "text": [
      "symbol=%s, val=%s AX1 nan\n"
     ]
    },
    {
     "name": "stderr",
     "output_type": "stream",
     "text": [
      "AX8: No data found, symbol may be delisted\n"
     ]
    },
    {
     "name": "stdout",
     "output_type": "stream",
     "text": [
      "symbol=%s, val=%s AX8 nan\n"
     ]
    },
    {
     "name": "stderr",
     "output_type": "stream",
     "text": [
      "AXE: No data found, symbol may be delisted\n"
     ]
    },
    {
     "name": "stdout",
     "output_type": "stream",
     "text": [
      "symbol=%s, val=%s AXE nan\n"
     ]
    },
    {
     "name": "stderr",
     "output_type": "stream",
     "text": [
      "AXI: No price data found, symbol may be delisted (period=3mo)\n"
     ]
    },
    {
     "name": "stdout",
     "output_type": "stream",
     "text": [
      "symbol=%s, val=%s AXI nan\n"
     ]
    },
    {
     "name": "stderr",
     "output_type": "stream",
     "text": [
      "AXN: No price data found, symbol may be delisted (period=3mo)\n"
     ]
    },
    {
     "name": "stdout",
     "output_type": "stream",
     "text": [
      "symbol=%s, val=%s AXN nan\n",
      "symbol=%s, val=%s AXP 12.707638466965731\n"
     ]
    },
    {
     "name": "stderr",
     "output_type": "stream",
     "text": [
      "AYA: No price data found, symbol may be delisted (period=3mo)\n"
     ]
    },
    {
     "name": "stdout",
     "output_type": "stream",
     "text": [
      "symbol=%s, val=%s AYA nan\n",
      "symbol=%s, val=%s AYI 9.478114395014876\n"
     ]
    },
    {
     "name": "stderr",
     "output_type": "stream",
     "text": [
      "AYM: No price data found, symbol may be delisted (period=3mo)\n"
     ]
    },
    {
     "name": "stdout",
     "output_type": "stream",
     "text": [
      "symbol=%s, val=%s AYM nan\n"
     ]
    },
    {
     "name": "stderr",
     "output_type": "stream",
     "text": [
      "AYT: No price data found, symbol may be delisted (period=3mo)\n"
     ]
    },
    {
     "name": "stdout",
     "output_type": "stream",
     "text": [
      "symbol=%s, val=%s AYT nan\n"
     ]
    },
    {
     "name": "stderr",
     "output_type": "stream",
     "text": [
      "AZI: No price data found, symbol may be delisted (period=3mo)\n"
     ]
    },
    {
     "name": "stdout",
     "output_type": "stream",
     "text": [
      "symbol=%s, val=%s AZI nan\n"
     ]
    },
    {
     "name": "stderr",
     "output_type": "stream",
     "text": [
      "AZJ: No price data found, symbol may be delisted (period=3mo)\n"
     ]
    },
    {
     "name": "stdout",
     "output_type": "stream",
     "text": [
      "symbol=%s, val=%s AZJ nan\n"
     ]
    },
    {
     "name": "stderr",
     "output_type": "stream",
     "text": [
      "AZL: No price data found, symbol may be delisted (period=3mo)\n"
     ]
    },
    {
     "name": "stdout",
     "output_type": "stream",
     "text": [
      "symbol=%s, val=%s AZL nan\n"
     ]
    },
    {
     "name": "stderr",
     "output_type": "stream",
     "text": [
      "AZS: No price data found, symbol may be delisted (period=3mo)\n"
     ]
    },
    {
     "name": "stdout",
     "output_type": "stream",
     "text": [
      "symbol=%s, val=%s AZS nan\n"
     ]
    },
    {
     "name": "stderr",
     "output_type": "stream",
     "text": [
      "AZY: No price data found, symbol may be delisted (period=3mo)\n"
     ]
    },
    {
     "name": "stdout",
     "output_type": "stream",
     "text": [
      "symbol=%s, val=%s AZY nan\n"
     ]
    },
    {
     "name": "stderr",
     "output_type": "stream",
     "text": [
      "B4P: No data found, symbol may be delisted\n"
     ]
    },
    {
     "name": "stdout",
     "output_type": "stream",
     "text": [
      "symbol=%s, val=%s B4P nan\n",
      "symbol=%s, val=%s BAP 16.184826198431914\n"
     ]
    },
    {
     "name": "stderr",
     "output_type": "stream",
     "text": [
      "BAS: No data found, symbol may be delisted\n"
     ]
    },
    {
     "name": "stdout",
     "output_type": "stream",
     "text": [
      "symbol=%s, val=%s BAS nan\n"
     ]
    },
    {
     "name": "stderr",
     "output_type": "stream",
     "text": [
      "BAT: No price data found, symbol may be delisted (period=3mo)\n"
     ]
    },
    {
     "name": "stdout",
     "output_type": "stream",
     "text": [
      "symbol=%s, val=%s BAT nan\n",
      "symbol=%s, val=%s BBC 20.85218925788748\n"
     ]
    },
    {
     "name": "stderr",
     "output_type": "stream",
     "text": [
      "BBL: No data found, symbol may be delisted\n"
     ]
    },
    {
     "name": "stdout",
     "output_type": "stream",
     "text": [
      "symbol=%s, val=%s BBL nan\n",
      "symbol=%s, val=%s BBN 6.264311726452072\n"
     ]
    },
    {
     "name": "stderr",
     "output_type": "stream",
     "text": [
      "BBT: No data found, symbol may be delisted\n"
     ]
    },
    {
     "name": "stdout",
     "output_type": "stream",
     "text": [
      "symbol=%s, val=%s BBT nan\n"
     ]
    },
    {
     "name": "stderr",
     "output_type": "stream",
     "text": [
      "BBX: No data found, symbol may be delisted\n"
     ]
    },
    {
     "name": "stdout",
     "output_type": "stream",
     "text": [
      "symbol=%s, val=%s BBX nan\n"
     ]
    },
    {
     "name": "stderr",
     "output_type": "stream",
     "text": [
      "BC8: No data found, symbol may be delisted\n"
     ]
    },
    {
     "name": "stdout",
     "output_type": "stream",
     "text": [
      "symbol=%s, val=%s BC8 nan\n"
     ]
    },
    {
     "name": "stderr",
     "output_type": "stream",
     "text": [
      "BCA: No price data found, symbol may be delisted (period=3mo)\n"
     ]
    },
    {
     "name": "stdout",
     "output_type": "stream",
     "text": [
      "symbol=%s, val=%s BCA nan\n"
     ]
    },
    {
     "name": "stderr",
     "output_type": "stream",
     "text": [
      "BCB: No price data found, symbol may be delisted (period=3mo)\n"
     ]
    },
    {
     "name": "stdout",
     "output_type": "stream",
     "text": [
      "symbol=%s, val=%s BCB nan\n",
      "symbol=%s, val=%s BCC 31.720314436677505\n",
      "symbol=%s, val=%s BCI 8.683599047999554\n"
     ]
    },
    {
     "name": "stderr",
     "output_type": "stream",
     "text": [
      "BCK: No price data found, symbol may be delisted (period=3mo)\n"
     ]
    },
    {
     "name": "stdout",
     "output_type": "stream",
     "text": [
      "symbol=%s, val=%s BCK nan\n"
     ]
    },
    {
     "name": "stderr",
     "output_type": "stream",
     "text": [
      "BCN: No price data found, symbol may be delisted (period=3mo)\n"
     ]
    },
    {
     "name": "stdout",
     "output_type": "stream",
     "text": [
      "symbol=%s, val=%s BCN nan\n"
     ]
    },
    {
     "name": "stderr",
     "output_type": "stream",
     "text": [
      "BCT: No price data found, symbol may be delisted (period=3mo)\n"
     ]
    },
    {
     "name": "stdout",
     "output_type": "stream",
     "text": [
      "symbol=%s, val=%s BCT nan\n"
     ]
    },
    {
     "name": "stderr",
     "output_type": "stream",
     "text": [
      "BDG: No price data found, symbol may be delisted (period=3mo)\n"
     ]
    },
    {
     "name": "stdout",
     "output_type": "stream",
     "text": [
      "symbol=%s, val=%s BDG nan\n"
     ]
    },
    {
     "name": "stderr",
     "output_type": "stream",
     "text": [
      "BDM: No price data found, symbol may be delisted (period=3mo)\n"
     ]
    },
    {
     "name": "stdout",
     "output_type": "stream",
     "text": [
      "symbol=%s, val=%s BDM nan\n"
     ]
    },
    {
     "name": "stderr",
     "output_type": "stream",
     "text": [
      "BDT: No price data found, symbol may be delisted (period=3mo)\n"
     ]
    },
    {
     "name": "stdout",
     "output_type": "stream",
     "text": [
      "symbol=%s, val=%s BDT nan\n",
      "symbol=%s, val=%s BDX 13.295281732287151\n"
     ]
    },
    {
     "name": "stderr",
     "output_type": "stream",
     "text": [
      "BEE: No price data found, symbol may be delisted (period=3mo)\n"
     ]
    },
    {
     "name": "stdout",
     "output_type": "stream",
     "text": [
      "symbol=%s, val=%s BEE nan\n"
     ]
    },
    {
     "name": "stderr",
     "output_type": "stream",
     "text": [
      "BEL: No data found, symbol may be delisted\n"
     ]
    },
    {
     "name": "stdout",
     "output_type": "stream",
     "text": [
      "symbol=%s, val=%s BEL nan\n",
      "symbol=%s, val=%s BEN 17.50522270421704\n"
     ]
    },
    {
     "name": "stderr",
     "output_type": "stream",
     "text": [
      "BET: No price data found, symbol may be delisted (period=3mo)\n"
     ]
    },
    {
     "name": "stdout",
     "output_type": "stream",
     "text": [
      "symbol=%s, val=%s BET nan\n"
     ]
    },
    {
     "name": "stderr",
     "output_type": "stream",
     "text": [
      "BEX: No price data found, symbol may be delisted (period=3mo)\n"
     ]
    },
    {
     "name": "stdout",
     "output_type": "stream",
     "text": [
      "symbol=%s, val=%s BEX nan\n"
     ]
    },
    {
     "name": "stderr",
     "output_type": "stream",
     "text": [
      "BEZ: No price data found, symbol may be delisted (period=3mo)\n"
     ]
    },
    {
     "name": "stdout",
     "output_type": "stream",
     "text": [
      "symbol=%s, val=%s BEZ nan\n",
      "symbol=%s, val=%s BFC 15.638990800104718\n"
     ]
    },
    {
     "name": "stderr",
     "output_type": "stream",
     "text": [
      "BFG: No price data found, symbol may be delisted (period=3mo)\n"
     ]
    },
    {
     "name": "stdout",
     "output_type": "stream",
     "text": [
      "symbol=%s, val=%s BFG nan\n"
     ]
    },
    {
     "name": "stderr",
     "output_type": "stream",
     "text": [
      "BFL: No price data found, symbol may be delisted (period=3mo)\n"
     ]
    },
    {
     "name": "stdout",
     "output_type": "stream",
     "text": [
      "symbol=%s, val=%s BFL nan\n"
     ]
    },
    {
     "name": "stderr",
     "output_type": "stream",
     "text": [
      "BGA: No price data found, symbol may be delisted (period=3mo)\n"
     ]
    },
    {
     "name": "stdout",
     "output_type": "stream",
     "text": [
      "symbol=%s, val=%s BGA nan\n"
     ]
    },
    {
     "name": "stderr",
     "output_type": "stream",
     "text": [
      "BGD: No price data found, symbol may be delisted (period=3mo)\n"
     ]
    },
    {
     "name": "stdout",
     "output_type": "stream",
     "text": [
      "symbol=%s, val=%s BGD nan\n"
     ]
    },
    {
     "name": "stderr",
     "output_type": "stream",
     "text": [
      "BGE: No price data found, symbol may be delisted (period=3mo)\n"
     ]
    },
    {
     "name": "stdout",
     "output_type": "stream",
     "text": [
      "symbol=%s, val=%s BGE nan\n"
     ]
    },
    {
     "name": "stderr",
     "output_type": "stream",
     "text": [
      "BGL: No price data found, symbol may be delisted (period=3mo)\n"
     ]
    },
    {
     "name": "stdout",
     "output_type": "stream",
     "text": [
      "symbol=%s, val=%s BGL nan\n"
     ]
    },
    {
     "name": "stderr",
     "output_type": "stream",
     "text": [
      "BGP: No price data found, symbol may be delisted (period=3mo)\n"
     ]
    },
    {
     "name": "stdout",
     "output_type": "stream",
     "text": [
      "symbol=%s, val=%s BGP nan\n",
      "symbol=%s, val=%s BGT 10.271633247732884\n"
     ]
    },
    {
     "name": "stderr",
     "output_type": "stream",
     "text": [
      "BHD: No price data found, symbol may be delisted (period=3mo)\n"
     ]
    },
    {
     "name": "stdout",
     "output_type": "stream",
     "text": [
      "symbol=%s, val=%s BHD nan\n",
      "symbol=%s, val=%s BHP 15.120974928672007\n"
     ]
    },
    {
     "name": "stderr",
     "output_type": "stream",
     "text": [
      "BIM: No price data found, symbol may be delisted (period=3mo)\n"
     ]
    },
    {
     "name": "stdout",
     "output_type": "stream",
     "text": [
      "symbol=%s, val=%s BIM nan\n",
      "symbol=%s, val=%s BIO 18.76375504942259\n"
     ]
    },
    {
     "name": "stderr",
     "output_type": "stream",
     "text": [
      "BIR: No price data found, symbol may be delisted (period=3mo)\n"
     ]
    },
    {
     "name": "stdout",
     "output_type": "stream",
     "text": [
      "symbol=%s, val=%s BIR nan\n",
      "symbol=%s, val=%s BIS 13.967403225695547\n",
      "symbol=%s, val=%s BIT 6.909476322948184\n"
     ]
    },
    {
     "name": "stderr",
     "output_type": "stream",
     "text": [
      "BKG: No price data found, symbol may be delisted (period=3mo)\n"
     ]
    },
    {
     "name": "stdout",
     "output_type": "stream",
     "text": [
      "symbol=%s, val=%s BKG nan\n",
      "symbol=%s, val=%s BKI 26.135014283403653\n",
      "symbol=%s, val=%s BKT 5.9940594546062504\n"
     ]
    },
    {
     "name": "stderr",
     "output_type": "stream",
     "text": [
      "BKW: No price data found, symbol may be delisted (period=3mo)\n"
     ]
    },
    {
     "name": "stdout",
     "output_type": "stream",
     "text": [
      "symbol=%s, val=%s BKW nan\n"
     ]
    },
    {
     "name": "stderr",
     "output_type": "stream",
     "text": [
      "BKY: No price data found, symbol may be delisted (period=3mo)\n"
     ]
    },
    {
     "name": "stdout",
     "output_type": "stream",
     "text": [
      "symbol=%s, val=%s BKY nan\n",
      "symbol=%s, val=%s BLD 25.63243794003476\n"
     ]
    },
    {
     "name": "stderr",
     "output_type": "stream",
     "text": [
      "BLG: No price data found, symbol may be delisted (period=3mo)\n"
     ]
    },
    {
     "name": "stdout",
     "output_type": "stream",
     "text": [
      "symbol=%s, val=%s BLG nan\n"
     ]
    },
    {
     "name": "stderr",
     "output_type": "stream",
     "text": [
      "BLU: No data found, symbol may be delisted\n"
     ]
    },
    {
     "name": "stdout",
     "output_type": "stream",
     "text": [
      "symbol=%s, val=%s BLU nan\n",
      "symbol=%s, val=%s BLX 18.497041529373455\n"
     ]
    },
    {
     "name": "stderr",
     "output_type": "stream",
     "text": [
      "BLY: No price data found, symbol may be delisted (period=3mo)\n"
     ]
    },
    {
     "name": "stdout",
     "output_type": "stream",
     "text": [
      "symbol=%s, val=%s BLY nan\n"
     ]
    },
    {
     "name": "stderr",
     "output_type": "stream",
     "text": [
      "BLZ: No price data found, symbol may be delisted (period=3mo)\n"
     ]
    },
    {
     "name": "stdout",
     "output_type": "stream",
     "text": [
      "symbol=%s, val=%s BLZ nan\n"
     ]
    },
    {
     "name": "stderr",
     "output_type": "stream",
     "text": [
      "BM8: No data found, symbol may be delisted\n"
     ]
    },
    {
     "name": "stdout",
     "output_type": "stream",
     "text": [
      "symbol=%s, val=%s BM8 nan\n",
      "symbol=%s, val=%s BME 3.808294259920996\n"
     ]
    },
    {
     "name": "stderr",
     "output_type": "stream",
     "text": [
      "BMG: No price data found, symbol may be delisted (period=3mo)\n"
     ]
    },
    {
     "name": "stdout",
     "output_type": "stream",
     "text": [
      "symbol=%s, val=%s BMG nan\n"
     ]
    },
    {
     "name": "stderr",
     "output_type": "stream",
     "text": [
      "BMH: No price data found, symbol may be delisted (period=3mo)\n"
     ]
    },
    {
     "name": "stdout",
     "output_type": "stream",
     "text": [
      "symbol=%s, val=%s BMH nan\n"
     ]
    },
    {
     "name": "stderr",
     "output_type": "stream",
     "text": [
      "BML: No price data found, symbol may be delisted (period=3mo)\n"
     ]
    },
    {
     "name": "stdout",
     "output_type": "stream",
     "text": [
      "symbol=%s, val=%s BML nan\n"
     ]
    },
    {
     "name": "stderr",
     "output_type": "stream",
     "text": [
      "BMM: No price data found, symbol may be delisted (period=3mo)\n"
     ]
    },
    {
     "name": "stdout",
     "output_type": "stream",
     "text": [
      "symbol=%s, val=%s BMM nan\n",
      "symbol=%s, val=%s BMN 4.925163582757146\n",
      "symbol=%s, val=%s BMO 12.752752769093892\n",
      "symbol=%s, val=%s BMR 56.40244024325383\n"
     ]
    },
    {
     "name": "stderr",
     "output_type": "stream",
     "text": [
      "BMT: No price data found, symbol may be delisted (period=3mo)\n"
     ]
    },
    {
     "name": "stdout",
     "output_type": "stream",
     "text": [
      "symbol=%s, val=%s BMT nan\n",
      "symbol=%s, val=%s BNL 14.092848525835343\n",
      "symbol=%s, val=%s BNR 60.536397977443045\n"
     ]
    },
    {
     "name": "stderr",
     "output_type": "stream",
     "text": [
      "BNZ: No price data found, symbol may be delisted (period=3mo)\n"
     ]
    },
    {
     "name": "stdout",
     "output_type": "stream",
     "text": [
      "symbol=%s, val=%s BNZ nan\n"
     ]
    },
    {
     "name": "stderr",
     "output_type": "stream",
     "text": [
      "BOA: No price data found, symbol may be delisted (period=3mo)\n"
     ]
    },
    {
     "name": "stdout",
     "output_type": "stream",
     "text": [
      "symbol=%s, val=%s BOA nan\n",
      "symbol=%s, val=%s BOC 20.158492259367286\n"
     ]
    },
    {
     "name": "stderr",
     "output_type": "stream",
     "text": [
      "BOD: No price data found, symbol may be delisted (period=3mo)\n"
     ]
    },
    {
     "name": "stdout",
     "output_type": "stream",
     "text": [
      "symbol=%s, val=%s BOD nan\n",
      "symbol=%s, val=%s BOE 5.449037939572599\n"
     ]
    },
    {
     "name": "stderr",
     "output_type": "stream",
     "text": [
      "BOL: No price data found, symbol may be delisted (period=3mo)\n"
     ]
    },
    {
     "name": "stdout",
     "output_type": "stream",
     "text": [
      "symbol=%s, val=%s BOL nan\n"
     ]
    },
    {
     "name": "stderr",
     "output_type": "stream",
     "text": [
      "BOQ: No price data found, symbol may be delisted (period=3mo)\n"
     ]
    },
    {
     "name": "stdout",
     "output_type": "stream",
     "text": [
      "symbol=%s, val=%s BOQ nan\n"
     ]
    },
    {
     "name": "stderr",
     "output_type": "stream",
     "text": [
      "BOT: No price data found, symbol may be delisted (period=3mo)\n"
     ]
    },
    {
     "name": "stdout",
     "output_type": "stream",
     "text": [
      "symbol=%s, val=%s BOT nan\n"
     ]
    },
    {
     "name": "stderr",
     "output_type": "stream",
     "text": [
      "BP8: No data found, symbol may be delisted\n"
     ]
    },
    {
     "name": "stdout",
     "output_type": "stream",
     "text": [
      "symbol=%s, val=%s BP8 nan\n"
     ]
    },
    {
     "name": "stderr",
     "output_type": "stream",
     "text": [
      "BPH: No price data found, symbol may be delisted (period=3mo)\n"
     ]
    },
    {
     "name": "stdout",
     "output_type": "stream",
     "text": [
      "symbol=%s, val=%s BPH nan\n"
     ]
    },
    {
     "name": "stderr",
     "output_type": "stream",
     "text": [
      "BPM: No price data found, symbol may be delisted (period=3mo)\n"
     ]
    },
    {
     "name": "stdout",
     "output_type": "stream",
     "text": [
      "symbol=%s, val=%s BPM nan\n"
     ]
    },
    {
     "name": "stderr",
     "output_type": "stream",
     "text": [
      "BPP: No price data found, symbol may be delisted (period=3mo)\n"
     ]
    },
    {
     "name": "stdout",
     "output_type": "stream",
     "text": [
      "symbol=%s, val=%s BPP nan\n",
      "symbol=%s, val=%s BPT 44.67564334495252\n"
     ]
    },
    {
     "name": "stderr",
     "output_type": "stream",
     "text": [
      "BRG: No data found, symbol may be delisted\n"
     ]
    },
    {
     "name": "stdout",
     "output_type": "stream",
     "text": [
      "symbol=%s, val=%s BRG nan\n"
     ]
    },
    {
     "name": "stderr",
     "output_type": "stream",
     "text": [
      "BRI: No price data found, symbol may be delisted (period=3mo)\n"
     ]
    },
    {
     "name": "stdout",
     "output_type": "stream",
     "text": [
      "symbol=%s, val=%s BRI nan\n"
     ]
    },
    {
     "name": "stderr",
     "output_type": "stream",
     "text": [
      "BRK: No price data found, symbol may be delisted (period=3mo)\n"
     ]
    },
    {
     "name": "stdout",
     "output_type": "stream",
     "text": [
      "symbol=%s, val=%s BRK nan\n"
     ]
    },
    {
     "name": "stderr",
     "output_type": "stream",
     "text": [
      "BRL: No price data found, symbol may be delisted (period=3mo)\n"
     ]
    },
    {
     "name": "stdout",
     "output_type": "stream",
     "text": [
      "symbol=%s, val=%s BRL nan\n",
      "symbol=%s, val=%s BRN 23.07984602582513\n"
     ]
    },
    {
     "name": "stderr",
     "output_type": "stream",
     "text": [
      "BRU: No price data found, symbol may be delisted (period=3mo)\n"
     ]
    },
    {
     "name": "stdout",
     "output_type": "stream",
     "text": [
      "symbol=%s, val=%s BRU nan\n",
      "symbol=%s, val=%s BRX 12.241663222765169\n"
     ]
    },
    {
     "name": "stderr",
     "output_type": "stream",
     "text": [
      "BSA: No data found, symbol may be delisted\n"
     ]
    },
    {
     "name": "stdout",
     "output_type": "stream",
     "text": [
      "symbol=%s, val=%s BSA nan\n"
     ]
    },
    {
     "name": "stderr",
     "output_type": "stream",
     "text": [
      "BSE: No data found, symbol may be delisted\n"
     ]
    },
    {
     "name": "stdout",
     "output_type": "stream",
     "text": [
      "symbol=%s, val=%s BSE nan\n",
      "symbol=%s, val=%s BSL 10.140240875136598\n"
     ]
    },
    {
     "name": "stderr",
     "output_type": "stream",
     "text": [
      "BSN: No data found, symbol may be delisted\n"
     ]
    },
    {
     "name": "stdout",
     "output_type": "stream",
     "text": [
      "symbol=%s, val=%s BSN nan\n",
      "symbol=%s, val=%s BSX 9.638121276568734\n",
      "symbol=%s, val=%s BTC 1.6497703793894956\n",
      "symbol=%s, val=%s BTE 33.10185208180803\n"
     ]
    },
    {
     "name": "stderr",
     "output_type": "stream",
     "text": [
      "BTH: No price data found, symbol may be delisted (period=3mo)\n"
     ]
    },
    {
     "name": "stdout",
     "output_type": "stream",
     "text": [
      "symbol=%s, val=%s BTH nan\n",
      "symbol=%s, val=%s BTI 9.019627046787752\n"
     ]
    },
    {
     "name": "stderr",
     "output_type": "stream",
     "text": [
      "BTN: No data found, symbol may be delisted\n"
     ]
    },
    {
     "name": "stdout",
     "output_type": "stream",
     "text": [
      "symbol=%s, val=%s BTN nan\n",
      "symbol=%s, val=%s BTR 4.860293655127045\n"
     ]
    },
    {
     "name": "stderr",
     "output_type": "stream",
     "text": [
      "BUB: No price data found, symbol may be delisted (period=3mo)\n"
     ]
    },
    {
     "name": "stdout",
     "output_type": "stream",
     "text": [
      "symbol=%s, val=%s BUB nan\n",
      "symbol=%s, val=%s BUR 33.4463320609774\n"
     ]
    },
    {
     "name": "stderr",
     "output_type": "stream",
     "text": [
      "BUS: No price data found, symbol may be delisted (period=3mo)\n"
     ]
    },
    {
     "name": "stdout",
     "output_type": "stream",
     "text": [
      "symbol=%s, val=%s BUS nan\n"
     ]
    },
    {
     "name": "stderr",
     "output_type": "stream",
     "text": [
      "BUX: No price data found, symbol may be delisted (period=3mo)\n"
     ]
    },
    {
     "name": "stdout",
     "output_type": "stream",
     "text": [
      "symbol=%s, val=%s BUX nan\n"
     ]
    },
    {
     "name": "stderr",
     "output_type": "stream",
     "text": [
      "BUY: No price data found, symbol may be delisted (period=3mo)\n"
     ]
    },
    {
     "name": "stdout",
     "output_type": "stream",
     "text": [
      "symbol=%s, val=%s BUY nan\n"
     ]
    },
    {
     "name": "stderr",
     "output_type": "stream",
     "text": [
      "BVR: Period '3mo' is invalid, must be one of ['1d', '5d']\n"
     ]
    },
    {
     "name": "stdout",
     "output_type": "stream",
     "text": [
      "symbol=%s, val=%s BVR nan\n",
      "symbol=%s, val=%s BVS 46.97564721841558\n"
     ]
    },
    {
     "name": "stderr",
     "output_type": "stream",
     "text": [
      "BWF: No price data found, symbol may be delisted (period=3mo)\n"
     ]
    },
    {
     "name": "stdout",
     "output_type": "stream",
     "text": [
      "symbol=%s, val=%s BWF nan\n"
     ]
    },
    {
     "name": "stderr",
     "output_type": "stream",
     "text": [
      "BWP: No price data found, symbol may be delisted (period=3mo)\n"
     ]
    },
    {
     "name": "stdout",
     "output_type": "stream",
     "text": [
      "symbol=%s, val=%s BWP nan\n",
      "symbol=%s, val=%s BWX 7.1068860826069296\n"
     ]
    },
    {
     "name": "stderr",
     "output_type": "stream",
     "text": [
      "BXB: No price data found, symbol may be delisted (period=3mo)\n"
     ]
    },
    {
     "name": "stdout",
     "output_type": "stream",
     "text": [
      "symbol=%s, val=%s BXB nan\n"
     ]
    },
    {
     "name": "stderr",
     "output_type": "stream",
     "text": [
      "BXN: No price data found, symbol may be delisted (period=3mo)\n"
     ]
    },
    {
     "name": "stdout",
     "output_type": "stream",
     "text": [
      "symbol=%s, val=%s BXN nan\n"
     ]
    },
    {
     "name": "stderr",
     "output_type": "stream",
     "text": [
      "BYE: No price data found, symbol may be delisted (period=3mo)\n"
     ]
    },
    {
     "name": "stdout",
     "output_type": "stream",
     "text": [
      "symbol=%s, val=%s BYE nan\n"
     ]
    },
    {
     "name": "stderr",
     "output_type": "stream",
     "text": [
      "BYH: No price data found, symbol may be delisted (period=3mo)\n"
     ]
    },
    {
     "name": "stdout",
     "output_type": "stream",
     "text": [
      "symbol=%s, val=%s BYH nan\n"
     ]
    },
    {
     "name": "stderr",
     "output_type": "stream",
     "text": [
      "C1X: No data found, symbol may be delisted\n"
     ]
    },
    {
     "name": "stdout",
     "output_type": "stream",
     "text": [
      "symbol=%s, val=%s C1X nan\n"
     ]
    },
    {
     "name": "stderr",
     "output_type": "stream",
     "text": [
      "C29: No data found, symbol may be delisted\n"
     ]
    },
    {
     "name": "stdout",
     "output_type": "stream",
     "text": [
      "symbol=%s, val=%s C29 nan\n"
     ]
    },
    {
     "name": "stderr",
     "output_type": "stream",
     "text": [
      "C79: No data found, symbol may be delisted\n"
     ]
    },
    {
     "name": "stdout",
     "output_type": "stream",
     "text": [
      "symbol=%s, val=%s C79 nan\n"
     ]
    },
    {
     "name": "stderr",
     "output_type": "stream",
     "text": [
      "C7A: No data found, symbol may be delisted\n"
     ]
    },
    {
     "name": "stdout",
     "output_type": "stream",
     "text": [
      "symbol=%s, val=%s C7A nan\n"
     ]
    },
    {
     "name": "stderr",
     "output_type": "stream",
     "text": [
      "CAA: No price data found, symbol may be delisted (period=3mo)\n"
     ]
    },
    {
     "name": "stdout",
     "output_type": "stream",
     "text": [
      "symbol=%s, val=%s CAA nan\n",
      "symbol=%s, val=%s CAE 16.17229317707077\n",
      "symbol=%s, val=%s CAF 9.11765213243675\n",
      "symbol=%s, val=%s CAG 17.072101981220044\n"
     ]
    },
    {
     "name": "stderr",
     "output_type": "stream",
     "text": [
      "CAI: No data found, symbol may be delisted\n"
     ]
    },
    {
     "name": "stdout",
     "output_type": "stream",
     "text": [
      "symbol=%s, val=%s CAI nan\n"
     ]
    },
    {
     "name": "stderr",
     "output_type": "stream",
     "text": [
      "CAJ: No data found, symbol may be delisted\n"
     ]
    },
    {
     "name": "stdout",
     "output_type": "stream",
     "text": [
      "symbol=%s, val=%s CAJ nan\n"
     ]
    },
    {
     "name": "stderr",
     "output_type": "stream",
     "text": [
      "CAM: No price data found, symbol may be delisted (period=3mo)\n"
     ]
    },
    {
     "name": "stdout",
     "output_type": "stream",
     "text": [
      "symbol=%s, val=%s CAM nan\n",
      "symbol=%s, val=%s CAN 43.471583143257696\n"
     ]
    },
    {
     "name": "stderr",
     "output_type": "stream",
     "text": [
      "CAQ: No price data found, symbol may be delisted (period=3mo)\n"
     ]
    },
    {
     "name": "stdout",
     "output_type": "stream",
     "text": [
      "symbol=%s, val=%s CAQ nan\n",
      "symbol=%s, val=%s CAR 21.857519474656613\n",
      "symbol=%s, val=%s CAT 21.689024981633008\n"
     ]
    },
    {
     "name": "stderr",
     "output_type": "stream",
     "text": [
      "CAV: No price data found, symbol may be delisted (period=3mo)\n"
     ]
    },
    {
     "name": "stdout",
     "output_type": "stream",
     "text": [
      "symbol=%s, val=%s CAV nan\n"
     ]
    },
    {
     "name": "stderr",
     "output_type": "stream",
     "text": [
      "CAY: No price data found, symbol may be delisted (period=3mo)\n"
     ]
    },
    {
     "name": "stdout",
     "output_type": "stream",
     "text": [
      "symbol=%s, val=%s CAY nan\n"
     ]
    },
    {
     "name": "stderr",
     "output_type": "stream",
     "text": [
      "CAZ: No price data found, symbol may be delisted (period=3mo)\n"
     ]
    },
    {
     "name": "stdout",
     "output_type": "stream",
     "text": [
      "symbol=%s, val=%s CAZ nan\n",
      "symbol=%s, val=%s CBA 58.82352966957026\n"
     ]
    },
    {
     "name": "stderr",
     "output_type": "stream",
     "text": [
      "CBE: No price data found, symbol may be delisted (period=3mo)\n"
     ]
    },
    {
     "name": "stdout",
     "output_type": "stream",
     "text": [
      "symbol=%s, val=%s CBE nan\n",
      "symbol=%s, val=%s CBH 5.617472747476612\n",
      "symbol=%s, val=%s CBL 12.505243607960855\n",
      "symbol=%s, val=%s CBO 0.0\n"
     ]
    },
    {
     "name": "stderr",
     "output_type": "stream",
     "text": [
      "CBR: No price data found, symbol may be delisted (period=3mo)\n"
     ]
    },
    {
     "name": "stdout",
     "output_type": "stream",
     "text": [
      "symbol=%s, val=%s CBR nan\n"
     ]
    },
    {
     "name": "stderr",
     "output_type": "stream",
     "text": [
      "CBY: No price data found, symbol may be delisted (period=3mo)\n"
     ]
    },
    {
     "name": "stdout",
     "output_type": "stream",
     "text": [
      "symbol=%s, val=%s CBY nan\n"
     ]
    },
    {
     "name": "stderr",
     "output_type": "stream",
     "text": [
      "CCA: No data found, symbol may be delisted\n"
     ]
    },
    {
     "name": "stdout",
     "output_type": "stream",
     "text": [
      "symbol=%s, val=%s CCA nan\n"
     ]
    },
    {
     "name": "stderr",
     "output_type": "stream",
     "text": [
      "CCE: No price data found, symbol may be delisted (period=3mo)\n"
     ]
    },
    {
     "name": "stdout",
     "output_type": "stream",
     "text": [
      "symbol=%s, val=%s CCE nan\n"
     ]
    },
    {
     "name": "stderr",
     "output_type": "stream",
     "text": [
      "CCG: No price data found, symbol may be delisted (period=3mo)\n"
     ]
    },
    {
     "name": "stdout",
     "output_type": "stream",
     "text": [
      "symbol=%s, val=%s CCG nan\n",
      "symbol=%s, val=%s CCO 36.70212445538634\n"
     ]
    },
    {
     "name": "stderr",
     "output_type": "stream",
     "text": [
      "CCP: No price data found, symbol may be delisted (period=3mo)\n"
     ]
    },
    {
     "name": "stdout",
     "output_type": "stream",
     "text": [
      "symbol=%s, val=%s CCP nan\n"
     ]
    },
    {
     "name": "stderr",
     "output_type": "stream",
     "text": [
      "CCR: No data found, symbol may be delisted\n"
     ]
    },
    {
     "name": "stdout",
     "output_type": "stream",
     "text": [
      "symbol=%s, val=%s CCR nan\n",
      "symbol=%s, val=%s CCV 3.9523805890764505\n"
     ]
    },
    {
     "name": "stderr",
     "output_type": "stream",
     "text": [
      "CCX: No data found, symbol may be delisted\n"
     ]
    },
    {
     "name": "stdout",
     "output_type": "stream",
     "text": [
      "symbol=%s, val=%s CCX nan\n",
      "symbol=%s, val=%s CCZ 7.914896214261969\n"
     ]
    },
    {
     "name": "stderr",
     "output_type": "stream",
     "text": [
      "CD1: No data found, symbol may be delisted\n"
     ]
    },
    {
     "name": "stdout",
     "output_type": "stream",
     "text": [
      "symbol=%s, val=%s CD1 nan\n"
     ]
    },
    {
     "name": "stderr",
     "output_type": "stream",
     "text": [
      "CD2: No data found, symbol may be delisted\n"
     ]
    },
    {
     "name": "stdout",
     "output_type": "stream",
     "text": [
      "symbol=%s, val=%s CD2 nan\n"
     ]
    },
    {
     "name": "stderr",
     "output_type": "stream",
     "text": [
      "CD3: No data found, symbol may be delisted\n"
     ]
    },
    {
     "name": "stdout",
     "output_type": "stream",
     "text": [
      "symbol=%s, val=%s CD3 nan\n"
     ]
    },
    {
     "name": "stderr",
     "output_type": "stream",
     "text": [
      "CDA: No price data found, symbol may be delisted (period=3mo)\n"
     ]
    },
    {
     "name": "stdout",
     "output_type": "stream",
     "text": [
      "symbol=%s, val=%s CDA nan\n"
     ]
    },
    {
     "name": "stderr",
     "output_type": "stream",
     "text": [
      "CDD: No price data found, symbol may be delisted (period=3mo)\n"
     ]
    },
    {
     "name": "stdout",
     "output_type": "stream",
     "text": [
      "symbol=%s, val=%s CDD nan\n"
     ]
    },
    {
     "name": "stderr",
     "output_type": "stream",
     "text": [
      "CDM: No price data found, symbol may be delisted (period=3mo)\n"
     ]
    },
    {
     "name": "stdout",
     "output_type": "stream",
     "text": [
      "symbol=%s, val=%s CDM nan\n"
     ]
    },
    {
     "name": "stderr",
     "output_type": "stream",
     "text": [
      "CDO: No price data found, symbol may be delisted (period=3mo)\n"
     ]
    },
    {
     "name": "stdout",
     "output_type": "stream",
     "text": [
      "symbol=%s, val=%s CDO nan\n"
     ]
    },
    {
     "name": "stderr",
     "output_type": "stream",
     "text": [
      "CDP: No price data found, symbol may be delisted (period=3mo)\n"
     ]
    },
    {
     "name": "stdout",
     "output_type": "stream",
     "text": [
      "symbol=%s, val=%s CDP nan\n"
     ]
    },
    {
     "name": "stderr",
     "output_type": "stream",
     "text": [
      "CDR: No data found, symbol may be delisted\n"
     ]
    },
    {
     "name": "stdout",
     "output_type": "stream",
     "text": [
      "symbol=%s, val=%s CDR nan\n"
     ]
    },
    {
     "name": "stderr",
     "output_type": "stream",
     "text": [
      "CDT: No price data found, symbol may be delisted (period=3mo)\n"
     ]
    },
    {
     "name": "stdout",
     "output_type": "stream",
     "text": [
      "symbol=%s, val=%s CDT nan\n",
      "symbol=%s, val=%s CDX 4.27715374837655\n"
     ]
    },
    {
     "name": "stderr",
     "output_type": "stream",
     "text": [
      "CE1: No data found, symbol may be delisted\n"
     ]
    },
    {
     "name": "stdout",
     "output_type": "stream",
     "text": [
      "symbol=%s, val=%s CE1 nan\n"
     ]
    },
    {
     "name": "stderr",
     "output_type": "stream",
     "text": [
      "CEL: No data found, symbol may be delisted\n"
     ]
    },
    {
     "name": "stdout",
     "output_type": "stream",
     "text": [
      "symbol=%s, val=%s CEL nan\n",
      "symbol=%s, val=%s CEN 17.684615928030947\n"
     ]
    },
    {
     "name": "stderr",
     "output_type": "stream",
     "text": [
      "CF1: No data found, symbol may be delisted\n"
     ]
    },
    {
     "name": "stdout",
     "output_type": "stream",
     "text": [
      "symbol=%s, val=%s CF1 nan\n",
      "symbol=%s, val=%s CFO 5.139796045428467\n"
     ]
    },
    {
     "name": "stderr",
     "output_type": "stream",
     "text": [
      "CG1: No data found, symbol may be delisted\n"
     ]
    },
    {
     "name": "stdout",
     "output_type": "stream",
     "text": [
      "symbol=%s, val=%s CG1 nan\n"
     ]
    },
    {
     "name": "stderr",
     "output_type": "stream",
     "text": [
      "CGB: Period '3mo' is invalid, must be one of ['1d', '5d']\n"
     ]
    },
    {
     "name": "stdout",
     "output_type": "stream",
     "text": [
      "symbol=%s, val=%s CGB nan\n",
      "symbol=%s, val=%s CGC 80.67039143536512\n"
     ]
    },
    {
     "name": "stderr",
     "output_type": "stream",
     "text": [
      "CGF: No price data found, symbol may be delisted (period=3mo)\n"
     ]
    },
    {
     "name": "stdout",
     "output_type": "stream",
     "text": [
      "symbol=%s, val=%s CGF nan\n",
      "symbol=%s, val=%s CGO 7.951666907749345\n"
     ]
    },
    {
     "name": "stderr",
     "output_type": "stream",
     "text": [
      "CGS: No price data found, symbol may be delisted (period=3mo)\n"
     ]
    },
    {
     "name": "stdout",
     "output_type": "stream",
     "text": [
      "symbol=%s, val=%s CGS nan\n"
     ]
    },
    {
     "name": "stderr",
     "output_type": "stream",
     "text": [
      "CHC: No price data found, symbol may be delisted (period=3mo)\n"
     ]
    },
    {
     "name": "stdout",
     "output_type": "stream",
     "text": [
      "symbol=%s, val=%s CHC nan\n",
      "symbol=%s, val=%s CHK 14.219655439317503\n"
     ]
    },
    {
     "name": "stderr",
     "output_type": "stream",
     "text": [
      "CHL: No data found, symbol may be delisted\n"
     ]
    },
    {
     "name": "stdout",
     "output_type": "stream",
     "text": [
      "symbol=%s, val=%s CHL nan\n"
     ]
    },
    {
     "name": "stderr",
     "output_type": "stream",
     "text": [
      "CHM: No price data found, symbol may be delisted (period=3mo)\n"
     ]
    },
    {
     "name": "stdout",
     "output_type": "stream",
     "text": [
      "symbol=%s, val=%s CHM nan\n",
      "symbol=%s, val=%s CHN 15.040000915527344\n"
     ]
    },
    {
     "name": "stderr",
     "output_type": "stream",
     "text": [
      "CHR: No price data found, symbol may be delisted (period=3mo)\n"
     ]
    },
    {
     "name": "stdout",
     "output_type": "stream",
     "text": [
      "symbol=%s, val=%s CHR nan\n",
      "symbol=%s, val=%s CHW 7.915487535389733\n"
     ]
    },
    {
     "name": "stderr",
     "output_type": "stream",
     "text": [
      "CHZ: No price data found, symbol may be delisted (period=3mo)\n"
     ]
    },
    {
     "name": "stdout",
     "output_type": "stream",
     "text": [
      "symbol=%s, val=%s CHZ nan\n"
     ]
    },
    {
     "name": "stderr",
     "output_type": "stream",
     "text": [
      "CI1: No data found, symbol may be delisted\n"
     ]
    },
    {
     "name": "stdout",
     "output_type": "stream",
     "text": [
      "symbol=%s, val=%s CI1 nan\n",
      "symbol=%s, val=%s CIA 32.61538285475511\n",
      "symbol=%s, val=%s CII 7.834782591423367\n"
     ]
    },
    {
     "name": "stderr",
     "output_type": "stream",
     "text": [
      "CIN: No price data found, symbol may be delisted (period=3mo)\n"
     ]
    },
    {
     "name": "stdout",
     "output_type": "stream",
     "text": [
      "symbol=%s, val=%s CIN nan\n",
      "symbol=%s, val=%s CIO 21.65289881515822\n"
     ]
    },
    {
     "name": "stderr",
     "output_type": "stream",
     "text": [
      "CIP: No price data found, symbol may be delisted (period=3mo)\n"
     ]
    },
    {
     "name": "stdout",
     "output_type": "stream",
     "text": [
      "symbol=%s, val=%s CIP nan\n"
     ]
    },
    {
     "name": "stderr",
     "output_type": "stream",
     "text": [
      "CIW: No price data found, symbol may be delisted (period=3mo)\n"
     ]
    },
    {
     "name": "stdout",
     "output_type": "stream",
     "text": [
      "symbol=%s, val=%s CIW nan\n"
     ]
    },
    {
     "name": "stderr",
     "output_type": "stream",
     "text": [
      "CKA: Period '3mo' is invalid, must be one of ['1d', '5d']\n"
     ]
    },
    {
     "name": "stdout",
     "output_type": "stream",
     "text": [
      "symbol=%s, val=%s CKA nan\n"
     ]
    },
    {
     "name": "stderr",
     "output_type": "stream",
     "text": [
      "CKF: No price data found, symbol may be delisted (period=3mo)\n"
     ]
    },
    {
     "name": "stdout",
     "output_type": "stream",
     "text": [
      "symbol=%s, val=%s CKF nan\n"
     ]
    },
    {
     "name": "stderr",
     "output_type": "stream",
     "text": [
      "CL8: No data found, symbol may be delisted\n"
     ]
    },
    {
     "name": "stdout",
     "output_type": "stream",
     "text": [
      "symbol=%s, val=%s CL8 nan\n"
     ]
    },
    {
     "name": "stderr",
     "output_type": "stream",
     "text": [
      "CLA: No data found, symbol may be delisted\n"
     ]
    },
    {
     "name": "stdout",
     "output_type": "stream",
     "text": [
      "symbol=%s, val=%s CLA nan\n",
      "symbol=%s, val=%s CLB 24.15026713191807\n"
     ]
    },
    {
     "name": "stderr",
     "output_type": "stream",
     "text": [
      "CLE: No price data found, symbol may be delisted (period=3mo)\n"
     ]
    },
    {
     "name": "stdout",
     "output_type": "stream",
     "text": [
      "symbol=%s, val=%s CLE nan\n"
     ]
    },
    {
     "name": "stderr",
     "output_type": "stream",
     "text": [
      "CLG: No price data found, symbol may be delisted (period=3mo)\n"
     ]
    },
    {
     "name": "stdout",
     "output_type": "stream",
     "text": [
      "symbol=%s, val=%s CLG nan\n"
     ]
    },
    {
     "name": "stderr",
     "output_type": "stream",
     "text": [
      "CLU: No price data found, symbol may be delisted (period=3mo)\n"
     ]
    },
    {
     "name": "stdout",
     "output_type": "stream",
     "text": [
      "symbol=%s, val=%s CLU nan\n"
     ]
    },
    {
     "name": "stderr",
     "output_type": "stream",
     "text": [
      "CLV: No price data found, symbol may be delisted (period=3mo)\n"
     ]
    },
    {
     "name": "stdout",
     "output_type": "stream",
     "text": [
      "symbol=%s, val=%s CLV nan\n",
      "symbol=%s, val=%s CLW 24.690721938353903\n",
      "symbol=%s, val=%s CLX 11.852516711912745\n"
     ]
    },
    {
     "name": "stderr",
     "output_type": "stream",
     "text": [
      "CLZ: No price data found, symbol may be delisted (period=3mo)\n"
     ]
    },
    {
     "name": "stdout",
     "output_type": "stream",
     "text": [
      "symbol=%s, val=%s CLZ nan\n"
     ]
    },
    {
     "name": "stderr",
     "output_type": "stream",
     "text": [
      "CMD: No data found, symbol may be delisted\n"
     ]
    },
    {
     "name": "stdout",
     "output_type": "stream",
     "text": [
      "symbol=%s, val=%s CMD nan\n",
      "symbol=%s, val=%s CMG 15.535561808769513\n"
     ]
    },
    {
     "name": "stderr",
     "output_type": "stream",
     "text": [
      "CMM: No price data found, symbol may be delisted (period=3mo)\n"
     ]
    },
    {
     "name": "stdout",
     "output_type": "stream",
     "text": [
      "symbol=%s, val=%s CMM nan\n"
     ]
    },
    {
     "name": "stderr",
     "output_type": "stream",
     "text": [
      "CMO: No data found, symbol may be delisted\n"
     ]
    },
    {
     "name": "stdout",
     "output_type": "stream",
     "text": [
      "symbol=%s, val=%s CMO nan\n",
      "symbol=%s, val=%s CMP 29.73855433909931\n"
     ]
    },
    {
     "name": "stderr",
     "output_type": "stream",
     "text": [
      "CMW: No price data found, symbol may be delisted (period=3mo)\n"
     ]
    },
    {
     "name": "stdout",
     "output_type": "stream",
     "text": [
      "symbol=%s, val=%s CMW nan\n"
     ]
    },
    {
     "name": "stderr",
     "output_type": "stream",
     "text": [
      "CMX: No price data found, symbol may be delisted (period=3mo)\n"
     ]
    },
    {
     "name": "stdout",
     "output_type": "stream",
     "text": [
      "symbol=%s, val=%s CMX nan\n"
     ]
    },
    {
     "name": "stderr",
     "output_type": "stream",
     "text": [
      "CNB: No price data found, symbol may be delisted (period=3mo)\n"
     ]
    },
    {
     "name": "stdout",
     "output_type": "stream",
     "text": [
      "symbol=%s, val=%s CNB nan\n",
      "symbol=%s, val=%s CNI 11.453054188797102\n"
     ]
    },
    {
     "name": "stderr",
     "output_type": "stream",
     "text": [
      "CNJ: No price data found, symbol may be delisted (period=3mo)\n"
     ]
    },
    {
     "name": "stdout",
     "output_type": "stream",
     "text": [
      "symbol=%s, val=%s CNJ nan\n",
      "symbol=%s, val=%s CNQ 20.429133265969938\n"
     ]
    },
    {
     "name": "stderr",
     "output_type": "stream",
     "text": [
      "CNU: No price data found, symbol may be delisted (period=3mo)\n"
     ]
    },
    {
     "name": "stdout",
     "output_type": "stream",
     "text": [
      "symbol=%s, val=%s CNU nan\n"
     ]
    },
    {
     "name": "stderr",
     "output_type": "stream",
     "text": [
      "CNW: No price data found, symbol may be delisted (period=3mo)\n"
     ]
    },
    {
     "name": "stdout",
     "output_type": "stream",
     "text": [
      "symbol=%s, val=%s CNW nan\n"
     ]
    },
    {
     "name": "stderr",
     "output_type": "stream",
     "text": [
      "COB: No price data found, symbol may be delisted (period=3mo)\n"
     ]
    },
    {
     "name": "stdout",
     "output_type": "stream",
     "text": [
      "symbol=%s, val=%s COB nan\n"
     ]
    },
    {
     "name": "stderr",
     "output_type": "stream",
     "text": [
      "COD: No price data found, symbol may be delisted (period=3mo)\n"
     ]
    },
    {
     "name": "stdout",
     "output_type": "stream",
     "text": [
      "symbol=%s, val=%s COD nan\n",
      "symbol=%s, val=%s COE 34.95670586846188\n",
      "symbol=%s, val=%s COF 16.56236345307949\n"
     ]
    },
    {
     "name": "stderr",
     "output_type": "stream",
     "text": [
      "COG: No data found, symbol may be delisted\n"
     ]
    },
    {
     "name": "stdout",
     "output_type": "stream",
     "text": [
      "symbol=%s, val=%s COG nan\n"
     ]
    },
    {
     "name": "stderr",
     "output_type": "stream",
     "text": [
      "COH: No price data found, symbol may be delisted (period=3mo)\n"
     ]
    },
    {
     "name": "stdout",
     "output_type": "stream",
     "text": [
      "symbol=%s, val=%s COH nan\n"
     ]
    },
    {
     "name": "stderr",
     "output_type": "stream",
     "text": [
      "COI: No price data found, symbol may be delisted (period=3mo)\n"
     ]
    },
    {
     "name": "stdout",
     "output_type": "stream",
     "text": [
      "symbol=%s, val=%s COI nan\n"
     ]
    },
    {
     "name": "stderr",
     "output_type": "stream",
     "text": [
      "COL: No price data found, symbol may be delisted (period=3mo)\n"
     ]
    },
    {
     "name": "stdout",
     "output_type": "stream",
     "text": [
      "symbol=%s, val=%s COL nan\n",
      "symbol=%s, val=%s COO 12.943038661217784\n"
     ]
    },
    {
     "name": "stderr",
     "output_type": "stream",
     "text": [
      "COS: No price data found, symbol may be delisted (period=3mo)\n"
     ]
    },
    {
     "name": "stdout",
     "output_type": "stream",
     "text": [
      "symbol=%s, val=%s COS nan\n"
     ]
    },
    {
     "name": "stderr",
     "output_type": "stream",
     "text": [
      "COV: No price data found, symbol may be delisted (period=3mo)\n"
     ]
    },
    {
     "name": "stdout",
     "output_type": "stream",
     "text": [
      "symbol=%s, val=%s COV nan\n"
     ]
    },
    {
     "name": "stderr",
     "output_type": "stream",
     "text": [
      "COY: No price data found, symbol may be delisted (period=3mo)\n"
     ]
    },
    {
     "name": "stdout",
     "output_type": "stream",
     "text": [
      "symbol=%s, val=%s COY nan\n"
     ]
    },
    {
     "name": "stderr",
     "output_type": "stream",
     "text": [
      "CPM: No price data found, symbol may be delisted (period=3mo)\n"
     ]
    },
    {
     "name": "stdout",
     "output_type": "stream",
     "text": [
      "symbol=%s, val=%s CPM nan\n"
     ]
    },
    {
     "name": "stderr",
     "output_type": "stream",
     "text": [
      "CPN: No price data found, symbol may be delisted (period=3mo)\n"
     ]
    },
    {
     "name": "stdout",
     "output_type": "stream",
     "text": [
      "symbol=%s, val=%s CPN nan\n"
     ]
    },
    {
     "name": "stderr",
     "output_type": "stream",
     "text": [
      "CPO: No price data found, symbol may be delisted (period=3mo)\n"
     ]
    },
    {
     "name": "stdout",
     "output_type": "stream",
     "text": [
      "symbol=%s, val=%s CPO nan\n"
     ]
    },
    {
     "name": "stderr",
     "output_type": "stream",
     "text": [
      "CPU: No price data found, symbol may be delisted (period=3mo)\n"
     ]
    },
    {
     "name": "stdout",
     "output_type": "stream",
     "text": [
      "symbol=%s, val=%s CPU nan\n"
     ]
    },
    {
     "name": "stderr",
     "output_type": "stream",
     "text": [
      "CPV: No price data found, symbol may be delisted (period=3mo)\n"
     ]
    },
    {
     "name": "stdout",
     "output_type": "stream",
     "text": [
      "symbol=%s, val=%s CPV nan\n"
     ]
    },
    {
     "name": "stderr",
     "output_type": "stream",
     "text": [
      "CQE: No price data found, symbol may be delisted (period=3mo)\n"
     ]
    },
    {
     "name": "stdout",
     "output_type": "stream",
     "text": [
      "symbol=%s, val=%s CQE nan\n"
     ]
    },
    {
     "name": "stderr",
     "output_type": "stream",
     "text": [
      "CQR: No price data found, symbol may be delisted (period=3mo)\n"
     ]
    },
    {
     "name": "stdout",
     "output_type": "stream",
     "text": [
      "symbol=%s, val=%s CQR nan\n"
     ]
    },
    {
     "name": "stderr",
     "output_type": "stream",
     "text": [
      "CR1: No data found, symbol may be delisted\n"
     ]
    },
    {
     "name": "stdout",
     "output_type": "stream",
     "text": [
      "symbol=%s, val=%s CR1 nan\n"
     ]
    },
    {
     "name": "stderr",
     "output_type": "stream",
     "text": [
      "CR9: No data found, symbol may be delisted\n"
     ]
    },
    {
     "name": "stdout",
     "output_type": "stream",
     "text": [
      "symbol=%s, val=%s CR9 nan\n"
     ]
    },
    {
     "name": "stderr",
     "output_type": "stream",
     "text": [
      "CRB: No price data found, symbol may be delisted (period=3mo)\n"
     ]
    },
    {
     "name": "stdout",
     "output_type": "stream",
     "text": [
      "symbol=%s, val=%s CRB nan\n"
     ]
    },
    {
     "name": "stderr",
     "output_type": "stream",
     "text": [
      "CRD: No price data found, symbol may be delisted (period=3mo)\n"
     ]
    },
    {
     "name": "stdout",
     "output_type": "stream",
     "text": [
      "symbol=%s, val=%s CRD nan\n",
      "symbol=%s, val=%s CRL 10.044324609798467\n",
      "symbol=%s, val=%s CRM 15.96003865235339\n"
     ]
    },
    {
     "name": "stderr",
     "output_type": "stream",
     "text": [
      "CRN: No price data found, symbol may be delisted (period=3mo)\n"
     ]
    },
    {
     "name": "stdout",
     "output_type": "stream",
     "text": [
      "symbol=%s, val=%s CRN nan\n"
     ]
    },
    {
     "name": "stderr",
     "output_type": "stream",
     "text": [
      "CRR: No data found, symbol may be delisted\n"
     ]
    },
    {
     "name": "stdout",
     "output_type": "stream",
     "text": [
      "symbol=%s, val=%s CRR nan\n",
      "symbol=%s, val=%s CRS 22.58988042715881\n"
     ]
    },
    {
     "name": "stderr",
     "output_type": "stream",
     "text": [
      "CSE: No price data found, symbol may be delisted (period=3mo)\n"
     ]
    },
    {
     "name": "stdout",
     "output_type": "stream",
     "text": [
      "symbol=%s, val=%s CSE nan\n",
      "symbol=%s, val=%s CSF 6.622624844349521\n",
      "symbol=%s, val=%s CSL 19.839515172489776\n",
      "symbol=%s, val=%s CSR 15.061924238704435\n"
     ]
    },
    {
     "name": "stderr",
     "output_type": "stream",
     "text": [
      "CSS: No data found, symbol may be delisted\n"
     ]
    },
    {
     "name": "stdout",
     "output_type": "stream",
     "text": [
      "symbol=%s, val=%s CSS nan\n"
     ]
    },
    {
     "name": "stderr",
     "output_type": "stream",
     "text": [
      "CST: No price data found, symbol may be delisted (period=3mo)\n"
     ]
    },
    {
     "name": "stdout",
     "output_type": "stream",
     "text": [
      "symbol=%s, val=%s CST nan\n",
      "symbol=%s, val=%s CSX 14.032209282322547\n"
     ]
    },
    {
     "name": "stderr",
     "output_type": "stream",
     "text": [
      "CT1: No data found, symbol may be delisted\n"
     ]
    },
    {
     "name": "stdout",
     "output_type": "stream",
     "text": [
      "symbol=%s, val=%s CT1 nan\n"
     ]
    },
    {
     "name": "stderr",
     "output_type": "stream",
     "text": [
      "CTD: No price data found, symbol may be delisted (period=3mo)\n"
     ]
    },
    {
     "name": "stdout",
     "output_type": "stream",
     "text": [
      "symbol=%s, val=%s CTD nan\n"
     ]
    },
    {
     "name": "stderr",
     "output_type": "stream",
     "text": [
      "CTE: No price data found, symbol may be delisted (period=3mo)\n"
     ]
    },
    {
     "name": "stdout",
     "output_type": "stream",
     "text": [
      "symbol=%s, val=%s CTE nan\n",
      "symbol=%s, val=%s CTM 53.84615031925166\n"
     ]
    },
    {
     "name": "stderr",
     "output_type": "stream",
     "text": [
      "CTN: No price data found, symbol may be delisted (period=3mo)\n"
     ]
    },
    {
     "name": "stdout",
     "output_type": "stream",
     "text": [
      "symbol=%s, val=%s CTN nan\n",
      "symbol=%s, val=%s CTO 11.425403999804082\n",
      "symbol=%s, val=%s CTP 98.200000057742\n"
     ]
    },
    {
     "name": "stderr",
     "output_type": "stream",
     "text": [
      "CTQ: No price data found, symbol may be delisted (period=3mo)\n"
     ]
    },
    {
     "name": "stdout",
     "output_type": "stream",
     "text": [
      "symbol=%s, val=%s CTQ nan\n"
     ]
    },
    {
     "name": "stderr",
     "output_type": "stream",
     "text": [
      "CTT: No data found, symbol may be delisted\n"
     ]
    },
    {
     "name": "stdout",
     "output_type": "stream",
     "text": [
      "symbol=%s, val=%s CTT nan\n",
      "symbol=%s, val=%s CTV 38.551728033140506\n"
     ]
    },
    {
     "name": "stderr",
     "output_type": "stream",
     "text": [
      "CU6: No data found, symbol may be delisted\n"
     ]
    },
    {
     "name": "stdout",
     "output_type": "stream",
     "text": [
      "symbol=%s, val=%s CU6 nan\n",
      "symbol=%s, val=%s CUE 47.85276028751819\n"
     ]
    },
    {
     "name": "stderr",
     "output_type": "stream",
     "text": [
      "CUF: Period '3mo' is invalid, must be one of ['1d', '5d']\n"
     ]
    },
    {
     "name": "stdout",
     "output_type": "stream",
     "text": [
      "symbol=%s, val=%s CUF nan\n"
     ]
    },
    {
     "name": "stderr",
     "output_type": "stream",
     "text": [
      "CUL: No price data found, symbol may be delisted (period=3mo)\n"
     ]
    },
    {
     "name": "stdout",
     "output_type": "stream",
     "text": [
      "symbol=%s, val=%s CUL nan\n"
     ]
    },
    {
     "name": "stderr",
     "output_type": "stream",
     "text": [
      "CUP: No price data found, symbol may be delisted (period=3mo)\n"
     ]
    },
    {
     "name": "stdout",
     "output_type": "stream",
     "text": [
      "symbol=%s, val=%s CUP nan\n"
     ]
    },
    {
     "name": "stderr",
     "output_type": "stream",
     "text": [
      "CUS: No price data found, symbol may be delisted (period=3mo)\n"
     ]
    },
    {
     "name": "stdout",
     "output_type": "stream",
     "text": [
      "symbol=%s, val=%s CUS nan\n"
     ]
    },
    {
     "name": "stderr",
     "output_type": "stream",
     "text": [
      "CUV: No price data found, symbol may be delisted (period=3mo)\n"
     ]
    },
    {
     "name": "stdout",
     "output_type": "stream",
     "text": [
      "symbol=%s, val=%s CUV nan\n"
     ]
    },
    {
     "name": "stderr",
     "output_type": "stream",
     "text": [
      "CVB: No price data found, symbol may be delisted (period=3mo)\n"
     ]
    },
    {
     "name": "stdout",
     "output_type": "stream",
     "text": [
      "symbol=%s, val=%s CVB nan\n"
     ]
    },
    {
     "name": "stderr",
     "output_type": "stream",
     "text": [
      "CVC: No price data found, symbol may be delisted (period=3mo)\n"
     ]
    },
    {
     "name": "stdout",
     "output_type": "stream",
     "text": [
      "symbol=%s, val=%s CVC nan\n"
     ]
    },
    {
     "name": "stderr",
     "output_type": "stream",
     "text": [
      "CVL: No price data found, symbol may be delisted (period=3mo)\n"
     ]
    },
    {
     "name": "stdout",
     "output_type": "stream",
     "text": [
      "symbol=%s, val=%s CVL nan\n"
     ]
    },
    {
     "name": "stderr",
     "output_type": "stream",
     "text": [
      "CVN: No price data found, symbol may be delisted (period=3mo)\n"
     ]
    },
    {
     "name": "stdout",
     "output_type": "stream",
     "text": [
      "symbol=%s, val=%s CVN nan\n",
      "symbol=%s, val=%s CVR 39.28571542733487\n",
      "symbol=%s, val=%s CVV 38.35616490552637\n"
     ]
    },
    {
     "name": "stderr",
     "output_type": "stream",
     "text": [
      "CVW: No price data found, symbol may be delisted (period=3mo)\n"
     ]
    },
    {
     "name": "stdout",
     "output_type": "stream",
     "text": [
      "symbol=%s, val=%s CVW nan\n"
     ]
    },
    {
     "name": "stderr",
     "output_type": "stream",
     "text": [
      "CWP: No price data found, symbol may be delisted (period=3mo)\n"
     ]
    },
    {
     "name": "stdout",
     "output_type": "stream",
     "text": [
      "symbol=%s, val=%s CWP nan\n"
     ]
    },
    {
     "name": "stderr",
     "output_type": "stream",
     "text": [
      "CWX: No price data found, symbol may be delisted (period=3mo)\n"
     ]
    },
    {
     "name": "stdout",
     "output_type": "stream",
     "text": [
      "symbol=%s, val=%s CWX nan\n"
     ]
    },
    {
     "name": "stderr",
     "output_type": "stream",
     "text": [
      "CWY: No price data found, symbol may be delisted (period=3mo)\n"
     ]
    },
    {
     "name": "stdout",
     "output_type": "stream",
     "text": [
      "symbol=%s, val=%s CWY nan\n"
     ]
    },
    {
     "name": "stderr",
     "output_type": "stream",
     "text": [
      "CXL: No price data found, symbol may be delisted (period=3mo)\n"
     ]
    },
    {
     "name": "stdout",
     "output_type": "stream",
     "text": [
      "symbol=%s, val=%s CXL nan\n",
      "symbol=%s, val=%s CXM 21.34292778467178\n"
     ]
    },
    {
     "name": "stderr",
     "output_type": "stream",
     "text": [
      "CXO: No data found, symbol may be delisted\n"
     ]
    },
    {
     "name": "stdout",
     "output_type": "stream",
     "text": [
      "symbol=%s, val=%s CXO nan\n"
     ]
    },
    {
     "name": "stderr",
     "output_type": "stream",
     "text": [
      "CXU: No price data found, symbol may be delisted (period=3mo)\n"
     ]
    },
    {
     "name": "stdout",
     "output_type": "stream",
     "text": [
      "symbol=%s, val=%s CXU nan\n"
     ]
    },
    {
     "name": "stderr",
     "output_type": "stream",
     "text": [
      "CXX: No price data found, symbol may be delisted (period=3mo)\n"
     ]
    },
    {
     "name": "stdout",
     "output_type": "stream",
     "text": [
      "symbol=%s, val=%s CXX nan\n"
     ]
    },
    {
     "name": "stderr",
     "output_type": "stream",
     "text": [
      "CXZ: No price data found, symbol may be delisted (period=3mo)\n"
     ]
    },
    {
     "name": "stdout",
     "output_type": "stream",
     "text": [
      "symbol=%s, val=%s CXZ nan\n"
     ]
    },
    {
     "name": "stderr",
     "output_type": "stream",
     "text": [
      "CY5: No data found, symbol may be delisted\n"
     ]
    },
    {
     "name": "stdout",
     "output_type": "stream",
     "text": [
      "symbol=%s, val=%s CY5 nan\n"
     ]
    },
    {
     "name": "stderr",
     "output_type": "stream",
     "text": [
      "CYC: No price data found, symbol may be delisted (period=3mo)\n"
     ]
    },
    {
     "name": "stdout",
     "output_type": "stream",
     "text": [
      "symbol=%s, val=%s CYC nan\n"
     ]
    },
    {
     "name": "stderr",
     "output_type": "stream",
     "text": [
      "CYG: No price data found, symbol may be delisted (period=3mo)\n"
     ]
    },
    {
     "name": "stdout",
     "output_type": "stream",
     "text": [
      "symbol=%s, val=%s CYG nan\n"
     ]
    },
    {
     "name": "stderr",
     "output_type": "stream",
     "text": [
      "CYL: No price data found, symbol may be delisted (period=3mo)\n"
     ]
    },
    {
     "name": "stdout",
     "output_type": "stream",
     "text": [
      "symbol=%s, val=%s CYL nan\n"
     ]
    },
    {
     "name": "stderr",
     "output_type": "stream",
     "text": [
      "CYM: No price data found, symbol may be delisted (period=3mo)\n"
     ]
    },
    {
     "name": "stdout",
     "output_type": "stream",
     "text": [
      "symbol=%s, val=%s CYM nan\n"
     ]
    },
    {
     "name": "stderr",
     "output_type": "stream",
     "text": [
      "CYP: No price data found, symbol may be delisted (period=3mo)\n"
     ]
    },
    {
     "name": "stdout",
     "output_type": "stream",
     "text": [
      "symbol=%s, val=%s CYP nan\n"
     ]
    },
    {
     "name": "stderr",
     "output_type": "stream",
     "text": [
      "CYQ: No price data found, symbol may be delisted (period=3mo)\n"
     ]
    },
    {
     "name": "stdout",
     "output_type": "stream",
     "text": [
      "symbol=%s, val=%s CYQ nan\n"
     ]
    },
    {
     "name": "stderr",
     "output_type": "stream",
     "text": [
      "CZN: No price data found, symbol may be delisted (period=3mo)\n"
     ]
    },
    {
     "name": "stdout",
     "output_type": "stream",
     "text": [
      "symbol=%s, val=%s CZN nan\n",
      "symbol=%s, val=%s CZR 25.651234390327897\n"
     ]
    },
    {
     "name": "stderr",
     "output_type": "stream",
     "text": [
      "D2O: No data found, symbol may be delisted\n"
     ]
    },
    {
     "name": "stdout",
     "output_type": "stream",
     "text": [
      "symbol=%s, val=%s D2O nan\n"
     ]
    },
    {
     "name": "stderr",
     "output_type": "stream",
     "text": [
      "DAF: No price data found, symbol may be delisted (period=3mo)\n"
     ]
    },
    {
     "name": "stdout",
     "output_type": "stream",
     "text": [
      "symbol=%s, val=%s DAF nan\n",
      "symbol=%s, val=%s DAL 20.618352554024412\n"
     ]
    },
    {
     "name": "stderr",
     "output_type": "stream",
     "text": [
      "DBF: Period '3mo' is invalid, must be one of ['1d', '5d']\n"
     ]
    },
    {
     "name": "stdout",
     "output_type": "stream",
     "text": [
      "symbol=%s, val=%s DBF nan\n",
      "symbol=%s, val=%s DBI 36.273966781956915\n",
      "symbol=%s, val=%s DBO 23.825882656759813\n"
     ]
    },
    {
     "name": "stderr",
     "output_type": "stream",
     "text": [
      "DC2: No data found, symbol may be delisted\n"
     ]
    },
    {
     "name": "stdout",
     "output_type": "stream",
     "text": [
      "symbol=%s, val=%s DC2 nan\n"
     ]
    },
    {
     "name": "stderr",
     "output_type": "stream",
     "text": [
      "DCC: No price data found, symbol may be delisted (period=3mo)\n"
     ]
    },
    {
     "name": "stdout",
     "output_type": "stream",
     "text": [
      "symbol=%s, val=%s DCC nan\n"
     ]
    },
    {
     "name": "stderr",
     "output_type": "stream",
     "text": [
      "DCG: No price data found, symbol may be delisted (period=3mo)\n"
     ]
    },
    {
     "name": "stdout",
     "output_type": "stream",
     "text": [
      "symbol=%s, val=%s DCG nan\n"
     ]
    },
    {
     "name": "stderr",
     "output_type": "stream",
     "text": [
      "DCL: No price data found, symbol may be delisted (period=3mo)\n"
     ]
    },
    {
     "name": "stdout",
     "output_type": "stream",
     "text": [
      "symbol=%s, val=%s DCL nan\n"
     ]
    },
    {
     "name": "stderr",
     "output_type": "stream",
     "text": [
      "DCN: No price data found, symbol may be delisted (period=3mo)\n"
     ]
    },
    {
     "name": "stdout",
     "output_type": "stream",
     "text": [
      "symbol=%s, val=%s DCN nan\n"
     ]
    },
    {
     "name": "stderr",
     "output_type": "stream",
     "text": [
      "DCX: No price data found, symbol may be delisted (period=3mo)\n"
     ]
    },
    {
     "name": "stdout",
     "output_type": "stream",
     "text": [
      "symbol=%s, val=%s DCX nan\n"
     ]
    },
    {
     "name": "stderr",
     "output_type": "stream",
     "text": [
      "DDB: No price data found, symbol may be delisted (period=3mo)\n"
     ]
    },
    {
     "name": "stdout",
     "output_type": "stream",
     "text": [
      "symbol=%s, val=%s DDB nan\n"
     ]
    },
    {
     "name": "stderr",
     "output_type": "stream",
     "text": [
      "DDH: Period '3mo' is invalid, must be one of ['1d', '5d']\n"
     ]
    },
    {
     "name": "stdout",
     "output_type": "stream",
     "text": [
      "symbol=%s, val=%s DDH nan\n"
     ]
    },
    {
     "name": "stderr",
     "output_type": "stream",
     "text": [
      "DDR: No price data found, symbol may be delisted (period=3mo)\n"
     ]
    },
    {
     "name": "stdout",
     "output_type": "stream",
     "text": [
      "symbol=%s, val=%s DDR nan\n",
      "symbol=%s, val=%s DDT 3.7920522494838917\n"
     ]
    },
    {
     "name": "stderr",
     "output_type": "stream",
     "text": [
      "DEG: No price data found, symbol may be delisted (period=3mo)\n"
     ]
    },
    {
     "name": "stdout",
     "output_type": "stream",
     "text": [
      "symbol=%s, val=%s DEG nan\n"
     ]
    },
    {
     "name": "stderr",
     "output_type": "stream",
     "text": [
      "DEL: No price data found, symbol may be delisted (period=3mo)\n"
     ]
    },
    {
     "name": "stdout",
     "output_type": "stream",
     "text": [
      "symbol=%s, val=%s DEL nan\n",
      "symbol=%s, val=%s DEM 8.688201625139433\n",
      "symbol=%s, val=%s DES 10.073167353676778\n"
     ]
    },
    {
     "name": "stderr",
     "output_type": "stream",
     "text": [
      "DEV: No price data found, symbol may be delisted (period=3mo)\n"
     ]
    },
    {
     "name": "stdout",
     "output_type": "stream",
     "text": [
      "symbol=%s, val=%s DEV nan\n"
     ]
    },
    {
     "name": "stderr",
     "output_type": "stream",
     "text": [
      "DGH: No price data found, symbol may be delisted (period=3mo)\n"
     ]
    },
    {
     "name": "stdout",
     "output_type": "stream",
     "text": [
      "symbol=%s, val=%s DGH nan\n"
     ]
    },
    {
     "name": "stderr",
     "output_type": "stream",
     "text": [
      "DGL: No price data found, symbol may be delisted (period=3mo)\n"
     ]
    },
    {
     "name": "stdout",
     "output_type": "stream",
     "text": [
      "symbol=%s, val=%s DGL nan\n"
     ]
    },
    {
     "name": "stderr",
     "output_type": "stream",
     "text": [
      "DGR: No price data found, symbol may be delisted (period=3mo)\n"
     ]
    },
    {
     "name": "stdout",
     "output_type": "stream",
     "text": [
      "symbol=%s, val=%s DGR nan\n"
     ]
    },
    {
     "name": "stderr",
     "output_type": "stream",
     "text": [
      "DHG: No price data found, symbol may be delisted (period=3mo)\n"
     ]
    },
    {
     "name": "stdout",
     "output_type": "stream",
     "text": [
      "symbol=%s, val=%s DHG nan\n"
     ]
    },
    {
     "name": "stderr",
     "output_type": "stream",
     "text": [
      "DJW: Period '3mo' is invalid, must be one of ['1d', '5d']\n"
     ]
    },
    {
     "name": "stdout",
     "output_type": "stream",
     "text": [
      "symbol=%s, val=%s DJW nan\n"
     ]
    },
    {
     "name": "stderr",
     "output_type": "stream",
     "text": [
      "DKM: No price data found, symbol may be delisted (period=3mo)\n"
     ]
    },
    {
     "name": "stdout",
     "output_type": "stream",
     "text": [
      "symbol=%s, val=%s DKM nan\n"
     ]
    },
    {
     "name": "stderr",
     "output_type": "stream",
     "text": [
      "DLI: No price data found, symbol may be delisted (period=3mo)\n"
     ]
    },
    {
     "name": "stdout",
     "output_type": "stream",
     "text": [
      "symbol=%s, val=%s DLI nan\n"
     ]
    },
    {
     "name": "stderr",
     "output_type": "stream",
     "text": [
      "DLM: No price data found, symbol may be delisted (period=3mo)\n"
     ]
    },
    {
     "name": "stdout",
     "output_type": "stream",
     "text": [
      "symbol=%s, val=%s DLM nan\n"
     ]
    },
    {
     "name": "stderr",
     "output_type": "stream",
     "text": [
      "DM1: No data found, symbol may be delisted\n"
     ]
    },
    {
     "name": "stdout",
     "output_type": "stream",
     "text": [
      "symbol=%s, val=%s DM1 nan\n"
     ]
    },
    {
     "name": "stderr",
     "output_type": "stream",
     "text": [
      "DMC: No price data found, symbol may be delisted (period=3mo)\n"
     ]
    },
    {
     "name": "stdout",
     "output_type": "stream",
     "text": [
      "symbol=%s, val=%s DMC nan\n"
     ]
    },
    {
     "name": "stderr",
     "output_type": "stream",
     "text": [
      "DME: No price data found, symbol may be delisted (period=3mo)\n"
     ]
    },
    {
     "name": "stdout",
     "output_type": "stream",
     "text": [
      "symbol=%s, val=%s DME nan\n"
     ]
    },
    {
     "name": "stderr",
     "output_type": "stream",
     "text": [
      "DMG: No price data found, symbol may be delisted (period=3mo)\n"
     ]
    },
    {
     "name": "stdout",
     "output_type": "stream",
     "text": [
      "symbol=%s, val=%s DMG nan\n"
     ]
    },
    {
     "name": "stderr",
     "output_type": "stream",
     "text": [
      "DMM: No price data found, symbol may be delisted (period=3mo)\n"
     ]
    },
    {
     "name": "stdout",
     "output_type": "stream",
     "text": [
      "symbol=%s, val=%s DMM nan\n"
     ]
    },
    {
     "name": "stderr",
     "output_type": "stream",
     "text": [
      "DMP: No price data found, symbol may be delisted (period=3mo)\n"
     ]
    },
    {
     "name": "stdout",
     "output_type": "stream",
     "text": [
      "symbol=%s, val=%s DMP nan\n",
      "symbol=%s, val=%s DNA 39.292734350935646\n"
     ]
    },
    {
     "name": "stderr",
     "output_type": "stream",
     "text": [
      "DNK: No data found, symbol may be delisted\n"
     ]
    },
    {
     "name": "stdout",
     "output_type": "stream",
     "text": [
      "symbol=%s, val=%s DNK nan\n",
      "symbol=%s, val=%s DOC 13.283794802548906\n"
     ]
    },
    {
     "name": "stderr",
     "output_type": "stream",
     "text": [
      "DOR: No price data found, symbol may be delisted (period=3mo)\n"
     ]
    },
    {
     "name": "stdout",
     "output_type": "stream",
     "text": [
      "symbol=%s, val=%s DOR nan\n"
     ]
    },
    {
     "name": "stderr",
     "output_type": "stream",
     "text": [
      "DOU: Period '3mo' is invalid, must be one of ['1d', '5d']\n"
     ]
    },
    {
     "name": "stdout",
     "output_type": "stream",
     "text": [
      "symbol=%s, val=%s DOU nan\n",
      "symbol=%s, val=%s DOW 11.134716102845498\n"
     ]
    },
    {
     "name": "stderr",
     "output_type": "stream",
     "text": [
      "DRA: No price data found, symbol may be delisted (period=3mo)\n"
     ]
    },
    {
     "name": "stdout",
     "output_type": "stream",
     "text": [
      "symbol=%s, val=%s DRA nan\n"
     ]
    },
    {
     "name": "stderr",
     "output_type": "stream",
     "text": [
      "DRE: No data found, symbol may be delisted\n"
     ]
    },
    {
     "name": "stdout",
     "output_type": "stream",
     "text": [
      "symbol=%s, val=%s DRE nan\n"
     ]
    },
    {
     "name": "stderr",
     "output_type": "stream",
     "text": [
      "DRO: Period '3mo' is invalid, must be one of ['1d', '5d']\n"
     ]
    },
    {
     "name": "stdout",
     "output_type": "stream",
     "text": [
      "symbol=%s, val=%s DRO nan\n"
     ]
    },
    {
     "name": "stderr",
     "output_type": "stream",
     "text": [
      "DRR: No price data found, symbol may be delisted (period=3mo)\n"
     ]
    },
    {
     "name": "stdout",
     "output_type": "stream",
     "text": [
      "symbol=%s, val=%s DRR nan\n"
     ]
    },
    {
     "name": "stderr",
     "output_type": "stream",
     "text": [
      "DRX: No price data found, symbol may be delisted (period=3mo)\n"
     ]
    },
    {
     "name": "stdout",
     "output_type": "stream",
     "text": [
      "symbol=%s, val=%s DRX nan\n"
     ]
    },
    {
     "name": "stderr",
     "output_type": "stream",
     "text": [
      "DSE: No data found, symbol may be delisted\n"
     ]
    },
    {
     "name": "stdout",
     "output_type": "stream",
     "text": [
      "symbol=%s, val=%s DSE nan\n"
     ]
    },
    {
     "name": "stderr",
     "output_type": "stream",
     "text": [
      "DSK: No price data found, symbol may be delisted (period=3mo)\n"
     ]
    },
    {
     "name": "stdout",
     "output_type": "stream",
     "text": [
      "symbol=%s, val=%s DSK nan\n",
      "symbol=%s, val=%s DTC 28.935536478256658\n",
      "symbol=%s, val=%s DTI 51.428570101566315\n"
     ]
    },
    {
     "name": "stderr",
     "output_type": "stream",
     "text": [
      "DTL: No price data found, symbol may be delisted (period=3mo)\n"
     ]
    },
    {
     "name": "stdout",
     "output_type": "stream",
     "text": [
      "symbol=%s, val=%s DTL nan\n",
      "symbol=%s, val=%s DTM 14.11633752594337\n"
     ]
    },
    {
     "name": "stderr",
     "output_type": "stream",
     "text": [
      "DTR: No price data found, symbol may be delisted (period=3mo)\n"
     ]
    },
    {
     "name": "stdout",
     "output_type": "stream",
     "text": [
      "symbol=%s, val=%s DTR nan\n"
     ]
    },
    {
     "name": "stderr",
     "output_type": "stream",
     "text": [
      "DTZ: No data found, symbol may be delisted\n"
     ]
    },
    {
     "name": "stdout",
     "output_type": "stream",
     "text": [
      "symbol=%s, val=%s DTZ nan\n"
     ]
    },
    {
     "name": "stderr",
     "output_type": "stream",
     "text": [
      "DUB: No price data found, symbol may be delisted (period=3mo)\n"
     ]
    },
    {
     "name": "stdout",
     "output_type": "stream",
     "text": [
      "symbol=%s, val=%s DUB nan\n",
      "symbol=%s, val=%s DUG 31.326949107776354\n"
     ]
    },
    {
     "name": "stderr",
     "output_type": "stream",
     "text": [
      "DUI: No price data found, symbol may be delisted (period=3mo)\n"
     ]
    },
    {
     "name": "stdout",
     "output_type": "stream",
     "text": [
      "symbol=%s, val=%s DUI nan\n"
     ]
    },
    {
     "name": "stderr",
     "output_type": "stream",
     "text": [
      "DUN: No price data found, symbol may be delisted (period=3mo)\n"
     ]
    },
    {
     "name": "stdout",
     "output_type": "stream",
     "text": [
      "symbol=%s, val=%s DUN nan\n"
     ]
    },
    {
     "name": "stderr",
     "output_type": "stream",
     "text": [
      "DUR: No price data found, symbol may be delisted (period=3mo)\n"
     ]
    },
    {
     "name": "stdout",
     "output_type": "stream",
     "text": [
      "symbol=%s, val=%s DUR nan\n"
     ]
    },
    {
     "name": "stderr",
     "output_type": "stream",
     "text": [
      "DVL: No price data found, symbol may be delisted (period=3mo)\n"
     ]
    },
    {
     "name": "stdout",
     "output_type": "stream",
     "text": [
      "symbol=%s, val=%s DVL nan\n",
      "symbol=%s, val=%s DVP 10.820739130360517\n"
     ]
    },
    {
     "name": "stderr",
     "output_type": "stream",
     "text": [
      "DVR: No price data found, symbol may be delisted (period=3mo)\n"
     ]
    },
    {
     "name": "stdout",
     "output_type": "stream",
     "text": [
      "symbol=%s, val=%s DVR nan\n"
     ]
    },
    {
     "name": "stderr",
     "output_type": "stream",
     "text": [
      "DXB: No data found, symbol may be delisted\n"
     ]
    },
    {
     "name": "stdout",
     "output_type": "stream",
     "text": [
      "symbol=%s, val=%s DXB nan\n",
      "symbol=%s, val=%s DXC 35.58324332460975\n"
     ]
    },
    {
     "name": "stderr",
     "output_type": "stream",
     "text": [
      "DXI: No data found, symbol may be delisted\n"
     ]
    },
    {
     "name": "stdout",
     "output_type": "stream",
     "text": [
      "symbol=%s, val=%s DXI nan\n"
     ]
    },
    {
     "name": "stderr",
     "output_type": "stream",
     "text": [
      "DXN: No price data found, symbol may be delisted (period=3mo)\n"
     ]
    },
    {
     "name": "stdout",
     "output_type": "stream",
     "text": [
      "symbol=%s, val=%s DXN nan\n"
     ]
    },
    {
     "name": "stderr",
     "output_type": "stream",
     "text": [
      "DXS: No price data found, symbol may be delisted (period=3mo)\n"
     ]
    },
    {
     "name": "stdout",
     "output_type": "stream",
     "text": [
      "symbol=%s, val=%s DXS nan\n"
     ]
    },
    {
     "name": "stderr",
     "output_type": "stream",
     "text": [
      "DY6: No data found, symbol may be delisted\n"
     ]
    },
    {
     "name": "stdout",
     "output_type": "stream",
     "text": [
      "symbol=%s, val=%s DY6 nan\n"
     ]
    },
    {
     "name": "stderr",
     "output_type": "stream",
     "text": [
      "DYL: No price data found, symbol may be delisted (period=3mo)\n"
     ]
    },
    {
     "name": "stdout",
     "output_type": "stream",
     "text": [
      "symbol=%s, val=%s DYL nan\n"
     ]
    },
    {
     "name": "stderr",
     "output_type": "stream",
     "text": [
      "DYM: Period '3mo' is invalid, must be one of ['1d', '5d']\n"
     ]
    },
    {
     "name": "stdout",
     "output_type": "stream",
     "text": [
      "symbol=%s, val=%s DYM nan\n"
     ]
    },
    {
     "name": "stderr",
     "output_type": "stream",
     "text": [
      "E25: No data found, symbol may be delisted\n"
     ]
    },
    {
     "name": "stdout",
     "output_type": "stream",
     "text": [
      "symbol=%s, val=%s E25 nan\n"
     ]
    },
    {
     "name": "stderr",
     "output_type": "stream",
     "text": [
      "E33: No data found, symbol may be delisted\n"
     ]
    },
    {
     "name": "stdout",
     "output_type": "stream",
     "text": [
      "symbol=%s, val=%s E33 nan\n"
     ]
    },
    {
     "name": "stderr",
     "output_type": "stream",
     "text": [
      "E79: No data found, symbol may be delisted\n"
     ]
    },
    {
     "name": "stdout",
     "output_type": "stream",
     "text": [
      "symbol=%s, val=%s E79 nan\n"
     ]
    },
    {
     "name": "stderr",
     "output_type": "stream",
     "text": [
      "EAX: Period '3mo' is invalid, must be one of ['1d', '5d']\n"
     ]
    },
    {
     "name": "stdout",
     "output_type": "stream",
     "text": [
      "symbol=%s, val=%s EAX nan\n"
     ]
    },
    {
     "name": "stderr",
     "output_type": "stream",
     "text": [
      "EBG: No price data found, symbol may be delisted (period=3mo)\n"
     ]
    },
    {
     "name": "stdout",
     "output_type": "stream",
     "text": [
      "symbol=%s, val=%s EBG nan\n"
     ]
    },
    {
     "name": "stderr",
     "output_type": "stream",
     "text": [
      "EBO: No price data found, symbol may be delisted (period=3mo)\n"
     ]
    },
    {
     "name": "stdout",
     "output_type": "stream",
     "text": [
      "symbol=%s, val=%s EBO nan\n",
      "symbol=%s, val=%s EBR 20.11904353727811\n",
      "symbol=%s, val=%s ECF 7.493954136036815\n"
     ]
    },
    {
     "name": "stderr",
     "output_type": "stream",
     "text": [
      "ECG: No price data found, symbol may be delisted (period=3mo)\n"
     ]
    },
    {
     "name": "stdout",
     "output_type": "stream",
     "text": [
      "symbol=%s, val=%s ECG nan\n",
      "symbol=%s, val=%s ECL 7.776471163875337\n"
     ]
    },
    {
     "name": "stderr",
     "output_type": "stream",
     "text": [
      "ECP: No price data found, symbol may be delisted (period=3mo)\n"
     ]
    },
    {
     "name": "stdout",
     "output_type": "stream",
     "text": [
      "symbol=%s, val=%s ECP nan\n"
     ]
    },
    {
     "name": "stderr",
     "output_type": "stream",
     "text": [
      "ECS: No price data found, symbol may be delisted (period=3mo)\n"
     ]
    },
    {
     "name": "stdout",
     "output_type": "stream",
     "text": [
      "symbol=%s, val=%s ECS nan\n"
     ]
    },
    {
     "name": "stderr",
     "output_type": "stream",
     "text": [
      "ECT: No data found, symbol may be delisted\n"
     ]
    },
    {
     "name": "stdout",
     "output_type": "stream",
     "text": [
      "symbol=%s, val=%s ECT nan\n",
      "symbol=%s, val=%s EDC 25.508214665370527\n"
     ]
    },
    {
     "name": "stderr",
     "output_type": "stream",
     "text": [
      "EDE: No price data found, symbol may be delisted (period=3mo)\n"
     ]
    },
    {
     "name": "stdout",
     "output_type": "stream",
     "text": [
      "symbol=%s, val=%s EDE nan\n",
      "symbol=%s, val=%s EDU 37.7877010283826\n",
      "symbol=%s, val=%s EDV 15.167659202676912\n"
     ]
    },
    {
     "name": "stderr",
     "output_type": "stream",
     "text": [
      "EEG: No price data found, symbol may be delisted (period=3mo)\n"
     ]
    },
    {
     "name": "stdout",
     "output_type": "stream",
     "text": [
      "symbol=%s, val=%s EEG nan\n"
     ]
    },
    {
     "name": "stderr",
     "output_type": "stream",
     "text": [
      "EEL: No price data found, symbol may be delisted (period=3mo)\n"
     ]
    },
    {
     "name": "stdout",
     "output_type": "stream",
     "text": [
      "symbol=%s, val=%s EEL nan\n"
     ]
    },
    {
     "name": "stderr",
     "output_type": "stream",
     "text": [
      "EFE: No price data found, symbol may be delisted (period=3mo)\n"
     ]
    },
    {
     "name": "stdout",
     "output_type": "stream",
     "text": [
      "symbol=%s, val=%s EFE nan\n"
     ]
    },
    {
     "name": "stderr",
     "output_type": "stream",
     "text": [
      "EG1: No data found, symbol may be delisted\n"
     ]
    },
    {
     "name": "stdout",
     "output_type": "stream",
     "text": [
      "symbol=%s, val=%s EG1 nan\n"
     ]
    },
    {
     "name": "stderr",
     "output_type": "stream",
     "text": [
      "EGG: No price data found, symbol may be delisted (period=3mo)\n"
     ]
    },
    {
     "name": "stdout",
     "output_type": "stream",
     "text": [
      "symbol=%s, val=%s EGG nan\n"
     ]
    },
    {
     "name": "stderr",
     "output_type": "stream",
     "text": [
      "EGH: No price data found, symbol may be delisted (period=3mo)\n"
     ]
    },
    {
     "name": "stdout",
     "output_type": "stream",
     "text": [
      "symbol=%s, val=%s EGH nan\n"
     ]
    },
    {
     "name": "stderr",
     "output_type": "stream",
     "text": [
      "EGL: No price data found, symbol may be delisted (period=3mo)\n"
     ]
    },
    {
     "name": "stdout",
     "output_type": "stream",
     "text": [
      "symbol=%s, val=%s EGL nan\n"
     ]
    },
    {
     "name": "stderr",
     "output_type": "stream",
     "text": [
      "EGN: No price data found, symbol may be delisted (period=3mo)\n"
     ]
    },
    {
     "name": "stdout",
     "output_type": "stream",
     "text": [
      "symbol=%s, val=%s EGN nan\n"
     ]
    },
    {
     "name": "stderr",
     "output_type": "stream",
     "text": [
      "EGR: No price data found, symbol may be delisted (period=3mo)\n"
     ]
    },
    {
     "name": "stdout",
     "output_type": "stream",
     "text": [
      "symbol=%s, val=%s EGR nan\n",
      "symbol=%s, val=%s EGY 30.508807045065794\n"
     ]
    },
    {
     "name": "stderr",
     "output_type": "stream",
     "text": [
      "EHE: No price data found, symbol may be delisted (period=3mo)\n"
     ]
    },
    {
     "name": "stdout",
     "output_type": "stream",
     "text": [
      "symbol=%s, val=%s EHE nan\n"
     ]
    },
    {
     "name": "stderr",
     "output_type": "stream",
     "text": [
      "EHL: No price data found, symbol may be delisted (period=3mo)\n"
     ]
    },
    {
     "name": "stdout",
     "output_type": "stream",
     "text": [
      "symbol=%s, val=%s EHL nan\n"
     ]
    },
    {
     "name": "stderr",
     "output_type": "stream",
     "text": [
      "EIQ: Period '3mo' is invalid, must be one of ['1d', '5d']\n"
     ]
    },
    {
     "name": "stdout",
     "output_type": "stream",
     "text": [
      "symbol=%s, val=%s EIQ nan\n"
     ]
    },
    {
     "name": "stderr",
     "output_type": "stream",
     "text": [
      "EL8: No data found, symbol may be delisted\n"
     ]
    },
    {
     "name": "stdout",
     "output_type": "stream",
     "text": [
      "symbol=%s, val=%s EL8 nan\n",
      "symbol=%s, val=%s ELD 5.7795290504244585\n"
     ]
    },
    {
     "name": "stderr",
     "output_type": "stream",
     "text": [
      "ELE: No price data found, symbol may be delisted (period=3mo)\n"
     ]
    },
    {
     "name": "stdout",
     "output_type": "stream",
     "text": [
      "symbol=%s, val=%s ELE nan\n",
      "symbol=%s, val=%s ELS 11.62880769292321\n"
     ]
    },
    {
     "name": "stderr",
     "output_type": "stream",
     "text": [
      "ELT: No price data found, symbol may be delisted (period=3mo)\n"
     ]
    },
    {
     "name": "stdout",
     "output_type": "stream",
     "text": [
      "symbol=%s, val=%s ELT nan\n"
     ]
    },
    {
     "name": "stderr",
     "output_type": "stream",
     "text": [
      "EM2: No data found, symbol may be delisted\n"
     ]
    },
    {
     "name": "stdout",
     "output_type": "stream",
     "text": [
      "symbol=%s, val=%s EM2 nan\n",
      "symbol=%s, val=%s EMB 4.358990856906684\n",
      "symbol=%s, val=%s EMC 9.33837863688828\n",
      "symbol=%s, val=%s EMD 7.331437553276521\n",
      "symbol=%s, val=%s EME 24.115553678479117\n"
     ]
    },
    {
     "name": "stderr",
     "output_type": "stream",
     "text": [
      "EMH: No price data found, symbol may be delisted (period=3mo)\n"
     ]
    },
    {
     "name": "stdout",
     "output_type": "stream",
     "text": [
      "symbol=%s, val=%s EMH nan\n",
      "symbol=%s, val=%s EML 13.661024255927256\n",
      "symbol=%s, val=%s EMN 15.52855683794733\n",
      "symbol=%s, val=%s EMP 0.17985165733074962\n",
      "symbol=%s, val=%s EMR 17.226661325230758\n"
     ]
    },
    {
     "name": "stderr",
     "output_type": "stream",
     "text": [
      "EMS: No price data found, symbol may be delisted (period=3mo)\n"
     ]
    },
    {
     "name": "stdout",
     "output_type": "stream",
     "text": [
      "symbol=%s, val=%s EMS nan\n"
     ]
    },
    {
     "name": "stderr",
     "output_type": "stream",
     "text": [
      "EMT: No price data found, symbol may be delisted (period=3mo)\n"
     ]
    },
    {
     "name": "stdout",
     "output_type": "stream",
     "text": [
      "symbol=%s, val=%s EMT nan\n"
     ]
    },
    {
     "name": "stderr",
     "output_type": "stream",
     "text": [
      "EMU: No price data found, symbol may be delisted (period=3mo)\n"
     ]
    },
    {
     "name": "stdout",
     "output_type": "stream",
     "text": [
      "symbol=%s, val=%s EMU nan\n"
     ]
    },
    {
     "name": "stderr",
     "output_type": "stream",
     "text": [
      "EMUCA: No data found, symbol may be delisted\n"
     ]
    },
    {
     "name": "stdout",
     "output_type": "stream",
     "text": [
      "symbol=%s, val=%s EMUCA nan\n"
     ]
    },
    {
     "name": "stderr",
     "output_type": "stream",
     "text": [
      "EMV: No price data found, symbol may be delisted (period=3mo)\n"
     ]
    },
    {
     "name": "stdout",
     "output_type": "stream",
     "text": [
      "symbol=%s, val=%s EMV nan\n"
     ]
    },
    {
     "name": "stderr",
     "output_type": "stream",
     "text": [
      "ENA: No price data found, symbol may be delisted (period=3mo)\n"
     ]
    },
    {
     "name": "stdout",
     "output_type": "stream",
     "text": [
      "symbol=%s, val=%s ENA nan\n"
     ]
    },
    {
     "name": "stderr",
     "output_type": "stream",
     "text": [
      "ENN: No price data found, symbol may be delisted (period=3mo)\n"
     ]
    },
    {
     "name": "stdout",
     "output_type": "stream",
     "text": [
      "symbol=%s, val=%s ENN nan\n",
      "symbol=%s, val=%s ENR 18.220791633533608\n"
     ]
    },
    {
     "name": "stderr",
     "output_type": "stream",
     "text": [
      "ENT: No data found, symbol may be delisted\n"
     ]
    },
    {
     "name": "stdout",
     "output_type": "stream",
     "text": [
      "symbol=%s, val=%s ENT nan\n",
      "symbol=%s, val=%s ENV 21.03932934116727\n",
      "symbol=%s, val=%s ENX 8.331543388385338\n"
     ]
    },
    {
     "name": "stderr",
     "output_type": "stream",
     "text": [
      "EOF: Period '3mo' is invalid, must be one of ['1d', '5d']\n"
     ]
    },
    {
     "name": "stdout",
     "output_type": "stream",
     "text": [
      "symbol=%s, val=%s EOF nan\n"
     ]
    },
    {
     "name": "stderr",
     "output_type": "stream",
     "text": [
      "EOL: No data found, symbol may be delisted\n"
     ]
    },
    {
     "name": "stdout",
     "output_type": "stream",
     "text": [
      "symbol=%s, val=%s EOL nan\n",
      "symbol=%s, val=%s EOS 8.68451607615423\n"
     ]
    },
    {
     "name": "stderr",
     "output_type": "stream",
     "text": [
      "EP1: No data found, symbol may be delisted\n"
     ]
    },
    {
     "name": "stdout",
     "output_type": "stream",
     "text": [
      "symbol=%s, val=%s EP1 nan\n",
      "symbol=%s, val=%s EPM 25.22254995541502\n"
     ]
    },
    {
     "name": "stderr",
     "output_type": "stream",
     "text": [
      "EPN: No price data found, symbol may be delisted (period=3mo)\n"
     ]
    },
    {
     "name": "stdout",
     "output_type": "stream",
     "text": [
      "symbol=%s, val=%s EPN nan\n"
     ]
    },
    {
     "name": "stderr",
     "output_type": "stream",
     "text": [
      "EPX: No price data found, symbol may be delisted (period=3mo)\n"
     ]
    },
    {
     "name": "stdout",
     "output_type": "stream",
     "text": [
      "symbol=%s, val=%s EPX nan\n"
     ]
    },
    {
     "name": "stderr",
     "output_type": "stream",
     "text": [
      "EPY: No price data found, symbol may be delisted (period=3mo)\n"
     ]
    },
    {
     "name": "stdout",
     "output_type": "stream",
     "text": [
      "symbol=%s, val=%s EPY nan\n"
     ]
    },
    {
     "name": "stderr",
     "output_type": "stream",
     "text": [
      "EQE: No price data found, symbol may be delisted (period=3mo)\n"
     ]
    },
    {
     "name": "stdout",
     "output_type": "stream",
     "text": [
      "symbol=%s, val=%s EQE nan\n"
     ]
    },
    {
     "name": "stderr",
     "output_type": "stream",
     "text": [
      "EQN: No price data found, symbol may be delisted (period=3mo)\n"
     ]
    },
    {
     "name": "stdout",
     "output_type": "stream",
     "text": [
      "symbol=%s, val=%s EQN nan\n",
      "symbol=%s, val=%s EQR 10.842331332150566\n",
      "symbol=%s, val=%s EQS 15.923566346990894\n",
      "symbol=%s, val=%s EQT 16.119539809805573\n",
      "symbol=%s, val=%s EQX 21.604374000630624\n"
     ]
    },
    {
     "name": "stderr",
     "output_type": "stream",
     "text": [
      "ERA: No data found, symbol may be delisted\n"
     ]
    },
    {
     "name": "stdout",
     "output_type": "stream",
     "text": [
      "symbol=%s, val=%s ERA nan\n"
     ]
    },
    {
     "name": "stderr",
     "output_type": "stream",
     "text": [
      "ERD: No price data found, symbol may be delisted (period=3mo)\n"
     ]
    },
    {
     "name": "stdout",
     "output_type": "stream",
     "text": [
      "symbol=%s, val=%s ERD nan\n"
     ]
    },
    {
     "name": "stderr",
     "output_type": "stream",
     "text": [
      "ERG: No price data found, symbol may be delisted (period=3mo)\n"
     ]
    },
    {
     "name": "stdout",
     "output_type": "stream",
     "text": [
      "symbol=%s, val=%s ERG nan\n"
     ]
    },
    {
     "name": "stderr",
     "output_type": "stream",
     "text": [
      "ERL: No price data found, symbol may be delisted (period=3mo)\n"
     ]
    },
    {
     "name": "stdout",
     "output_type": "stream",
     "text": [
      "symbol=%s, val=%s ERL nan\n",
      "symbol=%s, val=%s ERM 2.8941688437767747\n"
     ]
    },
    {
     "name": "stderr",
     "output_type": "stream",
     "text": [
      "ERW: No data found, symbol may be delisted\n"
     ]
    },
    {
     "name": "stdout",
     "output_type": "stream",
     "text": [
      "symbol=%s, val=%s ERW nan\n"
     ]
    },
    {
     "name": "stderr",
     "output_type": "stream",
     "text": [
      "ESK: No price data found, symbol may be delisted (period=3mo)\n"
     ]
    },
    {
     "name": "stdout",
     "output_type": "stream",
     "text": [
      "symbol=%s, val=%s ESK nan\n"
     ]
    },
    {
     "name": "stderr",
     "output_type": "stream",
     "text": [
      "ESR: No price data found, symbol may be delisted (period=3mo)\n"
     ]
    },
    {
     "name": "stdout",
     "output_type": "stream",
     "text": [
      "symbol=%s, val=%s ESR nan\n",
      "symbol=%s, val=%s ESS 12.669517012830925\n"
     ]
    },
    {
     "name": "stderr",
     "output_type": "stream",
     "text": [
      "ETM: No data found, symbol may be delisted\n"
     ]
    },
    {
     "name": "stdout",
     "output_type": "stream",
     "text": [
      "symbol=%s, val=%s ETM nan\n",
      "symbol=%s, val=%s ETR 12.222220728048553\n"
     ]
    },
    {
     "name": "stderr",
     "output_type": "stream",
     "text": [
      "EUR: No price data found, symbol may be delisted (period=3mo)\n"
     ]
    },
    {
     "name": "stdout",
     "output_type": "stream",
     "text": [
      "symbol=%s, val=%s EUR nan\n"
     ]
    },
    {
     "name": "stderr",
     "output_type": "stream",
     "text": [
      "EV1: No data found, symbol may be delisted\n"
     ]
    },
    {
     "name": "stdout",
     "output_type": "stream",
     "text": [
      "symbol=%s, val=%s EV1 nan\n",
      "symbol=%s, val=%s EVE 9.122806988191002\n",
      "symbol=%s, val=%s EVG 8.871152570685272\n",
      "symbol=%s, val=%s EVN 8.111794046445453\n",
      "symbol=%s, val=%s EVO 19.866563357838547\n",
      "symbol=%s, val=%s EVR 19.463483289658946\n"
     ]
    },
    {
     "name": "stderr",
     "output_type": "stream",
     "text": [
      "EVS: No price data found, symbol may be delisted (period=3mo)\n"
     ]
    },
    {
     "name": "stdout",
     "output_type": "stream",
     "text": [
      "symbol=%s, val=%s EVS nan\n",
      "symbol=%s, val=%s EVT 8.794003159905726\n"
     ]
    },
    {
     "name": "stderr",
     "output_type": "stream",
     "text": [
      "EVZ: No price data found, symbol may be delisted (period=3mo)\n"
     ]
    },
    {
     "name": "stdout",
     "output_type": "stream",
     "text": [
      "symbol=%s, val=%s EVZ nan\n",
      "symbol=%s, val=%s EWC 8.222966939607682\n"
     ]
    },
    {
     "name": "stderr",
     "output_type": "stream",
     "text": [
      "EX1: No data found, symbol may be delisted\n"
     ]
    },
    {
     "name": "stdout",
     "output_type": "stream",
     "text": [
      "symbol=%s, val=%s EX1 nan\n"
     ]
    },
    {
     "name": "stderr",
     "output_type": "stream",
     "text": [
      "EXL: No price data found, symbol may be delisted (period=3mo)\n"
     ]
    },
    {
     "name": "stdout",
     "output_type": "stream",
     "text": [
      "symbol=%s, val=%s EXL nan\n",
      "symbol=%s, val=%s EXP 16.134290731353033\n",
      "symbol=%s, val=%s EXR 21.56402638095333\n",
      "symbol=%s, val=%s EXT 5.969987365190812\n",
      "symbol=%s, val=%s EYE 38.34197052122853\n"
     ]
    },
    {
     "name": "stderr",
     "output_type": "stream",
     "text": [
      "EZL: No price data found, symbol may be delisted (period=3mo)\n"
     ]
    },
    {
     "name": "stdout",
     "output_type": "stream",
     "text": [
      "symbol=%s, val=%s EZL nan\n"
     ]
    },
    {
     "name": "stderr",
     "output_type": "stream",
     "text": [
      "EZZ: No price data found, symbol may be delisted (period=3mo)\n"
     ]
    },
    {
     "name": "stdout",
     "output_type": "stream",
     "text": [
      "symbol=%s, val=%s EZZ nan\n"
     ]
    },
    {
     "name": "stderr",
     "output_type": "stream",
     "text": [
      "FAL: No price data found, symbol may be delisted (period=3mo)\n"
     ]
    },
    {
     "name": "stdout",
     "output_type": "stream",
     "text": [
      "symbol=%s, val=%s FAL nan\n"
     ]
    },
    {
     "name": "stderr",
     "output_type": "stream",
     "text": [
      "FAR: No price data found, symbol may be delisted (period=3mo)\n"
     ]
    },
    {
     "name": "stdout",
     "output_type": "stream",
     "text": [
      "symbol=%s, val=%s FAR nan\n"
     ]
    },
    {
     "name": "stderr",
     "output_type": "stream",
     "text": [
      "FAU: No price data found, symbol may be delisted (period=3mo)\n"
     ]
    },
    {
     "name": "stdout",
     "output_type": "stream",
     "text": [
      "symbol=%s, val=%s FAU nan\n"
     ]
    },
    {
     "name": "stderr",
     "output_type": "stream",
     "text": [
      "FBM: No data found, symbol may be delisted\n"
     ]
    },
    {
     "name": "stdout",
     "output_type": "stream",
     "text": [
      "symbol=%s, val=%s FBM nan\n"
     ]
    },
    {
     "name": "stderr",
     "output_type": "stream",
     "text": [
      "FBR: No price data found, symbol may be delisted (period=3mo)\n"
     ]
    },
    {
     "name": "stdout",
     "output_type": "stream",
     "text": [
      "symbol=%s, val=%s FBR nan\n"
     ]
    },
    {
     "name": "stderr",
     "output_type": "stream",
     "text": [
      "FBU: No price data found, symbol may be delisted (period=3mo)\n"
     ]
    },
    {
     "name": "stdout",
     "output_type": "stream",
     "text": [
      "symbol=%s, val=%s FBU nan\n"
     ]
    },
    {
     "name": "stderr",
     "output_type": "stream",
     "text": [
      "FCL: No price data found, symbol may be delisted (period=3mo)\n"
     ]
    },
    {
     "name": "stdout",
     "output_type": "stream",
     "text": [
      "symbol=%s, val=%s FCL nan\n",
      "symbol=%s, val=%s FCT 9.14683355063559\n"
     ]
    },
    {
     "name": "stderr",
     "output_type": "stream",
     "text": [
      "FDR: No price data found, symbol may be delisted (period=3mo)\n"
     ]
    },
    {
     "name": "stdout",
     "output_type": "stream",
     "text": [
      "symbol=%s, val=%s FDR nan\n",
      "symbol=%s, val=%s FDV 10.406777041745746\n"
     ]
    },
    {
     "name": "stderr",
     "output_type": "stream",
     "text": [
      "FEG: No price data found, symbol may be delisted (period=3mo)\n"
     ]
    },
    {
     "name": "stdout",
     "output_type": "stream",
     "text": [
      "symbol=%s, val=%s FEG nan\n",
      "symbol=%s, val=%s FEX 7.709661334172921\n"
     ]
    },
    {
     "name": "stderr",
     "output_type": "stream",
     "text": [
      "FFF: No price data found, symbol may be delisted (period=3mo)\n"
     ]
    },
    {
     "name": "stdout",
     "output_type": "stream",
     "text": [
      "symbol=%s, val=%s FFF nan\n"
     ]
    },
    {
     "name": "stderr",
     "output_type": "stream",
     "text": [
      "FFG: No data found, symbol may be delisted\n"
     ]
    },
    {
     "name": "stdout",
     "output_type": "stream",
     "text": [
      "symbol=%s, val=%s FFG nan\n"
     ]
    },
    {
     "name": "stderr",
     "output_type": "stream",
     "text": [
      "FFI: No price data found, symbol may be delisted (period=3mo)\n"
     ]
    },
    {
     "name": "stdout",
     "output_type": "stream",
     "text": [
      "symbol=%s, val=%s FFI nan\n"
     ]
    },
    {
     "name": "stderr",
     "output_type": "stream",
     "text": [
      "FFT: No price data found, symbol may be delisted (period=3mo)\n"
     ]
    },
    {
     "name": "stdout",
     "output_type": "stream",
     "text": [
      "symbol=%s, val=%s FFT nan\n"
     ]
    },
    {
     "name": "stderr",
     "output_type": "stream",
     "text": [
      "FFX: No price data found, symbol may be delisted (period=3mo)\n"
     ]
    },
    {
     "name": "stdout",
     "output_type": "stream",
     "text": [
      "symbol=%s, val=%s FFX nan\n"
     ]
    },
    {
     "name": "stderr",
     "output_type": "stream",
     "text": [
      "FG1: No data found, symbol may be delisted\n"
     ]
    },
    {
     "name": "stdout",
     "output_type": "stream",
     "text": [
      "symbol=%s, val=%s FG1 nan\n"
     ]
    },
    {
     "name": "stderr",
     "output_type": "stream",
     "text": [
      "FGG: No price data found, symbol may be delisted (period=3mo)\n"
     ]
    },
    {
     "name": "stdout",
     "output_type": "stream",
     "text": [
      "symbol=%s, val=%s FGG nan\n",
      "symbol=%s, val=%s FGH 37.08333623078123\n"
     ]
    },
    {
     "name": "stderr",
     "output_type": "stream",
     "text": [
      "FGL: No price data found, symbol may be delisted (period=3mo)\n"
     ]
    },
    {
     "name": "stdout",
     "output_type": "stream",
     "text": [
      "symbol=%s, val=%s FGL nan\n"
     ]
    },
    {
     "name": "stderr",
     "output_type": "stream",
     "text": [
      "FGR: No price data found, symbol may be delisted (period=3mo)\n"
     ]
    },
    {
     "name": "stdout",
     "output_type": "stream",
     "text": [
      "symbol=%s, val=%s FGR nan\n"
     ]
    },
    {
     "name": "stderr",
     "output_type": "stream",
     "text": [
      "FGX: No price data found, symbol may be delisted (period=3mo)\n"
     ]
    },
    {
     "name": "stdout",
     "output_type": "stream",
     "text": [
      "symbol=%s, val=%s FGX nan\n"
     ]
    },
    {
     "name": "stderr",
     "output_type": "stream",
     "text": [
      "FHE: No price data found, symbol may be delisted (period=3mo)\n"
     ]
    },
    {
     "name": "stdout",
     "output_type": "stream",
     "text": [
      "symbol=%s, val=%s FHE nan\n"
     ]
    },
    {
     "name": "stderr",
     "output_type": "stream",
     "text": [
      "FHS: No data found, symbol may be delisted\n"
     ]
    },
    {
     "name": "stdout",
     "output_type": "stream",
     "text": [
      "symbol=%s, val=%s FHS nan\n"
     ]
    },
    {
     "name": "stderr",
     "output_type": "stream",
     "text": [
      "FHSN: No data found, symbol may be delisted\n"
     ]
    },
    {
     "name": "stdout",
     "output_type": "stream",
     "text": [
      "symbol=%s, val=%s FHSN nan\n",
      "symbol=%s, val=%s FID 7.677905497902512\n"
     ]
    },
    {
     "name": "stderr",
     "output_type": "stream",
     "text": [
      "FIN: No price data found, symbol may be delisted (period=3mo)\n"
     ]
    },
    {
     "name": "stdout",
     "output_type": "stream",
     "text": [
      "symbol=%s, val=%s FIN nan\n",
      "symbol=%s, val=%s FLC 5.306121900852041\n",
      "symbol=%s, val=%s FLN 8.788473704347695\n",
      "symbol=%s, val=%s FLT 14.042663498370997\n"
     ]
    },
    {
     "name": "stderr",
     "output_type": "stream",
     "text": [
      "FLX: No data found, symbol may be delisted\n"
     ]
    },
    {
     "name": "stdout",
     "output_type": "stream",
     "text": [
      "symbol=%s, val=%s FLX nan\n"
     ]
    },
    {
     "name": "stderr",
     "output_type": "stream",
     "text": [
      "FME: No price data found, symbol may be delisted (period=3mo)\n"
     ]
    },
    {
     "name": "stdout",
     "output_type": "stream",
     "text": [
      "symbol=%s, val=%s FME nan\n"
     ]
    },
    {
     "name": "stderr",
     "output_type": "stream",
     "text": [
      "FMG: No price data found, symbol may be delisted (period=3mo)\n"
     ]
    },
    {
     "name": "stdout",
     "output_type": "stream",
     "text": [
      "symbol=%s, val=%s FMG nan\n"
     ]
    },
    {
     "name": "stderr",
     "output_type": "stream",
     "text": [
      "FML: No price data found, symbol may be delisted (period=3mo)\n"
     ]
    },
    {
     "name": "stdout",
     "output_type": "stream",
     "text": [
      "symbol=%s, val=%s FML nan\n",
      "symbol=%s, val=%s FND 19.856934549617826\n",
      "symbol=%s, val=%s FNX 9.611440005270364\n",
      "symbol=%s, val=%s FOR 35.252942463005446\n"
     ]
    },
    {
     "name": "stderr",
     "output_type": "stream",
     "text": [
      "FOS: No price data found, symbol may be delisted (period=3mo)\n"
     ]
    },
    {
     "name": "stdout",
     "output_type": "stream",
     "text": [
      "symbol=%s, val=%s FOS nan\n"
     ]
    },
    {
     "name": "stderr",
     "output_type": "stream",
     "text": [
      "FPC: No price data found, symbol may be delisted (period=3mo)\n"
     ]
    },
    {
     "name": "stdout",
     "output_type": "stream",
     "text": [
      "symbol=%s, val=%s FPC nan\n",
      "symbol=%s, val=%s FPH 39.57219292244887\n"
     ]
    },
    {
     "name": "stderr",
     "output_type": "stream",
     "text": [
      "FPP: No price data found, symbol may be delisted (period=3mo)\n"
     ]
    },
    {
     "name": "stdout",
     "output_type": "stream",
     "text": [
      "symbol=%s, val=%s FPP nan\n"
     ]
    },
    {
     "name": "stderr",
     "output_type": "stream",
     "text": [
      "FPR: Period '3mo' is invalid, must be one of ['1d', '5d']\n"
     ]
    },
    {
     "name": "stdout",
     "output_type": "stream",
     "text": [
      "symbol=%s, val=%s FPR nan\n"
     ]
    },
    {
     "name": "stderr",
     "output_type": "stream",
     "text": [
      "FRB: No price data found, symbol may be delisted (period=3mo)\n"
     ]
    },
    {
     "name": "stdout",
     "output_type": "stream",
     "text": [
      "symbol=%s, val=%s FRB nan\n"
     ]
    },
    {
     "name": "stderr",
     "output_type": "stream",
     "text": [
      "FRE: No price data found, symbol may be delisted (period=3mo)\n"
     ]
    },
    {
     "name": "stdout",
     "output_type": "stream",
     "text": [
      "symbol=%s, val=%s FRE nan\n",
      "symbol=%s, val=%s FRI 9.631272307784016\n"
     ]
    },
    {
     "name": "stderr",
     "output_type": "stream",
     "text": [
      "FRM: No price data found, symbol may be delisted (period=3mo)\n"
     ]
    },
    {
     "name": "stdout",
     "output_type": "stream",
     "text": [
      "symbol=%s, val=%s FRM nan\n"
     ]
    },
    {
     "name": "stderr",
     "output_type": "stream",
     "text": [
      "FRS: No price data found, symbol may be delisted (period=3mo)\n"
     ]
    },
    {
     "name": "stdout",
     "output_type": "stream",
     "text": [
      "symbol=%s, val=%s FRS nan\n"
     ]
    },
    {
     "name": "stderr",
     "output_type": "stream",
     "text": [
      "FRX: No data found, symbol may be delisted\n"
     ]
    },
    {
     "name": "stdout",
     "output_type": "stream",
     "text": [
      "symbol=%s, val=%s FRX nan\n"
     ]
    },
    {
     "name": "stderr",
     "output_type": "stream",
     "text": [
      "FSA: No price data found, symbol may be delisted (period=3mo)\n"
     ]
    },
    {
     "name": "stdout",
     "output_type": "stream",
     "text": [
      "symbol=%s, val=%s FSA nan\n"
     ]
    },
    {
     "name": "stderr",
     "output_type": "stream",
     "text": [
      "FSF: No price data found, symbol may be delisted (period=3mo)\n"
     ]
    },
    {
     "name": "stdout",
     "output_type": "stream",
     "text": [
      "symbol=%s, val=%s FSF nan\n"
     ]
    },
    {
     "name": "stderr",
     "output_type": "stream",
     "text": [
      "FSG: No price data found, symbol may be delisted (period=3mo)\n"
     ]
    },
    {
     "name": "stdout",
     "output_type": "stream",
     "text": [
      "symbol=%s, val=%s FSG nan\n",
      "symbol=%s, val=%s FSI 18.24324171938456\n",
      "symbol=%s, val=%s FTC 8.456233367324678\n"
     ]
    },
    {
     "name": "stderr",
     "output_type": "stream",
     "text": [
      "FTL: No price data found, symbol may be delisted (period=3mo)\n"
     ]
    },
    {
     "name": "stdout",
     "output_type": "stream",
     "text": [
      "symbol=%s, val=%s FTL nan\n"
     ]
    },
    {
     "name": "stderr",
     "output_type": "stream",
     "text": [
      "FTZ: No price data found, symbol may be delisted (period=3mo)\n"
     ]
    },
    {
     "name": "stdout",
     "output_type": "stream",
     "text": [
      "symbol=%s, val=%s FTZ nan\n",
      "symbol=%s, val=%s FWD 10.330301739724376\n",
      "symbol=%s, val=%s FXG 6.017241397529358\n"
     ]
    },
    {
     "name": "stderr",
     "output_type": "stream",
     "text": [
      "FYI: No price data found, symbol may be delisted (period=3mo)\n"
     ]
    },
    {
     "name": "stdout",
     "output_type": "stream",
     "text": [
      "symbol=%s, val=%s FYI nan\n"
     ]
    },
    {
     "name": "stderr",
     "output_type": "stream",
     "text": [
      "FZR: No price data found, symbol may be delisted (period=3mo)\n"
     ]
    },
    {
     "name": "stdout",
     "output_type": "stream",
     "text": [
      "symbol=%s, val=%s FZR nan\n"
     ]
    },
    {
     "name": "stderr",
     "output_type": "stream",
     "text": [
      "G1A: No data found, symbol may be delisted\n"
     ]
    },
    {
     "name": "stdout",
     "output_type": "stream",
     "text": [
      "symbol=%s, val=%s G1A nan\n"
     ]
    },
    {
     "name": "stderr",
     "output_type": "stream",
     "text": [
      "G50: No data found, symbol may be delisted\n"
     ]
    },
    {
     "name": "stdout",
     "output_type": "stream",
     "text": [
      "symbol=%s, val=%s G50 nan\n"
     ]
    },
    {
     "name": "stderr",
     "output_type": "stream",
     "text": [
      "G6M: No data found, symbol may be delisted\n"
     ]
    },
    {
     "name": "stdout",
     "output_type": "stream",
     "text": [
      "symbol=%s, val=%s G6M nan\n"
     ]
    },
    {
     "name": "stderr",
     "output_type": "stream",
     "text": [
      "G88: No data found, symbol may be delisted\n"
     ]
    },
    {
     "name": "stdout",
     "output_type": "stream",
     "text": [
      "symbol=%s, val=%s G88 nan\n",
      "symbol=%s, val=%s GAL 4.963496779968439\n"
     ]
    },
    {
     "name": "stderr",
     "output_type": "stream",
     "text": [
      "GAP: No price data found, symbol may be delisted (period=3mo)\n"
     ]
    },
    {
     "name": "stdout",
     "output_type": "stream",
     "text": [
      "symbol=%s, val=%s GAP nan\n"
     ]
    },
    {
     "name": "stderr",
     "output_type": "stream",
     "text": [
      "GAS: No price data found, symbol may be delisted (period=3mo)\n"
     ]
    },
    {
     "name": "stdout",
     "output_type": "stream",
     "text": [
      "symbol=%s, val=%s GAS nan\n"
     ]
    },
    {
     "name": "stderr",
     "output_type": "stream",
     "text": [
      "GBE: No price data found, symbol may be delisted (period=3mo)\n"
     ]
    },
    {
     "name": "stdout",
     "output_type": "stream",
     "text": [
      "symbol=%s, val=%s GBE nan\n",
      "symbol=%s, val=%s GBR 23.48485224776783\n"
     ]
    },
    {
     "name": "stderr",
     "output_type": "stream",
     "text": [
      "GBZ: No price data found, symbol may be delisted (period=3mo)\n"
     ]
    },
    {
     "name": "stdout",
     "output_type": "stream",
     "text": [
      "symbol=%s, val=%s GBZ nan\n"
     ]
    },
    {
     "name": "stderr",
     "output_type": "stream",
     "text": [
      "GC1: No data found, symbol may be delisted\n"
     ]
    },
    {
     "name": "stdout",
     "output_type": "stream",
     "text": [
      "symbol=%s, val=%s GC1 nan\n",
      "symbol=%s, val=%s GCI 50.0\n"
     ]
    },
    {
     "name": "stderr",
     "output_type": "stream",
     "text": [
      "GCM: No price data found, symbol may be delisted (period=3mo)\n"
     ]
    },
    {
     "name": "stdout",
     "output_type": "stream",
     "text": [
      "symbol=%s, val=%s GCM nan\n"
     ]
    },
    {
     "name": "stderr",
     "output_type": "stream",
     "text": [
      "GCR: No price data found, symbol may be delisted (period=3mo)\n"
     ]
    },
    {
     "name": "stdout",
     "output_type": "stream",
     "text": [
      "symbol=%s, val=%s GCR nan\n"
     ]
    },
    {
     "name": "stderr",
     "output_type": "stream",
     "text": [
      "GCX: No price data found, symbol may be delisted (period=3mo)\n"
     ]
    },
    {
     "name": "stdout",
     "output_type": "stream",
     "text": [
      "symbol=%s, val=%s GCX nan\n"
     ]
    },
    {
     "name": "stderr",
     "output_type": "stream",
     "text": [
      "GDA: No price data found, symbol may be delisted (period=3mo)\n"
     ]
    },
    {
     "name": "stdout",
     "output_type": "stream",
     "text": [
      "symbol=%s, val=%s GDA nan\n",
      "symbol=%s, val=%s GDC 54.70037750500233\n"
     ]
    },
    {
     "name": "stderr",
     "output_type": "stream",
     "text": [
      "GDF: No price data found, symbol may be delisted (period=3mo)\n"
     ]
    },
    {
     "name": "stdout",
     "output_type": "stream",
     "text": [
      "symbol=%s, val=%s GDF nan\n"
     ]
    },
    {
     "name": "stderr",
     "output_type": "stream",
     "text": [
      "GDG: No price data found, symbol may be delisted (period=3mo)\n"
     ]
    },
    {
     "name": "stdout",
     "output_type": "stream",
     "text": [
      "symbol=%s, val=%s GDG nan\n"
     ]
    },
    {
     "name": "stderr",
     "output_type": "stream",
     "text": [
      "GDI: No data found, symbol may be delisted\n"
     ]
    },
    {
     "name": "stdout",
     "output_type": "stream",
     "text": [
      "symbol=%s, val=%s GDI nan\n"
     ]
    },
    {
     "name": "stderr",
     "output_type": "stream",
     "text": [
      "GDM: No price data found, symbol may be delisted (period=3mo)\n"
     ]
    },
    {
     "name": "stdout",
     "output_type": "stream",
     "text": [
      "symbol=%s, val=%s GDM nan\n"
     ]
    },
    {
     "name": "stderr",
     "output_type": "stream",
     "text": [
      "GED: No price data found, symbol may be delisted (period=3mo)\n"
     ]
    },
    {
     "name": "stdout",
     "output_type": "stream",
     "text": [
      "symbol=%s, val=%s GED nan\n",
      "symbol=%s, val=%s GEM 8.126982431563121\n",
      "symbol=%s, val=%s GEN 17.206924401176767\n",
      "symbol=%s, val=%s GES 27.858288253301357\n",
      "symbol=%s, val=%s GFL 18.31730828334936\n",
      "symbol=%s, val=%s GGE 68.87159405831198\n"
     ]
    },
    {
     "name": "stderr",
     "output_type": "stream",
     "text": [
      "GGX: No price data found, symbol may be delisted (period=3mo)\n"
     ]
    },
    {
     "name": "stdout",
     "output_type": "stream",
     "text": [
      "symbol=%s, val=%s GGX nan\n",
      "symbol=%s, val=%s GHY 6.161219374151132\n",
      "symbol=%s, val=%s GIB 10.198776689061152\n"
     ]
    },
    {
     "name": "stderr",
     "output_type": "stream",
     "text": [
      "GL1: No data found, symbol may be delisted\n"
     ]
    },
    {
     "name": "stdout",
     "output_type": "stream",
     "text": [
      "symbol=%s, val=%s GL1 nan\n"
     ]
    },
    {
     "name": "stderr",
     "output_type": "stream",
     "text": [
      "GLA: No price data found, symbol may be delisted (period=3mo)\n"
     ]
    },
    {
     "name": "stdout",
     "output_type": "stream",
     "text": [
      "symbol=%s, val=%s GLA nan\n"
     ]
    },
    {
     "name": "stderr",
     "output_type": "stream",
     "text": [
      "GLB: No price data found, symbol may be delisted (period=3mo)\n"
     ]
    },
    {
     "name": "stdout",
     "output_type": "stream",
     "text": [
      "symbol=%s, val=%s GLB nan\n"
     ]
    },
    {
     "name": "stderr",
     "output_type": "stream",
     "text": [
      "GLE: No price data found, symbol may be delisted (period=3mo)\n"
     ]
    },
    {
     "name": "stdout",
     "output_type": "stream",
     "text": [
      "symbol=%s, val=%s GLE nan\n"
     ]
    },
    {
     "name": "stderr",
     "output_type": "stream",
     "text": [
      "GLH: No price data found, symbol may be delisted (period=3mo)\n"
     ]
    },
    {
     "name": "stdout",
     "output_type": "stream",
     "text": [
      "symbol=%s, val=%s GLH nan\n",
      "symbol=%s, val=%s GLL 10.831150274172009\n"
     ]
    },
    {
     "name": "stderr",
     "output_type": "stream",
     "text": [
      "GLN: No price data found, symbol may be delisted (period=3mo)\n"
     ]
    },
    {
     "name": "stdout",
     "output_type": "stream",
     "text": [
      "symbol=%s, val=%s GLN nan\n",
      "symbol=%s, val=%s GLV 7.411120890547964\n"
     ]
    },
    {
     "name": "stderr",
     "output_type": "stream",
     "text": [
      "GMD: No price data found, symbol may be delisted (period=3mo)\n"
     ]
    },
    {
     "name": "stdout",
     "output_type": "stream",
     "text": [
      "symbol=%s, val=%s GMD nan\n"
     ]
    },
    {
     "name": "stderr",
     "output_type": "stream",
     "text": [
      "GMG: No price data found, symbol may be delisted (period=3mo)\n"
     ]
    },
    {
     "name": "stdout",
     "output_type": "stream",
     "text": [
      "symbol=%s, val=%s GMG nan\n"
     ]
    },
    {
     "name": "stderr",
     "output_type": "stream",
     "text": [
      "GML: No price data found, symbol may be delisted (period=3mo)\n"
     ]
    },
    {
     "name": "stdout",
     "output_type": "stream",
     "text": [
      "symbol=%s, val=%s GML nan\n"
     ]
    },
    {
     "name": "stderr",
     "output_type": "stream",
     "text": [
      "GMN: No price data found, symbol may be delisted (period=3mo)\n"
     ]
    },
    {
     "name": "stdout",
     "output_type": "stream",
     "text": [
      "symbol=%s, val=%s GMN nan\n"
     ]
    },
    {
     "name": "stderr",
     "output_type": "stream",
     "text": [
      "GMR: No price data found, symbol may be delisted (period=3mo)\n"
     ]
    },
    {
     "name": "stdout",
     "output_type": "stream",
     "text": [
      "symbol=%s, val=%s GMR nan\n"
     ]
    },
    {
     "name": "stderr",
     "output_type": "stream",
     "text": [
      "GNC: No data found, symbol may be delisted\n"
     ]
    },
    {
     "name": "stdout",
     "output_type": "stream",
     "text": [
      "symbol=%s, val=%s GNC nan\n",
      "symbol=%s, val=%s GNE 20.114905855517794\n"
     ]
    },
    {
     "name": "stderr",
     "output_type": "stream",
     "text": [
      "GNG: No price data found, symbol may be delisted (period=3mo)\n"
     ]
    },
    {
     "name": "stdout",
     "output_type": "stream",
     "text": [
      "symbol=%s, val=%s GNG nan\n"
     ]
    },
    {
     "name": "stderr",
     "output_type": "stream",
     "text": [
      "GNM: No price data found, symbol may be delisted (period=3mo)\n"
     ]
    },
    {
     "name": "stdout",
     "output_type": "stream",
     "text": [
      "symbol=%s, val=%s GNM nan\n"
     ]
    },
    {
     "name": "stderr",
     "output_type": "stream",
     "text": [
      "GNP: No price data found, symbol may be delisted (period=3mo)\n"
     ]
    },
    {
     "name": "stdout",
     "output_type": "stream",
     "text": [
      "symbol=%s, val=%s GNP nan\n"
     ]
    },
    {
     "name": "stderr",
     "output_type": "stream",
     "text": [
      "GNX: Period '3mo' is invalid, must be one of ['1d', '5d']\n"
     ]
    },
    {
     "name": "stdout",
     "output_type": "stream",
     "text": [
      "symbol=%s, val=%s GNX nan\n"
     ]
    },
    {
     "name": "stderr",
     "output_type": "stream",
     "text": [
      "GO2: No data found, symbol may be delisted\n"
     ]
    },
    {
     "name": "stdout",
     "output_type": "stream",
     "text": [
      "symbol=%s, val=%s GO2 nan\n"
     ]
    },
    {
     "name": "stderr",
     "output_type": "stream",
     "text": [
      "GOR: No price data found, symbol may be delisted (period=3mo)\n"
     ]
    },
    {
     "name": "stdout",
     "output_type": "stream",
     "text": [
      "symbol=%s, val=%s GOR nan\n"
     ]
    },
    {
     "name": "stderr",
     "output_type": "stream",
     "text": [
      "GOW: No price data found, symbol may be delisted (period=3mo)\n"
     ]
    },
    {
     "name": "stdout",
     "output_type": "stream",
     "text": [
      "symbol=%s, val=%s GOW nan\n"
     ]
    },
    {
     "name": "stderr",
     "output_type": "stream",
     "text": [
      "GOZ: No price data found, symbol may be delisted (period=3mo)\n"
     ]
    },
    {
     "name": "stdout",
     "output_type": "stream",
     "text": [
      "symbol=%s, val=%s GOZ nan\n"
     ]
    },
    {
     "name": "stderr",
     "output_type": "stream",
     "text": [
      "GPR: No price data found, symbol may be delisted (period=3mo)\n"
     ]
    },
    {
     "name": "stdout",
     "output_type": "stream",
     "text": [
      "symbol=%s, val=%s GPR nan\n"
     ]
    },
    {
     "name": "stderr",
     "output_type": "stream",
     "text": [
      "GPT: No price data found, symbol may be delisted (period=3mo)\n"
     ]
    },
    {
     "name": "stdout",
     "output_type": "stream",
     "text": [
      "symbol=%s, val=%s GPT nan\n"
     ]
    },
    {
     "name": "stderr",
     "output_type": "stream",
     "text": [
      "GQG: Period '3mo' is invalid, must be one of ['1d', '5d']\n"
     ]
    },
    {
     "name": "stdout",
     "output_type": "stream",
     "text": [
      "symbol=%s, val=%s GQG nan\n"
     ]
    },
    {
     "name": "stderr",
     "output_type": "stream",
     "text": [
      "GRE: No price data found, symbol may be delisted (period=3mo)\n"
     ]
    },
    {
     "name": "stdout",
     "output_type": "stream",
     "text": [
      "symbol=%s, val=%s GRE nan\n"
     ]
    },
    {
     "name": "stderr",
     "output_type": "stream",
     "text": [
      "GRL: No price data found, symbol may be delisted (period=3mo)\n"
     ]
    },
    {
     "name": "stdout",
     "output_type": "stream",
     "text": [
      "symbol=%s, val=%s GRL nan\n"
     ]
    },
    {
     "name": "stderr",
     "output_type": "stream",
     "text": [
      "GRR: No price data found, symbol may be delisted (period=3mo)\n"
     ]
    },
    {
     "name": "stdout",
     "output_type": "stream",
     "text": [
      "symbol=%s, val=%s GRR nan\n"
     ]
    },
    {
     "name": "stderr",
     "output_type": "stream",
     "text": [
      "GRV: No price data found, symbol may be delisted (period=3mo)\n"
     ]
    },
    {
     "name": "stdout",
     "output_type": "stream",
     "text": [
      "symbol=%s, val=%s GRV nan\n",
      "symbol=%s, val=%s GRX 9.126588712445095\n",
      "symbol=%s, val=%s GSM 20.034539810961654\n"
     ]
    },
    {
     "name": "stderr",
     "output_type": "stream",
     "text": [
      "GSN: No price data found, symbol may be delisted (period=3mo)\n"
     ]
    },
    {
     "name": "stdout",
     "output_type": "stream",
     "text": [
      "symbol=%s, val=%s GSN nan\n"
     ]
    },
    {
     "name": "stderr",
     "output_type": "stream",
     "text": [
      "GSR: No price data found, symbol may be delisted (period=3mo)\n"
     ]
    },
    {
     "name": "stdout",
     "output_type": "stream",
     "text": [
      "symbol=%s, val=%s GSR nan\n"
     ]
    },
    {
     "name": "stderr",
     "output_type": "stream",
     "text": [
      "GSS: No price data found, symbol may be delisted (period=3mo)\n"
     ]
    },
    {
     "name": "stdout",
     "output_type": "stream",
     "text": [
      "symbol=%s, val=%s GSS nan\n"
     ]
    },
    {
     "name": "stderr",
     "output_type": "stream",
     "text": [
      "GT1: No data found, symbol may be delisted\n"
     ]
    },
    {
     "name": "stdout",
     "output_type": "stream",
     "text": [
      "symbol=%s, val=%s GT1 nan\n",
      "symbol=%s, val=%s GTE 36.27586364746094\n"
     ]
    },
    {
     "name": "stderr",
     "output_type": "stream",
     "text": [
      "GTG: No price data found, symbol may be delisted (period=3mo)\n"
     ]
    },
    {
     "name": "stdout",
     "output_type": "stream",
     "text": [
      "symbol=%s, val=%s GTG nan\n"
     ]
    },
    {
     "name": "stderr",
     "output_type": "stream",
     "text": [
      "GTI: No price data found, symbol may be delisted (period=3mo)\n"
     ]
    },
    {
     "name": "stdout",
     "output_type": "stream",
     "text": [
      "symbol=%s, val=%s GTI nan\n"
     ]
    },
    {
     "name": "stderr",
     "output_type": "stream",
     "text": [
      "GTK: No price data found, symbol may be delisted (period=3mo)\n"
     ]
    },
    {
     "name": "stdout",
     "output_type": "stream",
     "text": [
      "symbol=%s, val=%s GTK nan\n",
      "symbol=%s, val=%s GTN 37.13751118827735\n",
      "symbol=%s, val=%s GTR 4.181180848225219\n"
     ]
    },
    {
     "name": "stderr",
     "output_type": "stream",
     "text": [
      "GUD: No price data found, symbol may be delisted (period=3mo)\n"
     ]
    },
    {
     "name": "stdout",
     "output_type": "stream",
     "text": [
      "symbol=%s, val=%s GUD nan\n"
     ]
    },
    {
     "name": "stderr",
     "output_type": "stream",
     "text": [
      "GUL: No price data found, symbol may be delisted (period=3mo)\n"
     ]
    },
    {
     "name": "stdout",
     "output_type": "stream",
     "text": [
      "symbol=%s, val=%s GUL nan\n"
     ]
    },
    {
     "name": "stderr",
     "output_type": "stream",
     "text": [
      "GVF: No price data found, symbol may be delisted (period=3mo)\n"
     ]
    },
    {
     "name": "stdout",
     "output_type": "stream",
     "text": [
      "symbol=%s, val=%s GVF nan\n"
     ]
    },
    {
     "name": "stderr",
     "output_type": "stream",
     "text": [
      "GW1: No data found, symbol may be delisted\n"
     ]
    },
    {
     "name": "stdout",
     "output_type": "stream",
     "text": [
      "symbol=%s, val=%s GW1 nan\n"
     ]
    },
    {
     "name": "stderr",
     "output_type": "stream",
     "text": [
      "GWA: No price data found, symbol may be delisted (period=3mo)\n"
     ]
    },
    {
     "name": "stdout",
     "output_type": "stream",
     "text": [
      "symbol=%s, val=%s GWA nan\n"
     ]
    },
    {
     "name": "stderr",
     "output_type": "stream",
     "text": [
      "GWR: No data found, symbol may be delisted\n"
     ]
    },
    {
     "name": "stdout",
     "output_type": "stream",
     "text": [
      "symbol=%s, val=%s GWR nan\n"
     ]
    },
    {
     "name": "stderr",
     "output_type": "stream",
     "text": [
      "H2G: No data found, symbol may be delisted\n"
     ]
    },
    {
     "name": "stdout",
     "output_type": "stream",
     "text": [
      "symbol=%s, val=%s H2G nan\n",
      "symbol=%s, val=%s HAL 29.067644412353953\n"
     ]
    },
    {
     "name": "stderr",
     "output_type": "stream",
     "text": [
      "HAR: No price data found, symbol may be delisted (period=3mo)\n"
     ]
    },
    {
     "name": "stdout",
     "output_type": "stream",
     "text": [
      "symbol=%s, val=%s HAR nan\n",
      "symbol=%s, val=%s HAS 20.6566133549832\n"
     ]
    },
    {
     "name": "stderr",
     "output_type": "stream",
     "text": [
      "HAV: No data found, symbol may be delisted\n"
     ]
    },
    {
     "name": "stdout",
     "output_type": "stream",
     "text": [
      "symbol=%s, val=%s HAV nan\n"
     ]
    },
    {
     "name": "stderr",
     "output_type": "stream",
     "text": [
      "HAW: No price data found, symbol may be delisted (period=3mo)\n"
     ]
    },
    {
     "name": "stdout",
     "output_type": "stream",
     "text": [
      "symbol=%s, val=%s HAW nan\n"
     ]
    },
    {
     "name": "stderr",
     "output_type": "stream",
     "text": [
      "HCD: No price data found, symbol may be delisted (period=3mo)\n"
     ]
    },
    {
     "name": "stdout",
     "output_type": "stream",
     "text": [
      "symbol=%s, val=%s HCD nan\n"
     ]
    },
    {
     "name": "stderr",
     "output_type": "stream",
     "text": [
      "HCF: No price data found, symbol may be delisted (period=3mo)\n"
     ]
    },
    {
     "name": "stdout",
     "output_type": "stream",
     "text": [
      "symbol=%s, val=%s HCF nan\n"
     ]
    },
    {
     "name": "stderr",
     "output_type": "stream",
     "text": [
      "HCH: No price data found, symbol may be delisted (period=3mo)\n"
     ]
    },
    {
     "name": "stdout",
     "output_type": "stream",
     "text": [
      "symbol=%s, val=%s HCH nan\n"
     ]
    },
    {
     "name": "stderr",
     "output_type": "stream",
     "text": [
      "HCT: No price data found, symbol may be delisted (period=3mo)\n"
     ]
    },
    {
     "name": "stdout",
     "output_type": "stream",
     "text": [
      "symbol=%s, val=%s HCT nan\n"
     ]
    },
    {
     "name": "stderr",
     "output_type": "stream",
     "text": [
      "HCW: No price data found, symbol may be delisted (period=3mo)\n"
     ]
    },
    {
     "name": "stdout",
     "output_type": "stream",
     "text": [
      "symbol=%s, val=%s HCW nan\n"
     ]
    },
    {
     "name": "stderr",
     "output_type": "stream",
     "text": [
      "HDN: Period '3mo' is invalid, must be one of ['1d', '5d']\n"
     ]
    },
    {
     "name": "stdout",
     "output_type": "stream",
     "text": [
      "symbol=%s, val=%s HDN nan\n"
     ]
    },
    {
     "name": "stderr",
     "output_type": "stream",
     "text": [
      "HE8: No data found, symbol may be delisted\n"
     ]
    },
    {
     "name": "stdout",
     "output_type": "stream",
     "text": [
      "symbol=%s, val=%s HE8 nan\n"
     ]
    },
    {
     "name": "stderr",
     "output_type": "stream",
     "text": [
      "HFR: No price data found, symbol may be delisted (period=3mo)\n"
     ]
    },
    {
     "name": "stdout",
     "output_type": "stream",
     "text": [
      "symbol=%s, val=%s HFR nan\n"
     ]
    },
    {
     "name": "stderr",
     "output_type": "stream",
     "text": [
      "HFY: Period '3mo' is invalid, must be one of ['1d', '5d']\n"
     ]
    },
    {
     "name": "stdout",
     "output_type": "stream",
     "text": [
      "symbol=%s, val=%s HFY nan\n"
     ]
    },
    {
     "name": "stderr",
     "output_type": "stream",
     "text": [
      "HGH: No data found, symbol may be delisted\n"
     ]
    },
    {
     "name": "stdout",
     "output_type": "stream",
     "text": [
      "symbol=%s, val=%s HGH nan\n"
     ]
    },
    {
     "name": "stderr",
     "output_type": "stream",
     "text": [
      "HGL: No price data found, symbol may be delisted (period=3mo)\n"
     ]
    },
    {
     "name": "stdout",
     "output_type": "stream",
     "text": [
      "symbol=%s, val=%s HGL nan\n"
     ]
    },
    {
     "name": "stderr",
     "output_type": "stream",
     "text": [
      "HGO: No price data found, symbol may be delisted (period=3mo)\n"
     ]
    },
    {
     "name": "stdout",
     "output_type": "stream",
     "text": [
      "symbol=%s, val=%s HGO nan\n",
      "symbol=%s, val=%s HGV 15.99426803282249\n"
     ]
    },
    {
     "name": "stderr",
     "output_type": "stream",
     "text": [
      "HHR: No data found, symbol may be delisted\n"
     ]
    },
    {
     "name": "stdout",
     "output_type": "stream",
     "text": [
      "symbol=%s, val=%s HHR nan\n",
      "symbol=%s, val=%s HIO 5.624378459072133\n"
     ]
    },
    {
     "name": "stderr",
     "output_type": "stream",
     "text": [
      "HIQ: No price data found, symbol may be delisted (period=3mo)\n"
     ]
    },
    {
     "name": "stdout",
     "output_type": "stream",
     "text": [
      "symbol=%s, val=%s HIQ nan\n"
     ]
    },
    {
     "name": "stderr",
     "output_type": "stream",
     "text": [
      "HIT: No price data found, symbol may be delisted (period=3mo)\n"
     ]
    },
    {
     "name": "stdout",
     "output_type": "stream",
     "text": [
      "symbol=%s, val=%s HIT nan\n"
     ]
    },
    {
     "name": "stderr",
     "output_type": "stream",
     "text": [
      "HLA: No price data found, symbol may be delisted (period=3mo)\n"
     ]
    },
    {
     "name": "stdout",
     "output_type": "stream",
     "text": [
      "symbol=%s, val=%s HLA nan\n",
      "symbol=%s, val=%s HLI 16.489898177157343\n"
     ]
    },
    {
     "name": "stderr",
     "output_type": "stream",
     "text": [
      "HLO: No price data found, symbol may be delisted (period=3mo)\n"
     ]
    },
    {
     "name": "stdout",
     "output_type": "stream",
     "text": [
      "symbol=%s, val=%s HLO nan\n"
     ]
    },
    {
     "name": "stderr",
     "output_type": "stream",
     "text": [
      "HLS: No price data found, symbol may be delisted (period=3mo)\n"
     ]
    },
    {
     "name": "stdout",
     "output_type": "stream",
     "text": [
      "symbol=%s, val=%s HLS nan\n",
      "symbol=%s, val=%s HLX 41.85022305895354\n"
     ]
    },
    {
     "name": "stderr",
     "output_type": "stream",
     "text": [
      "HM1: No data found, symbol may be delisted\n"
     ]
    },
    {
     "name": "stdout",
     "output_type": "stream",
     "text": [
      "symbol=%s, val=%s HM1 nan\n",
      "symbol=%s, val=%s HMC 12.943938617299311\n"
     ]
    },
    {
     "name": "stderr",
     "output_type": "stream",
     "text": [
      "HMD: No price data found, symbol may be delisted (period=3mo)\n"
     ]
    },
    {
     "name": "stdout",
     "output_type": "stream",
     "text": [
      "symbol=%s, val=%s HMD nan\n"
     ]
    },
    {
     "name": "stderr",
     "output_type": "stream",
     "text": [
      "HMG: No data found, symbol may be delisted\n"
     ]
    },
    {
     "name": "stdout",
     "output_type": "stream",
     "text": [
      "symbol=%s, val=%s HMG nan\n"
     ]
    },
    {
     "name": "stderr",
     "output_type": "stream",
     "text": [
      "HMI: No data found, symbol may be delisted\n"
     ]
    },
    {
     "name": "stdout",
     "output_type": "stream",
     "text": [
      "symbol=%s, val=%s HMI nan\n"
     ]
    },
    {
     "name": "stderr",
     "output_type": "stream",
     "text": [
      "HMX: No price data found, symbol may be delisted (period=3mo)\n"
     ]
    },
    {
     "name": "stdout",
     "output_type": "stream",
     "text": [
      "symbol=%s, val=%s HMX nan\n",
      "symbol=%s, val=%s HMY 27.44680374010791\n"
     ]
    },
    {
     "name": "stderr",
     "output_type": "stream",
     "text": [
      "HNG: No price data found, symbol may be delisted (period=3mo)\n"
     ]
    },
    {
     "name": "stdout",
     "output_type": "stream",
     "text": [
      "symbol=%s, val=%s HNG nan\n"
     ]
    },
    {
     "name": "stderr",
     "output_type": "stream",
     "text": [
      "HNR: No price data found, symbol may be delisted (period=3mo)\n"
     ]
    },
    {
     "name": "stdout",
     "output_type": "stream",
     "text": [
      "symbol=%s, val=%s HNR nan\n"
     ]
    },
    {
     "name": "stderr",
     "output_type": "stream",
     "text": [
      "HOR: No price data found, symbol may be delisted (period=3mo)\n"
     ]
    },
    {
     "name": "stdout",
     "output_type": "stream",
     "text": [
      "symbol=%s, val=%s HOR nan\n"
     ]
    },
    {
     "name": "stderr",
     "output_type": "stream",
     "text": [
      "HPC: No price data found, symbol may be delisted (period=3mo)\n"
     ]
    },
    {
     "name": "stdout",
     "output_type": "stream",
     "text": [
      "symbol=%s, val=%s HPC nan\n"
     ]
    },
    {
     "name": "stderr",
     "output_type": "stream",
     "text": [
      "HPG: No price data found, symbol may be delisted (period=3mo)\n"
     ]
    },
    {
     "name": "stdout",
     "output_type": "stream",
     "text": [
      "symbol=%s, val=%s HPG nan\n",
      "symbol=%s, val=%s HPI 10.263083478467664\n",
      "symbol=%s, val=%s HPP 46.286469347149215\n"
     ]
    },
    {
     "name": "stderr",
     "output_type": "stream",
     "text": [
      "HPR: No data found, symbol may be delisted\n"
     ]
    },
    {
     "name": "stdout",
     "output_type": "stream",
     "text": [
      "symbol=%s, val=%s HPR nan\n"
     ]
    },
    {
     "name": "stderr",
     "output_type": "stream",
     "text": [
      "HRE: No price data found, symbol may be delisted (period=3mo)\n"
     ]
    },
    {
     "name": "stdout",
     "output_type": "stream",
     "text": [
      "symbol=%s, val=%s HRE nan\n"
     ]
    },
    {
     "name": "stderr",
     "output_type": "stream",
     "text": [
      "HRN: No price data found, symbol may be delisted (period=3mo)\n"
     ]
    },
    {
     "name": "stdout",
     "output_type": "stream",
     "text": [
      "symbol=%s, val=%s HRN nan\n"
     ]
    },
    {
     "name": "stderr",
     "output_type": "stream",
     "text": [
      "HRZ: No price data found, symbol may be delisted (period=3mo)\n"
     ]
    },
    {
     "name": "stdout",
     "output_type": "stream",
     "text": [
      "symbol=%s, val=%s HRZ nan\n"
     ]
    },
    {
     "name": "stderr",
     "output_type": "stream",
     "text": [
      "HSN: No price data found, symbol may be delisted (period=3mo)\n"
     ]
    },
    {
     "name": "stdout",
     "output_type": "stream",
     "text": [
      "symbol=%s, val=%s HSN nan\n"
     ]
    },
    {
     "name": "stderr",
     "output_type": "stream",
     "text": [
      "HT8: No data found, symbol may be delisted\n"
     ]
    },
    {
     "name": "stdout",
     "output_type": "stream",
     "text": [
      "symbol=%s, val=%s HT8 nan\n"
     ]
    },
    {
     "name": "stderr",
     "output_type": "stream",
     "text": [
      "HTA: No data found, symbol may be delisted\n"
     ]
    },
    {
     "name": "stdout",
     "output_type": "stream",
     "text": [
      "symbol=%s, val=%s HTA nan\n"
     ]
    },
    {
     "name": "stderr",
     "output_type": "stream",
     "text": [
      "HTG: No price data found, symbol may be delisted (period=3mo)\n"
     ]
    },
    {
     "name": "stdout",
     "output_type": "stream",
     "text": [
      "symbol=%s, val=%s HTG nan\n"
     ]
    },
    {
     "name": "stderr",
     "output_type": "stream",
     "text": [
      "HTM: No price data found, symbol may be delisted (period=3mo)\n"
     ]
    },
    {
     "name": "stdout",
     "output_type": "stream",
     "text": [
      "symbol=%s, val=%s HTM nan\n"
     ]
    },
    {
     "name": "stderr",
     "output_type": "stream",
     "text": [
      "HUB: No price data found, symbol may be delisted (period=3mo)\n"
     ]
    },
    {
     "name": "stdout",
     "output_type": "stream",
     "text": [
      "symbol=%s, val=%s HUB nan\n",
      "symbol=%s, val=%s HUM 17.91804345705056\n"
     ]
    },
    {
     "name": "stderr",
     "output_type": "stream",
     "text": [
      "HVM: Period '3mo' is invalid, must be one of ['1d', '5d']\n"
     ]
    },
    {
     "name": "stdout",
     "output_type": "stream",
     "text": [
      "symbol=%s, val=%s HVM nan\n"
     ]
    },
    {
     "name": "stderr",
     "output_type": "stream",
     "text": [
      "HVN: No price data found, symbol may be delisted (period=3mo)\n"
     ]
    },
    {
     "name": "stdout",
     "output_type": "stream",
     "text": [
      "symbol=%s, val=%s HVN nan\n"
     ]
    },
    {
     "name": "stderr",
     "output_type": "stream",
     "text": [
      "HVY: No price data found, symbol may be delisted (period=3mo)\n"
     ]
    },
    {
     "name": "stdout",
     "output_type": "stream",
     "text": [
      "symbol=%s, val=%s HVY nan\n"
     ]
    },
    {
     "name": "stderr",
     "output_type": "stream",
     "text": [
      "HXG: No price data found, symbol may be delisted (period=3mo)\n"
     ]
    },
    {
     "name": "stdout",
     "output_type": "stream",
     "text": [
      "symbol=%s, val=%s HXG nan\n",
      "symbol=%s, val=%s HXL 15.310363558675302\n",
      "symbol=%s, val=%s HYD 3.1469895088054005\n",
      "symbol=%s, val=%s HYT 9.168309347647313\n"
     ]
    },
    {
     "name": "stderr",
     "output_type": "stream",
     "text": [
      "HZN: No data found, symbol may be delisted\n"
     ]
    },
    {
     "name": "stdout",
     "output_type": "stream",
     "text": [
      "symbol=%s, val=%s HZN nan\n"
     ]
    },
    {
     "name": "stderr",
     "output_type": "stream",
     "text": [
      "HZR: No price data found, symbol may be delisted (period=3mo)\n"
     ]
    },
    {
     "name": "stdout",
     "output_type": "stream",
     "text": [
      "symbol=%s, val=%s HZR nan\n",
      "symbol=%s, val=%s IAG 29.865775141199002\n"
     ]
    },
    {
     "name": "stderr",
     "output_type": "stream",
     "text": [
      "IAM: No price data found, symbol may be delisted (period=3mo)\n"
     ]
    },
    {
     "name": "stdout",
     "output_type": "stream",
     "text": [
      "symbol=%s, val=%s IAM nan\n"
     ]
    },
    {
     "name": "stderr",
     "output_type": "stream",
     "text": [
      "IBC: No price data found, symbol may be delisted (period=3mo)\n"
     ]
    },
    {
     "name": "stdout",
     "output_type": "stream",
     "text": [
      "symbol=%s, val=%s IBC nan\n"
     ]
    },
    {
     "name": "stderr",
     "output_type": "stream",
     "text": [
      "IBG: No price data found, symbol may be delisted (period=3mo)\n"
     ]
    },
    {
     "name": "stdout",
     "output_type": "stream",
     "text": [
      "symbol=%s, val=%s IBG nan\n"
     ]
    },
    {
     "name": "stderr",
     "output_type": "stream",
     "text": [
      "IBX: No price data found, symbol may be delisted (period=3mo)\n"
     ]
    },
    {
     "name": "stdout",
     "output_type": "stream",
     "text": [
      "symbol=%s, val=%s IBX nan\n",
      "symbol=%s, val=%s ICE 9.819357002156027\n",
      "symbol=%s, val=%s ICG 35.94266661227113\n"
     ]
    },
    {
     "name": "stderr",
     "output_type": "stream",
     "text": [
      "ICI: No price data found, symbol may be delisted (period=3mo)\n"
     ]
    },
    {
     "name": "stdout",
     "output_type": "stream",
     "text": [
      "symbol=%s, val=%s ICI nan\n",
      "symbol=%s, val=%s ICL 19.762251949974416\n"
     ]
    },
    {
     "name": "stderr",
     "output_type": "stream",
     "text": [
      "ICN: No price data found, symbol may be delisted (period=3mo)\n"
     ]
    },
    {
     "name": "stdout",
     "output_type": "stream",
     "text": [
      "symbol=%s, val=%s ICN nan\n"
     ]
    },
    {
     "name": "stderr",
     "output_type": "stream",
     "text": [
      "ICR: Period '3mo' is invalid, must be one of ['1d', '5d']\n"
     ]
    },
    {
     "name": "stdout",
     "output_type": "stream",
     "text": [
      "symbol=%s, val=%s ICR nan\n"
     ]
    },
    {
     "name": "stderr",
     "output_type": "stream",
     "text": [
      "ID8: No data found, symbol may be delisted\n"
     ]
    },
    {
     "name": "stdout",
     "output_type": "stream",
     "text": [
      "symbol=%s, val=%s ID8 nan\n",
      "symbol=%s, val=%s IDA 12.7233683550213\n",
      "symbol=%s, val=%s IDT 18.964892979652117\n",
      "symbol=%s, val=%s IDX 6.0042464351227816\n"
     ]
    },
    {
     "name": "stderr",
     "output_type": "stream",
     "text": [
      "IEC: No data found, symbol may be delisted\n"
     ]
    },
    {
     "name": "stdout",
     "output_type": "stream",
     "text": [
      "symbol=%s, val=%s IEC nan\n"
     ]
    },
    {
     "name": "stderr",
     "output_type": "stream",
     "text": [
      "IEL: No price data found, symbol may be delisted (period=3mo)\n"
     ]
    },
    {
     "name": "stdout",
     "output_type": "stream",
     "text": [
      "symbol=%s, val=%s IEL nan\n"
     ]
    },
    {
     "name": "stderr",
     "output_type": "stream",
     "text": [
      "IEQ: No price data found, symbol may be delisted (period=3mo)\n"
     ]
    },
    {
     "name": "stdout",
     "output_type": "stream",
     "text": [
      "symbol=%s, val=%s IEQ nan\n"
     ]
    },
    {
     "name": "stderr",
     "output_type": "stream",
     "text": [
      "IFL: No price data found, symbol may be delisted (period=3mo)\n"
     ]
    },
    {
     "name": "stdout",
     "output_type": "stream",
     "text": [
      "symbol=%s, val=%s IFL nan\n"
     ]
    },
    {
     "name": "stderr",
     "output_type": "stream",
     "text": [
      "IFM: No price data found, symbol may be delisted (period=3mo)\n"
     ]
    },
    {
     "name": "stdout",
     "output_type": "stream",
     "text": [
      "symbol=%s, val=%s IFM nan\n"
     ]
    },
    {
     "name": "stderr",
     "output_type": "stream",
     "text": [
      "IFT: No price data found, symbol may be delisted (period=3mo)\n"
     ]
    },
    {
     "name": "stdout",
     "output_type": "stream",
     "text": [
      "symbol=%s, val=%s IFT nan\n"
     ]
    },
    {
     "name": "stderr",
     "output_type": "stream",
     "text": [
      "IG6: No data found, symbol may be delisted\n"
     ]
    },
    {
     "name": "stdout",
     "output_type": "stream",
     "text": [
      "symbol=%s, val=%s IG6 nan\n"
     ]
    },
    {
     "name": "stderr",
     "output_type": "stream",
     "text": [
      "IGL: No price data found, symbol may be delisted (period=3mo)\n"
     ]
    },
    {
     "name": "stdout",
     "output_type": "stream",
     "text": [
      "symbol=%s, val=%s IGL nan\n",
      "symbol=%s, val=%s IGN 12.015554893542973\n"
     ]
    },
    {
     "name": "stderr",
     "output_type": "stream",
     "text": [
      "IGO: No price data found, symbol may be delisted (period=3mo)\n"
     ]
    },
    {
     "name": "stdout",
     "output_type": "stream",
     "text": [
      "symbol=%s, val=%s IGO nan\n"
     ]
    },
    {
     "name": "stderr",
     "output_type": "stream",
     "text": [
      "IHL: No price data found, symbol may be delisted (period=3mo)\n"
     ]
    },
    {
     "name": "stdout",
     "output_type": "stream",
     "text": [
      "symbol=%s, val=%s IHL nan\n"
     ]
    },
    {
     "name": "stderr",
     "output_type": "stream",
     "text": [
      "IIQ: Period '3mo' is invalid, must be one of ['1d', '5d']\n"
     ]
    },
    {
     "name": "stdout",
     "output_type": "stream",
     "text": [
      "symbol=%s, val=%s IIQ nan\n"
     ]
    },
    {
     "name": "stderr",
     "output_type": "stream",
     "text": [
      "IKE: No price data found, symbol may be delisted (period=3mo)\n"
     ]
    },
    {
     "name": "stdout",
     "output_type": "stream",
     "text": [
      "symbol=%s, val=%s IKE nan\n"
     ]
    },
    {
     "name": "stderr",
     "output_type": "stream",
     "text": [
      "ILA: No price data found, symbol may be delisted (period=3mo)\n"
     ]
    },
    {
     "name": "stdout",
     "output_type": "stream",
     "text": [
      "symbol=%s, val=%s ILA nan\n"
     ]
    },
    {
     "name": "stderr",
     "output_type": "stream",
     "text": [
      "ILT: No price data found, symbol may be delisted (period=3mo)\n"
     ]
    },
    {
     "name": "stdout",
     "output_type": "stream",
     "text": [
      "symbol=%s, val=%s ILT nan\n"
     ]
    },
    {
     "name": "stderr",
     "output_type": "stream",
     "text": [
      "ILU: No price data found, symbol may be delisted (period=3mo)\n"
     ]
    },
    {
     "name": "stdout",
     "output_type": "stream",
     "text": [
      "symbol=%s, val=%s ILU nan\n"
     ]
    },
    {
     "name": "stderr",
     "output_type": "stream",
     "text": [
      "IMA: No price data found, symbol may be delisted (period=3mo)\n"
     ]
    },
    {
     "name": "stdout",
     "output_type": "stream",
     "text": [
      "symbol=%s, val=%s IMA nan\n"
     ]
    },
    {
     "name": "stderr",
     "output_type": "stream",
     "text": [
      "IMB: No price data found, symbol may be delisted (period=3mo)\n"
     ]
    },
    {
     "name": "stdout",
     "output_type": "stream",
     "text": [
      "symbol=%s, val=%s IMB nan\n"
     ]
    },
    {
     "name": "stderr",
     "output_type": "stream",
     "text": [
      "IMC: No price data found, symbol may be delisted (period=3mo)\n"
     ]
    },
    {
     "name": "stdout",
     "output_type": "stream",
     "text": [
      "symbol=%s, val=%s IMC nan\n"
     ]
    },
    {
     "name": "stderr",
     "output_type": "stream",
     "text": [
      "IMD: No price data found, symbol may be delisted (period=3mo)\n"
     ]
    },
    {
     "name": "stdout",
     "output_type": "stream",
     "text": [
      "symbol=%s, val=%s IMD nan\n"
     ]
    },
    {
     "name": "stderr",
     "output_type": "stream",
     "text": [
      "IME: No price data found, symbol may be delisted (period=3mo)\n"
     ]
    },
    {
     "name": "stdout",
     "output_type": "stream",
     "text": [
      "symbol=%s, val=%s IME nan\n"
     ]
    },
    {
     "name": "stderr",
     "output_type": "stream",
     "text": [
      "IMI: No data found, symbol may be delisted\n"
     ]
    },
    {
     "name": "stdout",
     "output_type": "stream",
     "text": [
      "symbol=%s, val=%s IMI nan\n"
     ]
    },
    {
     "name": "stderr",
     "output_type": "stream",
     "text": [
      "IMM: No price data found, symbol may be delisted (period=3mo)\n"
     ]
    },
    {
     "name": "stdout",
     "output_type": "stream",
     "text": [
      "symbol=%s, val=%s IMM nan\n"
     ]
    },
    {
     "name": "stderr",
     "output_type": "stream",
     "text": [
      "IMR: No price data found, symbol may be delisted (period=3mo)\n"
     ]
    },
    {
     "name": "stdout",
     "output_type": "stream",
     "text": [
      "symbol=%s, val=%s IMR nan\n"
     ]
    },
    {
     "name": "stderr",
     "output_type": "stream",
     "text": [
      "IMU: No price data found, symbol may be delisted (period=3mo)\n"
     ]
    },
    {
     "name": "stdout",
     "output_type": "stream",
     "text": [
      "symbol=%s, val=%s IMU nan\n"
     ]
    },
    {
     "name": "stderr",
     "output_type": "stream",
     "text": [
      "INA: No price data found, symbol may be delisted (period=3mo)\n"
     ]
    },
    {
     "name": "stdout",
     "output_type": "stream",
     "text": [
      "symbol=%s, val=%s INA nan\n"
     ]
    },
    {
     "name": "stderr",
     "output_type": "stream",
     "text": [
      "IND: No price data found, symbol may be delisted (period=3mo)\n"
     ]
    },
    {
     "name": "stdout",
     "output_type": "stream",
     "text": [
      "symbol=%s, val=%s IND nan\n"
     ]
    },
    {
     "name": "stderr",
     "output_type": "stream",
     "text": [
      "INF: No data found, symbol may be delisted\n"
     ]
    },
    {
     "name": "stdout",
     "output_type": "stream",
     "text": [
      "symbol=%s, val=%s INF nan\n",
      "symbol=%s, val=%s ING 16.519734010858052\n"
     ]
    },
    {
     "name": "stderr",
     "output_type": "stream",
     "text": [
      "INL: No price data found, symbol may be delisted (period=3mo)\n"
     ]
    },
    {
     "name": "stdout",
     "output_type": "stream",
     "text": [
      "symbol=%s, val=%s INL nan\n"
     ]
    },
    {
     "name": "stderr",
     "output_type": "stream",
     "text": [
      "INP: No price data found, symbol may be delisted (period=3mo)\n"
     ]
    },
    {
     "name": "stdout",
     "output_type": "stream",
     "text": [
      "symbol=%s, val=%s INP nan\n"
     ]
    },
    {
     "name": "stderr",
     "output_type": "stream",
     "text": [
      "INR: No price data found, symbol may be delisted (period=3mo)\n"
     ]
    },
    {
     "name": "stdout",
     "output_type": "stream",
     "text": [
      "symbol=%s, val=%s INR nan\n"
     ]
    },
    {
     "name": "stderr",
     "output_type": "stream",
     "text": [
      "INV: No price data found, symbol may be delisted (period=3mo)\n"
     ]
    },
    {
     "name": "stdout",
     "output_type": "stream",
     "text": [
      "symbol=%s, val=%s INV nan\n"
     ]
    },
    {
     "name": "stderr",
     "output_type": "stream",
     "text": [
      "IOD: No price data found, symbol may be delisted (period=3mo)\n"
     ]
    },
    {
     "name": "stdout",
     "output_type": "stream",
     "text": [
      "symbol=%s, val=%s IOD nan\n"
     ]
    },
    {
     "name": "stderr",
     "output_type": "stream",
     "text": [
      "IOU: No price data found, symbol may be delisted (period=3mo)\n"
     ]
    },
    {
     "name": "stdout",
     "output_type": "stream",
     "text": [
      "symbol=%s, val=%s IOU nan\n",
      "symbol=%s, val=%s IPB 7.162009940712213\n"
     ]
    },
    {
     "name": "stderr",
     "output_type": "stream",
     "text": [
      "IPC: No price data found, symbol may be delisted (period=3mo)\n"
     ]
    },
    {
     "name": "stdout",
     "output_type": "stream",
     "text": [
      "symbol=%s, val=%s IPC nan\n"
     ]
    },
    {
     "name": "stderr",
     "output_type": "stream",
     "text": [
      "IPD: Period '3mo' is invalid, must be one of ['1d', '5d']\n"
     ]
    },
    {
     "name": "stdout",
     "output_type": "stream",
     "text": [
      "symbol=%s, val=%s IPD nan\n",
      "symbol=%s, val=%s IPG 23.36997313199137\n"
     ]
    },
    {
     "name": "stderr",
     "output_type": "stream",
     "text": [
      "IPH: No price data found, symbol may be delisted (period=3mo)\n"
     ]
    },
    {
     "name": "stdout",
     "output_type": "stream",
     "text": [
      "symbol=%s, val=%s IPH nan\n"
     ]
    },
    {
     "name": "stderr",
     "output_type": "stream",
     "text": [
      "IPL: No price data found, symbol may be delisted (period=3mo)\n"
     ]
    },
    {
     "name": "stdout",
     "output_type": "stream",
     "text": [
      "symbol=%s, val=%s IPL nan\n"
     ]
    },
    {
     "name": "stderr",
     "output_type": "stream",
     "text": [
      "IPT: No price data found, symbol may be delisted (period=3mo)\n"
     ]
    },
    {
     "name": "stdout",
     "output_type": "stream",
     "text": [
      "symbol=%s, val=%s IPT nan\n",
      "symbol=%s, val=%s IPX 64.94345538036661\n"
     ]
    },
    {
     "name": "stderr",
     "output_type": "stream",
     "text": [
      "IR1: No data found, symbol may be delisted\n"
     ]
    },
    {
     "name": "stdout",
     "output_type": "stream",
     "text": [
      "symbol=%s, val=%s IR1 nan\n"
     ]
    },
    {
     "name": "stderr",
     "output_type": "stream",
     "text": [
      "IRD: No price data found, symbol may be delisted (period=3mo)\n"
     ]
    },
    {
     "name": "stdout",
     "output_type": "stream",
     "text": [
      "symbol=%s, val=%s IRD nan\n"
     ]
    },
    {
     "name": "stderr",
     "output_type": "stream",
     "text": [
      "IRE: No price data found, symbol may be delisted (period=3mo)\n"
     ]
    },
    {
     "name": "stdout",
     "output_type": "stream",
     "text": [
      "symbol=%s, val=%s IRE nan\n"
     ]
    },
    {
     "name": "stderr",
     "output_type": "stream",
     "text": [
      "IRI: No price data found, symbol may be delisted (period=3mo)\n"
     ]
    },
    {
     "name": "stdout",
     "output_type": "stream",
     "text": [
      "symbol=%s, val=%s IRI nan\n"
     ]
    },
    {
     "name": "stderr",
     "output_type": "stream",
     "text": [
      "IRX: No price data found, symbol may be delisted (period=3mo)\n"
     ]
    },
    {
     "name": "stdout",
     "output_type": "stream",
     "text": [
      "symbol=%s, val=%s IRX nan\n"
     ]
    },
    {
     "name": "stderr",
     "output_type": "stream",
     "text": [
      "IS3: No data found, symbol may be delisted\n"
     ]
    },
    {
     "name": "stdout",
     "output_type": "stream",
     "text": [
      "symbol=%s, val=%s IS3 nan\n",
      "symbol=%s, val=%s ITM 2.579742457613863\n"
     ]
    },
    {
     "name": "stderr",
     "output_type": "stream",
     "text": [
      "IVC: No data found, symbol may be delisted\n"
     ]
    },
    {
     "name": "stdout",
     "output_type": "stream",
     "text": [
      "symbol=%s, val=%s IVC nan\n",
      "symbol=%s, val=%s IVR 16.814874235643906\n",
      "symbol=%s, val=%s IVT 12.199814393818622\n"
     ]
    },
    {
     "name": "stderr",
     "output_type": "stream",
     "text": [
      "IVX: No price data found, symbol may be delisted (period=3mo)\n"
     ]
    },
    {
     "name": "stdout",
     "output_type": "stream",
     "text": [
      "symbol=%s, val=%s IVX nan\n",
      "symbol=%s, val=%s IVZ 19.72329348008981\n",
      "symbol=%s, val=%s IXC 14.818357409962795\n"
     ]
    },
    {
     "name": "stderr",
     "output_type": "stream",
     "text": [
      "IXR: No price data found, symbol may be delisted (period=3mo)\n"
     ]
    },
    {
     "name": "stdout",
     "output_type": "stream",
     "text": [
      "symbol=%s, val=%s IXR nan\n"
     ]
    },
    {
     "name": "stderr",
     "output_type": "stream",
     "text": [
      "IXU: No price data found, symbol may be delisted (period=3mo)\n"
     ]
    },
    {
     "name": "stdout",
     "output_type": "stream",
     "text": [
      "symbol=%s, val=%s IXU nan\n"
     ]
    },
    {
     "name": "stderr",
     "output_type": "stream",
     "text": [
      "JAL: No price data found, symbol may be delisted (period=3mo)\n"
     ]
    },
    {
     "name": "stdout",
     "output_type": "stream",
     "text": [
      "symbol=%s, val=%s JAL nan\n",
      "symbol=%s, val=%s JAN 70.0787400835704\n"
     ]
    },
    {
     "name": "stderr",
     "output_type": "stream",
     "text": [
      "JAT: No price data found, symbol may be delisted (period=3mo)\n"
     ]
    },
    {
     "name": "stdout",
     "output_type": "stream",
     "text": [
      "symbol=%s, val=%s JAT nan\n"
     ]
    },
    {
     "name": "stderr",
     "output_type": "stream",
     "text": [
      "JAV: No price data found, symbol may be delisted (period=3mo)\n"
     ]
    },
    {
     "name": "stdout",
     "output_type": "stream",
     "text": [
      "symbol=%s, val=%s JAV nan\n"
     ]
    },
    {
     "name": "stderr",
     "output_type": "stream",
     "text": [
      "JAY: No price data found, symbol may be delisted (period=3mo)\n"
     ]
    },
    {
     "name": "stdout",
     "output_type": "stream",
     "text": [
      "symbol=%s, val=%s JAY nan\n"
     ]
    },
    {
     "name": "stderr",
     "output_type": "stream",
     "text": [
      "JBH: Period '3mo' is invalid, must be one of ['1d', '5d']\n"
     ]
    },
    {
     "name": "stdout",
     "output_type": "stream",
     "text": [
      "symbol=%s, val=%s JBH nan\n"
     ]
    },
    {
     "name": "stderr",
     "output_type": "stream",
     "text": [
      "JBY: Period '3mo' is invalid, must be one of ['1d', '5d']\n"
     ]
    },
    {
     "name": "stdout",
     "output_type": "stream",
     "text": [
      "symbol=%s, val=%s JBY nan\n"
     ]
    },
    {
     "name": "stderr",
     "output_type": "stream",
     "text": [
      "JCS: No data found, symbol may be delisted\n"
     ]
    },
    {
     "name": "stdout",
     "output_type": "stream",
     "text": [
      "symbol=%s, val=%s JCS nan\n"
     ]
    },
    {
     "name": "stderr",
     "output_type": "stream",
     "text": [
      "JDO: No price data found, symbol may be delisted (period=3mo)\n"
     ]
    },
    {
     "name": "stdout",
     "output_type": "stream",
     "text": [
      "symbol=%s, val=%s JDO nan\n",
      "symbol=%s, val=%s JGH 10.514251793817307\n",
      "symbol=%s, val=%s JHG 12.847577642970553\n",
      "symbol=%s, val=%s JHX 20.106482978182992\n"
     ]
    },
    {
     "name": "stderr",
     "output_type": "stream",
     "text": [
      "JIN: No price data found, symbol may be delisted (period=3mo)\n"
     ]
    },
    {
     "name": "stdout",
     "output_type": "stream",
     "text": [
      "symbol=%s, val=%s JIN nan\n"
     ]
    },
    {
     "name": "stderr",
     "output_type": "stream",
     "text": [
      "JLG: No price data found, symbol may be delisted (period=3mo)\n"
     ]
    },
    {
     "name": "stdout",
     "output_type": "stream",
     "text": [
      "symbol=%s, val=%s JLG nan\n"
     ]
    },
    {
     "name": "stderr",
     "output_type": "stream",
     "text": [
      "JMS: No price data found, symbol may be delisted (period=3mo)\n"
     ]
    },
    {
     "name": "stdout",
     "output_type": "stream",
     "text": [
      "symbol=%s, val=%s JMS nan\n"
     ]
    },
    {
     "name": "stderr",
     "output_type": "stream",
     "text": [
      "JNO: Period '3mo' is invalid, must be one of ['1d', '5d']\n"
     ]
    },
    {
     "name": "stdout",
     "output_type": "stream",
     "text": [
      "symbol=%s, val=%s JNO nan\n"
     ]
    },
    {
     "name": "stderr",
     "output_type": "stream",
     "text": [
      "JPR: No price data found, symbol may be delisted (period=3mo)\n"
     ]
    },
    {
     "name": "stdout",
     "output_type": "stream",
     "text": [
      "symbol=%s, val=%s JPR nan\n"
     ]
    },
    {
     "name": "stderr",
     "output_type": "stream",
     "text": [
      "JRL: No price data found, symbol may be delisted (period=3mo)\n"
     ]
    },
    {
     "name": "stdout",
     "output_type": "stream",
     "text": [
      "symbol=%s, val=%s JRL nan\n"
     ]
    },
    {
     "name": "stderr",
     "output_type": "stream",
     "text": [
      "JRV: No price data found, symbol may be delisted (period=3mo)\n"
     ]
    },
    {
     "name": "stdout",
     "output_type": "stream",
     "text": [
      "symbol=%s, val=%s JRV nan\n"
     ]
    },
    {
     "name": "stderr",
     "output_type": "stream",
     "text": [
      "JTL: Period '3mo' is invalid, must be one of ['1d', '5d']\n"
     ]
    },
    {
     "name": "stdout",
     "output_type": "stream",
     "text": [
      "symbol=%s, val=%s JTL nan\n"
     ]
    },
    {
     "name": "stderr",
     "output_type": "stream",
     "text": [
      "JXT: No price data found, symbol may be delisted (period=3mo)\n"
     ]
    },
    {
     "name": "stdout",
     "output_type": "stream",
     "text": [
      "symbol=%s, val=%s JXT nan\n"
     ]
    },
    {
     "name": "stderr",
     "output_type": "stream",
     "text": [
      "JYC: No price data found, symbol may be delisted (period=3mo)\n"
     ]
    },
    {
     "name": "stdout",
     "output_type": "stream",
     "text": [
      "symbol=%s, val=%s JYC nan\n"
     ]
    },
    {
     "name": "stderr",
     "output_type": "stream",
     "text": [
      "K2F: No data found, symbol may be delisted\n"
     ]
    },
    {
     "name": "stdout",
     "output_type": "stream",
     "text": [
      "symbol=%s, val=%s K2F nan\n",
      "symbol=%s, val=%s KAI 14.197735812584805\n"
     ]
    },
    {
     "name": "stderr",
     "output_type": "stream",
     "text": [
      "KAL: No data found, symbol may be delisted\n"
     ]
    },
    {
     "name": "stdout",
     "output_type": "stream",
     "text": [
      "symbol=%s, val=%s KAL nan\n"
     ]
    },
    {
     "name": "stderr",
     "output_type": "stream",
     "text": [
      "KAM: No price data found, symbol may be delisted (period=3mo)\n"
     ]
    },
    {
     "name": "stdout",
     "output_type": "stream",
     "text": [
      "symbol=%s, val=%s KAM nan\n",
      "symbol=%s, val=%s KAR 12.43177816366856\n"
     ]
    },
    {
     "name": "stderr",
     "output_type": "stream",
     "text": [
      "KAT: No price data found, symbol may be delisted (period=3mo)\n"
     ]
    },
    {
     "name": "stdout",
     "output_type": "stream",
     "text": [
      "symbol=%s, val=%s KAT nan\n"
     ]
    },
    {
     "name": "stderr",
     "output_type": "stream",
     "text": [
      "KAU: Period '3mo' is invalid, must be one of ['1d', '5d']\n"
     ]
    },
    {
     "name": "stdout",
     "output_type": "stream",
     "text": [
      "symbol=%s, val=%s KAU nan\n"
     ]
    },
    {
     "name": "stderr",
     "output_type": "stream",
     "text": [
      "KBC: No price data found, symbol may be delisted (period=3mo)\n"
     ]
    },
    {
     "name": "stdout",
     "output_type": "stream",
     "text": [
      "symbol=%s, val=%s KBC nan\n"
     ]
    },
    {
     "name": "stderr",
     "output_type": "stream",
     "text": [
      "KCC: No price data found, symbol may be delisted (period=3mo)\n"
     ]
    },
    {
     "name": "stdout",
     "output_type": "stream",
     "text": [
      "symbol=%s, val=%s KCC nan\n"
     ]
    },
    {
     "name": "stderr",
     "output_type": "stream",
     "text": [
      "KCN: No price data found, symbol may be delisted (period=3mo)\n"
     ]
    },
    {
     "name": "stdout",
     "output_type": "stream",
     "text": [
      "symbol=%s, val=%s KCN nan\n"
     ]
    },
    {
     "name": "stderr",
     "output_type": "stream",
     "text": [
      "KDY: Period '3mo' is invalid, must be one of ['1d', '5d']\n"
     ]
    },
    {
     "name": "stdout",
     "output_type": "stream",
     "text": [
      "symbol=%s, val=%s KDY nan\n"
     ]
    },
    {
     "name": "stderr",
     "output_type": "stream",
     "text": [
      "KED: No price data found, symbol may be delisted (period=3mo)\n"
     ]
    },
    {
     "name": "stdout",
     "output_type": "stream",
     "text": [
      "symbol=%s, val=%s KED nan\n",
      "symbol=%s, val=%s KEY 30.214719434936054\n"
     ]
    },
    {
     "name": "stderr",
     "output_type": "stream",
     "text": [
      "KFM: No price data found, symbol may be delisted (period=3mo)\n"
     ]
    },
    {
     "name": "stdout",
     "output_type": "stream",
     "text": [
      "symbol=%s, val=%s KFM nan\n"
     ]
    },
    {
     "name": "stderr",
     "output_type": "stream",
     "text": [
      "KGD: No price data found, symbol may be delisted (period=3mo)\n"
     ]
    },
    {
     "name": "stdout",
     "output_type": "stream",
     "text": [
      "symbol=%s, val=%s KGD nan\n"
     ]
    },
    {
     "name": "stderr",
     "output_type": "stream",
     "text": [
      "KGL: No price data found, symbol may be delisted (period=3mo)\n"
     ]
    },
    {
     "name": "stdout",
     "output_type": "stream",
     "text": [
      "symbol=%s, val=%s KGL nan\n"
     ]
    },
    {
     "name": "stderr",
     "output_type": "stream",
     "text": [
      "KGN: No data found, symbol may be delisted\n"
     ]
    },
    {
     "name": "stdout",
     "output_type": "stream",
     "text": [
      "symbol=%s, val=%s KGN nan\n"
     ]
    },
    {
     "name": "stderr",
     "output_type": "stream",
     "text": [
      "KIL: Period '3mo' is invalid, must be one of ['1d', '5d']\n"
     ]
    },
    {
     "name": "stdout",
     "output_type": "stream",
     "text": [
      "symbol=%s, val=%s KIL nan\n"
     ]
    },
    {
     "name": "stderr",
     "output_type": "stream",
     "text": [
      "KIN: No data found, symbol may be delisted\n"
     ]
    },
    {
     "name": "stdout",
     "output_type": "stream",
     "text": [
      "symbol=%s, val=%s KIN nan\n"
     ]
    },
    {
     "name": "stderr",
     "output_type": "stream",
     "text": [
      "KKC: No price data found, symbol may be delisted (period=3mo)\n"
     ]
    },
    {
     "name": "stdout",
     "output_type": "stream",
     "text": [
      "symbol=%s, val=%s KKC nan\n"
     ]
    },
    {
     "name": "stderr",
     "output_type": "stream",
     "text": [
      "KKO: No price data found, symbol may be delisted (period=3mo)\n"
     ]
    },
    {
     "name": "stdout",
     "output_type": "stream",
     "text": [
      "symbol=%s, val=%s KKO nan\n"
     ]
    },
    {
     "name": "stderr",
     "output_type": "stream",
     "text": [
      "KLI: Period '3mo' is invalid, must be one of ['1d', '5d']\n"
     ]
    },
    {
     "name": "stdout",
     "output_type": "stream",
     "text": [
      "symbol=%s, val=%s KLI nan\n"
     ]
    },
    {
     "name": "stderr",
     "output_type": "stream",
     "text": [
      "KLL: No price data found, symbol may be delisted (period=3mo)\n"
     ]
    },
    {
     "name": "stdout",
     "output_type": "stream",
     "text": [
      "symbol=%s, val=%s KLL nan\n",
      "symbol=%s, val=%s KLR 58.8571412222726\n"
     ]
    },
    {
     "name": "stderr",
     "output_type": "stream",
     "text": [
      "KLS: No price data found, symbol may be delisted (period=3mo)\n"
     ]
    },
    {
     "name": "stdout",
     "output_type": "stream",
     "text": [
      "symbol=%s, val=%s KLS nan\n"
     ]
    },
    {
     "name": "stderr",
     "output_type": "stream",
     "text": [
      "KMD: No price data found, symbol may be delisted (period=3mo)\n"
     ]
    },
    {
     "name": "stdout",
     "output_type": "stream",
     "text": [
      "symbol=%s, val=%s KMD nan\n"
     ]
    },
    {
     "name": "stderr",
     "output_type": "stream",
     "text": [
      "KME: No price data found, symbol may be delisted (period=3mo)\n"
     ]
    },
    {
     "name": "stdout",
     "output_type": "stream",
     "text": [
      "symbol=%s, val=%s KME nan\n"
     ]
    },
    {
     "name": "stderr",
     "output_type": "stream",
     "text": [
      "KNB: Period '3mo' is invalid, must be one of ['1d', '5d']\n"
     ]
    },
    {
     "name": "stdout",
     "output_type": "stream",
     "text": [
      "symbol=%s, val=%s KNB nan\n",
      "symbol=%s, val=%s KNG 6.625525749224128\n"
     ]
    },
    {
     "name": "stderr",
     "output_type": "stream",
     "text": [
      "KNI: Period '3mo' is invalid, must be one of ['1d', '5d']\n"
     ]
    },
    {
     "name": "stdout",
     "output_type": "stream",
     "text": [
      "symbol=%s, val=%s KNI nan\n"
     ]
    },
    {
     "name": "stderr",
     "output_type": "stream",
     "text": [
      "KNM: No price data found, symbol may be delisted (period=3mo)\n"
     ]
    },
    {
     "name": "stdout",
     "output_type": "stream",
     "text": [
      "symbol=%s, val=%s KNM nan\n"
     ]
    },
    {
     "name": "stderr",
     "output_type": "stream",
     "text": [
      "KNO: No price data found, symbol may be delisted (period=3mo)\n"
     ]
    },
    {
     "name": "stdout",
     "output_type": "stream",
     "text": [
      "symbol=%s, val=%s KNO nan\n"
     ]
    },
    {
     "name": "stderr",
     "output_type": "stream",
     "text": [
      "KOB: No price data found, symbol may be delisted (period=3mo)\n"
     ]
    },
    {
     "name": "stdout",
     "output_type": "stream",
     "text": [
      "symbol=%s, val=%s KOB nan\n"
     ]
    },
    {
     "name": "stderr",
     "output_type": "stream",
     "text": [
      "KOR: No price data found, symbol may be delisted (period=3mo)\n"
     ]
    },
    {
     "name": "stdout",
     "output_type": "stream",
     "text": [
      "symbol=%s, val=%s KOR nan\n"
     ]
    },
    {
     "name": "stderr",
     "output_type": "stream",
     "text": [
      "KOV: Period '3mo' is invalid, must be one of ['1d', '5d']\n"
     ]
    },
    {
     "name": "stdout",
     "output_type": "stream",
     "text": [
      "symbol=%s, val=%s KOV nan\n"
     ]
    },
    {
     "name": "stderr",
     "output_type": "stream",
     "text": [
      "KP2: No data found, symbol may be delisted\n"
     ]
    },
    {
     "name": "stdout",
     "output_type": "stream",
     "text": [
      "symbol=%s, val=%s KP2 nan\n"
     ]
    },
    {
     "name": "stderr",
     "output_type": "stream",
     "text": [
      "KPG: No price data found, symbol may be delisted (period=3mo)\n"
     ]
    },
    {
     "name": "stdout",
     "output_type": "stream",
     "text": [
      "symbol=%s, val=%s KPG nan\n"
     ]
    },
    {
     "name": "stderr",
     "output_type": "stream",
     "text": [
      "KPO: No price data found, symbol may be delisted (period=3mo)\n"
     ]
    },
    {
     "name": "stdout",
     "output_type": "stream",
     "text": [
      "symbol=%s, val=%s KPO nan\n"
     ]
    },
    {
     "name": "stderr",
     "output_type": "stream",
     "text": [
      "KRM: No price data found, symbol may be delisted (period=3mo)\n"
     ]
    },
    {
     "name": "stdout",
     "output_type": "stream",
     "text": [
      "symbol=%s, val=%s KRM nan\n"
     ]
    },
    {
     "name": "stderr",
     "output_type": "stream",
     "text": [
      "KRR: No price data found, symbol may be delisted (period=3mo)\n"
     ]
    },
    {
     "name": "stdout",
     "output_type": "stream",
     "text": [
      "symbol=%s, val=%s KRR nan\n"
     ]
    },
    {
     "name": "stderr",
     "output_type": "stream",
     "text": [
      "KSC: No price data found, symbol may be delisted (period=3mo)\n"
     ]
    },
    {
     "name": "stdout",
     "output_type": "stream",
     "text": [
      "symbol=%s, val=%s KSC nan\n"
     ]
    },
    {
     "name": "stderr",
     "output_type": "stream",
     "text": [
      "KSL: No price data found, symbol may be delisted (period=3mo)\n"
     ]
    },
    {
     "name": "stdout",
     "output_type": "stream",
     "text": [
      "symbol=%s, val=%s KSL nan\n"
     ]
    },
    {
     "name": "stderr",
     "output_type": "stream",
     "text": [
      "KSN: No price data found, symbol may be delisted (period=3mo)\n"
     ]
    },
    {
     "name": "stdout",
     "output_type": "stream",
     "text": [
      "symbol=%s, val=%s KSN nan\n"
     ]
    },
    {
     "name": "stderr",
     "output_type": "stream",
     "text": [
      "KTA: No price data found, symbol may be delisted (period=3mo)\n"
     ]
    },
    {
     "name": "stdout",
     "output_type": "stream",
     "text": [
      "symbol=%s, val=%s KTA nan\n"
     ]
    },
    {
     "name": "stderr",
     "output_type": "stream",
     "text": [
      "KTG: Period '3mo' is invalid, must be one of ['1d', '5d']\n"
     ]
    },
    {
     "name": "stdout",
     "output_type": "stream",
     "text": [
      "symbol=%s, val=%s KTG nan\n"
     ]
    },
    {
     "name": "stderr",
     "output_type": "stream",
     "text": [
      "KYP: Period '3mo' is invalid, must be one of ['1d', '5d']\n"
     ]
    },
    {
     "name": "stdout",
     "output_type": "stream",
     "text": [
      "symbol=%s, val=%s KYP nan\n"
     ]
    },
    {
     "name": "stderr",
     "output_type": "stream",
     "text": [
      "KZA: No price data found, symbol may be delisted (period=3mo)\n"
     ]
    },
    {
     "name": "stdout",
     "output_type": "stream",
     "text": [
      "symbol=%s, val=%s KZA nan\n",
      "symbol=%s, val=%s KZR 57.29927178786872\n"
     ]
    },
    {
     "name": "stderr",
     "output_type": "stream",
     "text": [
      "L1M: No data found, symbol may be delisted\n"
     ]
    },
    {
     "name": "stdout",
     "output_type": "stream",
     "text": [
      "symbol=%s, val=%s L1M nan\n"
     ]
    },
    {
     "name": "stderr",
     "output_type": "stream",
     "text": [
      "LAM: No price data found, symbol may be delisted (period=3mo)\n"
     ]
    },
    {
     "name": "stdout",
     "output_type": "stream",
     "text": [
      "symbol=%s, val=%s LAM nan\n"
     ]
    },
    {
     "name": "stderr",
     "output_type": "stream",
     "text": [
      "LAU: No price data found, symbol may be delisted (period=3mo)\n"
     ]
    },
    {
     "name": "stdout",
     "output_type": "stream",
     "text": [
      "symbol=%s, val=%s LAU nan\n",
      "symbol=%s, val=%s LAW 29.433615769681552\n"
     ]
    },
    {
     "name": "stderr",
     "output_type": "stream",
     "text": [
      "LBL: No price data found, symbol may be delisted (period=3mo)\n"
     ]
    },
    {
     "name": "stdout",
     "output_type": "stream",
     "text": [
      "symbol=%s, val=%s LBL nan\n"
     ]
    },
    {
     "name": "stderr",
     "output_type": "stream",
     "text": [
      "LBT: No price data found, symbol may be delisted (period=3mo)\n"
     ]
    },
    {
     "name": "stdout",
     "output_type": "stream",
     "text": [
      "symbol=%s, val=%s LBT nan\n"
     ]
    },
    {
     "name": "stderr",
     "output_type": "stream",
     "text": [
      "LCE: No price data found, symbol may be delisted (period=3mo)\n"
     ]
    },
    {
     "name": "stdout",
     "output_type": "stream",
     "text": [
      "symbol=%s, val=%s LCE nan\n"
     ]
    },
    {
     "name": "stderr",
     "output_type": "stream",
     "text": [
      "LCL: No price data found, symbol may be delisted (period=3mo)\n"
     ]
    },
    {
     "name": "stdout",
     "output_type": "stream",
     "text": [
      "symbol=%s, val=%s LCL nan\n"
     ]
    },
    {
     "name": "stderr",
     "output_type": "stream",
     "text": [
      "LCY: No data found, symbol may be delisted\n"
     ]
    },
    {
     "name": "stdout",
     "output_type": "stream",
     "text": [
      "symbol=%s, val=%s LCY nan\n"
     ]
    },
    {
     "name": "stderr",
     "output_type": "stream",
     "text": [
      "LDR: No price data found, symbol may be delisted (period=3mo)\n"
     ]
    },
    {
     "name": "stdout",
     "output_type": "stream",
     "text": [
      "symbol=%s, val=%s LDR nan\n"
     ]
    },
    {
     "name": "stderr",
     "output_type": "stream",
     "text": [
      "LDX: Period '3mo' is invalid, must be one of ['1d', '5d']\n"
     ]
    },
    {
     "name": "stdout",
     "output_type": "stream",
     "text": [
      "symbol=%s, val=%s LDX nan\n",
      "symbol=%s, val=%s LEG 16.487358287249272\n"
     ]
    },
    {
     "name": "stderr",
     "output_type": "stream",
     "text": [
      "LEL: Period '3mo' is invalid, must be one of ['1d', '5d']\n"
     ]
    },
    {
     "name": "stdout",
     "output_type": "stream",
     "text": [
      "symbol=%s, val=%s LEL nan\n"
     ]
    },
    {
     "name": "stderr",
     "output_type": "stream",
     "text": [
      "LEX: No price data found, symbol may be delisted (period=3mo)\n"
     ]
    },
    {
     "name": "stdout",
     "output_type": "stream",
     "text": [
      "symbol=%s, val=%s LEX nan\n"
     ]
    },
    {
     "name": "stderr",
     "output_type": "stream",
     "text": [
      "LFG: No data found, symbol may be delisted\n"
     ]
    },
    {
     "name": "stdout",
     "output_type": "stream",
     "text": [
      "symbol=%s, val=%s LFG nan\n"
     ]
    },
    {
     "name": "stderr",
     "output_type": "stream",
     "text": [
      "LFS: No data found, symbol may be delisted\n"
     ]
    },
    {
     "name": "stdout",
     "output_type": "stream",
     "text": [
      "symbol=%s, val=%s LFS nan\n",
      "symbol=%s, val=%s LGI 9.390065586300446\n",
      "symbol=%s, val=%s LGL 16.000002906436013\n"
     ]
    },
    {
     "name": "stderr",
     "output_type": "stream",
     "text": [
      "LGM: No price data found, symbol may be delisted (period=3mo)\n"
     ]
    },
    {
     "name": "stdout",
     "output_type": "stream",
     "text": [
      "symbol=%s, val=%s LGM nan\n"
     ]
    },
    {
     "name": "stderr",
     "output_type": "stream",
     "text": [
      "LGP: No price data found, symbol may be delisted (period=3mo)\n"
     ]
    },
    {
     "name": "stdout",
     "output_type": "stream",
     "text": [
      "symbol=%s, val=%s LGP nan\n"
     ]
    },
    {
     "name": "stderr",
     "output_type": "stream",
     "text": [
      "LHM: No price data found, symbol may be delisted (period=3mo)\n"
     ]
    },
    {
     "name": "stdout",
     "output_type": "stream",
     "text": [
      "symbol=%s, val=%s LHM nan\n"
     ]
    },
    {
     "name": "stderr",
     "output_type": "stream",
     "text": [
      "LIC: No price data found, symbol may be delisted (period=3mo)\n"
     ]
    },
    {
     "name": "stdout",
     "output_type": "stream",
     "text": [
      "symbol=%s, val=%s LIC nan\n",
      "symbol=%s, val=%s LIN 8.966902279851523\n"
     ]
    },
    {
     "name": "stderr",
     "output_type": "stream",
     "text": [
      "LIO: No price data found, symbol may be delisted (period=3mo)\n"
     ]
    },
    {
     "name": "stdout",
     "output_type": "stream",
     "text": [
      "symbol=%s, val=%s LIO nan\n"
     ]
    },
    {
     "name": "stderr",
     "output_type": "stream",
     "text": [
      "LIS: No price data found, symbol may be delisted (period=3mo)\n"
     ]
    },
    {
     "name": "stdout",
     "output_type": "stream",
     "text": [
      "symbol=%s, val=%s LIS nan\n",
      "symbol=%s, val=%s LIT 18.729187288891364\n"
     ]
    },
    {
     "name": "stderr",
     "output_type": "stream",
     "text": [
      "LKE: No price data found, symbol may be delisted (period=3mo)\n"
     ]
    },
    {
     "name": "stdout",
     "output_type": "stream",
     "text": [
      "symbol=%s, val=%s LKE nan\n"
     ]
    },
    {
     "name": "stderr",
     "output_type": "stream",
     "text": [
      "LKO: No price data found, symbol may be delisted (period=3mo)\n"
     ]
    },
    {
     "name": "stdout",
     "output_type": "stream",
     "text": [
      "symbol=%s, val=%s LKO nan\n"
     ]
    },
    {
     "name": "stderr",
     "output_type": "stream",
     "text": [
      "LKY: No price data found, symbol may be delisted (period=3mo)\n"
     ]
    },
    {
     "name": "stdout",
     "output_type": "stream",
     "text": [
      "symbol=%s, val=%s LKY nan\n"
     ]
    },
    {
     "name": "stderr",
     "output_type": "stream",
     "text": [
      "LLC: No price data found, symbol may be delisted (period=3mo)\n"
     ]
    },
    {
     "name": "stdout",
     "output_type": "stream",
     "text": [
      "symbol=%s, val=%s LLC nan\n"
     ]
    },
    {
     "name": "stderr",
     "output_type": "stream",
     "text": [
      "LLI: No price data found, symbol may be delisted (period=3mo)\n"
     ]
    },
    {
     "name": "stdout",
     "output_type": "stream",
     "text": [
      "symbol=%s, val=%s LLI nan\n"
     ]
    },
    {
     "name": "stderr",
     "output_type": "stream",
     "text": [
      "LLL: No data found, symbol may be delisted\n"
     ]
    },
    {
     "name": "stdout",
     "output_type": "stream",
     "text": [
      "symbol=%s, val=%s LLL nan\n"
     ]
    },
    {
     "name": "stderr",
     "output_type": "stream",
     "text": [
      "LLO: No price data found, symbol may be delisted (period=3mo)\n"
     ]
    },
    {
     "name": "stdout",
     "output_type": "stream",
     "text": [
      "symbol=%s, val=%s LLO nan\n"
     ]
    },
    {
     "name": "stderr",
     "output_type": "stream",
     "text": [
      "LM1: No data found, symbol may be delisted\n"
     ]
    },
    {
     "name": "stdout",
     "output_type": "stream",
     "text": [
      "symbol=%s, val=%s LM1 nan\n"
     ]
    },
    {
     "name": "stderr",
     "output_type": "stream",
     "text": [
      "LM8: No data found, symbol may be delisted\n"
     ]
    },
    {
     "name": "stdout",
     "output_type": "stream",
     "text": [
      "symbol=%s, val=%s LM8 nan\n"
     ]
    },
    {
     "name": "stderr",
     "output_type": "stream",
     "text": [
      "LMG: No price data found, symbol may be delisted (period=3mo)\n"
     ]
    },
    {
     "name": "stdout",
     "output_type": "stream",
     "text": [
      "symbol=%s, val=%s LMG nan\n"
     ]
    },
    {
     "name": "stderr",
     "output_type": "stream",
     "text": [
      "LML: No price data found, symbol may be delisted (period=3mo)\n"
     ]
    },
    {
     "name": "stdout",
     "output_type": "stream",
     "text": [
      "symbol=%s, val=%s LML nan\n"
     ]
    },
    {
     "name": "stderr",
     "output_type": "stream",
     "text": [
      "LNK: No price data found, symbol may be delisted (period=3mo)\n"
     ]
    },
    {
     "name": "stdout",
     "output_type": "stream",
     "text": [
      "symbol=%s, val=%s LNK nan\n"
     ]
    },
    {
     "name": "stderr",
     "output_type": "stream",
     "text": [
      "LNR: No price data found, symbol may be delisted (period=3mo)\n"
     ]
    },
    {
     "name": "stdout",
     "output_type": "stream",
     "text": [
      "symbol=%s, val=%s LNR nan\n"
     ]
    },
    {
     "name": "stderr",
     "output_type": "stream",
     "text": [
      "LNU: No price data found, symbol may be delisted (period=3mo)\n"
     ]
    },
    {
     "name": "stdout",
     "output_type": "stream",
     "text": [
      "symbol=%s, val=%s LNU nan\n",
      "symbol=%s, val=%s LNW 20.956255938635763\n"
     ]
    },
    {
     "name": "stderr",
     "output_type": "stream",
     "text": [
      "LOM: No price data found, symbol may be delisted (period=3mo)\n"
     ]
    },
    {
     "name": "stdout",
     "output_type": "stream",
     "text": [
      "symbol=%s, val=%s LOM nan\n"
     ]
    },
    {
     "name": "stderr",
     "output_type": "stream",
     "text": [
      "LOT: No price data found, symbol may be delisted (period=3mo)\n"
     ]
    },
    {
     "name": "stdout",
     "output_type": "stream",
     "text": [
      "symbol=%s, val=%s LOT nan\n",
      "symbol=%s, val=%s LOV 83.42240172595397\n"
     ]
    },
    {
     "name": "stderr",
     "output_type": "stream",
     "text": [
      "LPD: No price data found, symbol may be delisted (period=3mo)\n"
     ]
    },
    {
     "name": "stdout",
     "output_type": "stream",
     "text": [
      "symbol=%s, val=%s LPD nan\n"
     ]
    },
    {
     "name": "stderr",
     "output_type": "stream",
     "text": [
      "LPE: No price data found, symbol may be delisted (period=3mo)\n"
     ]
    },
    {
     "name": "stdout",
     "output_type": "stream",
     "text": [
      "symbol=%s, val=%s LPE nan\n"
     ]
    },
    {
     "name": "stderr",
     "output_type": "stream",
     "text": [
      "LPI: No data found, symbol may be delisted\n"
     ]
    },
    {
     "name": "stdout",
     "output_type": "stream",
     "text": [
      "symbol=%s, val=%s LPI nan\n"
     ]
    },
    {
     "name": "stderr",
     "output_type": "stream",
     "text": [
      "LPM: Period '3mo' is invalid, must be one of ['1d', '5d']\n"
     ]
    },
    {
     "name": "stdout",
     "output_type": "stream",
     "text": [
      "symbol=%s, val=%s LPM nan\n"
     ]
    },
    {
     "name": "stderr",
     "output_type": "stream",
     "text": [
      "LRD: No price data found, symbol may be delisted (period=3mo)\n"
     ]
    },
    {
     "name": "stdout",
     "output_type": "stream",
     "text": [
      "symbol=%s, val=%s LRD nan\n"
     ]
    },
    {
     "name": "stderr",
     "output_type": "stream",
     "text": [
      "LRK: No price data found, symbol may be delisted (period=3mo)\n"
     ]
    },
    {
     "name": "stdout",
     "output_type": "stream",
     "text": [
      "symbol=%s, val=%s LRK nan\n"
     ]
    },
    {
     "name": "stderr",
     "output_type": "stream",
     "text": [
      "LRL: No price data found, symbol may be delisted (period=3mo)\n"
     ]
    },
    {
     "name": "stdout",
     "output_type": "stream",
     "text": [
      "symbol=%s, val=%s LRL nan\n"
     ]
    },
    {
     "name": "stderr",
     "output_type": "stream",
     "text": [
      "LRS: No price data found, symbol may be delisted (period=3mo)\n"
     ]
    },
    {
     "name": "stdout",
     "output_type": "stream",
     "text": [
      "symbol=%s, val=%s LRS nan\n"
     ]
    },
    {
     "name": "stderr",
     "output_type": "stream",
     "text": [
      "LRT: No price data found, symbol may be delisted (period=3mo)\n"
     ]
    },
    {
     "name": "stdout",
     "output_type": "stream",
     "text": [
      "symbol=%s, val=%s LRT nan\n"
     ]
    },
    {
     "name": "stderr",
     "output_type": "stream",
     "text": [
      "LRV: Period '3mo' is invalid, must be one of ['1d', '5d']\n"
     ]
    },
    {
     "name": "stdout",
     "output_type": "stream",
     "text": [
      "symbol=%s, val=%s LRV nan\n"
     ]
    },
    {
     "name": "stderr",
     "output_type": "stream",
     "text": [
      "LSA: No price data found, symbol may be delisted (period=3mo)\n"
     ]
    },
    {
     "name": "stdout",
     "output_type": "stream",
     "text": [
      "symbol=%s, val=%s LSA nan\n",
      "symbol=%s, val=%s LSF 50.76389144140251\n"
     ]
    },
    {
     "name": "stderr",
     "output_type": "stream",
     "text": [
      "LSR: No price data found, symbol may be delisted (period=3mo)\n"
     ]
    },
    {
     "name": "stdout",
     "output_type": "stream",
     "text": [
      "symbol=%s, val=%s LSR nan\n"
     ]
    },
    {
     "name": "stderr",
     "output_type": "stream",
     "text": [
      "LSX: No price data found, symbol may be delisted (period=3mo)\n"
     ]
    },
    {
     "name": "stdout",
     "output_type": "stream",
     "text": [
      "symbol=%s, val=%s LSX nan\n"
     ]
    },
    {
     "name": "stderr",
     "output_type": "stream",
     "text": [
      "LTR: No price data found, symbol may be delisted (period=3mo)\n"
     ]
    },
    {
     "name": "stdout",
     "output_type": "stream",
     "text": [
      "symbol=%s, val=%s LTR nan\n"
     ]
    },
    {
     "name": "stderr",
     "output_type": "stream",
     "text": [
      "LU7: No data found, symbol may be delisted\n"
     ]
    },
    {
     "name": "stdout",
     "output_type": "stream",
     "text": [
      "symbol=%s, val=%s LU7 nan\n"
     ]
    },
    {
     "name": "stderr",
     "output_type": "stream",
     "text": [
      "LV1: No data found, symbol may be delisted\n"
     ]
    },
    {
     "name": "stdout",
     "output_type": "stream",
     "text": [
      "symbol=%s, val=%s LV1 nan\n"
     ]
    },
    {
     "name": "stderr",
     "output_type": "stream",
     "text": [
      "LVE: No price data found, symbol may be delisted (period=3mo)\n"
     ]
    },
    {
     "name": "stdout",
     "output_type": "stream",
     "text": [
      "symbol=%s, val=%s LVE nan\n"
     ]
    },
    {
     "name": "stderr",
     "output_type": "stream",
     "text": [
      "LVH: No price data found, symbol may be delisted (period=3mo)\n"
     ]
    },
    {
     "name": "stdout",
     "output_type": "stream",
     "text": [
      "symbol=%s, val=%s LVH nan\n"
     ]
    },
    {
     "name": "stderr",
     "output_type": "stream",
     "text": [
      "LVT: No price data found, symbol may be delisted (period=3mo)\n"
     ]
    },
    {
     "name": "stdout",
     "output_type": "stream",
     "text": [
      "symbol=%s, val=%s LVT nan\n"
     ]
    },
    {
     "name": "stderr",
     "output_type": "stream",
     "text": [
      "LYC: No price data found, symbol may be delisted (period=3mo)\n"
     ]
    },
    {
     "name": "stdout",
     "output_type": "stream",
     "text": [
      "symbol=%s, val=%s LYC nan\n"
     ]
    },
    {
     "name": "stderr",
     "output_type": "stream",
     "text": [
      "LYK: No price data found, symbol may be delisted (period=3mo)\n"
     ]
    },
    {
     "name": "stdout",
     "output_type": "stream",
     "text": [
      "symbol=%s, val=%s LYK nan\n"
     ]
    },
    {
     "name": "stderr",
     "output_type": "stream",
     "text": [
      "LYL: No data found, symbol may be delisted\n"
     ]
    },
    {
     "name": "stdout",
     "output_type": "stream",
     "text": [
      "symbol=%s, val=%s LYL nan\n"
     ]
    },
    {
     "name": "stderr",
     "output_type": "stream",
     "text": [
      "LYN: Period '3mo' is invalid, must be one of ['1d', '5d']\n"
     ]
    },
    {
     "name": "stdout",
     "output_type": "stream",
     "text": [
      "symbol=%s, val=%s LYN nan\n"
     ]
    },
    {
     "name": "stderr",
     "output_type": "stream",
     "text": [
      "M24: No data found, symbol may be delisted\n"
     ]
    },
    {
     "name": "stdout",
     "output_type": "stream",
     "text": [
      "symbol=%s, val=%s M24 nan\n"
     ]
    },
    {
     "name": "stderr",
     "output_type": "stream",
     "text": [
      "M2M: No data found, symbol may be delisted\n"
     ]
    },
    {
     "name": "stdout",
     "output_type": "stream",
     "text": [
      "symbol=%s, val=%s M2M nan\n"
     ]
    },
    {
     "name": "stderr",
     "output_type": "stream",
     "text": [
      "M2R: No data found, symbol may be delisted\n"
     ]
    },
    {
     "name": "stdout",
     "output_type": "stream",
     "text": [
      "symbol=%s, val=%s M2R nan\n"
     ]
    },
    {
     "name": "stderr",
     "output_type": "stream",
     "text": [
      "M3M: No data found, symbol may be delisted\n"
     ]
    },
    {
     "name": "stdout",
     "output_type": "stream",
     "text": [
      "symbol=%s, val=%s M3M nan\n"
     ]
    },
    {
     "name": "stderr",
     "output_type": "stream",
     "text": [
      "M4M: No data found, symbol may be delisted\n"
     ]
    },
    {
     "name": "stdout",
     "output_type": "stream",
     "text": [
      "symbol=%s, val=%s M4M nan\n"
     ]
    },
    {
     "name": "stderr",
     "output_type": "stream",
     "text": [
      "M7T: No data found, symbol may be delisted\n"
     ]
    },
    {
     "name": "stdout",
     "output_type": "stream",
     "text": [
      "symbol=%s, val=%s M7T nan\n"
     ]
    },
    {
     "name": "stderr",
     "output_type": "stream",
     "text": [
      "M8S: No data found, symbol may be delisted\n"
     ]
    },
    {
     "name": "stdout",
     "output_type": "stream",
     "text": [
      "symbol=%s, val=%s M8S nan\n"
     ]
    },
    {
     "name": "stderr",
     "output_type": "stream",
     "text": [
      "MAD: No price data found, symbol may be delisted (period=3mo)\n"
     ]
    },
    {
     "name": "stdout",
     "output_type": "stream",
     "text": [
      "symbol=%s, val=%s MAD nan\n"
     ]
    },
    {
     "name": "stderr",
     "output_type": "stream",
     "text": [
      "MAF: No price data found, symbol may be delisted (period=3mo)\n"
     ]
    },
    {
     "name": "stdout",
     "output_type": "stream",
     "text": [
      "symbol=%s, val=%s MAF nan\n",
      "symbol=%s, val=%s MAG 23.3756537280581\n"
     ]
    },
    {
     "name": "stderr",
     "output_type": "stream",
     "text": [
      "MAH: No price data found, symbol may be delisted (period=3mo)\n"
     ]
    },
    {
     "name": "stdout",
     "output_type": "stream",
     "text": [
      "symbol=%s, val=%s MAH nan\n"
     ]
    },
    {
     "name": "stderr",
     "output_type": "stream",
     "text": [
      "MAM: No price data found, symbol may be delisted (period=3mo)\n"
     ]
    },
    {
     "name": "stdout",
     "output_type": "stream",
     "text": [
      "symbol=%s, val=%s MAM nan\n",
      "symbol=%s, val=%s MAN 18.085705959662977\n"
     ]
    },
    {
     "name": "stderr",
     "output_type": "stream",
     "text": [
      "MAP: No price data found, symbol may be delisted (period=3mo)\n"
     ]
    },
    {
     "name": "stdout",
     "output_type": "stream",
     "text": [
      "symbol=%s, val=%s MAP nan\n"
     ]
    },
    {
     "name": "stderr",
     "output_type": "stream",
     "text": [
      "MAQ: No data found, symbol may be delisted\n"
     ]
    },
    {
     "name": "stdout",
     "output_type": "stream",
     "text": [
      "symbol=%s, val=%s MAQ nan\n",
      "symbol=%s, val=%s MAT 22.482333435552846\n"
     ]
    },
    {
     "name": "stderr",
     "output_type": "stream",
     "text": [
      "MAU: No price data found, symbol may be delisted (period=3mo)\n"
     ]
    },
    {
     "name": "stdout",
     "output_type": "stream",
     "text": [
      "symbol=%s, val=%s MAU nan\n"
     ]
    },
    {
     "name": "stderr",
     "output_type": "stream",
     "text": [
      "MAUCA: No data found, symbol may be delisted\n"
     ]
    },
    {
     "name": "stdout",
     "output_type": "stream",
     "text": [
      "symbol=%s, val=%s MAUCA nan\n"
     ]
    },
    {
     "name": "stderr",
     "output_type": "stream",
     "text": [
      "MAY: No price data found, symbol may be delisted (period=3mo)\n"
     ]
    },
    {
     "name": "stdout",
     "output_type": "stream",
     "text": [
      "symbol=%s, val=%s MAY nan\n"
     ]
    },
    {
     "name": "stderr",
     "output_type": "stream",
     "text": [
      "MBH: Period '3mo' is invalid, must be one of ['1d', '5d']\n"
     ]
    },
    {
     "name": "stdout",
     "output_type": "stream",
     "text": [
      "symbol=%s, val=%s MBH nan\n"
     ]
    },
    {
     "name": "stderr",
     "output_type": "stream",
     "text": [
      "MBK: No price data found, symbol may be delisted (period=3mo)\n"
     ]
    },
    {
     "name": "stdout",
     "output_type": "stream",
     "text": [
      "symbol=%s, val=%s MBK nan\n"
     ]
    },
    {
     "name": "stderr",
     "output_type": "stream",
     "text": [
      "MBX: No price data found, symbol may be delisted (period=3mo)\n"
     ]
    },
    {
     "name": "stdout",
     "output_type": "stream",
     "text": [
      "symbol=%s, val=%s MBX nan\n"
     ]
    },
    {
     "name": "stderr",
     "output_type": "stream",
     "text": [
      "MCA: No price data found, symbol may be delisted (period=3mo)\n"
     ]
    },
    {
     "name": "stdout",
     "output_type": "stream",
     "text": [
      "symbol=%s, val=%s MCA nan\n"
     ]
    },
    {
     "name": "stderr",
     "output_type": "stream",
     "text": [
      "MCE: No price data found, symbol may be delisted (period=3mo)\n"
     ]
    },
    {
     "name": "stdout",
     "output_type": "stream",
     "text": [
      "symbol=%s, val=%s MCE nan\n"
     ]
    },
    {
     "name": "stderr",
     "output_type": "stream",
     "text": [
      "MCL: No price data found, symbol may be delisted (period=3mo)\n"
     ]
    },
    {
     "name": "stdout",
     "output_type": "stream",
     "text": [
      "symbol=%s, val=%s MCL nan\n"
     ]
    },
    {
     "name": "stderr",
     "output_type": "stream",
     "text": [
      "MCM: No price data found, symbol may be delisted (period=3mo)\n"
     ]
    },
    {
     "name": "stdout",
     "output_type": "stream",
     "text": [
      "symbol=%s, val=%s MCM nan\n"
     ]
    },
    {
     "name": "stderr",
     "output_type": "stream",
     "text": [
      "MCP: No price data found, symbol may be delisted (period=3mo)\n"
     ]
    },
    {
     "name": "stdout",
     "output_type": "stream",
     "text": [
      "symbol=%s, val=%s MCP nan\n"
     ]
    },
    {
     "name": "stderr",
     "output_type": "stream",
     "text": [
      "MCT: No price data found, symbol may be delisted (period=3mo)\n"
     ]
    },
    {
     "name": "stdout",
     "output_type": "stream",
     "text": [
      "symbol=%s, val=%s MCT nan\n"
     ]
    },
    {
     "name": "stderr",
     "output_type": "stream",
     "text": [
      "MCX: No price data found, symbol may be delisted (period=3mo)\n"
     ]
    },
    {
     "name": "stdout",
     "output_type": "stream",
     "text": [
      "symbol=%s, val=%s MCX nan\n",
      "symbol=%s, val=%s MCY 15.6278790306429\n",
      "symbol=%s, val=%s MDC 17.210950773186934\n"
     ]
    },
    {
     "name": "stderr",
     "output_type": "stream",
     "text": [
      "MDI: No price data found, symbol may be delisted (period=3mo)\n"
     ]
    },
    {
     "name": "stdout",
     "output_type": "stream",
     "text": [
      "symbol=%s, val=%s MDI nan\n"
     ]
    },
    {
     "name": "stderr",
     "output_type": "stream",
     "text": [
      "MDR: No data found, symbol may be delisted\n"
     ]
    },
    {
     "name": "stdout",
     "output_type": "stream",
     "text": [
      "symbol=%s, val=%s MDR nan\n"
     ]
    },
    {
     "name": "stderr",
     "output_type": "stream",
     "text": [
      "MDX: No price data found, symbol may be delisted (period=3mo)\n"
     ]
    },
    {
     "name": "stdout",
     "output_type": "stream",
     "text": [
      "symbol=%s, val=%s MDX nan\n"
     ]
    },
    {
     "name": "stderr",
     "output_type": "stream",
     "text": [
      "ME1: No data found, symbol may be delisted\n"
     ]
    },
    {
     "name": "stdout",
     "output_type": "stream",
     "text": [
      "symbol=%s, val=%s ME1 nan\n"
     ]
    },
    {
     "name": "stderr",
     "output_type": "stream",
     "text": [
      "MEA: No price data found, symbol may be delisted (period=3mo)\n"
     ]
    },
    {
     "name": "stdout",
     "output_type": "stream",
     "text": [
      "symbol=%s, val=%s MEA nan\n"
     ]
    },
    {
     "name": "stderr",
     "output_type": "stream",
     "text": [
      "MEB: No price data found, symbol may be delisted (period=3mo)\n"
     ]
    },
    {
     "name": "stdout",
     "output_type": "stream",
     "text": [
      "symbol=%s, val=%s MEB nan\n",
      "symbol=%s, val=%s MEC 36.38709898917906\n",
      "symbol=%s, val=%s MEG 28.807654759598538\n",
      "symbol=%s, val=%s MEI 50.02383564323246\n"
     ]
    },
    {
     "name": "stderr",
     "output_type": "stream",
     "text": [
      "MEK: No price data found, symbol may be delisted (period=3mo)\n"
     ]
    },
    {
     "name": "stdout",
     "output_type": "stream",
     "text": [
      "symbol=%s, val=%s MEK nan\n"
     ]
    },
    {
     "name": "stderr",
     "output_type": "stream",
     "text": [
      "MEL: No price data found, symbol may be delisted (period=3mo)\n"
     ]
    },
    {
     "name": "stdout",
     "output_type": "stream",
     "text": [
      "symbol=%s, val=%s MEL nan\n",
      "symbol=%s, val=%s MEM 13.793103448275861\n"
     ]
    },
    {
     "name": "stderr",
     "output_type": "stream",
     "text": [
      "MEU: No price data found, symbol may be delisted (period=3mo)\n"
     ]
    },
    {
     "name": "stdout",
     "output_type": "stream",
     "text": [
      "symbol=%s, val=%s MEU nan\n"
     ]
    },
    {
     "name": "stderr",
     "output_type": "stream",
     "text": [
      "MEZ: No price data found, symbol may be delisted (period=3mo)\n"
     ]
    },
    {
     "name": "stdout",
     "output_type": "stream",
     "text": [
      "symbol=%s, val=%s MEZ nan\n",
      "symbol=%s, val=%s MFD 7.457213438894719\n"
     ]
    },
    {
     "name": "stderr",
     "output_type": "stream",
     "text": [
      "MFF: No price data found, symbol may be delisted (period=3mo)\n"
     ]
    },
    {
     "name": "stdout",
     "output_type": "stream",
     "text": [
      "symbol=%s, val=%s MFF nan\n",
      "symbol=%s, val=%s MFG 17.464785743294108\n",
      "symbol=%s, val=%s MGA 20.530102059114714\n",
      "symbol=%s, val=%s MGF 4.844707677735232\n"
     ]
    },
    {
     "name": "stderr",
     "output_type": "stream",
     "text": [
      "MGH: No price data found, symbol may be delisted (period=3mo)\n"
     ]
    },
    {
     "name": "stdout",
     "output_type": "stream",
     "text": [
      "symbol=%s, val=%s MGH nan\n"
     ]
    },
    {
     "name": "stderr",
     "output_type": "stream",
     "text": [
      "MGL: No price data found, symbol may be delisted (period=3mo)\n"
     ]
    },
    {
     "name": "stdout",
     "output_type": "stream",
     "text": [
      "symbol=%s, val=%s MGL nan\n",
      "symbol=%s, val=%s MGR 9.764456742599835\n"
     ]
    },
    {
     "name": "stderr",
     "output_type": "stream",
     "text": [
      "MGT: No price data found, symbol may be delisted (period=3mo)\n"
     ]
    },
    {
     "name": "stdout",
     "output_type": "stream",
     "text": [
      "symbol=%s, val=%s MGT nan\n"
     ]
    },
    {
     "name": "stderr",
     "output_type": "stream",
     "text": [
      "MGU: No price data found, symbol may be delisted (period=3mo)\n"
     ]
    },
    {
     "name": "stdout",
     "output_type": "stream",
     "text": [
      "symbol=%s, val=%s MGU nan\n",
      "symbol=%s, val=%s MGV 6.044876910407878\n"
     ]
    },
    {
     "name": "stderr",
     "output_type": "stream",
     "text": [
      "MGX: No price data found, symbol may be delisted (period=3mo)\n"
     ]
    },
    {
     "name": "stdout",
     "output_type": "stream",
     "text": [
      "symbol=%s, val=%s MGX nan\n"
     ]
    },
    {
     "name": "stderr",
     "output_type": "stream",
     "text": [
      "MHC: No price data found, symbol may be delisted (period=3mo)\n"
     ]
    },
    {
     "name": "stdout",
     "output_type": "stream",
     "text": [
      "symbol=%s, val=%s MHC nan\n",
      "symbol=%s, val=%s MHI 10.375759673604964\n"
     ]
    },
    {
     "name": "stderr",
     "output_type": "stream",
     "text": [
      "MHJ: No price data found, symbol may be delisted (period=3mo)\n"
     ]
    },
    {
     "name": "stdout",
     "output_type": "stream",
     "text": [
      "symbol=%s, val=%s MHJ nan\n",
      "symbol=%s, val=%s MHK 21.33197931784108\n"
     ]
    },
    {
     "name": "stderr",
     "output_type": "stream",
     "text": [
      "MI6: No data found, symbol may be delisted\n"
     ]
    },
    {
     "name": "stdout",
     "output_type": "stream",
     "text": [
      "symbol=%s, val=%s MI6 nan\n"
     ]
    },
    {
     "name": "stderr",
     "output_type": "stream",
     "text": [
      "MIL: No price data found, symbol may be delisted (period=3mo)\n"
     ]
    },
    {
     "name": "stdout",
     "output_type": "stream",
     "text": [
      "symbol=%s, val=%s MIL nan\n",
      "symbol=%s, val=%s MIN 6.250009548088026\n",
      "symbol=%s, val=%s MIO 9.047432106894197\n",
      "symbol=%s, val=%s MIR 15.66265317333345\n"
     ]
    },
    {
     "name": "stderr",
     "output_type": "stream",
     "text": [
      "MKG: No price data found, symbol may be delisted (period=3mo)\n"
     ]
    },
    {
     "name": "stdout",
     "output_type": "stream",
     "text": [
      "symbol=%s, val=%s MKG nan\n",
      "symbol=%s, val=%s MKL 13.419430507716653\n"
     ]
    },
    {
     "name": "stderr",
     "output_type": "stream",
     "text": [
      "MKR: No price data found, symbol may be delisted (period=3mo)\n"
     ]
    },
    {
     "name": "stdout",
     "output_type": "stream",
     "text": [
      "symbol=%s, val=%s MKR nan\n"
     ]
    },
    {
     "name": "stderr",
     "output_type": "stream",
     "text": [
      "MLG: No price data found, symbol may be delisted (period=3mo)\n"
     ]
    },
    {
     "name": "stdout",
     "output_type": "stream",
     "text": [
      "symbol=%s, val=%s MLG nan\n",
      "symbol=%s, val=%s MLM 9.048140891160946\n"
     ]
    },
    {
     "name": "stderr",
     "output_type": "stream",
     "text": [
      "MLS: No price data found, symbol may be delisted (period=3mo)\n"
     ]
    },
    {
     "name": "stdout",
     "output_type": "stream",
     "text": [
      "symbol=%s, val=%s MLS nan\n"
     ]
    },
    {
     "name": "stderr",
     "output_type": "stream",
     "text": [
      "MLX: No price data found, symbol may be delisted (period=3mo)\n"
     ]
    },
    {
     "name": "stdout",
     "output_type": "stream",
     "text": [
      "symbol=%s, val=%s MLX nan\n"
     ]
    },
    {
     "name": "stderr",
     "output_type": "stream",
     "text": [
      "MM1: No data found, symbol may be delisted\n"
     ]
    },
    {
     "name": "stdout",
     "output_type": "stream",
     "text": [
      "symbol=%s, val=%s MM1 nan\n"
     ]
    },
    {
     "name": "stderr",
     "output_type": "stream",
     "text": [
      "MM8: No data found, symbol may be delisted\n"
     ]
    },
    {
     "name": "stdout",
     "output_type": "stream",
     "text": [
      "symbol=%s, val=%s MM8 nan\n"
     ]
    },
    {
     "name": "stderr",
     "output_type": "stream",
     "text": [
      "MMA: No price data found, symbol may be delisted (period=3mo)\n"
     ]
    },
    {
     "name": "stdout",
     "output_type": "stream",
     "text": [
      "symbol=%s, val=%s MMA nan\n",
      "symbol=%s, val=%s MMC 11.19228038126285\n"
     ]
    },
    {
     "name": "stderr",
     "output_type": "stream",
     "text": [
      "MME: No price data found, symbol may be delisted (period=3mo)\n"
     ]
    },
    {
     "name": "stdout",
     "output_type": "stream",
     "text": [
      "symbol=%s, val=%s MME nan\n",
      "symbol=%s, val=%s MMI 17.95212331536976\n",
      "symbol=%s, val=%s MMM 15.529432289859773\n"
     ]
    },
    {
     "name": "stderr",
     "output_type": "stream",
     "text": [
      "MMR: No price data found, symbol may be delisted (period=3mo)\n"
     ]
    },
    {
     "name": "stdout",
     "output_type": "stream",
     "text": [
      "symbol=%s, val=%s MMR nan\n",
      "symbol=%s, val=%s MMS 14.583569398605755\n"
     ]
    },
    {
     "name": "stderr",
     "output_type": "stream",
     "text": [
      "MNB: No price data found, symbol may be delisted (period=3mo)\n"
     ]
    },
    {
     "name": "stdout",
     "output_type": "stream",
     "text": [
      "symbol=%s, val=%s MNB nan\n"
     ]
    },
    {
     "name": "stderr",
     "output_type": "stream",
     "text": [
      "MND: No price data found, symbol may be delisted (period=3mo)\n"
     ]
    },
    {
     "name": "stdout",
     "output_type": "stream",
     "text": [
      "symbol=%s, val=%s MND nan\n"
     ]
    },
    {
     "name": "stderr",
     "output_type": "stream",
     "text": [
      "MNS: No price data found, symbol may be delisted (period=3mo)\n"
     ]
    },
    {
     "name": "stdout",
     "output_type": "stream",
     "text": [
      "symbol=%s, val=%s MNS nan\n",
      "symbol=%s, val=%s MOB 60.66066147768545\n",
      "symbol=%s, val=%s MOH 17.024611253004807\n"
     ]
    },
    {
     "name": "stderr",
     "output_type": "stream",
     "text": [
      "MOM: No price data found, symbol may be delisted (period=3mo)\n"
     ]
    },
    {
     "name": "stdout",
     "output_type": "stream",
     "text": [
      "symbol=%s, val=%s MOM nan\n"
     ]
    },
    {
     "name": "stderr",
     "output_type": "stream",
     "text": [
      "MOT: No price data found, symbol may be delisted (period=3mo)\n"
     ]
    },
    {
     "name": "stdout",
     "output_type": "stream",
     "text": [
      "symbol=%s, val=%s MOT nan\n",
      "symbol=%s, val=%s MOV 17.56198455330559\n"
     ]
    },
    {
     "name": "stderr",
     "output_type": "stream",
     "text": [
      "MOZ: No price data found, symbol may be delisted (period=3mo)\n"
     ]
    },
    {
     "name": "stdout",
     "output_type": "stream",
     "text": [
      "symbol=%s, val=%s MOZ nan\n"
     ]
    },
    {
     "name": "stderr",
     "output_type": "stream",
     "text": [
      "MP1: No data found, symbol may be delisted\n"
     ]
    },
    {
     "name": "stdout",
     "output_type": "stream",
     "text": [
      "symbol=%s, val=%s MP1 nan\n",
      "symbol=%s, val=%s MPA 8.541364437042047\n"
     ]
    },
    {
     "name": "stderr",
     "output_type": "stream",
     "text": [
      "MPG: No price data found, symbol may be delisted (period=3mo)\n"
     ]
    },
    {
     "name": "stdout",
     "output_type": "stream",
     "text": [
      "symbol=%s, val=%s MPG nan\n"
     ]
    },
    {
     "name": "stderr",
     "output_type": "stream",
     "text": [
      "MPL: No price data found, symbol may be delisted (period=3mo)\n"
     ]
    },
    {
     "name": "stdout",
     "output_type": "stream",
     "text": [
      "symbol=%s, val=%s MPL nan\n"
     ]
    },
    {
     "name": "stderr",
     "output_type": "stream",
     "text": [
      "MPP: No price data found, symbol may be delisted (period=3mo)\n"
     ]
    },
    {
     "name": "stdout",
     "output_type": "stream",
     "text": [
      "symbol=%s, val=%s MPP nan\n"
     ]
    },
    {
     "name": "stderr",
     "output_type": "stream",
     "text": [
      "MPR: No price data found, symbol may be delisted (period=3mo)\n"
     ]
    },
    {
     "name": "stdout",
     "output_type": "stream",
     "text": [
      "symbol=%s, val=%s MPR nan\n",
      "symbol=%s, val=%s MPX 25.154405820187247\n"
     ]
    },
    {
     "name": "stderr",
     "output_type": "stream",
     "text": [
      "MQG: No price data found, symbol may be delisted (period=3mo)\n"
     ]
    },
    {
     "name": "stdout",
     "output_type": "stream",
     "text": [
      "symbol=%s, val=%s MQG nan\n"
     ]
    },
    {
     "name": "stderr",
     "output_type": "stream",
     "text": [
      "MQR: No price data found, symbol may be delisted (period=3mo)\n"
     ]
    },
    {
     "name": "stdout",
     "output_type": "stream",
     "text": [
      "symbol=%s, val=%s MQR nan\n",
      "symbol=%s, val=%s MRC 28.94507908637171\n"
     ]
    },
    {
     "name": "stderr",
     "output_type": "stream",
     "text": [
      "MRD: No price data found, symbol may be delisted (period=3mo)\n"
     ]
    },
    {
     "name": "stdout",
     "output_type": "stream",
     "text": [
      "symbol=%s, val=%s MRD nan\n"
     ]
    },
    {
     "name": "stderr",
     "output_type": "stream",
     "text": [
      "MRI: No price data found, symbol may be delisted (period=3mo)\n"
     ]
    },
    {
     "name": "stdout",
     "output_type": "stream",
     "text": [
      "symbol=%s, val=%s MRI nan\n"
     ]
    },
    {
     "name": "stderr",
     "output_type": "stream",
     "text": [
      "MRL: No price data found, symbol may be delisted (period=3mo)\n"
     ]
    },
    {
     "name": "stdout",
     "output_type": "stream",
     "text": [
      "symbol=%s, val=%s MRL nan\n",
      "symbol=%s, val=%s MRM 41.08108003614941\n"
     ]
    },
    {
     "name": "stderr",
     "output_type": "stream",
     "text": [
      "MRQ: No price data found, symbol may be delisted (period=3mo)\n"
     ]
    },
    {
     "name": "stdout",
     "output_type": "stream",
     "text": [
      "symbol=%s, val=%s MRQ nan\n"
     ]
    },
    {
     "name": "stderr",
     "output_type": "stream",
     "text": [
      "MRR: No price data found, symbol may be delisted (period=3mo)\n"
     ]
    },
    {
     "name": "stdout",
     "output_type": "stream",
     "text": [
      "symbol=%s, val=%s MRR nan\n"
     ]
    },
    {
     "name": "stderr",
     "output_type": "stream",
     "text": [
      "MRZ: No price data found, symbol may be delisted (period=3mo)\n"
     ]
    },
    {
     "name": "stdout",
     "output_type": "stream",
     "text": [
      "symbol=%s, val=%s MRZ nan\n",
      "symbol=%s, val=%s MSB 19.75881416700041\n"
     ]
    },
    {
     "name": "stderr",
     "output_type": "stream",
     "text": [
      "MSG: No data found, symbol may be delisted\n"
     ]
    },
    {
     "name": "stdout",
     "output_type": "stream",
     "text": [
      "symbol=%s, val=%s MSG nan\n",
      "symbol=%s, val=%s MSI 7.677872092704541\n"
     ]
    },
    {
     "name": "stderr",
     "output_type": "stream",
     "text": [
      "MSV: No price data found, symbol may be delisted (period=3mo)\n"
     ]
    },
    {
     "name": "stdout",
     "output_type": "stream",
     "text": [
      "symbol=%s, val=%s MSV nan\n",
      "symbol=%s, val=%s MTB 19.03524774831389\n",
      "symbol=%s, val=%s MTC 41.111112730002745\n",
      "symbol=%s, val=%s MTH 16.08133647535529\n"
     ]
    },
    {
     "name": "stderr",
     "output_type": "stream",
     "text": [
      "MTL: No data found, symbol may be delisted\n"
     ]
    },
    {
     "name": "stdout",
     "output_type": "stream",
     "text": [
      "symbol=%s, val=%s MTL nan\n"
     ]
    },
    {
     "name": "stderr",
     "output_type": "stream",
     "text": [
      "MTM: No price data found, symbol may be delisted (period=3mo)\n"
     ]
    },
    {
     "name": "stdout",
     "output_type": "stream",
     "text": [
      "symbol=%s, val=%s MTM nan\n"
     ]
    },
    {
     "name": "stderr",
     "output_type": "stream",
     "text": [
      "MTO: No price data found, symbol may be delisted (period=3mo)\n"
     ]
    },
    {
     "name": "stdout",
     "output_type": "stream",
     "text": [
      "symbol=%s, val=%s MTO nan\n"
     ]
    },
    {
     "name": "stderr",
     "output_type": "stream",
     "text": [
      "MTS: No price data found, symbol may be delisted (period=3mo)\n"
     ]
    },
    {
     "name": "stdout",
     "output_type": "stream",
     "text": [
      "symbol=%s, val=%s MTS nan\n",
      "symbol=%s, val=%s MVF 5.9621285526925725\n"
     ]
    },
    {
     "name": "stderr",
     "output_type": "stream",
     "text": [
      "MVL: No price data found, symbol may be delisted (period=3mo)\n"
     ]
    },
    {
     "name": "stdout",
     "output_type": "stream",
     "text": [
      "symbol=%s, val=%s MVL nan\n"
     ]
    },
    {
     "name": "stderr",
     "output_type": "stream",
     "text": [
      "MVP: No price data found, symbol may be delisted (period=3mo)\n"
     ]
    },
    {
     "name": "stdout",
     "output_type": "stream",
     "text": [
      "symbol=%s, val=%s MVP nan\n"
     ]
    },
    {
     "name": "stderr",
     "output_type": "stream",
     "text": [
      "MWY: No price data found, symbol may be delisted (period=3mo)\n"
     ]
    },
    {
     "name": "stdout",
     "output_type": "stream",
     "text": [
      "symbol=%s, val=%s MWY nan\n"
     ]
    },
    {
     "name": "stderr",
     "output_type": "stream",
     "text": [
      "MX1: No data found, symbol may be delisted\n"
     ]
    },
    {
     "name": "stdout",
     "output_type": "stream",
     "text": [
      "symbol=%s, val=%s MX1 nan\n",
      "symbol=%s, val=%s MXC 23.771091297977325\n",
      "symbol=%s, val=%s MXI 9.00359458276811\n"
     ]
    },
    {
     "name": "stderr",
     "output_type": "stream",
     "text": [
      "MXO: No price data found, symbol may be delisted (period=3mo)\n"
     ]
    },
    {
     "name": "stdout",
     "output_type": "stream",
     "text": [
      "symbol=%s, val=%s MXO nan\n"
     ]
    },
    {
     "name": "stderr",
     "output_type": "stream",
     "text": [
      "MXR: No price data found, symbol may be delisted (period=3mo)\n"
     ]
    },
    {
     "name": "stdout",
     "output_type": "stream",
     "text": [
      "symbol=%s, val=%s MXR nan\n"
     ]
    },
    {
     "name": "stderr",
     "output_type": "stream",
     "text": [
      "MXT: No price data found, symbol may be delisted (period=3mo)\n"
     ]
    },
    {
     "name": "stdout",
     "output_type": "stream",
     "text": [
      "symbol=%s, val=%s MXT nan\n",
      "symbol=%s, val=%s MYE 14.683227373547702\n"
     ]
    },
    {
     "name": "stderr",
     "output_type": "stream",
     "text": [
      "MYG: No price data found, symbol may be delisted (period=3mo)\n"
     ]
    },
    {
     "name": "stdout",
     "output_type": "stream",
     "text": [
      "symbol=%s, val=%s MYG nan\n"
     ]
    },
    {
     "name": "stderr",
     "output_type": "stream",
     "text": [
      "MYR: No price data found, symbol may be delisted (period=3mo)\n"
     ]
    },
    {
     "name": "stdout",
     "output_type": "stream",
     "text": [
      "symbol=%s, val=%s MYR nan\n"
     ]
    },
    {
     "name": "stderr",
     "output_type": "stream",
     "text": [
      "MYS: No price data found, symbol may be delisted (period=3mo)\n"
     ]
    },
    {
     "name": "stdout",
     "output_type": "stream",
     "text": [
      "symbol=%s, val=%s MYS nan\n"
     ]
    },
    {
     "name": "stderr",
     "output_type": "stream",
     "text": [
      "MYX: No price data found, symbol may be delisted (period=3mo)\n"
     ]
    },
    {
     "name": "stdout",
     "output_type": "stream",
     "text": [
      "symbol=%s, val=%s MYX nan\n",
      "symbol=%s, val=%s MZZ 15.266196864313986\n"
     ]
    },
    {
     "name": "stderr",
     "output_type": "stream",
     "text": [
      "N1H: No data found, symbol may be delisted\n"
     ]
    },
    {
     "name": "stdout",
     "output_type": "stream",
     "text": [
      "symbol=%s, val=%s N1H nan\n"
     ]
    },
    {
     "name": "stderr",
     "output_type": "stream",
     "text": [
      "NAB: No price data found, symbol may be delisted (period=3mo)\n"
     ]
    },
    {
     "name": "stdout",
     "output_type": "stream",
     "text": [
      "symbol=%s, val=%s NAB nan\n",
      "symbol=%s, val=%s NAC 6.208455046462628\n"
     ]
    },
    {
     "name": "stderr",
     "output_type": "stream",
     "text": [
      "NAE: Period '3mo' is invalid, must be one of ['1d', '5d']\n"
     ]
    },
    {
     "name": "stdout",
     "output_type": "stream",
     "text": [
      "symbol=%s, val=%s NAE nan\n"
     ]
    },
    {
     "name": "stderr",
     "output_type": "stream",
     "text": [
      "NAG: No price data found, symbol may be delisted (period=3mo)\n"
     ]
    },
    {
     "name": "stdout",
     "output_type": "stream",
     "text": [
      "symbol=%s, val=%s NAG nan\n"
     ]
    },
    {
     "name": "stderr",
     "output_type": "stream",
     "text": [
      "NAM: No price data found, symbol may be delisted (period=3mo)\n"
     ]
    },
    {
     "name": "stdout",
     "output_type": "stream",
     "text": [
      "symbol=%s, val=%s NAM nan\n",
      "symbol=%s, val=%s NAN 6.907840559374385\n",
      "symbol=%s, val=%s NBI 6.241209895616001\n"
     ]
    },
    {
     "name": "stderr",
     "output_type": "stream",
     "text": [
      "NC1: No data found, symbol may be delisted\n"
     ]
    },
    {
     "name": "stdout",
     "output_type": "stream",
     "text": [
      "symbol=%s, val=%s NC1 nan\n"
     ]
    },
    {
     "name": "stderr",
     "output_type": "stream",
     "text": [
      "NC6: No data found, symbol may be delisted\n"
     ]
    },
    {
     "name": "stdout",
     "output_type": "stream",
     "text": [
      "symbol=%s, val=%s NC6 nan\n"
     ]
    },
    {
     "name": "stderr",
     "output_type": "stream",
     "text": [
      "NCC: No price data found, symbol may be delisted (period=3mo)\n"
     ]
    },
    {
     "name": "stdout",
     "output_type": "stream",
     "text": [
      "symbol=%s, val=%s NCC nan\n"
     ]
    },
    {
     "name": "stderr",
     "output_type": "stream",
     "text": [
      "NCK: No price data found, symbol may be delisted (period=3mo)\n"
     ]
    },
    {
     "name": "stdout",
     "output_type": "stream",
     "text": [
      "symbol=%s, val=%s NCK nan\n"
     ]
    },
    {
     "name": "stderr",
     "output_type": "stream",
     "text": [
      "NCM: No price data found, symbol may be delisted (period=3mo)\n"
     ]
    },
    {
     "name": "stdout",
     "output_type": "stream",
     "text": [
      "symbol=%s, val=%s NCM nan\n",
      "symbol=%s, val=%s NCR 21.97482902948943\n"
     ]
    },
    {
     "name": "stderr",
     "output_type": "stream",
     "text": [
      "NEC: No price data found, symbol may be delisted (period=3mo)\n"
     ]
    },
    {
     "name": "stdout",
     "output_type": "stream",
     "text": [
      "symbol=%s, val=%s NEC nan\n"
     ]
    },
    {
     "name": "stderr",
     "output_type": "stream",
     "text": [
      "NES: No data found, symbol may be delisted\n"
     ]
    },
    {
     "name": "stdout",
     "output_type": "stream",
     "text": [
      "symbol=%s, val=%s NES nan\n",
      "symbol=%s, val=%s NET 25.90903077804279\n",
      "symbol=%s, val=%s NEU 16.78152597123215\n"
     ]
    },
    {
     "name": "stderr",
     "output_type": "stream",
     "text": [
      "NFL: No price data found, symbol may be delisted (period=3mo)\n"
     ]
    },
    {
     "name": "stdout",
     "output_type": "stream",
     "text": [
      "symbol=%s, val=%s NFL nan\n",
      "symbol=%s, val=%s NGE 23.379815389790895\n"
     ]
    },
    {
     "name": "stderr",
     "output_type": "stream",
     "text": [
      "NGI: No price data found, symbol may be delisted (period=3mo)\n"
     ]
    },
    {
     "name": "stdout",
     "output_type": "stream",
     "text": [
      "symbol=%s, val=%s NGI nan\n",
      "symbol=%s, val=%s NGL 22.94372227351834\n",
      "symbol=%s, val=%s NGS 16.956520080566406\n"
     ]
    },
    {
     "name": "stderr",
     "output_type": "stream",
     "text": [
      "NGX: No price data found, symbol may be delisted (period=3mo)\n"
     ]
    },
    {
     "name": "stdout",
     "output_type": "stream",
     "text": [
      "symbol=%s, val=%s NGX nan\n"
     ]
    },
    {
     "name": "stderr",
     "output_type": "stream",
     "text": [
      "NGY: No price data found, symbol may be delisted (period=3mo)\n"
     ]
    },
    {
     "name": "stdout",
     "output_type": "stream",
     "text": [
      "symbol=%s, val=%s NGY nan\n",
      "symbol=%s, val=%s NHC 18.290229628337766\n"
     ]
    },
    {
     "name": "stderr",
     "output_type": "stream",
     "text": [
      "NHE: Period '3mo' is invalid, must be one of ['1d', '5d']\n"
     ]
    },
    {
     "name": "stdout",
     "output_type": "stream",
     "text": [
      "symbol=%s, val=%s NHE nan\n"
     ]
    },
    {
     "name": "stderr",
     "output_type": "stream",
     "text": [
      "NHF: No data found, symbol may be delisted\n"
     ]
    },
    {
     "name": "stdout",
     "output_type": "stream",
     "text": [
      "symbol=%s, val=%s NHF nan\n",
      "symbol=%s, val=%s NIC 23.039906903094288\n",
      "symbol=%s, val=%s NIM 3.1301462536431104\n"
     ]
    },
    {
     "name": "stderr",
     "output_type": "stream",
     "text": [
      "NIS: No price data found, symbol may be delisted (period=3mo)\n"
     ]
    },
    {
     "name": "stdout",
     "output_type": "stream",
     "text": [
      "symbol=%s, val=%s NIS nan\n"
     ]
    },
    {
     "name": "stderr",
     "output_type": "stream",
     "text": [
      "NKL: No price data found, symbol may be delisted (period=3mo)\n"
     ]
    },
    {
     "name": "stdout",
     "output_type": "stream",
     "text": [
      "symbol=%s, val=%s NKL nan\n"
     ]
    },
    {
     "name": "stderr",
     "output_type": "stream",
     "text": [
      "NME: No price data found, symbol may be delisted (period=3mo)\n"
     ]
    },
    {
     "name": "stdout",
     "output_type": "stream",
     "text": [
      "symbol=%s, val=%s NME nan\n",
      "symbol=%s, val=%s NML 15.44936154452467\n",
      "symbol=%s, val=%s NMR 13.981035665500299\n",
      "symbol=%s, val=%s NMT 5.9832218857946335\n"
     ]
    },
    {
     "name": "stderr",
     "output_type": "stream",
     "text": [
      "NNG: Period '3mo' is invalid, must be one of ['1d', '5d']\n"
     ]
    },
    {
     "name": "stdout",
     "output_type": "stream",
     "text": [
      "symbol=%s, val=%s NNG nan\n"
     ]
    },
    {
     "name": "stderr",
     "output_type": "stream",
     "text": [
      "NNL: No price data found, symbol may be delisted (period=3mo)\n"
     ]
    },
    {
     "name": "stdout",
     "output_type": "stream",
     "text": [
      "symbol=%s, val=%s NNL nan\n"
     ]
    },
    {
     "name": "stderr",
     "output_type": "stream",
     "text": [
      "NOL: No price data found, symbol may be delisted (period=3mo)\n"
     ]
    },
    {
     "name": "stdout",
     "output_type": "stream",
     "text": [
      "symbol=%s, val=%s NOL nan\n"
     ]
    },
    {
     "name": "stderr",
     "output_type": "stream",
     "text": [
      "NOR: No price data found, symbol may be delisted (period=3mo)\n"
     ]
    },
    {
     "name": "stdout",
     "output_type": "stream",
     "text": [
      "symbol=%s, val=%s NOR nan\n"
     ]
    },
    {
     "name": "stderr",
     "output_type": "stream",
     "text": [
      "NOU: No price data found, symbol may be delisted (period=3mo)\n"
     ]
    },
    {
     "name": "stdout",
     "output_type": "stream",
     "text": [
      "symbol=%s, val=%s NOU nan\n",
      "symbol=%s, val=%s NOV 32.2227271342326\n"
     ]
    },
    {
     "name": "stderr",
     "output_type": "stream",
     "text": [
      "NOX: No price data found, symbol may be delisted (period=3mo)\n"
     ]
    },
    {
     "name": "stdout",
     "output_type": "stream",
     "text": [
      "symbol=%s, val=%s NOX nan\n"
     ]
    },
    {
     "name": "stderr",
     "output_type": "stream",
     "text": [
      "NPM: No price data found, symbol may be delisted (period=3mo)\n"
     ]
    },
    {
     "name": "stdout",
     "output_type": "stream",
     "text": [
      "symbol=%s, val=%s NPM nan\n"
     ]
    },
    {
     "name": "stderr",
     "output_type": "stream",
     "text": [
      "NPR: No price data found, symbol may be delisted (period=3mo)\n"
     ]
    },
    {
     "name": "stdout",
     "output_type": "stream",
     "text": [
      "symbol=%s, val=%s NPR nan\n"
     ]
    },
    {
     "name": "stderr",
     "output_type": "stream",
     "text": [
      "NRX: No price data found, symbol may be delisted (period=3mo)\n"
     ]
    },
    {
     "name": "stdout",
     "output_type": "stream",
     "text": [
      "symbol=%s, val=%s NRX nan\n"
     ]
    },
    {
     "name": "stderr",
     "output_type": "stream",
     "text": [
      "NRZ: No data found, symbol may be delisted\n"
     ]
    },
    {
     "name": "stdout",
     "output_type": "stream",
     "text": [
      "symbol=%s, val=%s NRZ nan\n"
     ]
    },
    {
     "name": "stderr",
     "output_type": "stream",
     "text": [
      "NSB: No price data found, symbol may be delisted (period=3mo)\n"
     ]
    },
    {
     "name": "stdout",
     "output_type": "stream",
     "text": [
      "symbol=%s, val=%s NSB nan\n",
      "symbol=%s, val=%s NSC 18.09712978705021\n"
     ]
    },
    {
     "name": "stderr",
     "output_type": "stream",
     "text": [
      "NSM: No price data found, symbol may be delisted (period=3mo)\n"
     ]
    },
    {
     "name": "stdout",
     "output_type": "stream",
     "text": [
      "symbol=%s, val=%s NSM nan\n"
     ]
    },
    {
     "name": "stderr",
     "output_type": "stream",
     "text": [
      "NSR: No price data found, symbol may be delisted (period=3mo)\n"
     ]
    },
    {
     "name": "stdout",
     "output_type": "stream",
     "text": [
      "symbol=%s, val=%s NSR nan\n"
     ]
    },
    {
     "name": "stderr",
     "output_type": "stream",
     "text": [
      "NST: No price data found, symbol may be delisted (period=3mo)\n"
     ]
    },
    {
     "name": "stdout",
     "output_type": "stream",
     "text": [
      "symbol=%s, val=%s NST nan\n"
     ]
    },
    {
     "name": "stderr",
     "output_type": "stream",
     "text": [
      "NSX: No price data found, symbol may be delisted (period=3mo)\n"
     ]
    },
    {
     "name": "stdout",
     "output_type": "stream",
     "text": [
      "symbol=%s, val=%s NSX nan\n"
     ]
    },
    {
     "name": "stderr",
     "output_type": "stream",
     "text": [
      "NTD: No price data found, symbol may be delisted (period=3mo)\n"
     ]
    },
    {
     "name": "stdout",
     "output_type": "stream",
     "text": [
      "symbol=%s, val=%s NTD nan\n"
     ]
    },
    {
     "name": "stderr",
     "output_type": "stream",
     "text": [
      "NTI: No price data found, symbol may be delisted (period=3mo)\n"
     ]
    },
    {
     "name": "stdout",
     "output_type": "stream",
     "text": [
      "symbol=%s, val=%s NTI nan\n"
     ]
    },
    {
     "name": "stderr",
     "output_type": "stream",
     "text": [
      "NTL: No price data found, symbol may be delisted (period=3mo)\n"
     ]
    },
    {
     "name": "stdout",
     "output_type": "stream",
     "text": [
      "symbol=%s, val=%s NTL nan\n"
     ]
    },
    {
     "name": "stderr",
     "output_type": "stream",
     "text": [
      "NTM: No price data found, symbol may be delisted (period=3mo)\n"
     ]
    },
    {
     "name": "stdout",
     "output_type": "stream",
     "text": [
      "symbol=%s, val=%s NTM nan\n"
     ]
    },
    {
     "name": "stderr",
     "output_type": "stream",
     "text": [
      "NTU: No price data found, symbol may be delisted (period=3mo)\n"
     ]
    },
    {
     "name": "stdout",
     "output_type": "stream",
     "text": [
      "symbol=%s, val=%s NTU nan\n"
     ]
    },
    {
     "name": "stderr",
     "output_type": "stream",
     "text": [
      "NUC: No price data found, symbol may be delisted (period=3mo)\n"
     ]
    },
    {
     "name": "stdout",
     "output_type": "stream",
     "text": [
      "symbol=%s, val=%s NUC nan\n"
     ]
    },
    {
     "name": "stderr",
     "output_type": "stream",
     "text": [
      "NUF: No price data found, symbol may be delisted (period=3mo)\n"
     ]
    },
    {
     "name": "stdout",
     "output_type": "stream",
     "text": [
      "symbol=%s, val=%s NUF nan\n"
     ]
    },
    {
     "name": "stderr",
     "output_type": "stream",
     "text": [
      "NUH: No price data found, symbol may be delisted (period=3mo)\n"
     ]
    },
    {
     "name": "stdout",
     "output_type": "stream",
     "text": [
      "symbol=%s, val=%s NUH nan\n"
     ]
    },
    {
     "name": "stderr",
     "output_type": "stream",
     "text": [
      "NVA: No price data found, symbol may be delisted (period=3mo)\n"
     ]
    },
    {
     "name": "stdout",
     "output_type": "stream",
     "text": [
      "symbol=%s, val=%s NVA nan\n",
      "symbol=%s, val=%s NVO 25.099128057288222\n"
     ]
    },
    {
     "name": "stderr",
     "output_type": "stream",
     "text": [
      "NVU: Period '3mo' is invalid, must be one of ['1d', '5d']\n"
     ]
    },
    {
     "name": "stdout",
     "output_type": "stream",
     "text": [
      "symbol=%s, val=%s NVU nan\n",
      "symbol=%s, val=%s NVX 44.89855082278942\n"
     ]
    },
    {
     "name": "stderr",
     "output_type": "stream",
     "text": [
      "NWC: No price data found, symbol may be delisted (period=3mo)\n"
     ]
    },
    {
     "name": "stdout",
     "output_type": "stream",
     "text": [
      "symbol=%s, val=%s NWC nan\n"
     ]
    },
    {
     "name": "stderr",
     "output_type": "stream",
     "text": [
      "NWF: No price data found, symbol may be delisted (period=3mo)\n"
     ]
    },
    {
     "name": "stdout",
     "output_type": "stream",
     "text": [
      "symbol=%s, val=%s NWF nan\n"
     ]
    },
    {
     "name": "stderr",
     "output_type": "stream",
     "text": [
      "NWH: No price data found, symbol may be delisted (period=3mo)\n"
     ]
    },
    {
     "name": "stdout",
     "output_type": "stream",
     "text": [
      "symbol=%s, val=%s NWH nan\n",
      "symbol=%s, val=%s NWL 32.81653383814824\n"
     ]
    },
    {
     "name": "stderr",
     "output_type": "stream",
     "text": [
      "NWM: No price data found, symbol may be delisted (period=3mo)\n"
     ]
    },
    {
     "name": "stdout",
     "output_type": "stream",
     "text": [
      "symbol=%s, val=%s NWM nan\n",
      "symbol=%s, val=%s NWS 14.859977863038926\n"
     ]
    },
    {
     "name": "stderr",
     "output_type": "stream",
     "text": [
      "NWSLV: No data found, symbol may be delisted\n"
     ]
    },
    {
     "name": "stdout",
     "output_type": "stream",
     "text": [
      "symbol=%s, val=%s NWSLV nan\n"
     ]
    },
    {
     "name": "stderr",
     "output_type": "stream",
     "text": [
      "NXD: Period '3mo' is invalid, must be one of ['1d', '5d']\n"
     ]
    },
    {
     "name": "stdout",
     "output_type": "stream",
     "text": [
      "symbol=%s, val=%s NXD nan\n",
      "symbol=%s, val=%s NXG 16.12353459541804\n",
      "symbol=%s, val=%s NXL 61.99999937258268\n"
     ]
    },
    {
     "name": "stderr",
     "output_type": "stream",
     "text": [
      "NXM: No price data found, symbol may be delisted (period=3mo)\n"
     ]
    },
    {
     "name": "stdout",
     "output_type": "stream",
     "text": [
      "symbol=%s, val=%s NXM nan\n"
     ]
    },
    {
     "name": "stderr",
     "output_type": "stream",
     "text": [
      "NXS: No price data found, symbol may be delisted (period=3mo)\n"
     ]
    },
    {
     "name": "stdout",
     "output_type": "stream",
     "text": [
      "symbol=%s, val=%s NXS nan\n",
      "symbol=%s, val=%s NXT 26.315789904991497\n"
     ]
    },
    {
     "name": "stderr",
     "output_type": "stream",
     "text": [
      "NYM: No price data found, symbol may be delisted (period=3mo)\n"
     ]
    },
    {
     "name": "stdout",
     "output_type": "stream",
     "text": [
      "symbol=%s, val=%s NYM nan\n"
     ]
    },
    {
     "name": "stderr",
     "output_type": "stream",
     "text": [
      "NYR: No price data found, symbol may be delisted (period=3mo)\n"
     ]
    },
    {
     "name": "stdout",
     "output_type": "stream",
     "text": [
      "symbol=%s, val=%s NYR nan\n"
     ]
    },
    {
     "name": "stderr",
     "output_type": "stream",
     "text": [
      "NZK: No price data found, symbol may be delisted (period=3mo)\n"
     ]
    },
    {
     "name": "stdout",
     "output_type": "stream",
     "text": [
      "symbol=%s, val=%s NZK nan\n"
     ]
    },
    {
     "name": "stderr",
     "output_type": "stream",
     "text": [
      "NZM: No price data found, symbol may be delisted (period=3mo)\n"
     ]
    },
    {
     "name": "stdout",
     "output_type": "stream",
     "text": [
      "symbol=%s, val=%s NZM nan\n"
     ]
    },
    {
     "name": "stderr",
     "output_type": "stream",
     "text": [
      "NZO: No price data found, symbol may be delisted (period=3mo)\n"
     ]
    },
    {
     "name": "stdout",
     "output_type": "stream",
     "text": [
      "symbol=%s, val=%s NZO nan\n"
     ]
    },
    {
     "name": "stderr",
     "output_type": "stream",
     "text": [
      "NZS: Period '3mo' is invalid, must be one of ['1d', '5d']\n"
     ]
    },
    {
     "name": "stdout",
     "output_type": "stream",
     "text": [
      "symbol=%s, val=%s NZS nan\n"
     ]
    },
    {
     "name": "stderr",
     "output_type": "stream",
     "text": [
      "OAK: No data found, symbol may be delisted\n"
     ]
    },
    {
     "name": "stdout",
     "output_type": "stream",
     "text": [
      "symbol=%s, val=%s OAK nan\n"
     ]
    },
    {
     "name": "stderr",
     "output_type": "stream",
     "text": [
      "OAR: No price data found, symbol may be delisted (period=3mo)\n"
     ]
    },
    {
     "name": "stdout",
     "output_type": "stream",
     "text": [
      "symbol=%s, val=%s OAR nan\n"
     ]
    },
    {
     "name": "stderr",
     "output_type": "stream",
     "text": [
      "OAU: No price data found, symbol may be delisted (period=3mo)\n"
     ]
    },
    {
     "name": "stdout",
     "output_type": "stream",
     "text": [
      "symbol=%s, val=%s OAU nan\n"
     ]
    },
    {
     "name": "stderr",
     "output_type": "stream",
     "text": [
      "OBL: No price data found, symbol may be delisted (period=3mo)\n"
     ]
    },
    {
     "name": "stdout",
     "output_type": "stream",
     "text": [
      "symbol=%s, val=%s OBL nan\n"
     ]
    },
    {
     "name": "stderr",
     "output_type": "stream",
     "text": [
      "OBM: No price data found, symbol may be delisted (period=3mo)\n"
     ]
    },
    {
     "name": "stdout",
     "output_type": "stream",
     "text": [
      "symbol=%s, val=%s OBM nan\n"
     ]
    },
    {
     "name": "stderr",
     "output_type": "stream",
     "text": [
      "OCA: No data found, symbol may be delisted\n"
     ]
    },
    {
     "name": "stdout",
     "output_type": "stream",
     "text": [
      "symbol=%s, val=%s OCA nan\n",
      "symbol=%s, val=%s OCC 26.47702912723674\n"
     ]
    },
    {
     "name": "stderr",
     "output_type": "stream",
     "text": [
      "OCL: No price data found, symbol may be delisted (period=3mo)\n"
     ]
    },
    {
     "name": "stdout",
     "output_type": "stream",
     "text": [
      "symbol=%s, val=%s OCL nan\n",
      "symbol=%s, val=%s OCN 25.64962299621813\n"
     ]
    },
    {
     "name": "stderr",
     "output_type": "stream",
     "text": [
      "OCT: No price data found, symbol may be delisted (period=3mo)\n"
     ]
    },
    {
     "name": "stdout",
     "output_type": "stream",
     "text": [
      "symbol=%s, val=%s OCT nan\n"
     ]
    },
    {
     "name": "stderr",
     "output_type": "stream",
     "text": [
      "OD6: No data found, symbol may be delisted\n"
     ]
    },
    {
     "name": "stdout",
     "output_type": "stream",
     "text": [
      "symbol=%s, val=%s OD6 nan\n"
     ]
    },
    {
     "name": "stderr",
     "output_type": "stream",
     "text": [
      "ODA: No price data found, symbol may be delisted (period=3mo)\n"
     ]
    },
    {
     "name": "stdout",
     "output_type": "stream",
     "text": [
      "symbol=%s, val=%s ODA nan\n"
     ]
    },
    {
     "name": "stderr",
     "output_type": "stream",
     "text": [
      "ODE: No price data found, symbol may be delisted (period=3mo)\n"
     ]
    },
    {
     "name": "stdout",
     "output_type": "stream",
     "text": [
      "symbol=%s, val=%s ODE nan\n"
     ]
    },
    {
     "name": "stderr",
     "output_type": "stream",
     "text": [
      "ODM: No price data found, symbol may be delisted (period=3mo)\n"
     ]
    },
    {
     "name": "stdout",
     "output_type": "stream",
     "text": [
      "symbol=%s, val=%s ODM nan\n"
     ]
    },
    {
     "name": "stderr",
     "output_type": "stream",
     "text": [
      "ODY: No price data found, symbol may be delisted (period=3mo)\n"
     ]
    },
    {
     "name": "stdout",
     "output_type": "stream",
     "text": [
      "symbol=%s, val=%s ODY nan\n",
      "symbol=%s, val=%s OEC 22.018350717823477\n"
     ]
    },
    {
     "name": "stderr",
     "output_type": "stream",
     "text": [
      "OEL: No price data found, symbol may be delisted (period=3mo)\n"
     ]
    },
    {
     "name": "stdout",
     "output_type": "stream",
     "text": [
      "symbol=%s, val=%s OEL nan\n"
     ]
    },
    {
     "name": "stderr",
     "output_type": "stream",
     "text": [
      "OEQ: Period '3mo' is invalid, must be one of ['1d', '5d']\n"
     ]
    },
    {
     "name": "stdout",
     "output_type": "stream",
     "text": [
      "symbol=%s, val=%s OEQ nan\n"
     ]
    },
    {
     "name": "stderr",
     "output_type": "stream",
     "text": [
      "OFX: No price data found, symbol may be delisted (period=3mo)\n"
     ]
    },
    {
     "name": "stdout",
     "output_type": "stream",
     "text": [
      "symbol=%s, val=%s OFX nan\n",
      "symbol=%s, val=%s OIL 0.0\n"
     ]
    },
    {
     "name": "stderr",
     "output_type": "stream",
     "text": [
      "OJC: Period '3mo' is invalid, must be one of ['1d', '5d']\n"
     ]
    },
    {
     "name": "stdout",
     "output_type": "stream",
     "text": [
      "symbol=%s, val=%s OJC nan\n"
     ]
    },
    {
     "name": "stderr",
     "output_type": "stream",
     "text": [
      "OKJ: No price data found, symbol may be delisted (period=3mo)\n"
     ]
    },
    {
     "name": "stdout",
     "output_type": "stream",
     "text": [
      "symbol=%s, val=%s OKJ nan\n"
     ]
    },
    {
     "name": "stderr",
     "output_type": "stream",
     "text": [
      "OKR: No price data found, symbol may be delisted (period=3mo)\n"
     ]
    },
    {
     "name": "stdout",
     "output_type": "stream",
     "text": [
      "symbol=%s, val=%s OKR nan\n"
     ]
    },
    {
     "name": "stderr",
     "output_type": "stream",
     "text": [
      "OLH: No price data found, symbol may be delisted (period=3mo)\n"
     ]
    },
    {
     "name": "stdout",
     "output_type": "stream",
     "text": [
      "symbol=%s, val=%s OLH nan\n"
     ]
    },
    {
     "name": "stderr",
     "output_type": "stream",
     "text": [
      "OLI: No price data found, symbol may be delisted (period=3mo)\n"
     ]
    },
    {
     "name": "stdout",
     "output_type": "stream",
     "text": [
      "symbol=%s, val=%s OLI nan\n"
     ]
    },
    {
     "name": "stderr",
     "output_type": "stream",
     "text": [
      "OLL: No price data found, symbol may be delisted (period=3mo)\n"
     ]
    },
    {
     "name": "stdout",
     "output_type": "stream",
     "text": [
      "symbol=%s, val=%s OLL nan\n"
     ]
    },
    {
     "name": "stderr",
     "output_type": "stream",
     "text": [
      "OLY: No price data found, symbol may be delisted (period=3mo)\n"
     ]
    },
    {
     "name": "stdout",
     "output_type": "stream",
     "text": [
      "symbol=%s, val=%s OLY nan\n"
     ]
    },
    {
     "name": "stderr",
     "output_type": "stream",
     "text": [
      "OM1: No data found, symbol may be delisted\n"
     ]
    },
    {
     "name": "stdout",
     "output_type": "stream",
     "text": [
      "symbol=%s, val=%s OM1 nan\n"
     ]
    },
    {
     "name": "stderr",
     "output_type": "stream",
     "text": [
      "OMA: No price data found, symbol may be delisted (period=3mo)\n"
     ]
    },
    {
     "name": "stdout",
     "output_type": "stream",
     "text": [
      "symbol=%s, val=%s OMA nan\n",
      "symbol=%s, val=%s OMH 72.05081855022817\n"
     ]
    },
    {
     "name": "stderr",
     "output_type": "stream",
     "text": [
      "OML: No price data found, symbol may be delisted (period=3mo)\n"
     ]
    },
    {
     "name": "stdout",
     "output_type": "stream",
     "text": [
      "symbol=%s, val=%s OML nan\n"
     ]
    },
    {
     "name": "stderr",
     "output_type": "stream",
     "text": [
      "OMX: No price data found, symbol may be delisted (period=3mo)\n"
     ]
    },
    {
     "name": "stdout",
     "output_type": "stream",
     "text": [
      "symbol=%s, val=%s OMX nan\n"
     ]
    },
    {
     "name": "stderr",
     "output_type": "stream",
     "text": [
      "ONE: No data found, symbol may be delisted\n"
     ]
    },
    {
     "name": "stdout",
     "output_type": "stream",
     "text": [
      "symbol=%s, val=%s ONE nan\n"
     ]
    },
    {
     "name": "stderr",
     "output_type": "stream",
     "text": [
      "OOK: Period '3mo' is invalid, must be one of ['1d', '5d']\n"
     ]
    },
    {
     "name": "stdout",
     "output_type": "stream",
     "text": [
      "symbol=%s, val=%s OOK nan\n"
     ]
    },
    {
     "name": "stderr",
     "output_type": "stream",
     "text": [
      "OPH: Period '3mo' is invalid, must be one of ['1d', '5d']\n"
     ]
    },
    {
     "name": "stdout",
     "output_type": "stream",
     "text": [
      "symbol=%s, val=%s OPH nan\n"
     ]
    },
    {
     "name": "stderr",
     "output_type": "stream",
     "text": [
      "OPL: No price data found, symbol may be delisted (period=3mo)\n"
     ]
    },
    {
     "name": "stdout",
     "output_type": "stream",
     "text": [
      "symbol=%s, val=%s OPL nan\n"
     ]
    },
    {
     "name": "stderr",
     "output_type": "stream",
     "text": [
      "OPN: No price data found, symbol may be delisted (period=3mo)\n"
     ]
    },
    {
     "name": "stdout",
     "output_type": "stream",
     "text": [
      "symbol=%s, val=%s OPN nan\n",
      "symbol=%s, val=%s OPT 35.07263214047937\n",
      "symbol=%s, val=%s ORA 15.053892110810787\n"
     ]
    },
    {
     "name": "stderr",
     "output_type": "stream",
     "text": [
      "ORG: No price data found, symbol may be delisted (period=3mo)\n"
     ]
    },
    {
     "name": "stdout",
     "output_type": "stream",
     "text": [
      "symbol=%s, val=%s ORG nan\n",
      "symbol=%s, val=%s ORI 19.136833155424732\n"
     ]
    },
    {
     "name": "stderr",
     "output_type": "stream",
     "text": [
      "ORM: No data found, symbol may be delisted\n"
     ]
    },
    {
     "name": "stdout",
     "output_type": "stream",
     "text": [
      "symbol=%s, val=%s ORM nan\n",
      "symbol=%s, val=%s ORN 52.087475441228406\n"
     ]
    },
    {
     "name": "stderr",
     "output_type": "stream",
     "text": [
      "ORR: No price data found, symbol may be delisted (period=3mo)\n"
     ]
    },
    {
     "name": "stdout",
     "output_type": "stream",
     "text": [
      "symbol=%s, val=%s ORR nan\n"
     ]
    },
    {
     "name": "stderr",
     "output_type": "stream",
     "text": [
      "OSL: Period '3mo' is invalid, must be one of ['1d', '5d']\n"
     ]
    },
    {
     "name": "stdout",
     "output_type": "stream",
     "text": [
      "symbol=%s, val=%s OSL nan\n"
     ]
    },
    {
     "name": "stderr",
     "output_type": "stream",
     "text": [
      "OSM: No price data found, symbol may be delisted (period=3mo)\n"
     ]
    },
    {
     "name": "stdout",
     "output_type": "stream",
     "text": [
      "symbol=%s, val=%s OSM nan\n"
     ]
    },
    {
     "name": "stderr",
     "output_type": "stream",
     "text": [
      "OSX: No price data found, symbol may be delisted (period=3mo)\n"
     ]
    },
    {
     "name": "stdout",
     "output_type": "stream",
     "text": [
      "symbol=%s, val=%s OSX nan\n"
     ]
    },
    {
     "name": "stderr",
     "output_type": "stream",
     "text": [
      "OXT: Period '3mo' is invalid, must be one of ['1d', '5d']\n"
     ]
    },
    {
     "name": "stdout",
     "output_type": "stream",
     "text": [
      "symbol=%s, val=%s OXT nan\n"
     ]
    },
    {
     "name": "stderr",
     "output_type": "stream",
     "text": [
      "OZM: No data found, symbol may be delisted\n"
     ]
    },
    {
     "name": "stdout",
     "output_type": "stream",
     "text": [
      "symbol=%s, val=%s OZM nan\n"
     ]
    },
    {
     "name": "stderr",
     "output_type": "stream",
     "text": [
      "OZZ: No price data found, symbol may be delisted (period=3mo)\n"
     ]
    },
    {
     "name": "stdout",
     "output_type": "stream",
     "text": [
      "symbol=%s, val=%s OZZ nan\n",
      "symbol=%s, val=%s PAA 15.93548559373425\n",
      "symbol=%s, val=%s PAB 3.3032103785168583\n",
      "symbol=%s, val=%s PAC 12.79873777089471\n",
      "symbol=%s, val=%s PAI 5.004165464962768\n",
      "symbol=%s, val=%s PAM 23.611396272996277\n"
     ]
    },
    {
     "name": "stderr",
     "output_type": "stream",
     "text": [
      "PAN: No price data found, symbol may be delisted (period=3mo)\n"
     ]
    },
    {
     "name": "stdout",
     "output_type": "stream",
     "text": [
      "symbol=%s, val=%s PAN nan\n",
      "symbol=%s, val=%s PAR 32.59704142132851\n"
     ]
    },
    {
     "name": "stderr",
     "output_type": "stream",
     "text": [
      "PAT: No price data found, symbol may be delisted (period=3mo)\n"
     ]
    },
    {
     "name": "stdout",
     "output_type": "stream",
     "text": [
      "symbol=%s, val=%s PAT nan\n",
      "symbol=%s, val=%s PBH 17.931136199829133\n",
      "symbol=%s, val=%s PBL 4.12698421639092\n",
      "symbol=%s, val=%s PBP 3.8856585779407924\n",
      "symbol=%s, val=%s PCG 11.379877042600981\n"
     ]
    },
    {
     "name": "stderr",
     "output_type": "stream",
     "text": [
      "PCI: No data found, symbol may be delisted\n"
     ]
    },
    {
     "name": "stdout",
     "output_type": "stream",
     "text": [
      "symbol=%s, val=%s PCI nan\n",
      "symbol=%s, val=%s PCK 9.73597620724193\n"
     ]
    },
    {
     "name": "stderr",
     "output_type": "stream",
     "text": [
      "PCL: No price data found, symbol may be delisted (period=3mo)\n"
     ]
    },
    {
     "name": "stdout",
     "output_type": "stream",
     "text": [
      "symbol=%s, val=%s PCL nan\n",
      "symbol=%s, val=%s PDI 9.872114952150426\n",
      "symbol=%s, val=%s PDN 7.151658093984785\n"
     ]
    },
    {
     "name": "stderr",
     "output_type": "stream",
     "text": [
      "PE1: No data found, symbol may be delisted\n"
     ]
    },
    {
     "name": "stdout",
     "output_type": "stream",
     "text": [
      "symbol=%s, val=%s PE1 nan\n",
      "symbol=%s, val=%s PEB 20.597583378298907\n"
     ]
    },
    {
     "name": "stderr",
     "output_type": "stream",
     "text": [
      "PEC: No price data found, symbol may be delisted (period=3mo)\n"
     ]
    },
    {
     "name": "stdout",
     "output_type": "stream",
     "text": [
      "symbol=%s, val=%s PEC nan\n",
      "symbol=%s, val=%s PEK 12.176055736321716\n",
      "symbol=%s, val=%s PEN 30.263577442147938\n",
      "symbol=%s, val=%s PET 30.188680857939783\n",
      "symbol=%s, val=%s PEX 7.289137175973338\n",
      "symbol=%s, val=%s PFE 16.918499373461707\n",
      "symbol=%s, val=%s PFG 15.688125859320817\n"
     ]
    },
    {
     "name": "stderr",
     "output_type": "stream",
     "text": [
      "PFP: No price data found, symbol may be delisted (period=3mo)\n"
     ]
    },
    {
     "name": "stdout",
     "output_type": "stream",
     "text": [
      "symbol=%s, val=%s PFP nan\n"
     ]
    },
    {
     "name": "stderr",
     "output_type": "stream",
     "text": [
      "PFT: No price data found, symbol may be delisted (period=3mo)\n"
     ]
    },
    {
     "name": "stdout",
     "output_type": "stream",
     "text": [
      "symbol=%s, val=%s PFT nan\n",
      "symbol=%s, val=%s PGC 17.561132825785172\n"
     ]
    },
    {
     "name": "stderr",
     "output_type": "stream",
     "text": [
      "PGD: No price data found, symbol may be delisted (period=3mo)\n"
     ]
    },
    {
     "name": "stdout",
     "output_type": "stream",
     "text": [
      "symbol=%s, val=%s PGD nan\n",
      "symbol=%s, val=%s PGF 4.532972404294757\n"
     ]
    },
    {
     "name": "stderr",
     "output_type": "stream",
     "text": [
      "PGG: Period '3mo' is invalid, must be one of ['1d', '5d']\n"
     ]
    },
    {
     "name": "stdout",
     "output_type": "stream",
     "text": [
      "symbol=%s, val=%s PGG nan\n"
     ]
    },
    {
     "name": "stderr",
     "output_type": "stream",
     "text": [
      "PGH: No price data found, symbol may be delisted (period=3mo)\n"
     ]
    },
    {
     "name": "stdout",
     "output_type": "stream",
     "text": [
      "symbol=%s, val=%s PGH nan\n"
     ]
    },
    {
     "name": "stderr",
     "output_type": "stream",
     "text": [
      "PGL: No price data found, symbol may be delisted (period=3mo)\n"
     ]
    },
    {
     "name": "stdout",
     "output_type": "stream",
     "text": [
      "symbol=%s, val=%s PGL nan\n",
      "symbol=%s, val=%s PGM 0.0\n"
     ]
    },
    {
     "name": "stderr",
     "output_type": "stream",
     "text": [
      "PGO: No price data found, symbol may be delisted (period=3mo)\n"
     ]
    },
    {
     "name": "stdout",
     "output_type": "stream",
     "text": [
      "symbol=%s, val=%s PGO nan\n",
      "symbol=%s, val=%s PGY 60.77738359612734\n"
     ]
    },
    {
     "name": "stderr",
     "output_type": "stream",
     "text": [
      "PH2: No data found, symbol may be delisted\n"
     ]
    },
    {
     "name": "stdout",
     "output_type": "stream",
     "text": [
      "symbol=%s, val=%s PH2 nan\n"
     ]
    },
    {
     "name": "stderr",
     "output_type": "stream",
     "text": [
      "PHL: No price data found, symbol may be delisted (period=3mo)\n"
     ]
    },
    {
     "name": "stdout",
     "output_type": "stream",
     "text": [
      "symbol=%s, val=%s PHL nan\n",
      "symbol=%s, val=%s PHO 6.672372070098797\n"
     ]
    },
    {
     "name": "stderr",
     "output_type": "stream",
     "text": [
      "PIA: No price data found, symbol may be delisted (period=3mo)\n"
     ]
    },
    {
     "name": "stdout",
     "output_type": "stream",
     "text": [
      "symbol=%s, val=%s PIA nan\n"
     ]
    },
    {
     "name": "stderr",
     "output_type": "stream",
     "text": [
      "PIC: No data found, symbol may be delisted\n"
     ]
    },
    {
     "name": "stdout",
     "output_type": "stream",
     "text": [
      "symbol=%s, val=%s PIC nan\n"
     ]
    },
    {
     "name": "stderr",
     "output_type": "stream",
     "text": [
      "PIL: No price data found, symbol may be delisted (period=3mo)\n"
     ]
    },
    {
     "name": "stdout",
     "output_type": "stream",
     "text": [
      "symbol=%s, val=%s PIL nan\n",
      "symbol=%s, val=%s PIM 4.615387549767128\n"
     ]
    },
    {
     "name": "stderr",
     "output_type": "stream",
     "text": [
      "PIQ: Period '3mo' is invalid, must be one of ['1d', '5d']\n"
     ]
    },
    {
     "name": "stdout",
     "output_type": "stream",
     "text": [
      "symbol=%s, val=%s PIQ nan\n"
     ]
    },
    {
     "name": "stderr",
     "output_type": "stream",
     "text": [
      "PKD: No data found, symbol may be delisted\n"
     ]
    },
    {
     "name": "stdout",
     "output_type": "stream",
     "text": [
      "symbol=%s, val=%s PKD nan\n"
     ]
    },
    {
     "name": "stderr",
     "output_type": "stream",
     "text": [
      "PKO: No data found, symbol may be delisted\n"
     ]
    },
    {
     "name": "stdout",
     "output_type": "stream",
     "text": [
      "symbol=%s, val=%s PKO nan\n"
     ]
    },
    {
     "name": "stderr",
     "output_type": "stream",
     "text": [
      "PL3: No data found, symbol may be delisted\n"
     ]
    },
    {
     "name": "stdout",
     "output_type": "stream",
     "text": [
      "symbol=%s, val=%s PL3 nan\n"
     ]
    },
    {
     "name": "stderr",
     "output_type": "stream",
     "text": [
      "PL8: No data found, symbol may be delisted\n"
     ]
    },
    {
     "name": "stdout",
     "output_type": "stream",
     "text": [
      "symbol=%s, val=%s PL8 nan\n",
      "symbol=%s, val=%s PLG 19.0476167306261\n",
      "symbol=%s, val=%s PLL 35.684260915064044\n"
     ]
    },
    {
     "name": "stderr",
     "output_type": "stream",
     "text": [
      "PLS: No price data found, symbol may be delisted (period=3mo)\n"
     ]
    },
    {
     "name": "stdout",
     "output_type": "stream",
     "text": [
      "symbol=%s, val=%s PLS nan\n"
     ]
    },
    {
     "name": "stderr",
     "output_type": "stream",
     "text": [
      "PLT: No data found, symbol may be delisted\n"
     ]
    },
    {
     "name": "stdout",
     "output_type": "stream",
     "text": [
      "symbol=%s, val=%s PLT nan\n"
     ]
    },
    {
     "name": "stderr",
     "output_type": "stream",
     "text": [
      "PLY: No price data found, symbol may be delisted (period=3mo)\n"
     ]
    },
    {
     "name": "stdout",
     "output_type": "stream",
     "text": [
      "symbol=%s, val=%s PLY nan\n"
     ]
    },
    {
     "name": "stderr",
     "output_type": "stream",
     "text": [
      "PMC: No price data found, symbol may be delisted (period=3mo)\n"
     ]
    },
    {
     "name": "stdout",
     "output_type": "stream",
     "text": [
      "symbol=%s, val=%s PMC nan\n"
     ]
    },
    {
     "name": "stderr",
     "output_type": "stream",
     "text": [
      "PME: No data found, symbol may be delisted\n"
     ]
    },
    {
     "name": "stdout",
     "output_type": "stream",
     "text": [
      "symbol=%s, val=%s PME nan\n",
      "symbol=%s, val=%s PMT 15.969841667841056\n"
     ]
    },
    {
     "name": "stderr",
     "output_type": "stream",
     "text": [
      "PMV: No price data found, symbol may be delisted (period=3mo)\n"
     ]
    },
    {
     "name": "stdout",
     "output_type": "stream",
     "text": [
      "symbol=%s, val=%s PMV nan\n",
      "symbol=%s, val=%s PNC 16.172297197736484\n",
      "symbol=%s, val=%s PNI 9.431518912446535\n",
      "symbol=%s, val=%s PNM 6.545457482975435\n"
     ]
    },
    {
     "name": "stderr",
     "output_type": "stream",
     "text": [
      "PNN: No price data found, symbol may be delisted (period=3mo)\n"
     ]
    },
    {
     "name": "stdout",
     "output_type": "stream",
     "text": [
      "symbol=%s, val=%s PNN nan\n",
      "symbol=%s, val=%s PNR 17.153995749337312\n",
      "symbol=%s, val=%s PNT 28.722380547022464\n"
     ]
    },
    {
     "name": "stderr",
     "output_type": "stream",
     "text": [
      "PNV: No price data found, symbol may be delisted (period=3mo)\n"
     ]
    },
    {
     "name": "stdout",
     "output_type": "stream",
     "text": [
      "symbol=%s, val=%s PNV nan\n"
     ]
    },
    {
     "name": "stderr",
     "output_type": "stream",
     "text": [
      "PNX: No price data found, symbol may be delisted (period=3mo)\n"
     ]
    },
    {
     "name": "stdout",
     "output_type": "stream",
     "text": [
      "symbol=%s, val=%s PNX nan\n"
     ]
    },
    {
     "name": "stderr",
     "output_type": "stream",
     "text": [
      "PO3: No data found, symbol may be delisted\n"
     ]
    },
    {
     "name": "stdout",
     "output_type": "stream",
     "text": [
      "symbol=%s, val=%s PO3 nan\n"
     ]
    },
    {
     "name": "stderr",
     "output_type": "stream",
     "text": [
      "POD: Period '3mo' is invalid, must be one of ['1d', '5d']\n"
     ]
    },
    {
     "name": "stdout",
     "output_type": "stream",
     "text": [
      "symbol=%s, val=%s POD nan\n",
      "symbol=%s, val=%s POL 84.85294131826365\n"
     ]
    },
    {
     "name": "stderr",
     "output_type": "stream",
     "text": [
      "POS: No price data found, symbol may be delisted (period=3mo)\n"
     ]
    },
    {
     "name": "stdout",
     "output_type": "stream",
     "text": [
      "symbol=%s, val=%s POS nan\n"
     ]
    },
    {
     "name": "stderr",
     "output_type": "stream",
     "text": [
      "POW: No data found, symbol may be delisted\n"
     ]
    },
    {
     "name": "stdout",
     "output_type": "stream",
     "text": [
      "symbol=%s, val=%s POW nan\n",
      "symbol=%s, val=%s PPC 24.336619713930954\n"
     ]
    },
    {
     "name": "stderr",
     "output_type": "stream",
     "text": [
      "PPE: No price data found, symbol may be delisted (period=3mo)\n"
     ]
    },
    {
     "name": "stdout",
     "output_type": "stream",
     "text": [
      "symbol=%s, val=%s PPE nan\n",
      "symbol=%s, val=%s PPG 11.694685691798808\n"
     ]
    },
    {
     "name": "stderr",
     "output_type": "stream",
     "text": [
      "PPK: No price data found, symbol may be delisted (period=3mo)\n"
     ]
    },
    {
     "name": "stdout",
     "output_type": "stream",
     "text": [
      "symbol=%s, val=%s PPK nan\n",
      "symbol=%s, val=%s PPL 14.497879356155197\n"
     ]
    },
    {
     "name": "stderr",
     "output_type": "stream",
     "text": [
      "PPM: No price data found, symbol may be delisted (period=3mo)\n"
     ]
    },
    {
     "name": "stdout",
     "output_type": "stream",
     "text": [
      "symbol=%s, val=%s PPM nan\n"
     ]
    },
    {
     "name": "stderr",
     "output_type": "stream",
     "text": [
      "PPS: No price data found, symbol may be delisted (period=3mo)\n"
     ]
    },
    {
     "name": "stdout",
     "output_type": "stream",
     "text": [
      "symbol=%s, val=%s PPS nan\n",
      "symbol=%s, val=%s PPT 6.521739271277513\n"
     ]
    },
    {
     "name": "stderr",
     "output_type": "stream",
     "text": [
      "PPY: No price data found, symbol may be delisted (period=3mo)\n"
     ]
    },
    {
     "name": "stdout",
     "output_type": "stream",
     "text": [
      "symbol=%s, val=%s PPY nan\n"
     ]
    },
    {
     "name": "stderr",
     "output_type": "stream",
     "text": [
      "PR1: No data found, symbol may be delisted\n"
     ]
    },
    {
     "name": "stdout",
     "output_type": "stream",
     "text": [
      "symbol=%s, val=%s PR1 nan\n"
     ]
    },
    {
     "name": "stderr",
     "output_type": "stream",
     "text": [
      "PRL: No price data found, symbol may be delisted (period=3mo)\n"
     ]
    },
    {
     "name": "stdout",
     "output_type": "stream",
     "text": [
      "symbol=%s, val=%s PRL nan\n",
      "symbol=%s, val=%s PRM 19.504647390733798\n",
      "symbol=%s, val=%s PRN 8.338669212355894\n",
      "symbol=%s, val=%s PRO 29.183776178311643\n",
      "symbol=%s, val=%s PRS 5.938620016167992\n",
      "symbol=%s, val=%s PRT 31.864905940193694\n",
      "symbol=%s, val=%s PRU 15.32209115180914\n"
     ]
    },
    {
     "name": "stderr",
     "output_type": "stream",
     "text": [
      "PRX: No price data found, symbol may be delisted (period=3mo)\n"
     ]
    },
    {
     "name": "stdout",
     "output_type": "stream",
     "text": [
      "symbol=%s, val=%s PRX nan\n",
      "symbol=%s, val=%s PSC 8.226921352098543\n",
      "symbol=%s, val=%s PSI 12.139445197823209\n",
      "symbol=%s, val=%s PSL 3.4670350259737392\n",
      "symbol=%s, val=%s PSQ 9.099100848392078\n"
     ]
    },
    {
     "name": "stderr",
     "output_type": "stream",
     "text": [
      "PTL: No price data found, symbol may be delisted (period=3mo)\n"
     ]
    },
    {
     "name": "stdout",
     "output_type": "stream",
     "text": [
      "symbol=%s, val=%s PTL nan\n"
     ]
    },
    {
     "name": "stderr",
     "output_type": "stream",
     "text": [
      "PTM: No price data found, symbol may be delisted (period=3mo)\n"
     ]
    },
    {
     "name": "stdout",
     "output_type": "stream",
     "text": [
      "symbol=%s, val=%s PTM nan\n"
     ]
    },
    {
     "name": "stderr",
     "output_type": "stream",
     "text": [
      "PTR: No data found, symbol may be delisted\n"
     ]
    },
    {
     "name": "stdout",
     "output_type": "stream",
     "text": [
      "symbol=%s, val=%s PTR nan\n"
     ]
    },
    {
     "name": "stderr",
     "output_type": "stream",
     "text": [
      "PTX: No data found, symbol may be delisted\n"
     ]
    },
    {
     "name": "stdout",
     "output_type": "stream",
     "text": [
      "symbol=%s, val=%s PTX nan\n"
     ]
    },
    {
     "name": "stderr",
     "output_type": "stream",
     "text": [
      "PUA: No price data found, symbol may be delisted (period=3mo)\n"
     ]
    },
    {
     "name": "stdout",
     "output_type": "stream",
     "text": [
      "symbol=%s, val=%s PUA nan\n"
     ]
    },
    {
     "name": "stderr",
     "output_type": "stream",
     "text": [
      "PUR: No price data found, symbol may be delisted (period=3mo)\n"
     ]
    },
    {
     "name": "stdout",
     "output_type": "stream",
     "text": [
      "symbol=%s, val=%s PUR nan\n"
     ]
    },
    {
     "name": "stderr",
     "output_type": "stream",
     "text": [
      "PV1: No data found, symbol may be delisted\n"
     ]
    },
    {
     "name": "stdout",
     "output_type": "stream",
     "text": [
      "symbol=%s, val=%s PV1 nan\n"
     ]
    },
    {
     "name": "stderr",
     "output_type": "stream",
     "text": [
      "PVE: No price data found, symbol may be delisted (period=3mo)\n"
     ]
    },
    {
     "name": "stdout",
     "output_type": "stream",
     "text": [
      "symbol=%s, val=%s PVE nan\n",
      "symbol=%s, val=%s PVL 26.582282587725775\n"
     ]
    },
    {
     "name": "stderr",
     "output_type": "stream",
     "text": [
      "PVS: No price data found, symbol may be delisted (period=3mo)\n"
     ]
    },
    {
     "name": "stdout",
     "output_type": "stream",
     "text": [
      "symbol=%s, val=%s PVS nan\n"
     ]
    },
    {
     "name": "stderr",
     "output_type": "stream",
     "text": [
      "PVT: No data found, symbol may be delisted\n"
     ]
    },
    {
     "name": "stdout",
     "output_type": "stream",
     "text": [
      "symbol=%s, val=%s PVT nan\n"
     ]
    },
    {
     "name": "stderr",
     "output_type": "stream",
     "text": [
      "PVW: Period '3mo' is invalid, must be one of ['1d', '5d']\n"
     ]
    },
    {
     "name": "stdout",
     "output_type": "stream",
     "text": [
      "symbol=%s, val=%s PVW nan\n"
     ]
    },
    {
     "name": "stderr",
     "output_type": "stream",
     "text": [
      "PWH: No price data found, symbol may be delisted (period=3mo)\n"
     ]
    },
    {
     "name": "stdout",
     "output_type": "stream",
     "text": [
      "symbol=%s, val=%s PWH nan\n"
     ]
    },
    {
     "name": "stderr",
     "output_type": "stream",
     "text": [
      "PWN: No price data found, symbol may be delisted (period=3mo)\n"
     ]
    },
    {
     "name": "stdout",
     "output_type": "stream",
     "text": [
      "symbol=%s, val=%s PWN nan\n",
      "symbol=%s, val=%s PWR 13.734616098287189\n"
     ]
    },
    {
     "name": "stderr",
     "output_type": "stream",
     "text": [
      "PXA: No price data found, symbol may be delisted (period=3mo)\n"
     ]
    },
    {
     "name": "stdout",
     "output_type": "stream",
     "text": [
      "symbol=%s, val=%s PXA nan\n",
      "symbol=%s, val=%s PXS 19.753090198983546\n"
     ]
    },
    {
     "name": "stderr",
     "output_type": "stream",
     "text": [
      "PXX: No price data found, symbol may be delisted (period=3mo)\n"
     ]
    },
    {
     "name": "stdout",
     "output_type": "stream",
     "text": [
      "symbol=%s, val=%s PXX nan\n"
     ]
    },
    {
     "name": "stderr",
     "output_type": "stream",
     "text": [
      "PXXN: No data found, symbol may be delisted\n"
     ]
    },
    {
     "name": "stdout",
     "output_type": "stream",
     "text": [
      "symbol=%s, val=%s PXXN nan\n"
     ]
    },
    {
     "name": "stderr",
     "output_type": "stream",
     "text": [
      "PYC: No price data found, symbol may be delisted (period=3mo)\n"
     ]
    },
    {
     "name": "stdout",
     "output_type": "stream",
     "text": [
      "symbol=%s, val=%s PYC nan\n"
     ]
    },
    {
     "name": "stderr",
     "output_type": "stream",
     "text": [
      "QAL: Period '3mo' is invalid, must be one of ['1d', '5d']\n"
     ]
    },
    {
     "name": "stdout",
     "output_type": "stream",
     "text": [
      "symbol=%s, val=%s QAL nan\n"
     ]
    },
    {
     "name": "stderr",
     "output_type": "stream",
     "text": [
      "QAN: No price data found, symbol may be delisted (period=3mo)\n"
     ]
    },
    {
     "name": "stdout",
     "output_type": "stream",
     "text": [
      "symbol=%s, val=%s QAN nan\n"
     ]
    },
    {
     "name": "stderr",
     "output_type": "stream",
     "text": [
      "QBE: No price data found, symbol may be delisted (period=3mo)\n"
     ]
    },
    {
     "name": "stdout",
     "output_type": "stream",
     "text": [
      "symbol=%s, val=%s QBE nan\n"
     ]
    },
    {
     "name": "stderr",
     "output_type": "stream",
     "text": [
      "QEM: No price data found, symbol may be delisted (period=3mo)\n"
     ]
    },
    {
     "name": "stdout",
     "output_type": "stream",
     "text": [
      "symbol=%s, val=%s QEM nan\n"
     ]
    },
    {
     "name": "stderr",
     "output_type": "stream",
     "text": [
      "QFE: Period '3mo' is invalid, must be one of ['1d', '5d']\n"
     ]
    },
    {
     "name": "stdout",
     "output_type": "stream",
     "text": [
      "symbol=%s, val=%s QFE nan\n"
     ]
    },
    {
     "name": "stderr",
     "output_type": "stream",
     "text": [
      "QGL: No price data found, symbol may be delisted (period=3mo)\n"
     ]
    },
    {
     "name": "stdout",
     "output_type": "stream",
     "text": [
      "symbol=%s, val=%s QGL nan\n"
     ]
    },
    {
     "name": "stderr",
     "output_type": "stream",
     "text": [
      "QHL: No price data found, symbol may be delisted (period=3mo)\n"
     ]
    },
    {
     "name": "stdout",
     "output_type": "stream",
     "text": [
      "symbol=%s, val=%s QHL nan\n"
     ]
    },
    {
     "name": "stderr",
     "output_type": "stream",
     "text": [
      "QIP: No price data found, symbol may be delisted (period=3mo)\n"
     ]
    },
    {
     "name": "stdout",
     "output_type": "stream",
     "text": [
      "symbol=%s, val=%s QIP nan\n"
     ]
    },
    {
     "name": "stderr",
     "output_type": "stream",
     "text": [
      "QML: Period '3mo' is invalid, must be one of ['1d', '5d']\n"
     ]
    },
    {
     "name": "stdout",
     "output_type": "stream",
     "text": [
      "symbol=%s, val=%s QML nan\n"
     ]
    },
    {
     "name": "stderr",
     "output_type": "stream",
     "text": [
      "QOR: Period '3mo' is invalid, must be one of ['1d', '5d']\n"
     ]
    },
    {
     "name": "stdout",
     "output_type": "stream",
     "text": [
      "symbol=%s, val=%s QOR nan\n"
     ]
    },
    {
     "name": "stderr",
     "output_type": "stream",
     "text": [
      "QPM: Period '3mo' is invalid, must be one of ['1d', '5d']\n"
     ]
    },
    {
     "name": "stdout",
     "output_type": "stream",
     "text": [
      "symbol=%s, val=%s QPM nan\n"
     ]
    },
    {
     "name": "stderr",
     "output_type": "stream",
     "text": [
      "QRI: Period '3mo' is invalid, must be one of ['1d', '5d']\n"
     ]
    },
    {
     "name": "stdout",
     "output_type": "stream",
     "text": [
      "symbol=%s, val=%s QRI nan\n"
     ]
    },
    {
     "name": "stderr",
     "output_type": "stream",
     "text": [
      "QUB: No price data found, symbol may be delisted (period=3mo)\n"
     ]
    },
    {
     "name": "stdout",
     "output_type": "stream",
     "text": [
      "symbol=%s, val=%s QUB nan\n"
     ]
    },
    {
     "name": "stderr",
     "output_type": "stream",
     "text": [
      "QUE: No price data found, symbol may be delisted (period=3mo)\n"
     ]
    },
    {
     "name": "stdout",
     "output_type": "stream",
     "text": [
      "symbol=%s, val=%s QUE nan\n"
     ]
    },
    {
     "name": "stderr",
     "output_type": "stream",
     "text": [
      "QVE: No price data found, symbol may be delisted (period=3mo)\n"
     ]
    },
    {
     "name": "stdout",
     "output_type": "stream",
     "text": [
      "symbol=%s, val=%s QVE nan\n"
     ]
    },
    {
     "name": "stderr",
     "output_type": "stream",
     "text": [
      "QXR: Period '3mo' is invalid, must be one of ['1d', '5d']\n"
     ]
    },
    {
     "name": "stdout",
     "output_type": "stream",
     "text": [
      "symbol=%s, val=%s QXR nan\n"
     ]
    },
    {
     "name": "stderr",
     "output_type": "stream",
     "text": [
      "R3D: No data found, symbol may be delisted\n"
     ]
    },
    {
     "name": "stdout",
     "output_type": "stream",
     "text": [
      "symbol=%s, val=%s R3D nan\n"
     ]
    },
    {
     "name": "stderr",
     "output_type": "stream",
     "text": [
      "R8R: No data found, symbol may be delisted\n"
     ]
    },
    {
     "name": "stdout",
     "output_type": "stream",
     "text": [
      "symbol=%s, val=%s R8R nan\n"
     ]
    },
    {
     "name": "stderr",
     "output_type": "stream",
     "text": [
      "RAC: No price data found, symbol may be delisted (period=3mo)\n"
     ]
    },
    {
     "name": "stdout",
     "output_type": "stream",
     "text": [
      "symbol=%s, val=%s RAC nan\n",
      "symbol=%s, val=%s RAD 80.69620260327429\n"
     ]
    },
    {
     "name": "stderr",
     "output_type": "stream",
     "text": [
      "RAG: No price data found, symbol may be delisted (period=3mo)\n"
     ]
    },
    {
     "name": "stdout",
     "output_type": "stream",
     "text": [
      "symbol=%s, val=%s RAG nan\n"
     ]
    },
    {
     "name": "stderr",
     "output_type": "stream",
     "text": [
      "RAN: No price data found, symbol may be delisted (period=3mo)\n"
     ]
    },
    {
     "name": "stdout",
     "output_type": "stream",
     "text": [
      "symbol=%s, val=%s RAN nan\n"
     ]
    },
    {
     "name": "stderr",
     "output_type": "stream",
     "text": [
      "RAS: No price data found, symbol may be delisted (period=3mo)\n"
     ]
    },
    {
     "name": "stdout",
     "output_type": "stream",
     "text": [
      "symbol=%s, val=%s RAS nan\n"
     ]
    },
    {
     "name": "stderr",
     "output_type": "stream",
     "text": [
      "RB6: No data found, symbol may be delisted\n"
     ]
    },
    {
     "name": "stdout",
     "output_type": "stream",
     "text": [
      "symbol=%s, val=%s RB6 nan\n"
     ]
    },
    {
     "name": "stderr",
     "output_type": "stream",
     "text": [
      "RBD: No price data found, symbol may be delisted (period=3mo)\n"
     ]
    },
    {
     "name": "stdout",
     "output_type": "stream",
     "text": [
      "symbol=%s, val=%s RBD nan\n"
     ]
    },
    {
     "name": "stderr",
     "output_type": "stream",
     "text": [
      "RBL: No price data found, symbol may be delisted (period=3mo)\n"
     ]
    },
    {
     "name": "stdout",
     "output_type": "stream",
     "text": [
      "symbol=%s, val=%s RBL nan\n"
     ]
    },
    {
     "name": "stderr",
     "output_type": "stream",
     "text": [
      "RBR: No price data found, symbol may be delisted (period=3mo)\n"
     ]
    },
    {
     "name": "stdout",
     "output_type": "stream",
     "text": [
      "symbol=%s, val=%s RBR nan\n"
     ]
    },
    {
     "name": "stderr",
     "output_type": "stream",
     "text": [
      "RBX: No price data found, symbol may be delisted (period=3mo)\n"
     ]
    },
    {
     "name": "stdout",
     "output_type": "stream",
     "text": [
      "symbol=%s, val=%s RBX nan\n"
     ]
    },
    {
     "name": "stderr",
     "output_type": "stream",
     "text": [
      "RC1: No data found, symbol may be delisted\n"
     ]
    },
    {
     "name": "stdout",
     "output_type": "stream",
     "text": [
      "symbol=%s, val=%s RC1 nan\n"
     ]
    },
    {
     "name": "stderr",
     "output_type": "stream",
     "text": [
      "RCE: No price data found, symbol may be delisted (period=3mo)\n"
     ]
    },
    {
     "name": "stdout",
     "output_type": "stream",
     "text": [
      "symbol=%s, val=%s RCE nan\n",
      "symbol=%s, val=%s RCL 18.016820738336282\n"
     ]
    },
    {
     "name": "stderr",
     "output_type": "stream",
     "text": [
      "RCR: No price data found, symbol may be delisted (period=3mo)\n"
     ]
    },
    {
     "name": "stdout",
     "output_type": "stream",
     "text": [
      "symbol=%s, val=%s RCR nan\n"
     ]
    },
    {
     "name": "stderr",
     "output_type": "stream",
     "text": [
      "RCT: No price data found, symbol may be delisted (period=3mo)\n"
     ]
    },
    {
     "name": "stdout",
     "output_type": "stream",
     "text": [
      "symbol=%s, val=%s RCT nan\n"
     ]
    },
    {
     "name": "stderr",
     "output_type": "stream",
     "text": [
      "RCW: No price data found, symbol may be delisted (period=3mo)\n"
     ]
    },
    {
     "name": "stdout",
     "output_type": "stream",
     "text": [
      "symbol=%s, val=%s RCW nan\n"
     ]
    },
    {
     "name": "stderr",
     "output_type": "stream",
     "text": [
      "RDG: No price data found, symbol may be delisted (period=3mo)\n"
     ]
    },
    {
     "name": "stdout",
     "output_type": "stream",
     "text": [
      "symbol=%s, val=%s RDG nan\n"
     ]
    },
    {
     "name": "stderr",
     "output_type": "stream",
     "text": [
      "RDM: No price data found, symbol may be delisted (period=3mo)\n"
     ]
    },
    {
     "name": "stdout",
     "output_type": "stream",
     "text": [
      "symbol=%s, val=%s RDM nan\n",
      "symbol=%s, val=%s RDN 13.871196194427801\n"
     ]
    },
    {
     "name": "stderr",
     "output_type": "stream",
     "text": [
      "RDS: No price data found, symbol may be delisted (period=3mo)\n"
     ]
    },
    {
     "name": "stdout",
     "output_type": "stream",
     "text": [
      "symbol=%s, val=%s RDS nan\n"
     ]
    },
    {
     "name": "stderr",
     "output_type": "stream",
     "text": [
      "RDX: No price data found, symbol may be delisted (period=3mo)\n"
     ]
    },
    {
     "name": "stdout",
     "output_type": "stream",
     "text": [
      "symbol=%s, val=%s RDX nan\n",
      "symbol=%s, val=%s RDY 21.552544810311996\n"
     ]
    },
    {
     "name": "stderr",
     "output_type": "stream",
     "text": [
      "REA: No price data found, symbol may be delisted (period=3mo)\n"
     ]
    },
    {
     "name": "stdout",
     "output_type": "stream",
     "text": [
      "symbol=%s, val=%s REA nan\n"
     ]
    },
    {
     "name": "stderr",
     "output_type": "stream",
     "text": [
      "REC: No price data found, symbol may be delisted (period=3mo)\n"
     ]
    },
    {
     "name": "stdout",
     "output_type": "stream",
     "text": [
      "symbol=%s, val=%s REC nan\n"
     ]
    },
    {
     "name": "stderr",
     "output_type": "stream",
     "text": [
      "RED: No price data found, symbol may be delisted (period=3mo)\n"
     ]
    },
    {
     "name": "stdout",
     "output_type": "stream",
     "text": [
      "symbol=%s, val=%s RED nan\n",
      "symbol=%s, val=%s REE 69.28104460583148\n",
      "symbol=%s, val=%s REG 13.616642285635482\n"
     ]
    },
    {
     "name": "stderr",
     "output_type": "stream",
     "text": [
      "REH: No price data found, symbol may be delisted (period=3mo)\n"
     ]
    },
    {
     "name": "stdout",
     "output_type": "stream",
     "text": [
      "symbol=%s, val=%s REH nan\n",
      "symbol=%s, val=%s REM 11.521651210726862\n"
     ]
    },
    {
     "name": "stderr",
     "output_type": "stream",
     "text": [
      "REP: No price data found, symbol may be delisted (period=3mo)\n"
     ]
    },
    {
     "name": "stdout",
     "output_type": "stream",
     "text": [
      "symbol=%s, val=%s REP nan\n",
      "symbol=%s, val=%s REX 22.099448779466428\n"
     ]
    },
    {
     "name": "stderr",
     "output_type": "stream",
     "text": [
      "REY: No price data found, symbol may be delisted (period=3mo)\n"
     ]
    },
    {
     "name": "stdout",
     "output_type": "stream",
     "text": [
      "symbol=%s, val=%s REY nan\n",
      "symbol=%s, val=%s REZ 10.125748098447778\n"
     ]
    },
    {
     "name": "stderr",
     "output_type": "stream",
     "text": [
      "RF1: No data found, symbol may be delisted\n"
     ]
    },
    {
     "name": "stdout",
     "output_type": "stream",
     "text": [
      "symbol=%s, val=%s RF1 nan\n"
     ]
    },
    {
     "name": "stderr",
     "output_type": "stream",
     "text": [
      "RFA: No price data found, symbol may be delisted (period=3mo)\n"
     ]
    },
    {
     "name": "stdout",
     "output_type": "stream",
     "text": [
      "symbol=%s, val=%s RFA nan\n"
     ]
    },
    {
     "name": "stderr",
     "output_type": "stream",
     "text": [
      "RFF: Period '3mo' is invalid, must be one of ['1d', '5d']\n"
     ]
    },
    {
     "name": "stdout",
     "output_type": "stream",
     "text": [
      "symbol=%s, val=%s RFF nan\n",
      "symbol=%s, val=%s RFG 9.199811781142577\n"
     ]
    },
    {
     "name": "stderr",
     "output_type": "stream",
     "text": [
      "RFT: No data found, symbol may be delisted\n"
     ]
    },
    {
     "name": "stdout",
     "output_type": "stream",
     "text": [
      "symbol=%s, val=%s RFT nan\n"
     ]
    },
    {
     "name": "stderr",
     "output_type": "stream",
     "text": [
      "RFX: No price data found, symbol may be delisted (period=3mo)\n"
     ]
    },
    {
     "name": "stdout",
     "output_type": "stream",
     "text": [
      "symbol=%s, val=%s RFX nan\n"
     ]
    },
    {
     "name": "stderr",
     "output_type": "stream",
     "text": [
      "RG8: No data found, symbol may be delisted\n"
     ]
    },
    {
     "name": "stdout",
     "output_type": "stream",
     "text": [
      "symbol=%s, val=%s RG8 nan\n",
      "symbol=%s, val=%s RGI 81.1077250328077\n"
     ]
    },
    {
     "name": "stderr",
     "output_type": "stream",
     "text": [
      "RGL: No price data found, symbol may be delisted (period=3mo)\n"
     ]
    },
    {
     "name": "stdout",
     "output_type": "stream",
     "text": [
      "symbol=%s, val=%s RGL nan\n"
     ]
    },
    {
     "name": "stderr",
     "output_type": "stream",
     "text": [
      "RGN: No price data found, symbol may be delisted (period=3mo)\n"
     ]
    },
    {
     "name": "stdout",
     "output_type": "stream",
     "text": [
      "symbol=%s, val=%s RGN nan\n",
      "symbol=%s, val=%s RGS 32.85714188400578\n"
     ]
    },
    {
     "name": "stderr",
     "output_type": "stream",
     "text": [
      "RHC: No price data found, symbol may be delisted (period=3mo)\n"
     ]
    },
    {
     "name": "stdout",
     "output_type": "stream",
     "text": [
      "symbol=%s, val=%s RHC nan\n",
      "symbol=%s, val=%s RHI 17.513259726084502\n"
     ]
    },
    {
     "name": "stderr",
     "output_type": "stream",
     "text": [
      "RHK: No price data found, symbol may be delisted (period=3mo)\n"
     ]
    },
    {
     "name": "stdout",
     "output_type": "stream",
     "text": [
      "symbol=%s, val=%s RHK nan\n"
     ]
    },
    {
     "name": "stderr",
     "output_type": "stream",
     "text": [
      "RHT: No data found, symbol may be delisted\n"
     ]
    },
    {
     "name": "stdout",
     "output_type": "stream",
     "text": [
      "symbol=%s, val=%s RHT nan\n"
     ]
    },
    {
     "name": "stderr",
     "output_type": "stream",
     "text": [
      "RHY: No price data found, symbol may be delisted (period=3mo)\n"
     ]
    },
    {
     "name": "stdout",
     "output_type": "stream",
     "text": [
      "symbol=%s, val=%s RHY nan\n"
     ]
    },
    {
     "name": "stderr",
     "output_type": "stream",
     "text": [
      "RIC: No price data found, symbol may be delisted (period=3mo)\n"
     ]
    },
    {
     "name": "stdout",
     "output_type": "stream",
     "text": [
      "symbol=%s, val=%s RIC nan\n"
     ]
    },
    {
     "name": "stderr",
     "output_type": "stream",
     "text": [
      "RIE: No price data found, symbol may be delisted (period=3mo)\n"
     ]
    },
    {
     "name": "stdout",
     "output_type": "stream",
     "text": [
      "symbol=%s, val=%s RIE nan\n"
     ]
    },
    {
     "name": "stderr",
     "output_type": "stream",
     "text": [
      "RIM: No price data found, symbol may be delisted (period=3mo)\n"
     ]
    },
    {
     "name": "stdout",
     "output_type": "stream",
     "text": [
      "symbol=%s, val=%s RIM nan\n",
      "symbol=%s, val=%s RIO 17.006122749472567\n"
     ]
    },
    {
     "name": "stderr",
     "output_type": "stream",
     "text": [
      "RKN: No price data found, symbol may be delisted (period=3mo)\n"
     ]
    },
    {
     "name": "stdout",
     "output_type": "stream",
     "text": [
      "symbol=%s, val=%s RKN nan\n",
      "symbol=%s, val=%s RKT 29.80326125487416\n"
     ]
    },
    {
     "name": "stderr",
     "output_type": "stream",
     "text": [
      "RLC: No price data found, symbol may be delisted (period=3mo)\n"
     ]
    },
    {
     "name": "stdout",
     "output_type": "stream",
     "text": [
      "symbol=%s, val=%s RLC nan\n"
     ]
    },
    {
     "name": "stderr",
     "output_type": "stream",
     "text": [
      "RLF: No price data found, symbol may be delisted (period=3mo)\n"
     ]
    },
    {
     "name": "stdout",
     "output_type": "stream",
     "text": [
      "symbol=%s, val=%s RLF nan\n"
     ]
    },
    {
     "name": "stderr",
     "output_type": "stream",
     "text": [
      "RLG: No price data found, symbol may be delisted (period=3mo)\n"
     ]
    },
    {
     "name": "stdout",
     "output_type": "stream",
     "text": [
      "symbol=%s, val=%s RLG nan\n"
     ]
    },
    {
     "name": "stderr",
     "output_type": "stream",
     "text": [
      "RLT: No price data found, symbol may be delisted (period=3mo)\n"
     ]
    },
    {
     "name": "stdout",
     "output_type": "stream",
     "text": [
      "symbol=%s, val=%s RLT nan\n"
     ]
    },
    {
     "name": "stderr",
     "output_type": "stream",
     "text": [
      "RMC: No price data found, symbol may be delisted (period=3mo)\n"
     ]
    },
    {
     "name": "stdout",
     "output_type": "stream",
     "text": [
      "symbol=%s, val=%s RMC nan\n",
      "symbol=%s, val=%s RMD 36.32212824973324\n",
      "symbol=%s, val=%s RMI 10.477838575503826\n"
     ]
    },
    {
     "name": "stderr",
     "output_type": "stream",
     "text": [
      "RMIN: No data found, symbol may be delisted\n"
     ]
    },
    {
     "name": "stdout",
     "output_type": "stream",
     "text": [
      "symbol=%s, val=%s RMIN nan\n"
     ]
    },
    {
     "name": "stderr",
     "output_type": "stream",
     "text": [
      "RML: No price data found, symbol may be delisted (period=3mo)\n"
     ]
    },
    {
     "name": "stdout",
     "output_type": "stream",
     "text": [
      "symbol=%s, val=%s RML nan\n"
     ]
    },
    {
     "name": "stderr",
     "output_type": "stream",
     "text": [
      "RMS: No price data found, symbol may be delisted (period=3mo)\n"
     ]
    },
    {
     "name": "stdout",
     "output_type": "stream",
     "text": [
      "symbol=%s, val=%s RMS nan\n"
     ]
    },
    {
     "name": "stderr",
     "output_type": "stream",
     "text": [
      "RMX: No price data found, symbol may be delisted (period=3mo)\n"
     ]
    },
    {
     "name": "stdout",
     "output_type": "stream",
     "text": [
      "symbol=%s, val=%s RMX nan\n"
     ]
    },
    {
     "name": "stderr",
     "output_type": "stream",
     "text": [
      "RMY: No price data found, symbol may be delisted (period=3mo)\n"
     ]
    },
    {
     "name": "stdout",
     "output_type": "stream",
     "text": [
      "symbol=%s, val=%s RMY nan\n"
     ]
    },
    {
     "name": "stderr",
     "output_type": "stream",
     "text": [
      "RND: No price data found, symbol may be delisted (period=3mo)\n"
     ]
    },
    {
     "name": "stdout",
     "output_type": "stream",
     "text": [
      "symbol=%s, val=%s RND nan\n"
     ]
    },
    {
     "name": "stderr",
     "output_type": "stream",
     "text": [
      "RNE: No price data found, symbol may be delisted (period=3mo)\n"
     ]
    },
    {
     "name": "stdout",
     "output_type": "stream",
     "text": [
      "symbol=%s, val=%s RNE nan\n"
     ]
    },
    {
     "name": "stderr",
     "output_type": "stream",
     "text": [
      "RNO: No price data found, symbol may be delisted (period=3mo)\n"
     ]
    },
    {
     "name": "stdout",
     "output_type": "stream",
     "text": [
      "symbol=%s, val=%s RNO nan\n"
     ]
    },
    {
     "name": "stderr",
     "output_type": "stream",
     "text": [
      "RNT: No price data found, symbol may be delisted (period=3mo)\n"
     ]
    },
    {
     "name": "stdout",
     "output_type": "stream",
     "text": [
      "symbol=%s, val=%s RNT nan\n"
     ]
    },
    {
     "name": "stderr",
     "output_type": "stream",
     "text": [
      "RNU: No price data found, symbol may be delisted (period=3mo)\n"
     ]
    },
    {
     "name": "stdout",
     "output_type": "stream",
     "text": [
      "symbol=%s, val=%s RNU nan\n"
     ]
    },
    {
     "name": "stderr",
     "output_type": "stream",
     "text": [
      "RNX: No price data found, symbol may be delisted (period=3mo)\n"
     ]
    },
    {
     "name": "stdout",
     "output_type": "stream",
     "text": [
      "symbol=%s, val=%s RNX nan\n"
     ]
    },
    {
     "name": "stderr",
     "output_type": "stream",
     "text": [
      "ROC: No data found, symbol may be delisted\n"
     ]
    },
    {
     "name": "stdout",
     "output_type": "stream",
     "text": [
      "symbol=%s, val=%s ROC nan\n",
      "symbol=%s, val=%s ROG 24.682377332679838\n"
     ]
    },
    {
     "name": "stderr",
     "output_type": "stream",
     "text": [
      "RON: No price data found, symbol may be delisted (period=3mo)\n"
     ]
    },
    {
     "name": "stdout",
     "output_type": "stream",
     "text": [
      "symbol=%s, val=%s RON nan\n"
     ]
    },
    {
     "name": "stderr",
     "output_type": "stream",
     "text": [
      "ROO: No price data found, symbol may be delisted (period=3mo)\n"
     ]
    },
    {
     "name": "stdout",
     "output_type": "stream",
     "text": [
      "symbol=%s, val=%s ROO nan\n",
      "symbol=%s, val=%s RPG 7.335008347497585\n"
     ]
    },
    {
     "name": "stderr",
     "output_type": "stream",
     "text": [
      "RPL: No price data found, symbol may be delisted (period=3mo)\n"
     ]
    },
    {
     "name": "stdout",
     "output_type": "stream",
     "text": [
      "symbol=%s, val=%s RPL nan\n",
      "symbol=%s, val=%s RPM 23.6499079748696\n"
     ]
    },
    {
     "name": "stderr",
     "output_type": "stream",
     "text": [
      "RR1: No data found, symbol may be delisted\n"
     ]
    },
    {
     "name": "stdout",
     "output_type": "stream",
     "text": [
      "symbol=%s, val=%s RR1 nan\n"
     ]
    },
    {
     "name": "stderr",
     "output_type": "stream",
     "text": [
      "RRL: No price data found, symbol may be delisted (period=3mo)\n"
     ]
    },
    {
     "name": "stdout",
     "output_type": "stream",
     "text": [
      "symbol=%s, val=%s RRL nan\n",
      "symbol=%s, val=%s RRR 19.63781360017025\n",
      "symbol=%s, val=%s RSG 9.320134959197226\n"
     ]
    },
    {
     "name": "stderr",
     "output_type": "stream",
     "text": [
      "RSH: No price data found, symbol may be delisted (period=3mo)\n"
     ]
    },
    {
     "name": "stdout",
     "output_type": "stream",
     "text": [
      "symbol=%s, val=%s RSH nan\n"
     ]
    },
    {
     "name": "stderr",
     "output_type": "stream",
     "text": [
      "RTG: No price data found, symbol may be delisted (period=3mo)\n"
     ]
    },
    {
     "name": "stdout",
     "output_type": "stream",
     "text": [
      "symbol=%s, val=%s RTG nan\n",
      "symbol=%s, val=%s RTH 6.955896763460327\n"
     ]
    },
    {
     "name": "stderr",
     "output_type": "stream",
     "text": [
      "RTR: No price data found, symbol may be delisted (period=3mo)\n"
     ]
    },
    {
     "name": "stdout",
     "output_type": "stream",
     "text": [
      "symbol=%s, val=%s RTR nan\n"
     ]
    },
    {
     "name": "stderr",
     "output_type": "stream",
     "text": [
      "RUL: No price data found, symbol may be delisted (period=3mo)\n"
     ]
    },
    {
     "name": "stdout",
     "output_type": "stream",
     "text": [
      "symbol=%s, val=%s RUL nan\n"
     ]
    },
    {
     "name": "stderr",
     "output_type": "stream",
     "text": [
      "RVS: No price data found, symbol may be delisted (period=3mo)\n"
     ]
    },
    {
     "name": "stdout",
     "output_type": "stream",
     "text": [
      "symbol=%s, val=%s RVS nan\n",
      "symbol=%s, val=%s RVT 9.34255671705829\n"
     ]
    },
    {
     "name": "stderr",
     "output_type": "stream",
     "text": [
      "RWC: No price data found, symbol may be delisted (period=3mo)\n"
     ]
    },
    {
     "name": "stdout",
     "output_type": "stream",
     "text": [
      "symbol=%s, val=%s RWC nan\n"
     ]
    },
    {
     "name": "stderr",
     "output_type": "stream",
     "text": [
      "RWD: No price data found, symbol may be delisted (period=3mo)\n"
     ]
    },
    {
     "name": "stdout",
     "output_type": "stream",
     "text": [
      "symbol=%s, val=%s RWD nan\n",
      "symbol=%s, val=%s RWL 6.478802016019706\n"
     ]
    },
    {
     "name": "stderr",
     "output_type": "stream",
     "text": [
      "RXH: No price data found, symbol may be delisted (period=3mo)\n"
     ]
    },
    {
     "name": "stdout",
     "output_type": "stream",
     "text": [
      "symbol=%s, val=%s RXH nan\n",
      "symbol=%s, val=%s RXL 11.019933673136677\n"
     ]
    },
    {
     "name": "stderr",
     "output_type": "stream",
     "text": [
      "RXM: No price data found, symbol may be delisted (period=3mo)\n"
     ]
    },
    {
     "name": "stdout",
     "output_type": "stream",
     "text": [
      "symbol=%s, val=%s RXM nan\n"
     ]
    },
    {
     "name": "stderr",
     "output_type": "stream",
     "text": [
      "RYD: No price data found, symbol may be delisted (period=3mo)\n"
     ]
    },
    {
     "name": "stdout",
     "output_type": "stream",
     "text": [
      "symbol=%s, val=%s RYD nan\n"
     ]
    },
    {
     "name": "stderr",
     "output_type": "stream",
     "text": [
      "RZI: No price data found, symbol may be delisted (period=3mo)\n"
     ]
    },
    {
     "name": "stdout",
     "output_type": "stream",
     "text": [
      "symbol=%s, val=%s RZI nan\n"
     ]
    },
    {
     "name": "stderr",
     "output_type": "stream",
     "text": [
      "S2R: No data found, symbol may be delisted\n"
     ]
    },
    {
     "name": "stdout",
     "output_type": "stream",
     "text": [
      "symbol=%s, val=%s S2R nan\n"
     ]
    },
    {
     "name": "stderr",
     "output_type": "stream",
     "text": [
      "S32: No data found, symbol may be delisted\n"
     ]
    },
    {
     "name": "stdout",
     "output_type": "stream",
     "text": [
      "symbol=%s, val=%s S32 nan\n"
     ]
    },
    {
     "name": "stderr",
     "output_type": "stream",
     "text": [
      "S3N: No data found, symbol may be delisted\n"
     ]
    },
    {
     "name": "stdout",
     "output_type": "stream",
     "text": [
      "symbol=%s, val=%s S3N nan\n"
     ]
    },
    {
     "name": "stderr",
     "output_type": "stream",
     "text": [
      "S66: No data found, symbol may be delisted\n"
     ]
    },
    {
     "name": "stdout",
     "output_type": "stream",
     "text": [
      "symbol=%s, val=%s S66 nan\n",
      "symbol=%s, val=%s SAN 18.82641052856406\n"
     ]
    },
    {
     "name": "stderr",
     "output_type": "stream",
     "text": [
      "SAU: No price data found, symbol may be delisted (period=3mo)\n"
     ]
    },
    {
     "name": "stdout",
     "output_type": "stream",
     "text": [
      "symbol=%s, val=%s SAU nan\n"
     ]
    },
    {
     "name": "stderr",
     "output_type": "stream",
     "text": [
      "SB2: No data found, symbol may be delisted\n"
     ]
    },
    {
     "name": "stdout",
     "output_type": "stream",
     "text": [
      "symbol=%s, val=%s SB2 nan\n"
     ]
    },
    {
     "name": "stderr",
     "output_type": "stream",
     "text": [
      "SBM: No price data found, symbol may be delisted (period=3mo)\n"
     ]
    },
    {
     "name": "stdout",
     "output_type": "stream",
     "text": [
      "symbol=%s, val=%s SBM nan\n",
      "symbol=%s, val=%s SBR 12.381503025730959\n"
     ]
    },
    {
     "name": "stderr",
     "output_type": "stream",
     "text": [
      "SBW: No price data found, symbol may be delisted (period=3mo)\n"
     ]
    },
    {
     "name": "stdout",
     "output_type": "stream",
     "text": [
      "symbol=%s, val=%s SBW nan\n"
     ]
    },
    {
     "name": "stderr",
     "output_type": "stream",
     "text": [
      "SCG: No price data found, symbol may be delisted (period=3mo)\n"
     ]
    },
    {
     "name": "stdout",
     "output_type": "stream",
     "text": [
      "symbol=%s, val=%s SCG nan\n",
      "symbol=%s, val=%s SCL 21.11179596694584\n"
     ]
    },
    {
     "name": "stderr",
     "output_type": "stream",
     "text": [
      "SCN: No price data found, symbol may be delisted (period=3mo)\n"
     ]
    },
    {
     "name": "stdout",
     "output_type": "stream",
     "text": [
      "symbol=%s, val=%s SCN nan\n"
     ]
    },
    {
     "name": "stderr",
     "output_type": "stream",
     "text": [
      "SCT: No price data found, symbol may be delisted (period=3mo)\n"
     ]
    },
    {
     "name": "stdout",
     "output_type": "stream",
     "text": [
      "symbol=%s, val=%s SCT nan\n"
     ]
    },
    {
     "name": "stderr",
     "output_type": "stream",
     "text": [
      "SDF: No price data found, symbol may be delisted (period=3mo)\n"
     ]
    },
    {
     "name": "stdout",
     "output_type": "stream",
     "text": [
      "symbol=%s, val=%s SDF nan\n",
      "symbol=%s, val=%s SDG 7.775765142302239\n"
     ]
    },
    {
     "name": "stderr",
     "output_type": "stream",
     "text": [
      "SDI: No data found, symbol may be delisted\n"
     ]
    },
    {
     "name": "stdout",
     "output_type": "stream",
     "text": [
      "symbol=%s, val=%s SDI nan\n"
     ]
    },
    {
     "name": "stderr",
     "output_type": "stream",
     "text": [
      "SDR: No data found, symbol may be delisted\n"
     ]
    },
    {
     "name": "stdout",
     "output_type": "stream",
     "text": [
      "symbol=%s, val=%s SDR nan\n"
     ]
    },
    {
     "name": "stderr",
     "output_type": "stream",
     "text": [
      "SDV: No price data found, symbol may be delisted (period=3mo)\n"
     ]
    },
    {
     "name": "stdout",
     "output_type": "stream",
     "text": [
      "symbol=%s, val=%s SDV nan\n"
     ]
    },
    {
     "name": "stderr",
     "output_type": "stream",
     "text": [
      "SE1: No data found, symbol may be delisted\n"
     ]
    },
    {
     "name": "stdout",
     "output_type": "stream",
     "text": [
      "symbol=%s, val=%s SE1 nan\n"
     ]
    },
    {
     "name": "stderr",
     "output_type": "stream",
     "text": [
      "SEC: No price data found, symbol may be delisted (period=3mo)\n"
     ]
    },
    {
     "name": "stdout",
     "output_type": "stream",
     "text": [
      "symbol=%s, val=%s SEC nan\n"
     ]
    },
    {
     "name": "stderr",
     "output_type": "stream",
     "text": [
      "SEG: No price data found, symbol may be delisted (period=3mo)\n"
     ]
    },
    {
     "name": "stdout",
     "output_type": "stream",
     "text": [
      "symbol=%s, val=%s SEG nan\n"
     ]
    },
    {
     "name": "stderr",
     "output_type": "stream",
     "text": [
      "SEK: No price data found, symbol may be delisted (period=3mo)\n"
     ]
    },
    {
     "name": "stdout",
     "output_type": "stream",
     "text": [
      "symbol=%s, val=%s SEK nan\n"
     ]
    },
    {
     "name": "stderr",
     "output_type": "stream",
     "text": [
      "SEN: No price data found, symbol may be delisted (period=3mo)\n"
     ]
    },
    {
     "name": "stdout",
     "output_type": "stream",
     "text": [
      "symbol=%s, val=%s SEN nan\n"
     ]
    },
    {
     "name": "stderr",
     "output_type": "stream",
     "text": [
      "SEQ: No price data found, symbol may be delisted (period=3mo)\n"
     ]
    },
    {
     "name": "stdout",
     "output_type": "stream",
     "text": [
      "symbol=%s, val=%s SEQ nan\n"
     ]
    },
    {
     "name": "stderr",
     "output_type": "stream",
     "text": [
      "SER: No price data found, symbol may be delisted (period=3mo)\n"
     ]
    },
    {
     "name": "stdout",
     "output_type": "stream",
     "text": [
      "symbol=%s, val=%s SER nan\n",
      "symbol=%s, val=%s SES 43.92523579671467\n"
     ]
    },
    {
     "name": "stderr",
     "output_type": "stream",
     "text": [
      "SFC: No price data found, symbol may be delisted (period=3mo)\n"
     ]
    },
    {
     "name": "stdout",
     "output_type": "stream",
     "text": [
      "symbol=%s, val=%s SFC nan\n"
     ]
    },
    {
     "name": "stderr",
     "output_type": "stream",
     "text": [
      "SFG: No price data found, symbol may be delisted (period=3mo)\n"
     ]
    },
    {
     "name": "stdout",
     "output_type": "stream",
     "text": [
      "symbol=%s, val=%s SFG nan\n",
      "symbol=%s, val=%s SFM 20.03391643003468\n",
      "symbol=%s, val=%s SFR 54.50980437988962\n"
     ]
    },
    {
     "name": "stderr",
     "output_type": "stream",
     "text": [
      "SFX: No price data found, symbol may be delisted (period=3mo)\n"
     ]
    },
    {
     "name": "stdout",
     "output_type": "stream",
     "text": [
      "symbol=%s, val=%s SFX nan\n",
      "symbol=%s, val=%s SGA 9.144678210840995\n",
      "symbol=%s, val=%s SGC 30.139532754587574\n"
     ]
    },
    {
     "name": "stderr",
     "output_type": "stream",
     "text": [
      "SGF: No price data found, symbol may be delisted (period=3mo)\n"
     ]
    },
    {
     "name": "stdout",
     "output_type": "stream",
     "text": [
      "symbol=%s, val=%s SGF nan\n"
     ]
    },
    {
     "name": "stderr",
     "output_type": "stream",
     "text": [
      "SGI: No price data found, symbol may be delisted (period=3mo)\n"
     ]
    },
    {
     "name": "stdout",
     "output_type": "stream",
     "text": [
      "symbol=%s, val=%s SGI nan\n"
     ]
    },
    {
     "name": "stderr",
     "output_type": "stream",
     "text": [
      "SGLLV: No data found, symbol may be delisted\n"
     ]
    },
    {
     "name": "stdout",
     "output_type": "stream",
     "text": [
      "symbol=%s, val=%s SGLLV nan\n"
     ]
    },
    {
     "name": "stderr",
     "output_type": "stream",
     "text": [
      "SGM: No price data found, symbol may be delisted (period=3mo)\n"
     ]
    },
    {
     "name": "stdout",
     "output_type": "stream",
     "text": [
      "symbol=%s, val=%s SGM nan\n"
     ]
    },
    {
     "name": "stderr",
     "output_type": "stream",
     "text": [
      "SGP: No price data found, symbol may be delisted (period=3mo)\n"
     ]
    },
    {
     "name": "stdout",
     "output_type": "stream",
     "text": [
      "symbol=%s, val=%s SGP nan\n"
     ]
    },
    {
     "name": "stderr",
     "output_type": "stream",
     "text": [
      "SGQ: No price data found, symbol may be delisted (period=3mo)\n"
     ]
    },
    {
     "name": "stdout",
     "output_type": "stream",
     "text": [
      "symbol=%s, val=%s SGQ nan\n"
     ]
    },
    {
     "name": "stderr",
     "output_type": "stream",
     "text": [
      "SGR: No price data found, symbol may be delisted (period=3mo)\n"
     ]
    },
    {
     "name": "stdout",
     "output_type": "stream",
     "text": [
      "symbol=%s, val=%s SGR nan\n"
     ]
    },
    {
     "name": "stderr",
     "output_type": "stream",
     "text": [
      "SHA: No price data found, symbol may be delisted (period=3mo)\n"
     ]
    },
    {
     "name": "stdout",
     "output_type": "stream",
     "text": [
      "symbol=%s, val=%s SHA nan\n",
      "symbol=%s, val=%s SHE 6.098094939942112\n",
      "symbol=%s, val=%s SHG 10.845525654859184\n"
     ]
    },
    {
     "name": "stderr",
     "output_type": "stream",
     "text": [
      "SHJ: No price data found, symbol may be delisted (period=3mo)\n"
     ]
    },
    {
     "name": "stdout",
     "output_type": "stream",
     "text": [
      "symbol=%s, val=%s SHJ nan\n"
     ]
    },
    {
     "name": "stderr",
     "output_type": "stream",
     "text": [
      "SHL: No price data found, symbol may be delisted (period=3mo)\n"
     ]
    },
    {
     "name": "stdout",
     "output_type": "stream",
     "text": [
      "symbol=%s, val=%s SHL nan\n",
      "symbol=%s, val=%s SHM 1.354790816270087\n"
     ]
    },
    {
     "name": "stderr",
     "output_type": "stream",
     "text": [
      "SHN: No data found, symbol may be delisted\n"
     ]
    },
    {
     "name": "stdout",
     "output_type": "stream",
     "text": [
      "symbol=%s, val=%s SHN nan\n",
      "symbol=%s, val=%s SHO 19.53271205461292\n"
     ]
    },
    {
     "name": "stderr",
     "output_type": "stream",
     "text": [
      "SHP: No price data found, symbol may be delisted (period=3mo)\n"
     ]
    },
    {
     "name": "stdout",
     "output_type": "stream",
     "text": [
      "symbol=%s, val=%s SHP nan\n",
      "symbol=%s, val=%s SHV 0.47959349294331066\n"
     ]
    },
    {
     "name": "stderr",
     "output_type": "stream",
     "text": [
      "SI6: No data found, symbol may be delisted\n"
     ]
    },
    {
     "name": "stdout",
     "output_type": "stream",
     "text": [
      "symbol=%s, val=%s SI6 nan\n",
      "symbol=%s, val=%s SIG 31.501921717799902\n"
     ]
    },
    {
     "name": "stderr",
     "output_type": "stream",
     "text": [
      "SIH: No price data found, symbol may be delisted (period=3mo)\n"
     ]
    },
    {
     "name": "stdout",
     "output_type": "stream",
     "text": [
      "symbol=%s, val=%s SIH nan\n",
      "symbol=%s, val=%s SIO 2.2498974675559147\n"
     ]
    },
    {
     "name": "stderr",
     "output_type": "stream",
     "text": [
      "SIQ: No price data found, symbol may be delisted (period=3mo)\n"
     ]
    },
    {
     "name": "stdout",
     "output_type": "stream",
     "text": [
      "symbol=%s, val=%s SIQ nan\n"
     ]
    },
    {
     "name": "stderr",
     "output_type": "stream",
     "text": [
      "SIS: No price data found, symbol may be delisted (period=3mo)\n"
     ]
    },
    {
     "name": "stdout",
     "output_type": "stream",
     "text": [
      "symbol=%s, val=%s SIS nan\n"
     ]
    },
    {
     "name": "stderr",
     "output_type": "stream",
     "text": [
      "SIT: No price data found, symbol may be delisted (period=3mo)\n"
     ]
    },
    {
     "name": "stdout",
     "output_type": "stream",
     "text": [
      "symbol=%s, val=%s SIT nan\n"
     ]
    },
    {
     "name": "stderr",
     "output_type": "stream",
     "text": [
      "SIV: No price data found, symbol may be delisted (period=3mo)\n"
     ]
    },
    {
     "name": "stdout",
     "output_type": "stream",
     "text": [
      "symbol=%s, val=%s SIV nan\n",
      "symbol=%s, val=%s SIX 28.22552712030732\n"
     ]
    },
    {
     "name": "stderr",
     "output_type": "stream",
     "text": [
      "SKC: No data found, symbol may be delisted\n"
     ]
    },
    {
     "name": "stdout",
     "output_type": "stream",
     "text": [
      "symbol=%s, val=%s SKC nan\n",
      "symbol=%s, val=%s SKF 16.242356037904575\n"
     ]
    },
    {
     "name": "stderr",
     "output_type": "stream",
     "text": [
      "SKN: No data found, symbol may be delisted\n"
     ]
    },
    {
     "name": "stdout",
     "output_type": "stream",
     "text": [
      "symbol=%s, val=%s SKN nan\n"
     ]
    },
    {
     "name": "stderr",
     "output_type": "stream",
     "text": [
      "SKO: No price data found, symbol may be delisted (period=3mo)\n"
     ]
    },
    {
     "name": "stdout",
     "output_type": "stream",
     "text": [
      "symbol=%s, val=%s SKO nan\n"
     ]
    },
    {
     "name": "stderr",
     "output_type": "stream",
     "text": [
      "SKS: No price data found, symbol may be delisted (period=3mo)\n"
     ]
    },
    {
     "name": "stdout",
     "output_type": "stream",
     "text": [
      "symbol=%s, val=%s SKS nan\n",
      "symbol=%s, val=%s SKT 19.381686398615763\n",
      "symbol=%s, val=%s SKY 16.913861548234564\n"
     ]
    },
    {
     "name": "stderr",
     "output_type": "stream",
     "text": [
      "SLA: No price data found, symbol may be delisted (period=3mo)\n"
     ]
    },
    {
     "name": "stdout",
     "output_type": "stream",
     "text": [
      "symbol=%s, val=%s SLA nan\n",
      "symbol=%s, val=%s SLB 25.488601200250354\n"
     ]
    },
    {
     "name": "stderr",
     "output_type": "stream",
     "text": [
      "SLC: No price data found, symbol may be delisted (period=3mo)\n"
     ]
    },
    {
     "name": "stdout",
     "output_type": "stream",
     "text": [
      "symbol=%s, val=%s SLC nan\n"
     ]
    },
    {
     "name": "stderr",
     "output_type": "stream",
     "text": [
      "SLH: No price data found, symbol may be delisted (period=3mo)\n"
     ]
    },
    {
     "name": "stdout",
     "output_type": "stream",
     "text": [
      "symbol=%s, val=%s SLH nan\n",
      "symbol=%s, val=%s SLM 19.507908513412225\n"
     ]
    },
    {
     "name": "stderr",
     "output_type": "stream",
     "text": [
      "SLR: No price data found, symbol may be delisted (period=3mo)\n"
     ]
    },
    {
     "name": "stdout",
     "output_type": "stream",
     "text": [
      "symbol=%s, val=%s SLR nan\n",
      "symbol=%s, val=%s SLS 27.22513036721892\n",
      "symbol=%s, val=%s SLX 14.14169522971614\n"
     ]
    },
    {
     "name": "stderr",
     "output_type": "stream",
     "text": [
      "SLZ: No price data found, symbol may be delisted (period=3mo)\n"
     ]
    },
    {
     "name": "stdout",
     "output_type": "stream",
     "text": [
      "symbol=%s, val=%s SLZ nan\n"
     ]
    },
    {
     "name": "stderr",
     "output_type": "stream",
     "text": [
      "SM1: No data found, symbol may be delisted\n"
     ]
    },
    {
     "name": "stdout",
     "output_type": "stream",
     "text": [
      "symbol=%s, val=%s SM1 nan\n",
      "symbol=%s, val=%s SMI 2.521738798721977\n",
      "symbol=%s, val=%s SMN 14.609053881518136\n",
      "symbol=%s, val=%s SMP 11.588638428278374\n",
      "symbol=%s, val=%s SMR 34.55798181055123\n"
     ]
    },
    {
     "name": "stderr",
     "output_type": "stream",
     "text": [
      "SMS: No price data found, symbol may be delisted (period=3mo)\n"
     ]
    },
    {
     "name": "stdout",
     "output_type": "stream",
     "text": [
      "symbol=%s, val=%s SMS nan\n"
     ]
    },
    {
     "name": "stderr",
     "output_type": "stream",
     "text": [
      "SNC: No price data found, symbol may be delisted (period=3mo)\n"
     ]
    },
    {
     "name": "stdout",
     "output_type": "stream",
     "text": [
      "symbol=%s, val=%s SNC nan\n",
      "symbol=%s, val=%s SND 35.021095518334086\n"
     ]
    },
    {
     "name": "stderr",
     "output_type": "stream",
     "text": [
      "SNG: No price data found, symbol may be delisted (period=3mo)\n"
     ]
    },
    {
     "name": "stdout",
     "output_type": "stream",
     "text": [
      "symbol=%s, val=%s SNG nan\n"
     ]
    },
    {
     "name": "stderr",
     "output_type": "stream",
     "text": [
      "SNL: No price data found, symbol may be delisted (period=3mo)\n"
     ]
    },
    {
     "name": "stdout",
     "output_type": "stream",
     "text": [
      "symbol=%s, val=%s SNL nan\n"
     ]
    },
    {
     "name": "stderr",
     "output_type": "stream",
     "text": [
      "SNS: No price data found, symbol may be delisted (period=3mo)\n"
     ]
    },
    {
     "name": "stdout",
     "output_type": "stream",
     "text": [
      "symbol=%s, val=%s SNS nan\n",
      "symbol=%s, val=%s SNX 15.546137003555657\n"
     ]
    },
    {
     "name": "stderr",
     "output_type": "stream",
     "text": [
      "SNZ: No price data found, symbol may be delisted (period=3mo)\n"
     ]
    },
    {
     "name": "stdout",
     "output_type": "stream",
     "text": [
      "symbol=%s, val=%s SNZ nan\n"
     ]
    },
    {
     "name": "stderr",
     "output_type": "stream",
     "text": [
      "SOC: No price data found, symbol may be delisted (period=3mo)\n"
     ]
    },
    {
     "name": "stdout",
     "output_type": "stream",
     "text": [
      "symbol=%s, val=%s SOC nan\n",
      "symbol=%s, val=%s SOL 27.570099236715212\n"
     ]
    },
    {
     "name": "stderr",
     "output_type": "stream",
     "text": [
      "SOM: No price data found, symbol may be delisted (period=3mo)\n"
     ]
    },
    {
     "name": "stdout",
     "output_type": "stream",
     "text": [
      "symbol=%s, val=%s SOM nan\n"
     ]
    },
    {
     "name": "stderr",
     "output_type": "stream",
     "text": [
      "SOP: No price data found, symbol may be delisted (period=3mo)\n"
     ]
    },
    {
     "name": "stdout",
     "output_type": "stream",
     "text": [
      "symbol=%s, val=%s SOP nan\n",
      "symbol=%s, val=%s SOR 5.927961378241169\n"
     ]
    },
    {
     "name": "stderr",
     "output_type": "stream",
     "text": [
      "SOV: No price data found, symbol may be delisted (period=3mo)\n"
     ]
    },
    {
     "name": "stdout",
     "output_type": "stream",
     "text": [
      "symbol=%s, val=%s SOV nan\n"
     ]
    },
    {
     "name": "stderr",
     "output_type": "stream",
     "text": [
      "SP3: No data found, symbol may be delisted\n"
     ]
    },
    {
     "name": "stdout",
     "output_type": "stream",
     "text": [
      "symbol=%s, val=%s SP3 nan\n"
     ]
    },
    {
     "name": "stderr",
     "output_type": "stream",
     "text": [
      "SP8: No data found, symbol may be delisted\n"
     ]
    },
    {
     "name": "stdout",
     "output_type": "stream",
     "text": [
      "symbol=%s, val=%s SP8 nan\n"
     ]
    },
    {
     "name": "stderr",
     "output_type": "stream",
     "text": [
      "SPA: No data found, symbol may be delisted\n"
     ]
    },
    {
     "name": "stdout",
     "output_type": "stream",
     "text": [
      "symbol=%s, val=%s SPA nan\n",
      "symbol=%s, val=%s SPD 9.592917113177544\n"
     ]
    },
    {
     "name": "stderr",
     "output_type": "stream",
     "text": [
      "SPK: No data found, symbol may be delisted\n"
     ]
    },
    {
     "name": "stdout",
     "output_type": "stream",
     "text": [
      "symbol=%s, val=%s SPK nan\n"
     ]
    },
    {
     "name": "stderr",
     "output_type": "stream",
     "text": [
      "SPL: No price data found, symbol may be delisted (period=3mo)\n"
     ]
    },
    {
     "name": "stdout",
     "output_type": "stream",
     "text": [
      "symbol=%s, val=%s SPL nan\n"
     ]
    },
    {
     "name": "stderr",
     "output_type": "stream",
     "text": [
      "SPN: No data found, symbol may be delisted\n"
     ]
    },
    {
     "name": "stdout",
     "output_type": "stream",
     "text": [
      "symbol=%s, val=%s SPN nan\n"
     ]
    },
    {
     "name": "stderr",
     "output_type": "stream",
     "text": [
      "SPQ: No price data found, symbol may be delisted (period=3mo)\n"
     ]
    },
    {
     "name": "stdout",
     "output_type": "stream",
     "text": [
      "symbol=%s, val=%s SPQ nan\n",
      "symbol=%s, val=%s SPR 45.023397008824986\n",
      "symbol=%s, val=%s SPT 25.294011932909182\n"
     ]
    },
    {
     "name": "stderr",
     "output_type": "stream",
     "text": [
      "SPX: No price data found, symbol may be delisted (period=3mo)\n"
     ]
    },
    {
     "name": "stdout",
     "output_type": "stream",
     "text": [
      "symbol=%s, val=%s SPX nan\n"
     ]
    },
    {
     "name": "stderr",
     "output_type": "stream",
     "text": [
      "SPZ: No price data found, symbol may be delisted (period=3mo)\n"
     ]
    },
    {
     "name": "stdout",
     "output_type": "stream",
     "text": [
      "symbol=%s, val=%s SPZ nan\n"
     ]
    },
    {
     "name": "stderr",
     "output_type": "stream",
     "text": [
      "SQ2: No data found, symbol may be delisted\n"
     ]
    },
    {
     "name": "stdout",
     "output_type": "stream",
     "text": [
      "symbol=%s, val=%s SQ2 nan\n"
     ]
    },
    {
     "name": "stderr",
     "output_type": "stream",
     "text": [
      "SQX: No price data found, symbol may be delisted (period=3mo)\n"
     ]
    },
    {
     "name": "stdout",
     "output_type": "stream",
     "text": [
      "symbol=%s, val=%s SQX nan\n",
      "symbol=%s, val=%s SRG 25.806450837608686\n"
     ]
    },
    {
     "name": "stderr",
     "output_type": "stream",
     "text": [
      "SRH: No price data found, symbol may be delisted (period=3mo)\n"
     ]
    },
    {
     "name": "stdout",
     "output_type": "stream",
     "text": [
      "symbol=%s, val=%s SRH nan\n",
      "symbol=%s, val=%s SRI 30.395759662868542\n"
     ]
    },
    {
     "name": "stderr",
     "output_type": "stream",
     "text": [
      "SRJ: No price data found, symbol may be delisted (period=3mo)\n"
     ]
    },
    {
     "name": "stdout",
     "output_type": "stream",
     "text": [
      "symbol=%s, val=%s SRJ nan\n"
     ]
    },
    {
     "name": "stderr",
     "output_type": "stream",
     "text": [
      "SRK: No price data found, symbol may be delisted (period=3mo)\n"
     ]
    },
    {
     "name": "stdout",
     "output_type": "stream",
     "text": [
      "symbol=%s, val=%s SRK nan\n",
      "symbol=%s, val=%s SRL 21.51555757073208\n"
     ]
    },
    {
     "name": "stderr",
     "output_type": "stream",
     "text": [
      "SRN: No price data found, symbol may be delisted (period=3mo)\n"
     ]
    },
    {
     "name": "stdout",
     "output_type": "stream",
     "text": [
      "symbol=%s, val=%s SRN nan\n"
     ]
    },
    {
     "name": "stderr",
     "output_type": "stream",
     "text": [
      "SRR: No price data found, symbol may be delisted (period=3mo)\n"
     ]
    },
    {
     "name": "stdout",
     "output_type": "stream",
     "text": [
      "symbol=%s, val=%s SRR nan\n",
      "symbol=%s, val=%s SRT 22.478385157309884\n",
      "symbol=%s, val=%s SRV 17.935163832425943\n"
     ]
    },
    {
     "name": "stderr",
     "output_type": "stream",
     "text": [
      "SRX: No price data found, symbol may be delisted (period=3mo)\n"
     ]
    },
    {
     "name": "stdout",
     "output_type": "stream",
     "text": [
      "symbol=%s, val=%s SRX nan\n"
     ]
    },
    {
     "name": "stderr",
     "output_type": "stream",
     "text": [
      "SRY: No price data found, symbol may be delisted (period=3mo)\n"
     ]
    },
    {
     "name": "stdout",
     "output_type": "stream",
     "text": [
      "symbol=%s, val=%s SRY nan\n"
     ]
    },
    {
     "name": "stderr",
     "output_type": "stream",
     "text": [
      "SRZ: No price data found, symbol may be delisted (period=3mo)\n"
     ]
    },
    {
     "name": "stdout",
     "output_type": "stream",
     "text": [
      "symbol=%s, val=%s SRZ nan\n",
      "symbol=%s, val=%s SSG 22.743685293459116\n"
     ]
    },
    {
     "name": "stderr",
     "output_type": "stream",
     "text": [
      "SSH: No price data found, symbol may be delisted (period=3mo)\n"
     ]
    },
    {
     "name": "stdout",
     "output_type": "stream",
     "text": [
      "symbol=%s, val=%s SSH nan\n",
      "symbol=%s, val=%s SSL 17.391301200102728\n"
     ]
    },
    {
     "name": "stderr",
     "output_type": "stream",
     "text": [
      "SSM: No price data found, symbol may be delisted (period=3mo)\n"
     ]
    },
    {
     "name": "stdout",
     "output_type": "stream",
     "text": [
      "symbol=%s, val=%s SSM nan\n"
     ]
    },
    {
     "name": "stderr",
     "output_type": "stream",
     "text": [
      "SSR: No price data found, symbol may be delisted (period=3mo)\n"
     ]
    },
    {
     "name": "stdout",
     "output_type": "stream",
     "text": [
      "symbol=%s, val=%s SSR nan\n",
      "symbol=%s, val=%s SST 78.6008244180649\n"
     ]
    },
    {
     "name": "stderr",
     "output_type": "stream",
     "text": [
      "ST1: No data found, symbol may be delisted\n"
     ]
    },
    {
     "name": "stdout",
     "output_type": "stream",
     "text": [
      "symbol=%s, val=%s ST1 nan\n"
     ]
    },
    {
     "name": "stderr",
     "output_type": "stream",
     "text": [
      "STA: No price data found, symbol may be delisted (period=3mo)\n"
     ]
    },
    {
     "name": "stdout",
     "output_type": "stream",
     "text": [
      "symbol=%s, val=%s STA nan\n",
      "symbol=%s, val=%s STG 68.11042486303812\n",
      "symbol=%s, val=%s STK 10.75949233381667\n",
      "symbol=%s, val=%s STM 22.005366941101755\n",
      "symbol=%s, val=%s STN 10.388291100656835\n"
     ]
    },
    {
     "name": "stderr",
     "output_type": "stream",
     "text": [
      "STO: No price data found, symbol may be delisted (period=3mo)\n"
     ]
    },
    {
     "name": "stdout",
     "output_type": "stream",
     "text": [
      "symbol=%s, val=%s STO nan\n"
     ]
    },
    {
     "name": "stderr",
     "output_type": "stream",
     "text": [
      "STP: No price data found, symbol may be delisted (period=3mo)\n"
     ]
    },
    {
     "name": "stdout",
     "output_type": "stream",
     "text": [
      "symbol=%s, val=%s STP nan\n",
      "symbol=%s, val=%s STX 23.070731376408883\n"
     ]
    },
    {
     "name": "stderr",
     "output_type": "stream",
     "text": [
      "SUH: No price data found, symbol may be delisted (period=3mo)\n"
     ]
    },
    {
     "name": "stdout",
     "output_type": "stream",
     "text": [
      "symbol=%s, val=%s SUH nan\n"
     ]
    },
    {
     "name": "stderr",
     "output_type": "stream",
     "text": [
      "SUL: No price data found, symbol may be delisted (period=3mo)\n"
     ]
    },
    {
     "name": "stdout",
     "output_type": "stream",
     "text": [
      "symbol=%s, val=%s SUL nan\n",
      "symbol=%s, val=%s SUM 19.919112220848977\n",
      "symbol=%s, val=%s SUN 8.11965662181327\n"
     ]
    },
    {
     "name": "stderr",
     "output_type": "stream",
     "text": [
      "SUV: No price data found, symbol may be delisted (period=3mo)\n"
     ]
    },
    {
     "name": "stdout",
     "output_type": "stream",
     "text": [
      "symbol=%s, val=%s SUV nan\n"
     ]
    },
    {
     "name": "stderr",
     "output_type": "stream",
     "text": [
      "SVG: No price data found, symbol may be delisted (period=3mo)\n"
     ]
    },
    {
     "name": "stdout",
     "output_type": "stream",
     "text": [
      "symbol=%s, val=%s SVG nan\n"
     ]
    },
    {
     "name": "stderr",
     "output_type": "stream",
     "text": [
      "SVL: No price data found, symbol may be delisted (period=3mo)\n"
     ]
    },
    {
     "name": "stdout",
     "output_type": "stream",
     "text": [
      "symbol=%s, val=%s SVL nan\n",
      "symbol=%s, val=%s SVM 27.87878336875776\n"
     ]
    },
    {
     "name": "stderr",
     "output_type": "stream",
     "text": [
      "SVR: No price data found, symbol may be delisted (period=3mo)\n"
     ]
    },
    {
     "name": "stdout",
     "output_type": "stream",
     "text": [
      "symbol=%s, val=%s SVR nan\n"
     ]
    },
    {
     "name": "stderr",
     "output_type": "stream",
     "text": [
      "SVW: No price data found, symbol may be delisted (period=3mo)\n"
     ]
    },
    {
     "name": "stdout",
     "output_type": "stream",
     "text": [
      "symbol=%s, val=%s SVW nan\n"
     ]
    },
    {
     "name": "stderr",
     "output_type": "stream",
     "text": [
      "SVY: No price data found, symbol may be delisted (period=3mo)\n"
     ]
    },
    {
     "name": "stdout",
     "output_type": "stream",
     "text": [
      "symbol=%s, val=%s SVY nan\n"
     ]
    },
    {
     "name": "stderr",
     "output_type": "stream",
     "text": [
      "SW1: No data found, symbol may be delisted\n"
     ]
    },
    {
     "name": "stdout",
     "output_type": "stream",
     "text": [
      "symbol=%s, val=%s SW1 nan\n"
     ]
    },
    {
     "name": "stderr",
     "output_type": "stream",
     "text": [
      "SWF: No price data found, symbol may be delisted (period=3mo)\n"
     ]
    },
    {
     "name": "stdout",
     "output_type": "stream",
     "text": [
      "symbol=%s, val=%s SWF nan\n"
     ]
    },
    {
     "name": "stderr",
     "output_type": "stream",
     "text": [
      "SWM: No data found, symbol may be delisted\n"
     ]
    },
    {
     "name": "stdout",
     "output_type": "stream",
     "text": [
      "symbol=%s, val=%s SWM nan\n"
     ]
    },
    {
     "name": "stderr",
     "output_type": "stream",
     "text": [
      "SWP: No data found, symbol may be delisted\n"
     ]
    },
    {
     "name": "stdout",
     "output_type": "stream",
     "text": [
      "symbol=%s, val=%s SWP nan\n"
     ]
    },
    {
     "name": "stderr",
     "output_type": "stream",
     "text": [
      "SXE: No data found, symbol may be delisted\n"
     ]
    },
    {
     "name": "stdout",
     "output_type": "stream",
     "text": [
      "symbol=%s, val=%s SXE nan\n"
     ]
    },
    {
     "name": "stderr",
     "output_type": "stream",
     "text": [
      "SXG: Period '3mo' is invalid, must be one of ['1d', '5d']\n"
     ]
    },
    {
     "name": "stdout",
     "output_type": "stream",
     "text": [
      "symbol=%s, val=%s SXG nan\n"
     ]
    },
    {
     "name": "stderr",
     "output_type": "stream",
     "text": [
      "SXL: No price data found, symbol may be delisted (period=3mo)\n"
     ]
    },
    {
     "name": "stdout",
     "output_type": "stream",
     "text": [
      "symbol=%s, val=%s SXL nan\n"
     ]
    },
    {
     "name": "stderr",
     "output_type": "stream",
     "text": [
      "SYA: No price data found, symbol may be delisted (period=3mo)\n"
     ]
    },
    {
     "name": "stdout",
     "output_type": "stream",
     "text": [
      "symbol=%s, val=%s SYA nan\n",
      "symbol=%s, val=%s SYM 46.41409532437298\n"
     ]
    },
    {
     "name": "stderr",
     "output_type": "stream",
     "text": [
      "SYR: No price data found, symbol may be delisted (period=3mo)\n"
     ]
    },
    {
     "name": "stdout",
     "output_type": "stream",
     "text": [
      "symbol=%s, val=%s SYR nan\n"
     ]
    },
    {
     "name": "stderr",
     "output_type": "stream",
     "text": [
      "SZL: No price data found, symbol may be delisted (period=3mo)\n"
     ]
    },
    {
     "name": "stdout",
     "output_type": "stream",
     "text": [
      "symbol=%s, val=%s SZL nan\n"
     ]
    },
    {
     "name": "stderr",
     "output_type": "stream",
     "text": [
      "T3D: No data found, symbol may be delisted\n"
     ]
    },
    {
     "name": "stdout",
     "output_type": "stream",
     "text": [
      "symbol=%s, val=%s T3D nan\n"
     ]
    },
    {
     "name": "stderr",
     "output_type": "stream",
     "text": [
      "T88: No data found, symbol may be delisted\n"
     ]
    },
    {
     "name": "stdout",
     "output_type": "stream",
     "text": [
      "symbol=%s, val=%s T88 nan\n"
     ]
    },
    {
     "name": "stderr",
     "output_type": "stream",
     "text": [
      "T92: No data found, symbol may be delisted\n"
     ]
    },
    {
     "name": "stdout",
     "output_type": "stream",
     "text": [
      "symbol=%s, val=%s T92 nan\n"
     ]
    },
    {
     "name": "stderr",
     "output_type": "stream",
     "text": [
      "TAH: No price data found, symbol may be delisted (period=3mo)\n"
     ]
    },
    {
     "name": "stdout",
     "output_type": "stream",
     "text": [
      "symbol=%s, val=%s TAH nan\n",
      "symbol=%s, val=%s TAL 33.89021615517442\n"
     ]
    },
    {
     "name": "stderr",
     "output_type": "stream",
     "text": [
      "TAM: No price data found, symbol may be delisted (period=3mo)\n"
     ]
    },
    {
     "name": "stdout",
     "output_type": "stream",
     "text": [
      "symbol=%s, val=%s TAM nan\n"
     ]
    },
    {
     "name": "stderr",
     "output_type": "stream",
     "text": [
      "TAR: No price data found, symbol may be delisted (period=3mo)\n"
     ]
    },
    {
     "name": "stdout",
     "output_type": "stream",
     "text": [
      "symbol=%s, val=%s TAR nan\n"
     ]
    },
    {
     "name": "stderr",
     "output_type": "stream",
     "text": [
      "TAS: No price data found, symbol may be delisted (period=3mo)\n"
     ]
    },
    {
     "name": "stdout",
     "output_type": "stream",
     "text": [
      "symbol=%s, val=%s TAS nan\n"
     ]
    },
    {
     "name": "stderr",
     "output_type": "stream",
     "text": [
      "TBA: No data found, symbol may be delisted\n"
     ]
    },
    {
     "name": "stdout",
     "output_type": "stream",
     "text": [
      "symbol=%s, val=%s TBA nan\n"
     ]
    },
    {
     "name": "stderr",
     "output_type": "stream",
     "text": [
      "TBN: No price data found, symbol may be delisted (period=3mo)\n"
     ]
    },
    {
     "name": "stdout",
     "output_type": "stream",
     "text": [
      "symbol=%s, val=%s TBN nan\n"
     ]
    },
    {
     "name": "stderr",
     "output_type": "stream",
     "text": [
      "TBR: No price data found, symbol may be delisted (period=3mo)\n"
     ]
    },
    {
     "name": "stdout",
     "output_type": "stream",
     "text": [
      "symbol=%s, val=%s TBR nan\n"
     ]
    },
    {
     "name": "stderr",
     "output_type": "stream",
     "text": [
      "TCF: No data found, symbol may be delisted\n"
     ]
    },
    {
     "name": "stdout",
     "output_type": "stream",
     "text": [
      "symbol=%s, val=%s TCF nan\n"
     ]
    },
    {
     "name": "stderr",
     "output_type": "stream",
     "text": [
      "TCG: No price data found, symbol may be delisted (period=3mo)\n"
     ]
    },
    {
     "name": "stdout",
     "output_type": "stream",
     "text": [
      "symbol=%s, val=%s TCG nan\n"
     ]
    },
    {
     "name": "stderr",
     "output_type": "stream",
     "text": [
      "TCL: No data found, symbol may be delisted\n"
     ]
    },
    {
     "name": "stdout",
     "output_type": "stream",
     "text": [
      "symbol=%s, val=%s TCL nan\n"
     ]
    },
    {
     "name": "stderr",
     "output_type": "stream",
     "text": [
      "TCO: No data found, symbol may be delisted\n"
     ]
    },
    {
     "name": "stdout",
     "output_type": "stream",
     "text": [
      "symbol=%s, val=%s TCO nan\n"
     ]
    },
    {
     "name": "stderr",
     "output_type": "stream",
     "text": [
      "TD1: No data found, symbol may be delisted\n"
     ]
    },
    {
     "name": "stdout",
     "output_type": "stream",
     "text": [
      "symbol=%s, val=%s TD1 nan\n"
     ]
    },
    {
     "name": "stderr",
     "output_type": "stream",
     "text": [
      "TDO: No price data found, symbol may be delisted (period=3mo)\n"
     ]
    },
    {
     "name": "stdout",
     "output_type": "stream",
     "text": [
      "symbol=%s, val=%s TDO nan\n"
     ]
    },
    {
     "name": "stderr",
     "output_type": "stream",
     "text": [
      "TEE: No price data found, symbol may be delisted (period=3mo)\n"
     ]
    },
    {
     "name": "stdout",
     "output_type": "stream",
     "text": [
      "symbol=%s, val=%s TEE nan\n"
     ]
    },
    {
     "name": "stderr",
     "output_type": "stream",
     "text": [
      "TEG: No price data found, symbol may be delisted (period=3mo)\n"
     ]
    },
    {
     "name": "stdout",
     "output_type": "stream",
     "text": [
      "symbol=%s, val=%s TEG nan\n"
     ]
    },
    {
     "name": "stderr",
     "output_type": "stream",
     "text": [
      "TEK: No price data found, symbol may be delisted (period=3mo)\n"
     ]
    },
    {
     "name": "stdout",
     "output_type": "stream",
     "text": [
      "symbol=%s, val=%s TEK nan\n"
     ]
    },
    {
     "name": "stderr",
     "output_type": "stream",
     "text": [
      "TEM: No price data found, symbol may be delisted (period=3mo)\n"
     ]
    },
    {
     "name": "stdout",
     "output_type": "stream",
     "text": [
      "symbol=%s, val=%s TEM nan\n",
      "symbol=%s, val=%s TER 18.112413498857062\n"
     ]
    },
    {
     "name": "stderr",
     "output_type": "stream",
     "text": [
      "TFL: No price data found, symbol may be delisted (period=3mo)\n"
     ]
    },
    {
     "name": "stdout",
     "output_type": "stream",
     "text": [
      "symbol=%s, val=%s TFL nan\n"
     ]
    },
    {
     "name": "stderr",
     "output_type": "stream",
     "text": [
      "TG1: No data found, symbol may be delisted\n"
     ]
    },
    {
     "name": "stdout",
     "output_type": "stream",
     "text": [
      "symbol=%s, val=%s TG1 nan\n"
     ]
    },
    {
     "name": "stderr",
     "output_type": "stream",
     "text": [
      "TG6: No data found, symbol may be delisted\n"
     ]
    },
    {
     "name": "stdout",
     "output_type": "stream",
     "text": [
      "symbol=%s, val=%s TG6 nan\n"
     ]
    },
    {
     "name": "stderr",
     "output_type": "stream",
     "text": [
      "TGA: No data found, symbol may be delisted\n"
     ]
    },
    {
     "name": "stdout",
     "output_type": "stream",
     "text": [
      "symbol=%s, val=%s TGA nan\n"
     ]
    },
    {
     "name": "stderr",
     "output_type": "stream",
     "text": [
      "TGF: Period '3mo' is invalid, must be one of ['1d', '5d']\n"
     ]
    },
    {
     "name": "stdout",
     "output_type": "stream",
     "text": [
      "symbol=%s, val=%s TGF nan\n",
      "symbol=%s, val=%s TGH 12.302327710528706\n"
     ]
    },
    {
     "name": "stderr",
     "output_type": "stream",
     "text": [
      "TGM: No price data found, symbol may be delisted (period=3mo)\n"
     ]
    },
    {
     "name": "stdout",
     "output_type": "stream",
     "text": [
      "symbol=%s, val=%s TGM nan\n",
      "symbol=%s, val=%s TGN 5.766463581370843\n"
     ]
    },
    {
     "name": "stderr",
     "output_type": "stream",
     "text": [
      "TGP: No data found, symbol may be delisted\n"
     ]
    },
    {
     "name": "stdout",
     "output_type": "stream",
     "text": [
      "symbol=%s, val=%s TGP nan\n"
     ]
    },
    {
     "name": "stderr",
     "output_type": "stream",
     "text": [
      "THL: No price data found, symbol may be delisted (period=3mo)\n"
     ]
    },
    {
     "name": "stdout",
     "output_type": "stream",
     "text": [
      "symbol=%s, val=%s THL nan\n",
      "symbol=%s, val=%s THR 15.283541025703764\n"
     ]
    },
    {
     "name": "stderr",
     "output_type": "stream",
     "text": [
      "TI1: No data found, symbol may be delisted\n"
     ]
    },
    {
     "name": "stdout",
     "output_type": "stream",
     "text": [
      "symbol=%s, val=%s TI1 nan\n"
     ]
    },
    {
     "name": "stderr",
     "output_type": "stream",
     "text": [
      "TIA: No data found, symbol may be delisted\n"
     ]
    },
    {
     "name": "stdout",
     "output_type": "stream",
     "text": [
      "symbol=%s, val=%s TIA nan\n"
     ]
    },
    {
     "name": "stderr",
     "output_type": "stream",
     "text": [
      "TIE: No price data found, symbol may be delisted (period=3mo)\n"
     ]
    },
    {
     "name": "stdout",
     "output_type": "stream",
     "text": [
      "symbol=%s, val=%s TIE nan\n"
     ]
    },
    {
     "name": "stderr",
     "output_type": "stream",
     "text": [
      "TIG: No data found, symbol may be delisted\n"
     ]
    },
    {
     "name": "stdout",
     "output_type": "stream",
     "text": [
      "symbol=%s, val=%s TIG nan\n",
      "symbol=%s, val=%s TIP 3.3816904264882868\n"
     ]
    },
    {
     "name": "stderr",
     "output_type": "stream",
     "text": [
      "TKL: No price data found, symbol may be delisted (period=3mo)\n"
     ]
    },
    {
     "name": "stdout",
     "output_type": "stream",
     "text": [
      "symbol=%s, val=%s TKL nan\n"
     ]
    },
    {
     "name": "stderr",
     "output_type": "stream",
     "text": [
      "TKM: No price data found, symbol may be delisted (period=3mo)\n"
     ]
    },
    {
     "name": "stdout",
     "output_type": "stream",
     "text": [
      "symbol=%s, val=%s TKM nan\n"
     ]
    },
    {
     "name": "stderr",
     "output_type": "stream",
     "text": [
      "TLC: No data found, symbol may be delisted\n"
     ]
    },
    {
     "name": "stdout",
     "output_type": "stream",
     "text": [
      "symbol=%s, val=%s TLC nan\n"
     ]
    },
    {
     "name": "stderr",
     "output_type": "stream",
     "text": [
      "TLG: No price data found, symbol may be delisted (period=3mo)\n"
     ]
    },
    {
     "name": "stdout",
     "output_type": "stream",
     "text": [
      "symbol=%s, val=%s TLG nan\n"
     ]
    },
    {
     "name": "stderr",
     "output_type": "stream",
     "text": [
      "TLM: No price data found, symbol may be delisted (period=3mo)\n"
     ]
    },
    {
     "name": "stdout",
     "output_type": "stream",
     "text": [
      "symbol=%s, val=%s TLM nan\n",
      "symbol=%s, val=%s TLS 35.785954817366985\n"
     ]
    },
    {
     "name": "stderr",
     "output_type": "stream",
     "text": [
      "TLX: No price data found, symbol may be delisted (period=3mo)\n"
     ]
    },
    {
     "name": "stdout",
     "output_type": "stream",
     "text": [
      "symbol=%s, val=%s TLX nan\n"
     ]
    },
    {
     "name": "stderr",
     "output_type": "stream",
     "text": [
      "TMB: No price data found, symbol may be delisted (period=3mo)\n"
     ]
    },
    {
     "name": "stdout",
     "output_type": "stream",
     "text": [
      "symbol=%s, val=%s TMB nan\n"
     ]
    },
    {
     "name": "stderr",
     "output_type": "stream",
     "text": [
      "TMG: No data found, symbol may be delisted\n"
     ]
    },
    {
     "name": "stdout",
     "output_type": "stream",
     "text": [
      "symbol=%s, val=%s TMG nan\n"
     ]
    },
    {
     "name": "stderr",
     "output_type": "stream",
     "text": [
      "TMH: No price data found, symbol may be delisted (period=3mo)\n"
     ]
    },
    {
     "name": "stdout",
     "output_type": "stream",
     "text": [
      "symbol=%s, val=%s TMH nan\n"
     ]
    },
    {
     "name": "stderr",
     "output_type": "stream",
     "text": [
      "TMK: No data found, symbol may be delisted\n"
     ]
    },
    {
     "name": "stdout",
     "output_type": "stream",
     "text": [
      "symbol=%s, val=%s TMK nan\n"
     ]
    },
    {
     "name": "stderr",
     "output_type": "stream",
     "text": [
      "TML: No price data found, symbol may be delisted (period=3mo)\n"
     ]
    },
    {
     "name": "stdout",
     "output_type": "stream",
     "text": [
      "symbol=%s, val=%s TML nan\n"
     ]
    },
    {
     "name": "stderr",
     "output_type": "stream",
     "text": [
      "TMR: No price data found, symbol may be delisted (period=3mo)\n"
     ]
    },
    {
     "name": "stdout",
     "output_type": "stream",
     "text": [
      "symbol=%s, val=%s TMR nan\n"
     ]
    },
    {
     "name": "stderr",
     "output_type": "stream",
     "text": [
      "TMS: No price data found, symbol may be delisted (period=3mo)\n"
     ]
    },
    {
     "name": "stdout",
     "output_type": "stream",
     "text": [
      "symbol=%s, val=%s TMS nan\n"
     ]
    },
    {
     "name": "stderr",
     "output_type": "stream",
     "text": [
      "TMT: No price data found, symbol may be delisted (period=3mo)\n"
     ]
    },
    {
     "name": "stdout",
     "output_type": "stream",
     "text": [
      "symbol=%s, val=%s TMT nan\n"
     ]
    },
    {
     "name": "stderr",
     "output_type": "stream",
     "text": [
      "TMX: No data found, symbol may be delisted\n"
     ]
    },
    {
     "name": "stdout",
     "output_type": "stream",
     "text": [
      "symbol=%s, val=%s TMX nan\n"
     ]
    },
    {
     "name": "stderr",
     "output_type": "stream",
     "text": [
      "TMZ: No price data found, symbol may be delisted (period=3mo)\n"
     ]
    },
    {
     "name": "stdout",
     "output_type": "stream",
     "text": [
      "symbol=%s, val=%s TMZ nan\n",
      "symbol=%s, val=%s TNC 11.950187627497968\n"
     ]
    },
    {
     "name": "stderr",
     "output_type": "stream",
     "text": [
      "TNE: No price data found, symbol may be delisted (period=3mo)\n"
     ]
    },
    {
     "name": "stdout",
     "output_type": "stream",
     "text": [
      "symbol=%s, val=%s TNE nan\n"
     ]
    },
    {
     "name": "stderr",
     "output_type": "stream",
     "text": [
      "TNT: No data found, symbol may be delisted\n"
     ]
    },
    {
     "name": "stdout",
     "output_type": "stream",
     "text": [
      "symbol=%s, val=%s TNT nan\n"
     ]
    },
    {
     "name": "stderr",
     "output_type": "stream",
     "text": [
      "TNY: No price data found, symbol may be delisted (period=3mo)\n"
     ]
    },
    {
     "name": "stdout",
     "output_type": "stream",
     "text": [
      "symbol=%s, val=%s TNY nan\n"
     ]
    },
    {
     "name": "stderr",
     "output_type": "stream",
     "text": [
      "TOE: No price data found, symbol may be delisted (period=3mo)\n"
     ]
    },
    {
     "name": "stdout",
     "output_type": "stream",
     "text": [
      "symbol=%s, val=%s TOE nan\n"
     ]
    },
    {
     "name": "stderr",
     "output_type": "stream",
     "text": [
      "TON: No price data found, symbol may be delisted (period=3mo)\n"
     ]
    },
    {
     "name": "stdout",
     "output_type": "stream",
     "text": [
      "symbol=%s, val=%s TON nan\n",
      "symbol=%s, val=%s TOP 54.46808591802069\n"
     ]
    },
    {
     "name": "stderr",
     "output_type": "stream",
     "text": [
      "TOR: No price data found, symbol may be delisted (period=3mo)\n"
     ]
    },
    {
     "name": "stdout",
     "output_type": "stream",
     "text": [
      "symbol=%s, val=%s TOR nan\n"
     ]
    },
    {
     "name": "stderr",
     "output_type": "stream",
     "text": [
      "TOT: No data found, symbol may be delisted\n"
     ]
    },
    {
     "name": "stdout",
     "output_type": "stream",
     "text": [
      "symbol=%s, val=%s TOT nan\n"
     ]
    },
    {
     "name": "stderr",
     "output_type": "stream",
     "text": [
      "TOU: No price data found, symbol may be delisted (period=3mo)\n"
     ]
    },
    {
     "name": "stdout",
     "output_type": "stream",
     "text": [
      "symbol=%s, val=%s TOU nan\n"
     ]
    },
    {
     "name": "stderr",
     "output_type": "stream",
     "text": [
      "TOY: No price data found, symbol may be delisted (period=3mo)\n"
     ]
    },
    {
     "name": "stdout",
     "output_type": "stream",
     "text": [
      "symbol=%s, val=%s TOY nan\n",
      "symbol=%s, val=%s TPC 32.296135736101526\n"
     ]
    },
    {
     "name": "stderr",
     "output_type": "stream",
     "text": [
      "TPD: No price data found, symbol may be delisted (period=3mo)\n"
     ]
    },
    {
     "name": "stdout",
     "output_type": "stream",
     "text": [
      "symbol=%s, val=%s TPD nan\n",
      "symbol=%s, val=%s TPG 17.756710899277227\n"
     ]
    },
    {
     "name": "stderr",
     "output_type": "stream",
     "text": [
      "TPW: No price data found, symbol may be delisted (period=3mo)\n"
     ]
    },
    {
     "name": "stdout",
     "output_type": "stream",
     "text": [
      "symbol=%s, val=%s TPW nan\n"
     ]
    },
    {
     "name": "stderr",
     "output_type": "stream",
     "text": [
      "TRA: No price data found, symbol may be delisted (period=3mo)\n"
     ]
    },
    {
     "name": "stdout",
     "output_type": "stream",
     "text": [
      "symbol=%s, val=%s TRA nan\n"
     ]
    },
    {
     "name": "stderr",
     "output_type": "stream",
     "text": [
      "TRE: No price data found, symbol may be delisted (period=3mo)\n"
     ]
    },
    {
     "name": "stdout",
     "output_type": "stream",
     "text": [
      "symbol=%s, val=%s TRE nan\n"
     ]
    },
    {
     "name": "stderr",
     "output_type": "stream",
     "text": [
      "TRJ: No price data found, symbol may be delisted (period=3mo)\n"
     ]
    },
    {
     "name": "stdout",
     "output_type": "stream",
     "text": [
      "symbol=%s, val=%s TRJ nan\n"
     ]
    },
    {
     "name": "stderr",
     "output_type": "stream",
     "text": [
      "TRM: No price data found, symbol may be delisted (period=3mo)\n"
     ]
    },
    {
     "name": "stdout",
     "output_type": "stream",
     "text": [
      "symbol=%s, val=%s TRM nan\n",
      "symbol=%s, val=%s TRP 21.099159709211587\n",
      "symbol=%s, val=%s TRS 16.76460535882548\n",
      "symbol=%s, val=%s TRT 31.80515450036244\n",
      "symbol=%s, val=%s TRU 11.93957372014256\n",
      "symbol=%s, val=%s TSI 3.1847153747889414\n"
     ]
    },
    {
     "name": "stderr",
     "output_type": "stream",
     "text": [
      "TSK: No price data found, symbol may be delisted (period=3mo)\n"
     ]
    },
    {
     "name": "stdout",
     "output_type": "stream",
     "text": [
      "symbol=%s, val=%s TSK nan\n",
      "symbol=%s, val=%s TSL 35.29921759829401\n"
     ]
    },
    {
     "name": "stderr",
     "output_type": "stream",
     "text": [
      "TSO: No price data found, symbol may be delisted (period=3mo)\n"
     ]
    },
    {
     "name": "stdout",
     "output_type": "stream",
     "text": [
      "symbol=%s, val=%s TSO nan\n"
     ]
    },
    {
     "name": "stderr",
     "output_type": "stream",
     "text": [
      "TTA: No price data found, symbol may be delisted (period=3mo)\n"
     ]
    },
    {
     "name": "stdout",
     "output_type": "stream",
     "text": [
      "symbol=%s, val=%s TTA nan\n",
      "symbol=%s, val=%s TTI 57.75316449727143\n"
     ]
    },
    {
     "name": "stderr",
     "output_type": "stream",
     "text": [
      "TTM: No data found, symbol may be delisted\n"
     ]
    },
    {
     "name": "stdout",
     "output_type": "stream",
     "text": [
      "symbol=%s, val=%s TTM nan\n",
      "symbol=%s, val=%s TTT 29.15648955378372\n",
      "symbol=%s, val=%s TUA 7.566208806803148\n"
     ]
    },
    {
     "name": "stderr",
     "output_type": "stream",
     "text": [
      "TVL: No price data found, symbol may be delisted (period=3mo)\n"
     ]
    },
    {
     "name": "stdout",
     "output_type": "stream",
     "text": [
      "symbol=%s, val=%s TVL nan\n"
     ]
    },
    {
     "name": "stderr",
     "output_type": "stream",
     "text": [
      "TVN: No price data found, symbol may be delisted (period=3mo)\n"
     ]
    },
    {
     "name": "stdout",
     "output_type": "stream",
     "text": [
      "symbol=%s, val=%s TVN nan\n"
     ]
    },
    {
     "name": "stderr",
     "output_type": "stream",
     "text": [
      "TWD: No price data found, symbol may be delisted (period=3mo)\n"
     ]
    },
    {
     "name": "stdout",
     "output_type": "stream",
     "text": [
      "symbol=%s, val=%s TWD nan\n"
     ]
    },
    {
     "name": "stderr",
     "output_type": "stream",
     "text": [
      "TWE: No price data found, symbol may be delisted (period=3mo)\n"
     ]
    },
    {
     "name": "stdout",
     "output_type": "stream",
     "text": [
      "symbol=%s, val=%s TWE nan\n"
     ]
    },
    {
     "name": "stderr",
     "output_type": "stream",
     "text": [
      "TWR: No price data found, symbol may be delisted (period=3mo)\n"
     ]
    },
    {
     "name": "stdout",
     "output_type": "stream",
     "text": [
      "symbol=%s, val=%s TWR nan\n"
     ]
    },
    {
     "name": "stderr",
     "output_type": "stream",
     "text": [
      "TYM: No price data found, symbol may be delisted (period=3mo)\n"
     ]
    },
    {
     "name": "stdout",
     "output_type": "stream",
     "text": [
      "symbol=%s, val=%s TYM nan\n"
     ]
    },
    {
     "name": "stderr",
     "output_type": "stream",
     "text": [
      "TYR: No price data found, symbol may be delisted (period=3mo)\n"
     ]
    },
    {
     "name": "stdout",
     "output_type": "stream",
     "text": [
      "symbol=%s, val=%s TYR nan\n"
     ]
    },
    {
     "name": "stderr",
     "output_type": "stream",
     "text": [
      "TYX: No price data found, symbol may be delisted (period=3mo)\n"
     ]
    },
    {
     "name": "stdout",
     "output_type": "stream",
     "text": [
      "symbol=%s, val=%s TYX nan\n"
     ]
    },
    {
     "name": "stderr",
     "output_type": "stream",
     "text": [
      "TZL: No price data found, symbol may be delisted (period=3mo)\n"
     ]
    },
    {
     "name": "stdout",
     "output_type": "stream",
     "text": [
      "symbol=%s, val=%s TZL nan\n"
     ]
    },
    {
     "name": "stderr",
     "output_type": "stream",
     "text": [
      "TZN: No price data found, symbol may be delisted (period=3mo)\n"
     ]
    },
    {
     "name": "stdout",
     "output_type": "stream",
     "text": [
      "symbol=%s, val=%s TZN nan\n"
     ]
    },
    {
     "name": "stderr",
     "output_type": "stream",
     "text": [
      "UBI: No price data found, symbol may be delisted (period=3mo)\n"
     ]
    },
    {
     "name": "stdout",
     "output_type": "stream",
     "text": [
      "symbol=%s, val=%s UBI nan\n"
     ]
    },
    {
     "name": "stderr",
     "output_type": "stream",
     "text": [
      "UBN: No price data found, symbol may be delisted (period=3mo)\n"
     ]
    },
    {
     "name": "stdout",
     "output_type": "stream",
     "text": [
      "symbol=%s, val=%s UBN nan\n"
     ]
    },
    {
     "name": "stderr",
     "output_type": "stream",
     "text": [
      "UCM: No price data found, symbol may be delisted (period=3mo)\n"
     ]
    },
    {
     "name": "stdout",
     "output_type": "stream",
     "text": [
      "symbol=%s, val=%s UCM nan\n"
     ]
    },
    {
     "name": "stderr",
     "output_type": "stream",
     "text": [
      "UMG: No price data found, symbol may be delisted (period=3mo)\n"
     ]
    },
    {
     "name": "stdout",
     "output_type": "stream",
     "text": [
      "symbol=%s, val=%s UMG nan\n"
     ]
    },
    {
     "name": "stderr",
     "output_type": "stream",
     "text": [
      "UNI: No price data found, symbol may be delisted (period=3mo)\n"
     ]
    },
    {
     "name": "stdout",
     "output_type": "stream",
     "text": [
      "symbol=%s, val=%s UNI nan\n"
     ]
    },
    {
     "name": "stderr",
     "output_type": "stream",
     "text": [
      "UNT: No data found, symbol may be delisted\n"
     ]
    },
    {
     "name": "stdout",
     "output_type": "stream",
     "text": [
      "symbol=%s, val=%s UNT nan\n"
     ]
    },
    {
     "name": "stderr",
     "output_type": "stream",
     "text": [
      "UOS: Period '3mo' is invalid, must be one of ['1d', '5d']\n"
     ]
    },
    {
     "name": "stdout",
     "output_type": "stream",
     "text": [
      "symbol=%s, val=%s UOS nan\n"
     ]
    },
    {
     "name": "stderr",
     "output_type": "stream",
     "text": [
      "URF: Period '3mo' is invalid, must be one of ['1d', '5d']\n"
     ]
    },
    {
     "name": "stdout",
     "output_type": "stream",
     "text": [
      "symbol=%s, val=%s URF nan\n"
     ]
    },
    {
     "name": "stderr",
     "output_type": "stream",
     "text": [
      "URW: No price data found, symbol may be delisted (period=3mo)\n"
     ]
    },
    {
     "name": "stdout",
     "output_type": "stream",
     "text": [
      "symbol=%s, val=%s URW nan\n",
      "symbol=%s, val=%s USL 21.326659061462266\n"
     ]
    },
    {
     "name": "stderr",
     "output_type": "stream",
     "text": [
      "USQ: Period '3mo' is invalid, must be one of ['1d', '5d']\n"
     ]
    },
    {
     "name": "stdout",
     "output_type": "stream",
     "text": [
      "symbol=%s, val=%s USQ nan\n"
     ]
    },
    {
     "name": "stderr",
     "output_type": "stream",
     "text": [
      "UVA: No price data found, symbol may be delisted (period=3mo)\n"
     ]
    },
    {
     "name": "stdout",
     "output_type": "stream",
     "text": [
      "symbol=%s, val=%s UVA nan\n",
      "symbol=%s, val=%s VAL 29.637607618258034\n"
     ]
    },
    {
     "name": "stderr",
     "output_type": "stream",
     "text": [
      "VAR: No data found, symbol may be delisted\n"
     ]
    },
    {
     "name": "stdout",
     "output_type": "stream",
     "text": [
      "symbol=%s, val=%s VAR nan\n"
     ]
    },
    {
     "name": "stderr",
     "output_type": "stream",
     "text": [
      "VBC: No price data found, symbol may be delisted (period=3mo)\n"
     ]
    },
    {
     "name": "stdout",
     "output_type": "stream",
     "text": [
      "symbol=%s, val=%s VBC nan\n"
     ]
    },
    {
     "name": "stderr",
     "output_type": "stream",
     "text": [
      "VBS: No price data found, symbol may be delisted (period=3mo)\n"
     ]
    },
    {
     "name": "stdout",
     "output_type": "stream",
     "text": [
      "symbol=%s, val=%s VBS nan\n"
     ]
    },
    {
     "name": "stderr",
     "output_type": "stream",
     "text": [
      "VCX: No price data found, symbol may be delisted (period=3mo)\n"
     ]
    },
    {
     "name": "stdout",
     "output_type": "stream",
     "text": [
      "symbol=%s, val=%s VCX nan\n",
      "symbol=%s, val=%s VEA 7.404310424272357\n"
     ]
    },
    {
     "name": "stderr",
     "output_type": "stream",
     "text": [
      "VEE: No price data found, symbol may be delisted (period=3mo)\n"
     ]
    },
    {
     "name": "stdout",
     "output_type": "stream",
     "text": [
      "symbol=%s, val=%s VEE nan\n"
     ]
    },
    {
     "name": "stderr",
     "output_type": "stream",
     "text": [
      "VEN: No price data found, symbol may be delisted (period=3mo)\n"
     ]
    },
    {
     "name": "stdout",
     "output_type": "stream",
     "text": [
      "symbol=%s, val=%s VEN nan\n"
     ]
    },
    {
     "name": "stderr",
     "output_type": "stream",
     "text": [
      "VG1: No data found, symbol may be delisted\n"
     ]
    },
    {
     "name": "stdout",
     "output_type": "stream",
     "text": [
      "symbol=%s, val=%s VG1 nan\n"
     ]
    },
    {
     "name": "stderr",
     "output_type": "stream",
     "text": [
      "VGL: No price data found, symbol may be delisted (period=3mo)\n"
     ]
    },
    {
     "name": "stdout",
     "output_type": "stream",
     "text": [
      "symbol=%s, val=%s VGL nan\n"
     ]
    },
    {
     "name": "stderr",
     "output_type": "stream",
     "text": [
      "VHM: No price data found, symbol may be delisted (period=3mo)\n"
     ]
    },
    {
     "name": "stdout",
     "output_type": "stream",
     "text": [
      "symbol=%s, val=%s VHM nan\n",
      "symbol=%s, val=%s VHT 5.339957326354374\n",
      "symbol=%s, val=%s VIG 5.229187775205111\n"
     ]
    },
    {
     "name": "stderr",
     "output_type": "stream",
     "text": [
      "VIP: No price data found, symbol may be delisted (period=3mo)\n"
     ]
    },
    {
     "name": "stdout",
     "output_type": "stream",
     "text": [
      "symbol=%s, val=%s VIP nan\n"
     ]
    },
    {
     "name": "stderr",
     "output_type": "stream",
     "text": [
      "VIT: No price data found, symbol may be delisted (period=3mo)\n"
     ]
    },
    {
     "name": "stdout",
     "output_type": "stream",
     "text": [
      "symbol=%s, val=%s VIT nan\n"
     ]
    },
    {
     "name": "stderr",
     "output_type": "stream",
     "text": [
      "VKA: No price data found, symbol may be delisted (period=3mo)\n"
     ]
    },
    {
     "name": "stdout",
     "output_type": "stream",
     "text": [
      "symbol=%s, val=%s VKA nan\n"
     ]
    },
    {
     "name": "stderr",
     "output_type": "stream",
     "text": [
      "VLS: No price data found, symbol may be delisted (period=3mo)\n"
     ]
    },
    {
     "name": "stdout",
     "output_type": "stream",
     "text": [
      "symbol=%s, val=%s VLS nan\n"
     ]
    },
    {
     "name": "stderr",
     "output_type": "stream",
     "text": [
      "VMG: No price data found, symbol may be delisted (period=3mo)\n"
     ]
    },
    {
     "name": "stdout",
     "output_type": "stream",
     "text": [
      "symbol=%s, val=%s VMG nan\n"
     ]
    },
    {
     "name": "stderr",
     "output_type": "stream",
     "text": [
      "VML: No price data found, symbol may be delisted (period=3mo)\n"
     ]
    },
    {
     "name": "stdout",
     "output_type": "stream",
     "text": [
      "symbol=%s, val=%s VML nan\n"
     ]
    },
    {
     "name": "stderr",
     "output_type": "stream",
     "text": [
      "VMM: No data found, symbol may be delisted\n"
     ]
    },
    {
     "name": "stdout",
     "output_type": "stream",
     "text": [
      "symbol=%s, val=%s VMM nan\n"
     ]
    },
    {
     "name": "stderr",
     "output_type": "stream",
     "text": [
      "VMS: No price data found, symbol may be delisted (period=3mo)\n"
     ]
    },
    {
     "name": "stdout",
     "output_type": "stream",
     "text": [
      "symbol=%s, val=%s VMS nan\n"
     ]
    },
    {
     "name": "stderr",
     "output_type": "stream",
     "text": [
      "VMT: No price data found, symbol may be delisted (period=3mo)\n"
     ]
    },
    {
     "name": "stdout",
     "output_type": "stream",
     "text": [
      "symbol=%s, val=%s VMT nan\n"
     ]
    },
    {
     "name": "stderr",
     "output_type": "stream",
     "text": [
      "VN8: No data found, symbol may be delisted\n"
     ]
    },
    {
     "name": "stdout",
     "output_type": "stream",
     "text": [
      "symbol=%s, val=%s VN8 nan\n",
      "symbol=%s, val=%s VNT 12.773999346974591\n"
     ]
    },
    {
     "name": "stderr",
     "output_type": "stream",
     "text": [
      "VPR: No price data found, symbol may be delisted (period=3mo)\n"
     ]
    },
    {
     "name": "stdout",
     "output_type": "stream",
     "text": [
      "symbol=%s, val=%s VPR nan\n"
     ]
    },
    {
     "name": "stderr",
     "output_type": "stream",
     "text": [
      "VR1: No data found, symbol may be delisted\n"
     ]
    },
    {
     "name": "stdout",
     "output_type": "stream",
     "text": [
      "symbol=%s, val=%s VR1 nan\n"
     ]
    },
    {
     "name": "stderr",
     "output_type": "stream",
     "text": [
      "VR8: No data found, symbol may be delisted\n"
     ]
    },
    {
     "name": "stdout",
     "output_type": "stream",
     "text": [
      "symbol=%s, val=%s VR8 nan\n"
     ]
    },
    {
     "name": "stderr",
     "output_type": "stream",
     "text": [
      "VRC: No price data found, symbol may be delisted (period=3mo)\n"
     ]
    },
    {
     "name": "stdout",
     "output_type": "stream",
     "text": [
      "symbol=%s, val=%s VRC nan\n"
     ]
    },
    {
     "name": "stderr",
     "output_type": "stream",
     "text": [
      "VRS: No data found, symbol may be delisted\n"
     ]
    },
    {
     "name": "stdout",
     "output_type": "stream",
     "text": [
      "symbol=%s, val=%s VRS nan\n"
     ]
    },
    {
     "name": "stderr",
     "output_type": "stream",
     "text": [
      "VRX: No price data found, symbol may be delisted (period=3mo)\n"
     ]
    },
    {
     "name": "stdout",
     "output_type": "stream",
     "text": [
      "symbol=%s, val=%s VRX nan\n"
     ]
    },
    {
     "name": "stderr",
     "output_type": "stream",
     "text": [
      "VSL: No price data found, symbol may be delisted (period=3mo)\n"
     ]
    },
    {
     "name": "stdout",
     "output_type": "stream",
     "text": [
      "symbol=%s, val=%s VSL nan\n"
     ]
    },
    {
     "name": "stderr",
     "output_type": "stream",
     "text": [
      "VSR: No price data found, symbol may be delisted (period=3mo)\n"
     ]
    },
    {
     "name": "stdout",
     "output_type": "stream",
     "text": [
      "symbol=%s, val=%s VSR nan\n",
      "symbol=%s, val=%s VTI 6.47683179106075\n"
     ]
    },
    {
     "name": "stderr",
     "output_type": "stream",
     "text": [
      "VTM: No price data found, symbol may be delisted (period=3mo)\n"
     ]
    },
    {
     "name": "stdout",
     "output_type": "stream",
     "text": [
      "symbol=%s, val=%s VTM nan\n"
     ]
    },
    {
     "name": "stderr",
     "output_type": "stream",
     "text": [
      "VTX: No price data found, symbol may be delisted (period=3mo)\n"
     ]
    },
    {
     "name": "stdout",
     "output_type": "stream",
     "text": [
      "symbol=%s, val=%s VTX nan\n"
     ]
    },
    {
     "name": "stderr",
     "output_type": "stream",
     "text": [
      "VUK: Period '3mo' is invalid, must be one of ['1d', '5d']\n"
     ]
    },
    {
     "name": "stdout",
     "output_type": "stream",
     "text": [
      "symbol=%s, val=%s VUK nan\n"
     ]
    },
    {
     "name": "stderr",
     "output_type": "stream",
     "text": [
      "VUL: No price data found, symbol may be delisted (period=3mo)\n"
     ]
    },
    {
     "name": "stdout",
     "output_type": "stream",
     "text": [
      "symbol=%s, val=%s VUL nan\n"
     ]
    },
    {
     "name": "stderr",
     "output_type": "stream",
     "text": [
      "VVA: No price data found, symbol may be delisted (period=3mo)\n"
     ]
    },
    {
     "name": "stdout",
     "output_type": "stream",
     "text": [
      "symbol=%s, val=%s VVA nan\n"
     ]
    },
    {
     "name": "stderr",
     "output_type": "stream",
     "text": [
      "VYS: No price data found, symbol may be delisted (period=3mo)\n"
     ]
    },
    {
     "name": "stdout",
     "output_type": "stream",
     "text": [
      "symbol=%s, val=%s VYS nan\n"
     ]
    },
    {
     "name": "stderr",
     "output_type": "stream",
     "text": [
      "W2V: No data found, symbol may be delisted\n"
     ]
    },
    {
     "name": "stdout",
     "output_type": "stream",
     "text": [
      "symbol=%s, val=%s W2V nan\n"
     ]
    },
    {
     "name": "stderr",
     "output_type": "stream",
     "text": [
      "WA1: No data found, symbol may be delisted\n"
     ]
    },
    {
     "name": "stdout",
     "output_type": "stream",
     "text": [
      "symbol=%s, val=%s WA1 nan\n"
     ]
    },
    {
     "name": "stderr",
     "output_type": "stream",
     "text": [
      "WA8: No data found, symbol may be delisted\n"
     ]
    },
    {
     "name": "stdout",
     "output_type": "stream",
     "text": [
      "symbol=%s, val=%s WA8 nan\n"
     ]
    },
    {
     "name": "stderr",
     "output_type": "stream",
     "text": [
      "WAA: No price data found, symbol may be delisted (period=3mo)\n"
     ]
    },
    {
     "name": "stdout",
     "output_type": "stream",
     "text": [
      "symbol=%s, val=%s WAA nan\n"
     ]
    },
    {
     "name": "stderr",
     "output_type": "stream",
     "text": [
      "WAF: No price data found, symbol may be delisted (period=3mo)\n"
     ]
    },
    {
     "name": "stdout",
     "output_type": "stream",
     "text": [
      "symbol=%s, val=%s WAF nan\n"
     ]
    },
    {
     "name": "stderr",
     "output_type": "stream",
     "text": [
      "WAK: No price data found, symbol may be delisted (period=3mo)\n"
     ]
    },
    {
     "name": "stdout",
     "output_type": "stream",
     "text": [
      "symbol=%s, val=%s WAK nan\n"
     ]
    },
    {
     "name": "stderr",
     "output_type": "stream",
     "text": [
      "WAM: Period '3mo' is invalid, must be one of ['1d', '5d']\n"
     ]
    },
    {
     "name": "stdout",
     "output_type": "stream",
     "text": [
      "symbol=%s, val=%s WAM nan\n"
     ]
    },
    {
     "name": "stderr",
     "output_type": "stream",
     "text": [
      "WAR: No price data found, symbol may be delisted (period=3mo)\n"
     ]
    },
    {
     "name": "stdout",
     "output_type": "stream",
     "text": [
      "symbol=%s, val=%s WAR nan\n",
      "symbol=%s, val=%s WAT 15.586658023215358\n"
     ]
    },
    {
     "name": "stderr",
     "output_type": "stream",
     "text": [
      "WAX: No price data found, symbol may be delisted (period=3mo)\n"
     ]
    },
    {
     "name": "stdout",
     "output_type": "stream",
     "text": [
      "symbol=%s, val=%s WAX nan\n"
     ]
    },
    {
     "name": "stderr",
     "output_type": "stream",
     "text": [
      "WBC: No data found, symbol may be delisted\n"
     ]
    },
    {
     "name": "stdout",
     "output_type": "stream",
     "text": [
      "symbol=%s, val=%s WBC nan\n"
     ]
    },
    {
     "name": "stderr",
     "output_type": "stream",
     "text": [
      "WBE: No price data found, symbol may be delisted (period=3mo)\n"
     ]
    },
    {
     "name": "stdout",
     "output_type": "stream",
     "text": [
      "symbol=%s, val=%s WBE nan\n"
     ]
    },
    {
     "name": "stderr",
     "output_type": "stream",
     "text": [
      "WBT: No data found, symbol may be delisted\n"
     ]
    },
    {
     "name": "stdout",
     "output_type": "stream",
     "text": [
      "symbol=%s, val=%s WBT nan\n"
     ]
    },
    {
     "name": "stderr",
     "output_type": "stream",
     "text": [
      "WC1: No data found, symbol may be delisted\n"
     ]
    },
    {
     "name": "stdout",
     "output_type": "stream",
     "text": [
      "symbol=%s, val=%s WC1 nan\n"
     ]
    },
    {
     "name": "stderr",
     "output_type": "stream",
     "text": [
      "WC8: No data found, symbol may be delisted\n"
     ]
    },
    {
     "name": "stdout",
     "output_type": "stream",
     "text": [
      "symbol=%s, val=%s WC8 nan\n"
     ]
    },
    {
     "name": "stderr",
     "output_type": "stream",
     "text": [
      "WCG: No data found, symbol may be delisted\n"
     ]
    },
    {
     "name": "stdout",
     "output_type": "stream",
     "text": [
      "symbol=%s, val=%s WCG nan\n",
      "symbol=%s, val=%s WCN 7.630608005100072\n",
      "symbol=%s, val=%s WDS 13.46749040900375\n"
     ]
    },
    {
     "name": "stderr",
     "output_type": "stream",
     "text": [
      "WEB: No price data found, symbol may be delisted (period=3mo)\n"
     ]
    },
    {
     "name": "stdout",
     "output_type": "stream",
     "text": [
      "symbol=%s, val=%s WEB nan\n",
      "symbol=%s, val=%s WEC 12.787835589780288\n",
      "symbol=%s, val=%s WEL 6.996960427365455\n",
      "symbol=%s, val=%s WES 11.377872247061777\n"
     ]
    },
    {
     "name": "stderr",
     "output_type": "stream",
     "text": [
      "WFL: Period '3mo' is invalid, must be one of ['1d', '5d']\n"
     ]
    },
    {
     "name": "stdout",
     "output_type": "stream",
     "text": [
      "symbol=%s, val=%s WFL nan\n"
     ]
    },
    {
     "name": "stderr",
     "output_type": "stream",
     "text": [
      "WGB: No price data found, symbol may be delisted (period=3mo)\n"
     ]
    },
    {
     "name": "stdout",
     "output_type": "stream",
     "text": [
      "symbol=%s, val=%s WGB nan\n"
     ]
    },
    {
     "name": "stderr",
     "output_type": "stream",
     "text": [
      "WGN: No price data found, symbol may be delisted (period=3mo)\n"
     ]
    },
    {
     "name": "stdout",
     "output_type": "stream",
     "text": [
      "symbol=%s, val=%s WGN nan\n"
     ]
    },
    {
     "name": "stderr",
     "output_type": "stream",
     "text": [
      "WGR: No price data found, symbol may be delisted (period=3mo)\n"
     ]
    },
    {
     "name": "stdout",
     "output_type": "stream",
     "text": [
      "symbol=%s, val=%s WGR nan\n"
     ]
    },
    {
     "name": "stderr",
     "output_type": "stream",
     "text": [
      "WGX: No price data found, symbol may be delisted (period=3mo)\n"
     ]
    },
    {
     "name": "stdout",
     "output_type": "stream",
     "text": [
      "symbol=%s, val=%s WGX nan\n"
     ]
    },
    {
     "name": "stderr",
     "output_type": "stream",
     "text": [
      "WHC: No price data found, symbol may be delisted (period=3mo)\n"
     ]
    },
    {
     "name": "stdout",
     "output_type": "stream",
     "text": [
      "symbol=%s, val=%s WHC nan\n",
      "symbol=%s, val=%s WHF 10.080344799601255\n"
     ]
    },
    {
     "name": "stderr",
     "output_type": "stream",
     "text": [
      "WHK: No price data found, symbol may be delisted (period=3mo)\n"
     ]
    },
    {
     "name": "stdout",
     "output_type": "stream",
     "text": [
      "symbol=%s, val=%s WHK nan\n",
      "symbol=%s, val=%s WIA 4.929578095400559\n"
     ]
    },
    {
     "name": "stderr",
     "output_type": "stream",
     "text": [
      "WIN: No data found, symbol may be delisted\n"
     ]
    },
    {
     "name": "stdout",
     "output_type": "stream",
     "text": [
      "symbol=%s, val=%s WIN nan\n"
     ]
    },
    {
     "name": "stderr",
     "output_type": "stream",
     "text": [
      "WKT: No price data found, symbol may be delisted (period=3mo)\n"
     ]
    },
    {
     "name": "stdout",
     "output_type": "stream",
     "text": [
      "symbol=%s, val=%s WKT nan\n"
     ]
    },
    {
     "name": "stderr",
     "output_type": "stream",
     "text": [
      "WLD: No price data found, symbol may be delisted (period=3mo)\n"
     ]
    },
    {
     "name": "stdout",
     "output_type": "stream",
     "text": [
      "symbol=%s, val=%s WLD nan\n"
     ]
    },
    {
     "name": "stderr",
     "output_type": "stream",
     "text": [
      "WLE: Period '3mo' is invalid, must be one of ['1d', '5d']\n"
     ]
    },
    {
     "name": "stdout",
     "output_type": "stream",
     "text": [
      "symbol=%s, val=%s WLE nan\n"
     ]
    },
    {
     "name": "stderr",
     "output_type": "stream",
     "text": [
      "WMA: Period '3mo' is invalid, must be one of ['1d', '5d']\n"
     ]
    },
    {
     "name": "stdout",
     "output_type": "stream",
     "text": [
      "symbol=%s, val=%s WMA nan\n",
      "symbol=%s, val=%s WMC 25.528012846666954\n",
      "symbol=%s, val=%s WMG 27.533684202057835\n"
     ]
    },
    {
     "name": "stderr",
     "output_type": "stream",
     "text": [
      "WMI: No price data found, symbol may be delisted (period=3mo)\n"
     ]
    },
    {
     "name": "stdout",
     "output_type": "stream",
     "text": [
      "symbol=%s, val=%s WMI nan\n"
     ]
    },
    {
     "name": "stderr",
     "output_type": "stream",
     "text": [
      "WML: No price data found, symbol may be delisted (period=3mo)\n"
     ]
    },
    {
     "name": "stdout",
     "output_type": "stream",
     "text": [
      "symbol=%s, val=%s WML nan\n"
     ]
    },
    {
     "name": "stderr",
     "output_type": "stream",
     "text": [
      "WNR: No price data found, symbol may be delisted (period=3mo)\n"
     ]
    },
    {
     "name": "stdout",
     "output_type": "stream",
     "text": [
      "symbol=%s, val=%s WNR nan\n"
     ]
    },
    {
     "name": "stderr",
     "output_type": "stream",
     "text": [
      "WNX: Period '3mo' is invalid, must be one of ['1d', '5d']\n"
     ]
    },
    {
     "name": "stdout",
     "output_type": "stream",
     "text": [
      "symbol=%s, val=%s WNX nan\n"
     ]
    },
    {
     "name": "stderr",
     "output_type": "stream",
     "text": [
      "WOA: No price data found, symbol may be delisted (period=3mo)\n"
     ]
    },
    {
     "name": "stdout",
     "output_type": "stream",
     "text": [
      "symbol=%s, val=%s WOA nan\n",
      "symbol=%s, val=%s WOR 22.823557978373987\n"
     ]
    },
    {
     "name": "stderr",
     "output_type": "stream",
     "text": [
      "WOT: Period '3mo' is invalid, must be one of ['1d', '5d']\n"
     ]
    },
    {
     "name": "stdout",
     "output_type": "stream",
     "text": [
      "symbol=%s, val=%s WOT nan\n",
      "symbol=%s, val=%s WOW 20.640179644443705\n"
     ]
    },
    {
     "name": "stderr",
     "output_type": "stream",
     "text": [
      "WPR: No price data found, symbol may be delisted (period=3mo)\n"
     ]
    },
    {
     "name": "stdout",
     "output_type": "stream",
     "text": [
      "symbol=%s, val=%s WPR nan\n"
     ]
    },
    {
     "name": "stderr",
     "output_type": "stream",
     "text": [
      "WQG: Period '3mo' is invalid, must be one of ['1d', '5d']\n"
     ]
    },
    {
     "name": "stdout",
     "output_type": "stream",
     "text": [
      "symbol=%s, val=%s WQG nan\n"
     ]
    },
    {
     "name": "stderr",
     "output_type": "stream",
     "text": [
      "WR1: No data found, symbol may be delisted\n"
     ]
    },
    {
     "name": "stdout",
     "output_type": "stream",
     "text": [
      "symbol=%s, val=%s WR1 nan\n",
      "symbol=%s, val=%s WRK 23.884367032751257\n"
     ]
    },
    {
     "name": "stderr",
     "output_type": "stream",
     "text": [
      "WRM: No price data found, symbol may be delisted (period=3mo)\n"
     ]
    },
    {
     "name": "stdout",
     "output_type": "stream",
     "text": [
      "symbol=%s, val=%s WRM nan\n"
     ]
    },
    {
     "name": "stderr",
     "output_type": "stream",
     "text": [
      "WSI: No price data found, symbol may be delisted (period=3mo)\n"
     ]
    },
    {
     "name": "stdout",
     "output_type": "stream",
     "text": [
      "symbol=%s, val=%s WSI nan\n"
     ]
    },
    {
     "name": "stderr",
     "output_type": "stream",
     "text": [
      "WSP: No price data found, symbol may be delisted (period=3mo)\n"
     ]
    },
    {
     "name": "stdout",
     "output_type": "stream",
     "text": [
      "symbol=%s, val=%s WSP nan\n",
      "symbol=%s, val=%s WSR 13.500929610487077\n"
     ]
    },
    {
     "name": "stderr",
     "output_type": "stream",
     "text": [
      "WTC: No price data found, symbol may be delisted (period=3mo)\n"
     ]
    },
    {
     "name": "stdout",
     "output_type": "stream",
     "text": [
      "symbol=%s, val=%s WTC nan\n"
     ]
    },
    {
     "name": "stderr",
     "output_type": "stream",
     "text": [
      "WTL: No price data found, symbol may be delisted (period=3mo)\n"
     ]
    },
    {
     "name": "stdout",
     "output_type": "stream",
     "text": [
      "symbol=%s, val=%s WTL nan\n"
     ]
    },
    {
     "name": "stderr",
     "output_type": "stream",
     "text": [
      "WTN: No price data found, symbol may be delisted (period=3mo)\n"
     ]
    },
    {
     "name": "stdout",
     "output_type": "stream",
     "text": [
      "symbol=%s, val=%s WTN nan\n"
     ]
    },
    {
     "name": "stderr",
     "output_type": "stream",
     "text": [
      "WWG: No price data found, symbol may be delisted (period=3mo)\n"
     ]
    },
    {
     "name": "stdout",
     "output_type": "stream",
     "text": [
      "symbol=%s, val=%s WWG nan\n"
     ]
    },
    {
     "name": "stderr",
     "output_type": "stream",
     "text": [
      "WWI: No price data found, symbol may be delisted (period=3mo)\n"
     ]
    },
    {
     "name": "stdout",
     "output_type": "stream",
     "text": [
      "symbol=%s, val=%s WWI nan\n"
     ]
    },
    {
     "name": "stderr",
     "output_type": "stream",
     "text": [
      "WYX: Period '3mo' is invalid, must be one of ['1d', '5d']\n"
     ]
    },
    {
     "name": "stdout",
     "output_type": "stream",
     "text": [
      "symbol=%s, val=%s WYX nan\n"
     ]
    },
    {
     "name": "stderr",
     "output_type": "stream",
     "text": [
      "WZR: No price data found, symbol may be delisted (period=3mo)\n"
     ]
    },
    {
     "name": "stdout",
     "output_type": "stream",
     "text": [
      "symbol=%s, val=%s WZR nan\n"
     ]
    },
    {
     "name": "stderr",
     "output_type": "stream",
     "text": [
      "X2M: No data found, symbol may be delisted\n"
     ]
    },
    {
     "name": "stdout",
     "output_type": "stream",
     "text": [
      "symbol=%s, val=%s X2M nan\n"
     ]
    },
    {
     "name": "stderr",
     "output_type": "stream",
     "text": [
      "X64: No data found, symbol may be delisted\n"
     ]
    },
    {
     "name": "stdout",
     "output_type": "stream",
     "text": [
      "symbol=%s, val=%s X64 nan\n"
     ]
    },
    {
     "name": "stderr",
     "output_type": "stream",
     "text": [
      "XAM: No price data found, symbol may be delisted (period=3mo)\n"
     ]
    },
    {
     "name": "stdout",
     "output_type": "stream",
     "text": [
      "symbol=%s, val=%s XAM nan\n"
     ]
    },
    {
     "name": "stderr",
     "output_type": "stream",
     "text": [
      "XF1: No data found, symbol may be delisted\n"
     ]
    },
    {
     "name": "stdout",
     "output_type": "stream",
     "text": [
      "symbol=%s, val=%s XF1 nan\n"
     ]
    },
    {
     "name": "stderr",
     "output_type": "stream",
     "text": [
      "XGL: Period '3mo' is invalid, must be one of ['1d', '5d']\n"
     ]
    },
    {
     "name": "stdout",
     "output_type": "stream",
     "text": [
      "symbol=%s, val=%s XGL nan\n"
     ]
    },
    {
     "name": "stderr",
     "output_type": "stream",
     "text": [
      "XPN: Period '3mo' is invalid, must be one of ['1d', '5d']\n"
     ]
    },
    {
     "name": "stdout",
     "output_type": "stream",
     "text": [
      "symbol=%s, val=%s XPN nan\n"
     ]
    },
    {
     "name": "stderr",
     "output_type": "stream",
     "text": [
      "XRF: No data found, symbol may be delisted\n"
     ]
    },
    {
     "name": "stdout",
     "output_type": "stream",
     "text": [
      "symbol=%s, val=%s XRF nan\n"
     ]
    },
    {
     "name": "stderr",
     "output_type": "stream",
     "text": [
      "XRG: No price data found, symbol may be delisted (period=3mo)\n"
     ]
    },
    {
     "name": "stdout",
     "output_type": "stream",
     "text": [
      "symbol=%s, val=%s XRG nan\n"
     ]
    },
    {
     "name": "stderr",
     "output_type": "stream",
     "text": [
      "XRO: No price data found, symbol may be delisted (period=3mo)\n"
     ]
    },
    {
     "name": "stdout",
     "output_type": "stream",
     "text": [
      "symbol=%s, val=%s XRO nan\n"
     ]
    },
    {
     "name": "stderr",
     "output_type": "stream",
     "text": [
      "XST: No price data found, symbol may be delisted (period=3mo)\n"
     ]
    },
    {
     "name": "stdout",
     "output_type": "stream",
     "text": [
      "symbol=%s, val=%s XST nan\n"
     ]
    },
    {
     "name": "stderr",
     "output_type": "stream",
     "text": [
      "XTC: No price data found, symbol may be delisted (period=3mo)\n"
     ]
    },
    {
     "name": "stdout",
     "output_type": "stream",
     "text": [
      "symbol=%s, val=%s XTC nan\n"
     ]
    },
    {
     "name": "stderr",
     "output_type": "stream",
     "text": [
      "XTE: No price data found, symbol may be delisted (period=3mo)\n"
     ]
    },
    {
     "name": "stdout",
     "output_type": "stream",
     "text": [
      "symbol=%s, val=%s XTE nan\n"
     ]
    },
    {
     "name": "stderr",
     "output_type": "stream",
     "text": [
      "YAL: No price data found, symbol may be delisted (period=3mo)\n"
     ]
    },
    {
     "name": "stdout",
     "output_type": "stream",
     "text": [
      "symbol=%s, val=%s YAL nan\n"
     ]
    },
    {
     "name": "stderr",
     "output_type": "stream",
     "text": [
      "YAR: No price data found, symbol may be delisted (period=3mo)\n"
     ]
    },
    {
     "name": "stdout",
     "output_type": "stream",
     "text": [
      "symbol=%s, val=%s YAR nan\n"
     ]
    },
    {
     "name": "stderr",
     "output_type": "stream",
     "text": [
      "YBR: No price data found, symbol may be delisted (period=3mo)\n"
     ]
    },
    {
     "name": "stdout",
     "output_type": "stream",
     "text": [
      "symbol=%s, val=%s YBR nan\n"
     ]
    },
    {
     "name": "stderr",
     "output_type": "stream",
     "text": [
      "YOJ: No price data found, symbol may be delisted (period=3mo)\n"
     ]
    },
    {
     "name": "stdout",
     "output_type": "stream",
     "text": [
      "symbol=%s, val=%s YOJ nan\n"
     ]
    },
    {
     "name": "stderr",
     "output_type": "stream",
     "text": [
      "YOW: Period '3mo' is invalid, must be one of ['1d', '5d']\n"
     ]
    },
    {
     "name": "stdout",
     "output_type": "stream",
     "text": [
      "symbol=%s, val=%s YOW nan\n"
     ]
    },
    {
     "name": "stderr",
     "output_type": "stream",
     "text": [
      "YPB: No price data found, symbol may be delisted (period=3mo)\n"
     ]
    },
    {
     "name": "stdout",
     "output_type": "stream",
     "text": [
      "symbol=%s, val=%s YPB nan\n"
     ]
    },
    {
     "name": "stderr",
     "output_type": "stream",
     "text": [
      "YRL: No price data found, symbol may be delisted (period=3mo)\n"
     ]
    },
    {
     "name": "stdout",
     "output_type": "stream",
     "text": [
      "symbol=%s, val=%s YRL nan\n"
     ]
    },
    {
     "name": "stderr",
     "output_type": "stream",
     "text": [
      "Z2U: No data found, symbol may be delisted\n"
     ]
    },
    {
     "name": "stdout",
     "output_type": "stream",
     "text": [
      "symbol=%s, val=%s Z2U nan\n"
     ]
    },
    {
     "name": "stderr",
     "output_type": "stream",
     "text": [
      "ZAG: No price data found, symbol may be delisted (period=3mo)\n"
     ]
    },
    {
     "name": "stdout",
     "output_type": "stream",
     "text": [
      "symbol=%s, val=%s ZAG nan\n"
     ]
    },
    {
     "name": "stderr",
     "output_type": "stream",
     "text": [
      "ZEO: No price data found, symbol may be delisted (period=3mo)\n"
     ]
    },
    {
     "name": "stdout",
     "output_type": "stream",
     "text": [
      "symbol=%s, val=%s ZEO nan\n"
     ]
    },
    {
     "name": "stderr",
     "output_type": "stream",
     "text": [
      "ZER: No price data found, symbol may be delisted (period=3mo)\n"
     ]
    },
    {
     "name": "stdout",
     "output_type": "stream",
     "text": [
      "symbol=%s, val=%s ZER nan\n"
     ]
    },
    {
     "name": "stderr",
     "output_type": "stream",
     "text": [
      "ZEU: No price data found, symbol may be delisted (period=3mo)\n"
     ]
    },
    {
     "name": "stdout",
     "output_type": "stream",
     "text": [
      "symbol=%s, val=%s ZEU nan\n"
     ]
    },
    {
     "name": "stderr",
     "output_type": "stream",
     "text": [
      "ZGL: No price data found, symbol may be delisted (period=3mo)\n"
     ]
    },
    {
     "name": "stdout",
     "output_type": "stream",
     "text": [
      "symbol=%s, val=%s ZGL nan\n",
      "symbol=%s, val=%s ZIM 27.855711768781354\n",
      "symbol=%s, val=%s ZIP 28.20114191741033\n"
     ]
    },
    {
     "name": "stderr",
     "output_type": "stream",
     "text": [
      "ZLD: No price data found, symbol may be delisted (period=3mo)\n"
     ]
    },
    {
     "name": "stdout",
     "output_type": "stream",
     "text": [
      "symbol=%s, val=%s ZLD nan\n"
     ]
    },
    {
     "name": "stderr",
     "output_type": "stream",
     "text": [
      "ZMI: No price data found, symbol may be delisted (period=3mo)\n"
     ]
    },
    {
     "name": "stdout",
     "output_type": "stream",
     "text": [
      "symbol=%s, val=%s ZMI nan\n"
     ]
    },
    {
     "name": "stderr",
     "output_type": "stream",
     "text": [
      "ZMM: No price data found, symbol may be delisted (period=3mo)\n"
     ]
    },
    {
     "name": "stdout",
     "output_type": "stream",
     "text": [
      "symbol=%s, val=%s ZMM nan\n"
     ]
    },
    {
     "name": "stderr",
     "output_type": "stream",
     "text": [
      "ZNC: No price data found, symbol may be delisted (period=3mo)\n"
     ]
    },
    {
     "name": "stdout",
     "output_type": "stream",
     "text": [
      "symbol=%s, val=%s ZNC nan\n"
     ]
    },
    {
     "name": "stderr",
     "output_type": "stream",
     "text": [
      "ZNO: No price data found, symbol may be delisted (period=3mo)\n"
     ]
    },
    {
     "name": "stdout",
     "output_type": "stream",
     "text": [
      "symbol=%s, val=%s ZNO nan\n"
     ]
    }
   ],
   "source": [
    "import yfinance as yf\n",
    "\n",
    "for i,sh in data.iterrows():\n",
    "    symbol = f'{sh['ASX code']}.AX'\n",
    "    stock = yf.Ticker(symbol)\n",
    "    q_history=stock.history(period=\"3mo\")\n",
    "    max=q_history['High'].max()\n",
    "    min=q_history['Low'].min()\n",
    "    delta=((max-min)/max)*100\n",
    "    print('symbol=%s, val=%s',symbol, delta)"
   ]
  }
 ],
 "metadata": {
  "kernelspec": {
   "display_name": "Python 3 (ipykernel)",
   "language": "python",
   "name": "python3"
  },
  "language_info": {
   "codemirror_mode": {
    "name": "ipython",
    "version": 3
   },
   "file_extension": ".py",
   "mimetype": "text/x-python",
   "name": "python",
   "nbconvert_exporter": "python",
   "pygments_lexer": "ipython3",
   "version": "3.11.4"
  }
 },
 "nbformat": 4,
 "nbformat_minor": 5
}
